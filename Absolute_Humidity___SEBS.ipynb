{
  "nbformat": 4,
  "nbformat_minor": 0,
  "metadata": {
    "colab": {
      "name": "Absolute Humidity _ SEBS.ipynb",
      "provenance": [],
      "collapsed_sections": [],
      "toc_visible": true,
      "authorship_tag": "ABX9TyOwdV59vQl85KCr+XSzJqM4",
      "include_colab_link": true
    },
    "kernelspec": {
      "name": "python3",
      "display_name": "Python 3"
    },
    "language_info": {
      "name": "python"
    }
  },
  "cells": [
    {
      "cell_type": "markdown",
      "metadata": {
        "id": "view-in-github",
        "colab_type": "text"
      },
      "source": [
        "<a href=\"https://colab.research.google.com/github/ywang1110/Modeling_Triboelectric_Performance/blob/main/Absolute_Humidity___SEBS.ipynb\" target=\"_parent\"><img src=\"https://colab.research.google.com/assets/colab-badge.svg\" alt=\"Open In Colab\"/></a>"
      ]
    },
    {
      "cell_type": "code",
      "metadata": {
        "id": "GGLYLaTXXjC8",
        "colab": {
          "base_uri": "https://localhost:8080/"
        },
        "outputId": "75608991-27b1-4fa1-97ed-1374053f245d"
      },
      "source": [
        "import numpy as np\n",
        "import pandas as pd\n",
        "import seaborn as sns\n",
        "from scipy.optimize import curve_fit\n",
        "import matplotlib.pyplot as plt\n",
        "import matplotlib.ticker as mtick\n",
        "from sklearn.metrics import mean_squared_error\n",
        "from sklearn.metrics import mean_absolute_error\n",
        "from sklearn import metrics\n",
        "from sklearn.model_selection import train_test_split\n",
        "from sklearn.model_selection import KFold\n",
        "\n",
        "import statsmodels.api as sm\n",
        "import statsmodels.formula.api as smf\n",
        "import scipy.stats as stats\n",
        "import matplotlib.cm as cm\n",
        "from IPython.display import display\n",
        "from sklearn.feature_selection import f_regression"
      ],
      "execution_count": 1,
      "outputs": [
        {
          "output_type": "stream",
          "name": "stderr",
          "text": [
            "/usr/local/lib/python3.7/dist-packages/statsmodels/tools/_testing.py:19: FutureWarning: pandas.util.testing is deprecated. Use the functions in the public API at pandas.testing instead.\n",
            "  import pandas.util.testing as tm\n"
          ]
        }
      ]
    },
    {
      "cell_type": "markdown",
      "metadata": {
        "id": "kWmeyqHCYHUq"
      },
      "source": [
        "# Prepare dataset"
      ]
    },
    {
      "cell_type": "markdown",
      "metadata": {
        "id": "UhaAP45xYrrg"
      },
      "source": [
        "## Load data"
      ]
    },
    {
      "cell_type": "code",
      "metadata": {
        "colab": {
          "base_uri": "https://localhost:8080/"
        },
        "id": "nPeO9kjDqUse",
        "outputId": "de32eca7-0657-4e01-e4d8-cc20a31ccb81"
      },
      "source": [
        "from google.colab import drive\n",
        "drive.mount('/content/drive')"
      ],
      "execution_count": 2,
      "outputs": [
        {
          "output_type": "stream",
          "name": "stdout",
          "text": [
            "Drive already mounted at /content/drive; to attempt to forcibly remount, call drive.mount(\"/content/drive\", force_remount=True).\n"
          ]
        }
      ]
    },
    {
      "cell_type": "code",
      "metadata": {
        "id": "xQRm-DwJY_QL",
        "colab": {
          "base_uri": "https://localhost:8080/",
          "height": 204
        },
        "outputId": "d0511de7-d3cd-4254-a8fe-0365f84f4518"
      },
      "source": [
        "df = pd.read_excel('drive/My Drive/1 Manuscript_AFM/Data process/3 NewData_Train - updateDiameter-Validiate.xlsx', sheet_name='mean')\n",
        "df.head()"
      ],
      "execution_count": 3,
      "outputs": [
        {
          "output_type": "execute_result",
          "data": {
            "text/html": [
              "<div>\n",
              "<style scoped>\n",
              "    .dataframe tbody tr th:only-of-type {\n",
              "        vertical-align: middle;\n",
              "    }\n",
              "\n",
              "    .dataframe tbody tr th {\n",
              "        vertical-align: top;\n",
              "    }\n",
              "\n",
              "    .dataframe thead th {\n",
              "        text-align: right;\n",
              "    }\n",
              "</style>\n",
              "<table border=\"1\" class=\"dataframe\">\n",
              "  <thead>\n",
              "    <tr style=\"text-align: right;\">\n",
              "      <th></th>\n",
              "      <th>Unnamed: 0</th>\n",
              "      <th>ChargeDensity(µC/m2) j</th>\n",
              "      <th>Thickness (um) x</th>\n",
              "      <th>solidity y</th>\n",
              "      <th>diameter (um) z</th>\n",
              "      <th>Interface  (mm) u</th>\n",
              "      <th>Tem (°C)</th>\n",
              "      <th>Humidity (%)</th>\n",
              "      <th>Force (N)</th>\n",
              "      <th>Technique</th>\n",
              "    </tr>\n",
              "  </thead>\n",
              "  <tbody>\n",
              "    <tr>\n",
              "      <th>0</th>\n",
              "      <td>K-1</td>\n",
              "      <td>26.43</td>\n",
              "      <td>472.4</td>\n",
              "      <td>0.164</td>\n",
              "      <td>9.09225</td>\n",
              "      <td>1.728</td>\n",
              "      <td>26.4</td>\n",
              "      <td>25.9</td>\n",
              "      <td>35.5</td>\n",
              "      <td>Reicofil</td>\n",
              "    </tr>\n",
              "    <tr>\n",
              "      <th>1</th>\n",
              "      <td>K-2</td>\n",
              "      <td>28.35</td>\n",
              "      <td>568.1</td>\n",
              "      <td>0.180</td>\n",
              "      <td>9.30286</td>\n",
              "      <td>1.961</td>\n",
              "      <td>25.7</td>\n",
              "      <td>27.5</td>\n",
              "      <td>37.1</td>\n",
              "      <td>Reicofil</td>\n",
              "    </tr>\n",
              "    <tr>\n",
              "      <th>2</th>\n",
              "      <td>K-3</td>\n",
              "      <td>31.15</td>\n",
              "      <td>472.9</td>\n",
              "      <td>0.181</td>\n",
              "      <td>7.73240</td>\n",
              "      <td>1.501</td>\n",
              "      <td>26.9</td>\n",
              "      <td>28.5</td>\n",
              "      <td>36.1</td>\n",
              "      <td>Reicofil</td>\n",
              "    </tr>\n",
              "    <tr>\n",
              "      <th>3</th>\n",
              "      <td>K-4</td>\n",
              "      <td>30.28</td>\n",
              "      <td>600.2</td>\n",
              "      <td>0.179</td>\n",
              "      <td>7.77859</td>\n",
              "      <td>1.990</td>\n",
              "      <td>25.8</td>\n",
              "      <td>29.6</td>\n",
              "      <td>37.3</td>\n",
              "      <td>Reicofil</td>\n",
              "    </tr>\n",
              "    <tr>\n",
              "      <th>4</th>\n",
              "      <td>K-5</td>\n",
              "      <td>33.76</td>\n",
              "      <td>393.3</td>\n",
              "      <td>0.206</td>\n",
              "      <td>7.41502</td>\n",
              "      <td>1.106</td>\n",
              "      <td>26.9</td>\n",
              "      <td>28.5</td>\n",
              "      <td>36.1</td>\n",
              "      <td>Reicofil</td>\n",
              "    </tr>\n",
              "  </tbody>\n",
              "</table>\n",
              "</div>"
            ],
            "text/plain": [
              "  Unnamed: 0  ChargeDensity(µC/m2) j  ...  Force (N)  Technique\n",
              "0        K-1                   26.43  ...       35.5   Reicofil\n",
              "1        K-2                   28.35  ...       37.1   Reicofil\n",
              "2        K-3                   31.15  ...       36.1   Reicofil\n",
              "3        K-4                   30.28  ...       37.3   Reicofil\n",
              "4        K-5                   33.76  ...       36.1   Reicofil\n",
              "\n",
              "[5 rows x 10 columns]"
            ]
          },
          "metadata": {},
          "execution_count": 3
        }
      ]
    },
    {
      "cell_type": "code",
      "metadata": {
        "colab": {
          "base_uri": "https://localhost:8080/",
          "height": 204
        },
        "id": "zz2R792m2OR9",
        "outputId": "e27b1831-3d5d-4e6c-cb9b-cbd0a21f913d"
      },
      "source": [
        "df['Absolute humidity (g/m3)'] = (6.112*2.71828**((17.67*df['Tem (°C)'])/(df['Tem (°C)']+243.5))*df['Humidity (%)']*2.1674)/(273.15+df['Tem (°C)'])\n",
        "df.head()"
      ],
      "execution_count": 4,
      "outputs": [
        {
          "output_type": "execute_result",
          "data": {
            "text/html": [
              "<div>\n",
              "<style scoped>\n",
              "    .dataframe tbody tr th:only-of-type {\n",
              "        vertical-align: middle;\n",
              "    }\n",
              "\n",
              "    .dataframe tbody tr th {\n",
              "        vertical-align: top;\n",
              "    }\n",
              "\n",
              "    .dataframe thead th {\n",
              "        text-align: right;\n",
              "    }\n",
              "</style>\n",
              "<table border=\"1\" class=\"dataframe\">\n",
              "  <thead>\n",
              "    <tr style=\"text-align: right;\">\n",
              "      <th></th>\n",
              "      <th>Unnamed: 0</th>\n",
              "      <th>ChargeDensity(µC/m2) j</th>\n",
              "      <th>Thickness (um) x</th>\n",
              "      <th>solidity y</th>\n",
              "      <th>diameter (um) z</th>\n",
              "      <th>Interface  (mm) u</th>\n",
              "      <th>Tem (°C)</th>\n",
              "      <th>Humidity (%)</th>\n",
              "      <th>Force (N)</th>\n",
              "      <th>Technique</th>\n",
              "      <th>Absolute humidity (g/m3)</th>\n",
              "    </tr>\n",
              "  </thead>\n",
              "  <tbody>\n",
              "    <tr>\n",
              "      <th>0</th>\n",
              "      <td>K-1</td>\n",
              "      <td>26.43</td>\n",
              "      <td>472.4</td>\n",
              "      <td>0.164</td>\n",
              "      <td>9.09225</td>\n",
              "      <td>1.728</td>\n",
              "      <td>26.4</td>\n",
              "      <td>25.9</td>\n",
              "      <td>35.5</td>\n",
              "      <td>Reicofil</td>\n",
              "      <td>6.450233</td>\n",
              "    </tr>\n",
              "    <tr>\n",
              "      <th>1</th>\n",
              "      <td>K-2</td>\n",
              "      <td>28.35</td>\n",
              "      <td>568.1</td>\n",
              "      <td>0.180</td>\n",
              "      <td>9.30286</td>\n",
              "      <td>1.961</td>\n",
              "      <td>25.7</td>\n",
              "      <td>27.5</td>\n",
              "      <td>37.1</td>\n",
              "      <td>Reicofil</td>\n",
              "      <td>6.585998</td>\n",
              "    </tr>\n",
              "    <tr>\n",
              "      <th>2</th>\n",
              "      <td>K-3</td>\n",
              "      <td>31.15</td>\n",
              "      <td>472.9</td>\n",
              "      <td>0.181</td>\n",
              "      <td>7.73240</td>\n",
              "      <td>1.501</td>\n",
              "      <td>26.9</td>\n",
              "      <td>28.5</td>\n",
              "      <td>36.1</td>\n",
              "      <td>Reicofil</td>\n",
              "      <td>7.297906</td>\n",
              "    </tr>\n",
              "    <tr>\n",
              "      <th>3</th>\n",
              "      <td>K-4</td>\n",
              "      <td>30.28</td>\n",
              "      <td>600.2</td>\n",
              "      <td>0.179</td>\n",
              "      <td>7.77859</td>\n",
              "      <td>1.990</td>\n",
              "      <td>25.8</td>\n",
              "      <td>29.6</td>\n",
              "      <td>37.3</td>\n",
              "      <td>Reicofil</td>\n",
              "      <td>7.128742</td>\n",
              "    </tr>\n",
              "    <tr>\n",
              "      <th>4</th>\n",
              "      <td>K-5</td>\n",
              "      <td>33.76</td>\n",
              "      <td>393.3</td>\n",
              "      <td>0.206</td>\n",
              "      <td>7.41502</td>\n",
              "      <td>1.106</td>\n",
              "      <td>26.9</td>\n",
              "      <td>28.5</td>\n",
              "      <td>36.1</td>\n",
              "      <td>Reicofil</td>\n",
              "      <td>7.297906</td>\n",
              "    </tr>\n",
              "  </tbody>\n",
              "</table>\n",
              "</div>"
            ],
            "text/plain": [
              "  Unnamed: 0  ChargeDensity(µC/m2) j  ...  Technique  Absolute humidity (g/m3)\n",
              "0        K-1                   26.43  ...   Reicofil                  6.450233\n",
              "1        K-2                   28.35  ...   Reicofil                  6.585998\n",
              "2        K-3                   31.15  ...   Reicofil                  7.297906\n",
              "3        K-4                   30.28  ...   Reicofil                  7.128742\n",
              "4        K-5                   33.76  ...   Reicofil                  7.297906\n",
              "\n",
              "[5 rows x 11 columns]"
            ]
          },
          "metadata": {},
          "execution_count": 4
        }
      ]
    },
    {
      "cell_type": "code",
      "metadata": {
        "id": "1TgKCU06ZP_C",
        "colab": {
          "base_uri": "https://localhost:8080/"
        },
        "outputId": "a8edda8f-21cc-4afd-9927-75ff3c27e70b"
      },
      "source": [
        "df.shape"
      ],
      "execution_count": 5,
      "outputs": [
        {
          "output_type": "execute_result",
          "data": {
            "text/plain": [
              "(43, 11)"
            ]
          },
          "metadata": {},
          "execution_count": 5
        }
      ]
    },
    {
      "cell_type": "markdown",
      "metadata": {
        "id": "NC2Q2uIGZhKy"
      },
      "source": [
        "## Unit conversion"
      ]
    },
    {
      "cell_type": "code",
      "metadata": {
        "id": "nFdhMdhwZd51",
        "colab": {
          "base_uri": "https://localhost:8080/",
          "height": 204
        },
        "outputId": "ddaac63a-58ce-4982-8ac5-d823cfa8286d"
      },
      "source": [
        "data = pd.DataFrame()\n",
        "data['ChargeDensity(C/m2)']=df['ChargeDensity(µC/m2) j']*pow(10,-6)\n",
        "data['thickness(m)']=df['Thickness (um) x']*pow(10,-6)\n",
        "data['solidity'] = df['solidity y']\n",
        "data['diameter(m)'] = df['diameter (um) z']*pow(10,-6)\n",
        "data['Interface(m)']=df['Interface  (mm) u']*pow(10, -3)\n",
        "data['Technique'] = df['Technique']\n",
        "data[['Tem (°C)', 'Absolute humidity (g/m3)', 'Force (N)']]=df[['Tem (°C)', 'Absolute humidity (g/m3)', 'Force (N)']]\n",
        "\n",
        "data.head()"
      ],
      "execution_count": 6,
      "outputs": [
        {
          "output_type": "execute_result",
          "data": {
            "text/html": [
              "<div>\n",
              "<style scoped>\n",
              "    .dataframe tbody tr th:only-of-type {\n",
              "        vertical-align: middle;\n",
              "    }\n",
              "\n",
              "    .dataframe tbody tr th {\n",
              "        vertical-align: top;\n",
              "    }\n",
              "\n",
              "    .dataframe thead th {\n",
              "        text-align: right;\n",
              "    }\n",
              "</style>\n",
              "<table border=\"1\" class=\"dataframe\">\n",
              "  <thead>\n",
              "    <tr style=\"text-align: right;\">\n",
              "      <th></th>\n",
              "      <th>ChargeDensity(C/m2)</th>\n",
              "      <th>thickness(m)</th>\n",
              "      <th>solidity</th>\n",
              "      <th>diameter(m)</th>\n",
              "      <th>Interface(m)</th>\n",
              "      <th>Technique</th>\n",
              "      <th>Tem (°C)</th>\n",
              "      <th>Absolute humidity (g/m3)</th>\n",
              "      <th>Force (N)</th>\n",
              "    </tr>\n",
              "  </thead>\n",
              "  <tbody>\n",
              "    <tr>\n",
              "      <th>0</th>\n",
              "      <td>0.000026</td>\n",
              "      <td>0.000472</td>\n",
              "      <td>0.164</td>\n",
              "      <td>0.000009</td>\n",
              "      <td>0.001728</td>\n",
              "      <td>Reicofil</td>\n",
              "      <td>26.4</td>\n",
              "      <td>6.450233</td>\n",
              "      <td>35.5</td>\n",
              "    </tr>\n",
              "    <tr>\n",
              "      <th>1</th>\n",
              "      <td>0.000028</td>\n",
              "      <td>0.000568</td>\n",
              "      <td>0.180</td>\n",
              "      <td>0.000009</td>\n",
              "      <td>0.001961</td>\n",
              "      <td>Reicofil</td>\n",
              "      <td>25.7</td>\n",
              "      <td>6.585998</td>\n",
              "      <td>37.1</td>\n",
              "    </tr>\n",
              "    <tr>\n",
              "      <th>2</th>\n",
              "      <td>0.000031</td>\n",
              "      <td>0.000473</td>\n",
              "      <td>0.181</td>\n",
              "      <td>0.000008</td>\n",
              "      <td>0.001501</td>\n",
              "      <td>Reicofil</td>\n",
              "      <td>26.9</td>\n",
              "      <td>7.297906</td>\n",
              "      <td>36.1</td>\n",
              "    </tr>\n",
              "    <tr>\n",
              "      <th>3</th>\n",
              "      <td>0.000030</td>\n",
              "      <td>0.000600</td>\n",
              "      <td>0.179</td>\n",
              "      <td>0.000008</td>\n",
              "      <td>0.001990</td>\n",
              "      <td>Reicofil</td>\n",
              "      <td>25.8</td>\n",
              "      <td>7.128742</td>\n",
              "      <td>37.3</td>\n",
              "    </tr>\n",
              "    <tr>\n",
              "      <th>4</th>\n",
              "      <td>0.000034</td>\n",
              "      <td>0.000393</td>\n",
              "      <td>0.206</td>\n",
              "      <td>0.000007</td>\n",
              "      <td>0.001106</td>\n",
              "      <td>Reicofil</td>\n",
              "      <td>26.9</td>\n",
              "      <td>7.297906</td>\n",
              "      <td>36.1</td>\n",
              "    </tr>\n",
              "  </tbody>\n",
              "</table>\n",
              "</div>"
            ],
            "text/plain": [
              "   ChargeDensity(C/m2)  thickness(m)  ...  Absolute humidity (g/m3)  Force (N)\n",
              "0             0.000026      0.000472  ...                  6.450233       35.5\n",
              "1             0.000028      0.000568  ...                  6.585998       37.1\n",
              "2             0.000031      0.000473  ...                  7.297906       36.1\n",
              "3             0.000030      0.000600  ...                  7.128742       37.3\n",
              "4             0.000034      0.000393  ...                  7.297906       36.1\n",
              "\n",
              "[5 rows x 9 columns]"
            ]
          },
          "metadata": {},
          "execution_count": 6
        }
      ]
    },
    {
      "cell_type": "code",
      "metadata": {
        "id": "czu_c1JbdqwO",
        "colab": {
          "base_uri": "https://localhost:8080/"
        },
        "outputId": "43b1b67e-ed6e-4bfc-b2fd-2b57beffd6ae"
      },
      "source": [
        "data.shape"
      ],
      "execution_count": 7,
      "outputs": [
        {
          "output_type": "execute_result",
          "data": {
            "text/plain": [
              "(43, 9)"
            ]
          },
          "metadata": {},
          "execution_count": 7
        }
      ]
    },
    {
      "cell_type": "markdown",
      "metadata": {
        "id": "X4EbYCItxpRl"
      },
      "source": [
        "# Train test split"
      ]
    },
    {
      "cell_type": "code",
      "metadata": {
        "id": "yJ6M2aiKxn1A",
        "colab": {
          "base_uri": "https://localhost:8080/",
          "height": 204
        },
        "outputId": "aff48f9a-387e-493a-dd7a-29ae8bec3a9e"
      },
      "source": [
        "# random_state=69\n",
        "random_state=83\n",
        "kf = KFold(n_splits=5, shuffle = True, random_state=random_state)\n",
        "train_indexs = []\n",
        "test_indexs = []\n",
        "for train_index, test_index in kf.split(data):\n",
        "    train_indexs.append(train_index)\n",
        "    test_indexs.append(test_index)\n",
        "index=pd.DataFrame(zip(train_indexs, test_indexs), columns=['train_index','test_index'])\n",
        "index"
      ],
      "execution_count": 8,
      "outputs": [
        {
          "output_type": "execute_result",
          "data": {
            "text/html": [
              "<div>\n",
              "<style scoped>\n",
              "    .dataframe tbody tr th:only-of-type {\n",
              "        vertical-align: middle;\n",
              "    }\n",
              "\n",
              "    .dataframe tbody tr th {\n",
              "        vertical-align: top;\n",
              "    }\n",
              "\n",
              "    .dataframe thead th {\n",
              "        text-align: right;\n",
              "    }\n",
              "</style>\n",
              "<table border=\"1\" class=\"dataframe\">\n",
              "  <thead>\n",
              "    <tr style=\"text-align: right;\">\n",
              "      <th></th>\n",
              "      <th>train_index</th>\n",
              "      <th>test_index</th>\n",
              "    </tr>\n",
              "  </thead>\n",
              "  <tbody>\n",
              "    <tr>\n",
              "      <th>0</th>\n",
              "      <td>[0, 2, 3, 4, 5, 6, 7, 8, 9, 12, 13, 14, 15, 16...</td>\n",
              "      <td>[1, 10, 11, 19, 20, 24, 27, 29, 36]</td>\n",
              "    </tr>\n",
              "    <tr>\n",
              "      <th>1</th>\n",
              "      <td>[0, 1, 3, 4, 5, 8, 9, 10, 11, 13, 14, 15, 16, ...</td>\n",
              "      <td>[2, 6, 7, 12, 17, 26, 28, 30, 35]</td>\n",
              "    </tr>\n",
              "    <tr>\n",
              "      <th>2</th>\n",
              "      <td>[0, 1, 2, 3, 4, 6, 7, 8, 10, 11, 12, 14, 15, 1...</td>\n",
              "      <td>[5, 9, 13, 21, 25, 31, 32, 33, 41]</td>\n",
              "    </tr>\n",
              "    <tr>\n",
              "      <th>3</th>\n",
              "      <td>[0, 1, 2, 3, 5, 6, 7, 8, 9, 10, 11, 12, 13, 17...</td>\n",
              "      <td>[4, 14, 15, 16, 22, 34, 37, 42]</td>\n",
              "    </tr>\n",
              "    <tr>\n",
              "      <th>4</th>\n",
              "      <td>[1, 2, 4, 5, 6, 7, 9, 10, 11, 12, 13, 14, 15, ...</td>\n",
              "      <td>[0, 3, 8, 18, 23, 38, 39, 40]</td>\n",
              "    </tr>\n",
              "  </tbody>\n",
              "</table>\n",
              "</div>"
            ],
            "text/plain": [
              "                                         train_index                           test_index\n",
              "0  [0, 2, 3, 4, 5, 6, 7, 8, 9, 12, 13, 14, 15, 16...  [1, 10, 11, 19, 20, 24, 27, 29, 36]\n",
              "1  [0, 1, 3, 4, 5, 8, 9, 10, 11, 13, 14, 15, 16, ...    [2, 6, 7, 12, 17, 26, 28, 30, 35]\n",
              "2  [0, 1, 2, 3, 4, 6, 7, 8, 10, 11, 12, 14, 15, 1...   [5, 9, 13, 21, 25, 31, 32, 33, 41]\n",
              "3  [0, 1, 2, 3, 5, 6, 7, 8, 9, 10, 11, 12, 13, 17...      [4, 14, 15, 16, 22, 34, 37, 42]\n",
              "4  [1, 2, 4, 5, 6, 7, 9, 10, 11, 12, 13, 14, 15, ...        [0, 3, 8, 18, 23, 38, 39, 40]"
            ]
          },
          "metadata": {},
          "execution_count": 8
        }
      ]
    },
    {
      "cell_type": "code",
      "metadata": {
        "id": "Gqzw2EpGyImP"
      },
      "source": [
        "n_fold=2"
      ],
      "execution_count": 9,
      "outputs": []
    },
    {
      "cell_type": "code",
      "metadata": {
        "id": "PNIaK8hux4ao",
        "colab": {
          "base_uri": "https://localhost:8080/"
        },
        "outputId": "f31a0b34-3184-4699-cf8a-f289e1e49fb4"
      },
      "source": [
        "train_index = index.iloc[n_fold,0]\n",
        "test_index = index.iloc[n_fold,1]\n",
        "train, test = data.iloc[train_index], data.iloc[test_index]\n",
        "train.shape"
      ],
      "execution_count": 10,
      "outputs": [
        {
          "output_type": "execute_result",
          "data": {
            "text/plain": [
              "(34, 9)"
            ]
          },
          "metadata": {},
          "execution_count": 10
        }
      ]
    },
    {
      "cell_type": "code",
      "metadata": {
        "id": "Tc1aESa7yVHZ",
        "colab": {
          "base_uri": "https://localhost:8080/"
        },
        "outputId": "739f61fe-5e65-4984-c2e3-7cf0a831e8e7"
      },
      "source": [
        "train.shape"
      ],
      "execution_count": 11,
      "outputs": [
        {
          "output_type": "execute_result",
          "data": {
            "text/plain": [
              "(34, 9)"
            ]
          },
          "metadata": {},
          "execution_count": 11
        }
      ]
    },
    {
      "cell_type": "code",
      "metadata": {
        "id": "JsZABkKUyXRs",
        "colab": {
          "base_uri": "https://localhost:8080/"
        },
        "outputId": "96721a1d-30d6-4b96-ea9e-ac91ea4c3e51"
      },
      "source": [
        "test.shape"
      ],
      "execution_count": 12,
      "outputs": [
        {
          "output_type": "execute_result",
          "data": {
            "text/plain": [
              "(9, 9)"
            ]
          },
          "metadata": {},
          "execution_count": 12
        }
      ]
    },
    {
      "cell_type": "code",
      "metadata": {
        "id": "Cyoeb676zcA3",
        "colab": {
          "base_uri": "https://localhost:8080/",
          "height": 35
        },
        "outputId": "409dd20b-0a39-4c8e-d6f2-198d6a91a176"
      },
      "source": [
        "\"\"\"\n",
        "train.to_csv('train.csv')\n",
        "test.to_csv('test.csv')\n",
        "\"\"\"\n"
      ],
      "execution_count": 13,
      "outputs": [
        {
          "output_type": "execute_result",
          "data": {
            "application/vnd.google.colaboratory.intrinsic+json": {
              "type": "string"
            },
            "text/plain": [
              "\"\\ntrain.to_csv('train.csv')\\ntest.to_csv('test.csv')\\n\""
            ]
          },
          "metadata": {},
          "execution_count": 13
        }
      ]
    },
    {
      "cell_type": "code",
      "metadata": {
        "id": "xBK21SJBztVB",
        "colab": {
          "base_uri": "https://localhost:8080/",
          "height": 35
        },
        "outputId": "a0ee8123-fb80-4690-9fcd-b89f101fd5ac"
      },
      "source": [
        "\"\"\"\n",
        "train = pd.read_csv('train.csv')\n",
        "test=pd.read_csv('test.csv')\n",
        "\"\"\""
      ],
      "execution_count": 14,
      "outputs": [
        {
          "output_type": "execute_result",
          "data": {
            "application/vnd.google.colaboratory.intrinsic+json": {
              "type": "string"
            },
            "text/plain": [
              "\"\\ntrain = pd.read_csv('train.csv')\\ntest=pd.read_csv('test.csv')\\n\""
            ]
          },
          "metadata": {},
          "execution_count": 14
        }
      ]
    },
    {
      "cell_type": "code",
      "metadata": {
        "colab": {
          "base_uri": "https://localhost:8080/",
          "height": 204
        },
        "id": "ypQzzBajkzsy",
        "outputId": "e256b887-9330-4efe-86cd-0f3d576bf02f"
      },
      "source": [
        "train.head()"
      ],
      "execution_count": 15,
      "outputs": [
        {
          "output_type": "execute_result",
          "data": {
            "text/html": [
              "<div>\n",
              "<style scoped>\n",
              "    .dataframe tbody tr th:only-of-type {\n",
              "        vertical-align: middle;\n",
              "    }\n",
              "\n",
              "    .dataframe tbody tr th {\n",
              "        vertical-align: top;\n",
              "    }\n",
              "\n",
              "    .dataframe thead th {\n",
              "        text-align: right;\n",
              "    }\n",
              "</style>\n",
              "<table border=\"1\" class=\"dataframe\">\n",
              "  <thead>\n",
              "    <tr style=\"text-align: right;\">\n",
              "      <th></th>\n",
              "      <th>ChargeDensity(C/m2)</th>\n",
              "      <th>thickness(m)</th>\n",
              "      <th>solidity</th>\n",
              "      <th>diameter(m)</th>\n",
              "      <th>Interface(m)</th>\n",
              "      <th>Technique</th>\n",
              "      <th>Tem (°C)</th>\n",
              "      <th>Absolute humidity (g/m3)</th>\n",
              "      <th>Force (N)</th>\n",
              "    </tr>\n",
              "  </thead>\n",
              "  <tbody>\n",
              "    <tr>\n",
              "      <th>0</th>\n",
              "      <td>0.000026</td>\n",
              "      <td>0.000472</td>\n",
              "      <td>0.164</td>\n",
              "      <td>0.000009</td>\n",
              "      <td>0.001728</td>\n",
              "      <td>Reicofil</td>\n",
              "      <td>26.4</td>\n",
              "      <td>6.450233</td>\n",
              "      <td>35.5</td>\n",
              "    </tr>\n",
              "    <tr>\n",
              "      <th>1</th>\n",
              "      <td>0.000028</td>\n",
              "      <td>0.000568</td>\n",
              "      <td>0.180</td>\n",
              "      <td>0.000009</td>\n",
              "      <td>0.001961</td>\n",
              "      <td>Reicofil</td>\n",
              "      <td>25.7</td>\n",
              "      <td>6.585998</td>\n",
              "      <td>37.1</td>\n",
              "    </tr>\n",
              "    <tr>\n",
              "      <th>2</th>\n",
              "      <td>0.000031</td>\n",
              "      <td>0.000473</td>\n",
              "      <td>0.181</td>\n",
              "      <td>0.000008</td>\n",
              "      <td>0.001501</td>\n",
              "      <td>Reicofil</td>\n",
              "      <td>26.9</td>\n",
              "      <td>7.297906</td>\n",
              "      <td>36.1</td>\n",
              "    </tr>\n",
              "    <tr>\n",
              "      <th>3</th>\n",
              "      <td>0.000030</td>\n",
              "      <td>0.000600</td>\n",
              "      <td>0.179</td>\n",
              "      <td>0.000008</td>\n",
              "      <td>0.001990</td>\n",
              "      <td>Reicofil</td>\n",
              "      <td>25.8</td>\n",
              "      <td>7.128742</td>\n",
              "      <td>37.3</td>\n",
              "    </tr>\n",
              "    <tr>\n",
              "      <th>4</th>\n",
              "      <td>0.000034</td>\n",
              "      <td>0.000393</td>\n",
              "      <td>0.206</td>\n",
              "      <td>0.000007</td>\n",
              "      <td>0.001106</td>\n",
              "      <td>Reicofil</td>\n",
              "      <td>26.9</td>\n",
              "      <td>7.297906</td>\n",
              "      <td>36.1</td>\n",
              "    </tr>\n",
              "  </tbody>\n",
              "</table>\n",
              "</div>"
            ],
            "text/plain": [
              "   ChargeDensity(C/m2)  thickness(m)  ...  Absolute humidity (g/m3)  Force (N)\n",
              "0             0.000026      0.000472  ...                  6.450233       35.5\n",
              "1             0.000028      0.000568  ...                  6.585998       37.1\n",
              "2             0.000031      0.000473  ...                  7.297906       36.1\n",
              "3             0.000030      0.000600  ...                  7.128742       37.3\n",
              "4             0.000034      0.000393  ...                  7.297906       36.1\n",
              "\n",
              "[5 rows x 9 columns]"
            ]
          },
          "metadata": {},
          "execution_count": 15
        }
      ]
    },
    {
      "cell_type": "code",
      "metadata": {
        "id": "6tM5qs-ryTb9",
        "colab": {
          "base_uri": "https://localhost:8080/",
          "height": 35
        },
        "outputId": "6c04def5-f261-4515-9f79-d2307d1e6b32"
      },
      "source": [
        "# Train the model\n",
        "x=train['thickness(m)'].to_numpy()\n",
        "y=train['solidity'].to_numpy()\n",
        "z=train['diameter(m)'].to_numpy()\n",
        "u=train['Interface(m)'].to_numpy()\n",
        "h=train['Absolute humidity (g/m3)'].to_numpy()\n",
        "j=train['ChargeDensity(C/m2)'].to_numpy()\n",
        "def func(X,a, w, c, m, n, p):\n",
        "  x,y,z,u,h = X\n",
        "  return (a-w*h)*(2*x*y/z-c*y**m*x**n/z**p)*0.01/(0.01+u)\n",
        "\n",
        "# lm\n",
        "popt_lm,pcov = curve_fit(func,(x,y,z,u,h),j, method='lm', maxfev = 50000)\n",
        "y_model_lm = func((x,y,z,u, h),popt_lm[0],popt_lm[1],popt_lm[2],popt_lm[3],popt_lm[4],popt_lm[5]) \n",
        "MSE_lm = mean_squared_error(j, y_model_lm)\n",
        "MAE_lm = mean_absolute_error(j, y_model_lm)\n",
        "lm_result=\"lm Method | MSE = {:.2E}| MAE = {:.2E}| a = {:.2E}, w = {:.2E}, c = {:.2E},m = {:.2E}, n = {:.2E}, p = {:.2E}\".format(MSE_lm,MAE_lm,popt_lm[0],popt_lm[1],popt_lm[2],popt_lm[3],popt_lm[4],popt_lm[5])\n",
        "lm_result  "
      ],
      "execution_count": 16,
      "outputs": [
        {
          "output_type": "execute_result",
          "data": {
            "application/vnd.google.colaboratory.intrinsic+json": {
              "type": "string"
            },
            "text/plain": [
              "'lm Method | MSE = 2.37E-12| MAE = 1.16E-06| a = -3.43E+00, w = -8.58E-02, c = 2.00E+00,m = 1.00E+00, n = 1.00E+00, p = 1.00E+00'"
            ]
          },
          "metadata": {},
          "execution_count": 16
        }
      ]
    },
    {
      "cell_type": "code",
      "metadata": {
        "id": "_fQTpAW7sJ38"
      },
      "source": [
        "# initial guesses for a,b,c,m,n,p:\n",
        "p0 = 1E-6 , 0 ,1. , 1. , 1., 1."
      ],
      "execution_count": 17,
      "outputs": []
    },
    {
      "cell_type": "code",
      "metadata": {
        "id": "N5n8wUljyG31",
        "colab": {
          "base_uri": "https://localhost:8080/"
        },
        "outputId": "dd31f1d2-511a-4842-f249-4b825c02044d"
      },
      "source": [
        "  # trf & dogbox\n",
        "       #    a          w           c        m          n       p\n",
        "  bound=((  0,         0,          0,       0,         0 ,     0 ), \n",
        "       (np.inf,    np.inf,    np.inf,     np.inf,    np.inf, np.inf))\n",
        "  \n",
        "  ## trf\n",
        "  popt_trf,pcov = curve_fit(func,(x,y,z,u,h),j, p0, bounds = bound, method='trf', maxfev=50000)\n",
        "\n",
        "  y_model_trf = func((x,y,z,u,h),popt_trf[0],popt_trf[1],popt_trf[2], popt_trf[3],popt_trf[4],popt_trf[5]) \n",
        "  MSE_trf = np.sum((j - y_model_trf)**2)/train.shape[0]\n",
        "  MAE_trf = np.sum(abs(j - y_model_trf))/train.shape[0]\n",
        "\n",
        "  ## dogbox\n",
        "  popt_dog, pcov = curve_fit(func,(x,y,z,u,h),j, p0, bounds = bound, method='dogbox', maxfev=50000)\n",
        "  y_model_dog = func((x,y,z,u,h),popt_dog[0],popt_dog[1],popt_dog[2],popt_dog[3],popt_dog[4],popt_dog[5]) \n",
        "  MSE_dog = np.sum((j - y_model_dog)**2)/train.shape[0]\n",
        "  MAE_dog = np.sum(abs(j - y_model_dog))/train.shape[0]\n",
        "\n",
        "  if MSE_trf < MSE_dog:\n",
        "    a,w,c,m,n,p = popt_trf[0],popt_trf[1],popt_trf[2],popt_trf[3],popt_trf[4], popt_trf[5]\n",
        "    print('trf Method is the best method')\n",
        "  else:\n",
        "    a,w,c,m,n,p = popt_dog[0], popt_dog[1], popt_dog[2], popt_dog[3], popt_dog[4], popt_dog[5]\n",
        "    print(\"dogbox Method is the best method\")\n",
        "  trf_result=\"trf Method | MSE = {:.2E}| MAE = {:.2E}| a = {}, w = {}, c = {},m = {}, n = {}, p = {}\".format(MSE_trf,MAE_trf,popt_trf[0],popt_trf[1],popt_trf[2],popt_trf[3],popt_trf[4], popt_trf[5])\n",
        "  dog_result=\"dog Method | MSE = {:.2E}| MAE = {:.2E}| a = {}, w = {}, c = {},m = {}, n = {}, p = {}\".format(MSE_dog,MAE_dog,popt_dog[0], popt_dog[1], popt_dog[2], popt_dog[3], popt_dog[4], popt_dog[5])\n",
        "  print(trf_result)\n",
        "  print(dog_result)"
      ],
      "execution_count": 18,
      "outputs": [
        {
          "output_type": "stream",
          "name": "stdout",
          "text": [
            "trf Method is the best method\n",
            "trf Method | MSE = 2.34E-12| MAE = 1.16E-06| a = 8.590020670415462e-06, w = 2.2166596145806582e-07, c = 0.9551383074846014,m = 1.1812220911116111, n = 1.1902378289979247, p = 1.192330872358971\n",
            "dog Method | MSE = 2.93E-11| MAE = 4.36E-06| a = 4.021733530800267e-06, w = 0.0, c = 1.265624999999999,m = 1.000006264017013, n = 1.0000065881155062, p = 1.0000065027477196\n"
          ]
        }
      ]
    },
    {
      "cell_type": "code",
      "metadata": {
        "colab": {
          "base_uri": "https://localhost:8080/"
        },
        "id": "No68sdnPnAJ_",
        "outputId": "51814e03-dfc5-4018-cc54-078a6283622b"
      },
      "source": [
        "  # Validate (when trf is best)\n",
        "\n",
        "  data_val = pd.concat([train, test])\n",
        "  data_val.head()\n",
        "  x=data_val['thickness(m)'].to_numpy()\n",
        "  y=data_val['solidity'].to_numpy()\n",
        "  z=data_val['diameter(m)'].to_numpy()\n",
        "  u=data_val['Interface(m)'].to_numpy()\n",
        "  h=data_val['Absolute humidity (g/m3)'].to_numpy()\n",
        "  j=data_val['ChargeDensity(C/m2)'].to_numpy()\n",
        "\n",
        "  \n",
        "\n",
        "\n",
        "  data_val['Predicted(C/m2)'] = (a-w*h)*(2*x*y/z-c*y**m*x**n/z**p)*0.01/(0.01+u)\n",
        "\n",
        "  data_val['ratio(%)'] = (data_val['Predicted(C/m2)'] -data_val['ChargeDensity(C/m2)'])/data_val['ChargeDensity(C/m2)']*100\n",
        "  data_val['ChargeDensity(uC/m2)'] = data_val['ChargeDensity(C/m2)']*pow(10,6)\n",
        "  data_val['Predicted(uC/m2)'] = (a-w*h)*(2*x*y/z-c*y**m*x**n/z**p)*0.01/(0.01+u)*pow(10,6)\n",
        "  data_val['ratio_2(%)'] = (data_val['Predicted(uC/m2)']-data_val['ChargeDensity(uC/m2)'])/data_val['ChargeDensity(uC/m2)']*100\n",
        "  def mean_absolute_percentage_error(y_true, y_pred):\n",
        "    y_true, y_pred = np.array(y_true), np.array(y_pred)\n",
        "    return np.mean(np.abs((y_true - y_pred) / y_true)) * 100\n",
        "  \n",
        "  mape = mean_absolute_percentage_error(data_val['ChargeDensity(C/m2)'], data_val['Predicted(C/m2)'])\n",
        "  mape_train = mean_absolute_percentage_error(data_val['ChargeDensity(C/m2)'][0:train.shape[0]], data_val['Predicted(C/m2)'][0:train.shape[0]])\n",
        "  mape_test = mean_absolute_percentage_error(data_val['ChargeDensity(C/m2)'][train.shape[0]:data_val.shape[0]], data_val['Predicted(C/m2)'][train.shape[0]:data_val.shape[0]])\n",
        "  \n",
        "  print('MAPE= {:.2f}'.format(mape))\n",
        "  print('Train_MAPE = {:.2f}'.format(mape_train))\n",
        "  print('test_MAPE = {:.2f}'.format(mape_test))"
      ],
      "execution_count": 19,
      "outputs": [
        {
          "output_type": "stream",
          "name": "stdout",
          "text": [
            "MAPE= 4.67\n",
            "Train_MAPE = 4.40\n",
            "test_MAPE = 5.72\n"
          ]
        }
      ]
    },
    {
      "cell_type": "code",
      "metadata": {
        "id": "FAwStVoWWcrC",
        "outputId": "e86b9643-aa08-40fe-d9f3-72e4d6c05422",
        "colab": {
          "base_uri": "https://localhost:8080/"
        }
      },
      "source": [
        "from sklearn.metrics import r2_score\n",
        "r2_score(data_val['ChargeDensity(uC/m2)'], data_val['Predicted(uC/m2)'])"
      ],
      "execution_count": 20,
      "outputs": [
        {
          "output_type": "execute_result",
          "data": {
            "text/plain": [
              "0.7854466579287323"
            ]
          },
          "metadata": {},
          "execution_count": 20
        }
      ]
    },
    {
      "cell_type": "code",
      "metadata": {
        "colab": {
          "base_uri": "https://localhost:8080/",
          "height": 238
        },
        "id": "n7Buj0vTpdr4",
        "outputId": "6be2a78c-5a2f-4a13-8479-e0f8b1d016ad"
      },
      "source": [
        "data_val.head()"
      ],
      "execution_count": 21,
      "outputs": [
        {
          "output_type": "execute_result",
          "data": {
            "text/html": [
              "<div>\n",
              "<style scoped>\n",
              "    .dataframe tbody tr th:only-of-type {\n",
              "        vertical-align: middle;\n",
              "    }\n",
              "\n",
              "    .dataframe tbody tr th {\n",
              "        vertical-align: top;\n",
              "    }\n",
              "\n",
              "    .dataframe thead th {\n",
              "        text-align: right;\n",
              "    }\n",
              "</style>\n",
              "<table border=\"1\" class=\"dataframe\">\n",
              "  <thead>\n",
              "    <tr style=\"text-align: right;\">\n",
              "      <th></th>\n",
              "      <th>ChargeDensity(C/m2)</th>\n",
              "      <th>thickness(m)</th>\n",
              "      <th>solidity</th>\n",
              "      <th>diameter(m)</th>\n",
              "      <th>Interface(m)</th>\n",
              "      <th>Technique</th>\n",
              "      <th>Tem (°C)</th>\n",
              "      <th>Absolute humidity (g/m3)</th>\n",
              "      <th>Force (N)</th>\n",
              "      <th>Predicted(C/m2)</th>\n",
              "      <th>ratio(%)</th>\n",
              "      <th>ChargeDensity(uC/m2)</th>\n",
              "      <th>Predicted(uC/m2)</th>\n",
              "      <th>ratio_2(%)</th>\n",
              "    </tr>\n",
              "  </thead>\n",
              "  <tbody>\n",
              "    <tr>\n",
              "      <th>0</th>\n",
              "      <td>0.000026</td>\n",
              "      <td>0.000472</td>\n",
              "      <td>0.164</td>\n",
              "      <td>0.000009</td>\n",
              "      <td>0.001728</td>\n",
              "      <td>Reicofil</td>\n",
              "      <td>26.4</td>\n",
              "      <td>6.450233</td>\n",
              "      <td>35.5</td>\n",
              "      <td>0.000026</td>\n",
              "      <td>-0.648058</td>\n",
              "      <td>26.43</td>\n",
              "      <td>26.258718</td>\n",
              "      <td>-0.648058</td>\n",
              "    </tr>\n",
              "    <tr>\n",
              "      <th>1</th>\n",
              "      <td>0.000028</td>\n",
              "      <td>0.000568</td>\n",
              "      <td>0.180</td>\n",
              "      <td>0.000009</td>\n",
              "      <td>0.001961</td>\n",
              "      <td>Reicofil</td>\n",
              "      <td>25.7</td>\n",
              "      <td>6.585998</td>\n",
              "      <td>37.1</td>\n",
              "      <td>0.000028</td>\n",
              "      <td>-0.166832</td>\n",
              "      <td>28.35</td>\n",
              "      <td>28.302703</td>\n",
              "      <td>-0.166832</td>\n",
              "    </tr>\n",
              "    <tr>\n",
              "      <th>2</th>\n",
              "      <td>0.000031</td>\n",
              "      <td>0.000473</td>\n",
              "      <td>0.181</td>\n",
              "      <td>0.000008</td>\n",
              "      <td>0.001501</td>\n",
              "      <td>Reicofil</td>\n",
              "      <td>26.9</td>\n",
              "      <td>7.297906</td>\n",
              "      <td>36.1</td>\n",
              "      <td>0.000029</td>\n",
              "      <td>-7.512163</td>\n",
              "      <td>31.15</td>\n",
              "      <td>28.809961</td>\n",
              "      <td>-7.512163</td>\n",
              "    </tr>\n",
              "    <tr>\n",
              "      <th>3</th>\n",
              "      <td>0.000030</td>\n",
              "      <td>0.000600</td>\n",
              "      <td>0.179</td>\n",
              "      <td>0.000008</td>\n",
              "      <td>0.001990</td>\n",
              "      <td>Reicofil</td>\n",
              "      <td>25.8</td>\n",
              "      <td>7.128742</td>\n",
              "      <td>37.3</td>\n",
              "      <td>0.000029</td>\n",
              "      <td>-3.565093</td>\n",
              "      <td>30.28</td>\n",
              "      <td>29.200490</td>\n",
              "      <td>-3.565093</td>\n",
              "    </tr>\n",
              "    <tr>\n",
              "      <th>4</th>\n",
              "      <td>0.000034</td>\n",
              "      <td>0.000393</td>\n",
              "      <td>0.206</td>\n",
              "      <td>0.000007</td>\n",
              "      <td>0.001106</td>\n",
              "      <td>Reicofil</td>\n",
              "      <td>26.9</td>\n",
              "      <td>7.297906</td>\n",
              "      <td>36.1</td>\n",
              "      <td>0.000030</td>\n",
              "      <td>-11.637716</td>\n",
              "      <td>33.76</td>\n",
              "      <td>29.831107</td>\n",
              "      <td>-11.637716</td>\n",
              "    </tr>\n",
              "  </tbody>\n",
              "</table>\n",
              "</div>"
            ],
            "text/plain": [
              "   ChargeDensity(C/m2)  thickness(m)  ...  Predicted(uC/m2)  ratio_2(%)\n",
              "0             0.000026      0.000472  ...         26.258718   -0.648058\n",
              "1             0.000028      0.000568  ...         28.302703   -0.166832\n",
              "2             0.000031      0.000473  ...         28.809961   -7.512163\n",
              "3             0.000030      0.000600  ...         29.200490   -3.565093\n",
              "4             0.000034      0.000393  ...         29.831107  -11.637716\n",
              "\n",
              "[5 rows x 14 columns]"
            ]
          },
          "metadata": {},
          "execution_count": 21
        }
      ]
    },
    {
      "cell_type": "code",
      "metadata": {
        "id": "6zNjti0bvKsO"
      },
      "source": [
        "data_val.to_csv('data_val_SEBS.csv')"
      ],
      "execution_count": 22,
      "outputs": []
    },
    {
      "cell_type": "code",
      "metadata": {
        "colab": {
          "base_uri": "https://localhost:8080/",
          "height": 265
        },
        "id": "kviqF4w-pfgE",
        "outputId": "41163b07-74d2-4eeb-c028-879e56575798"
      },
      "source": [
        "import matplotlib.pyplot as plt\n",
        "plt.scatter(data_val['ChargeDensity(uC/m2)'], data_val['Predicted(uC/m2)'])\n",
        "plt.show()"
      ],
      "execution_count": 23,
      "outputs": [
        {
          "output_type": "display_data",
          "data": {
            "image/png": "[encoded data removed]",
            "text/plain": [
              "<Figure size 432x288 with 1 Axes>"
            ]
          },
          "metadata": {
            "needs_background": "light"
          }
        }
      ]
    },
    {
      "cell_type": "markdown",
      "metadata": {
        "id": "4MsmcXUnQaw7"
      },
      "source": [
        "## Cross-validation"
      ]
    },
    {
      "cell_type": "code",
      "metadata": {
        "id": "xT7L_WAWQaJi"
      },
      "source": [
        "def get_index(random_state, data):\n",
        "  kf = KFold(n_splits=5, shuffle = True, random_state=random_state)\n",
        "  train_indexs = []\n",
        "  test_indexs = []\n",
        "  for train_index, test_index in kf.split(data):\n",
        "      train_indexs.append(train_index)\n",
        "      test_indexs.append(test_index)\n",
        "  index=pd.DataFrame(zip(train_indexs, test_indexs), columns=['train_index','test_index'])\n",
        "  return index"
      ],
      "execution_count": 24,
      "outputs": []
    },
    {
      "cell_type": "code",
      "metadata": {
        "id": "yaPe_AMwQpxB"
      },
      "source": [
        "def get_scores(n_fold, index, data):\n",
        "  train_index = index.iloc[n_fold,0]\n",
        "  test_index = index.iloc[n_fold,1]\n",
        "  train, test = data.iloc[train_index], data.iloc[test_index]\n",
        "  train_shape=train.shape\n",
        "  test_shape=test.shape\n",
        "\n",
        "  def func(X,a, w, c, m, n, p):\n",
        "    x,y,z,u,h = X\n",
        "    return (a-w*h)*(2*x*y/z-c*y**m*x**n/z**p)*0.01/(0.01+u)\n",
        "\n",
        "  x=train['thickness(m)'].to_numpy()\n",
        "  y=train['solidity'].to_numpy()\n",
        "  z=train['diameter(m)'].to_numpy()\n",
        "  u=train['Interface(m)'].to_numpy()\n",
        "  h=train['Absolute humidity (g/m3)'].to_numpy()\n",
        "  j=train['ChargeDensity(C/m2)'].to_numpy()\n",
        "\n",
        "\n",
        "  # initial guesses for a,b,c,m,n,p:\n",
        "  p0 = 1E-6 , 1E-10 ,1. , 1. , 1., 1.\n",
        "\n",
        "   # trf & dogbox\n",
        "       #    a          w           c        m          n       p\n",
        "  bound=((  0,         0,          0,       0,         0 ,     0 ), \n",
        "       (np.inf,    np.inf,    np.inf,     np.inf,    np.inf, np.inf))\n",
        "  \n",
        "  ## trf\n",
        "  popt_trf,pcov = curve_fit(func,(x,y,z,u,h),j, p0, bounds = bound, method='trf', maxfev=500000)\n",
        "\n",
        "  y_model_trf = func((x,y,z,u,h),popt_trf[0],popt_trf[1],popt_trf[2], popt_trf[3],popt_trf[4],popt_trf[5]) \n",
        "  MSE_trf = np.sum((j - y_model_trf)**2)/train.shape[0]\n",
        "  MAE_trf = np.sum(abs(j - y_model_trf))/train.shape[0]\n",
        "\n",
        "  ## dogbox\n",
        "  popt_dog, pcov = curve_fit(func,(x,y,z,u,h),j, p0, bounds = bound, method='dogbox', maxfev=500000)\n",
        "  y_model_dog = func((x,y,z,u,h),popt_dog[0],popt_dog[1],popt_dog[2],popt_dog[3],popt_dog[4],popt_dog[5]) \n",
        "  MSE_dog = np.sum((j - y_model_dog)**2)/train.shape[0]\n",
        "  MAE_dog = np.sum(abs(j - y_model_dog))/train.shape[0]\n",
        "\n",
        "  if MSE_trf < MSE_dog:\n",
        "    a,w,c,m,n,p = popt_trf[0],popt_trf[1],popt_trf[2],popt_trf[3],popt_trf[4], popt_trf[5]\n",
        "    print('trf Method is the best method')\n",
        "  else:\n",
        "    a,w,c,m,n,p = popt_dog[0], popt_dog[1], popt_dog[2], popt_dog[3], popt_dog[4], popt_dog[5]\n",
        "    print(\"dogbox Method is the best method\")\n",
        "  trf_result=\"trf Method | MSE = {:.2E}| MAE = {:.2E}| a = {}, w = {}, c = {},m = {}, n = {}, p = {}\".format(MSE_trf,MAE_trf,popt_trf[0],popt_trf[1],popt_trf[2],popt_trf[3],popt_trf[4], popt_trf[5])\n",
        "  dog_result=\"dog Method | MSE = {:.2E}| MAE = {:.2E}| a = {}, w = {}, c = {},m = {}, n = {}, p = {}\".format(MSE_dog,MAE_dog,popt_dog[0], popt_dog[1], popt_dog[2], popt_dog[3], popt_dog[4], popt_dog[5])\n",
        "  # print(trf_result)\n",
        "  # print(dog_result)\n",
        "  \n",
        "  # Validate \n",
        "  \n",
        "  data_val = pd.concat([train, test])\n",
        "  x=data_val['thickness(m)'].to_numpy()\n",
        "  y=data_val['solidity'].to_numpy()\n",
        "  z=data_val['diameter(m)'].to_numpy()\n",
        "  u=data_val['Interface(m)'].to_numpy()\n",
        "  h=data_val['Absolute humidity (g/m3)'].to_numpy()\n",
        "  j=data_val['ChargeDensity(C/m2)'].to_numpy()\n",
        "\n",
        "\n",
        "  data_val['Predicted(C/m2)'] = (a-w*h)*(2*x*y/z-c*y**m*x**n/z**p)*0.01/(0.01+u)\n",
        "\n",
        "  \n",
        "  def mean_absolute_percentage_error(y_true, y_pred):\n",
        "    y_true, y_pred = np.array(y_true), np.array(y_pred)\n",
        "    return np.mean(np.abs((y_true - y_pred) / y_true)) * 100\n",
        "  \n",
        "  mape_trf = mean_absolute_percentage_error(data_val['ChargeDensity(C/m2)'], data_val['Predicted(C/m2)'])\n",
        "  mape_trf_train = mean_absolute_percentage_error(data_val['ChargeDensity(C/m2)'][0:train.shape[0]], data_val['Predicted(C/m2)'][0:train.shape[0]])\n",
        "  mape_trf_test = mean_absolute_percentage_error(data_val['ChargeDensity(C/m2)'][train.shape[0]:data_val.shape[0]], data_val['Predicted(C/m2)'][train.shape[0]:data_val.shape[0]])\n",
        "\n",
        "  return n_fold, train_shape, test_shape, mape_trf, mape_trf_train, mape_trf_test, a,w,c,m,n,p"
      ],
      "execution_count": 25,
      "outputs": []
    },
    {
      "cell_type": "code",
      "metadata": {
        "colab": {
          "base_uri": "https://localhost:8080/"
        },
        "id": "mrbktGuoQq67",
        "outputId": "cb6fab26-bc33-4d83-efe9-24baeae87de1"
      },
      "source": [
        "for n_fold in range(5):\n",
        "  n_fold, train_shape, test_shape, MAPE, train_MAPE, test_MAPE,a,w,c,m,n,p = get_scores(n_fold, index, data)\n",
        "  print('n_fold={}, train_shape={}, test_shape={}, MAPE={:.2f}, train_MAPE={:.2f}, test_MAPE={:.2f}'.format(n_fold, train_shape, test_shape, MAPE, train_MAPE, test_MAPE))"
      ],
      "execution_count": 26,
      "outputs": [
        {
          "output_type": "stream",
          "name": "stdout",
          "text": [
            "trf Method is the best method\n",
            "n_fold=0, train_shape=(34, 9), test_shape=(9, 9), MAPE=4.87, train_MAPE=5.07, test_MAPE=4.12\n",
            "trf Method is the best method\n",
            "n_fold=1, train_shape=(34, 9), test_shape=(9, 9), MAPE=4.96, train_MAPE=4.68, test_MAPE=6.02\n",
            "trf Method is the best method\n",
            "n_fold=2, train_shape=(34, 9), test_shape=(9, 9), MAPE=4.67, train_MAPE=4.40, test_MAPE=5.72\n",
            "trf Method is the best method\n",
            "n_fold=3, train_shape=(35, 9), test_shape=(8, 9), MAPE=4.65, train_MAPE=4.37, test_MAPE=5.85\n",
            "trf Method is the best method\n",
            "n_fold=4, train_shape=(35, 9), test_shape=(8, 9), MAPE=4.83, train_MAPE=5.03, test_MAPE=3.96\n"
          ]
        }
      ]
    },
    {
      "cell_type": "markdown",
      "metadata": {
        "id": "YTVac_yS_CGt"
      },
      "source": [
        "# simulation"
      ]
    },
    {
      "cell_type": "code",
      "metadata": {
        "id": "fc-42ySw_Bm9",
        "colab": {
          "base_uri": "https://localhost:8080/"
        },
        "outputId": "31088479-224a-4703-9d90-39177c128ece"
      },
      "source": [
        "avg_thickness = data['thickness(m)'].mean()\n",
        "avg_solidity = data['solidity'].mean()\n",
        "avg_diameter = data['diameter(m)'].mean()\n",
        "avg_u = data['Interface(m)'].mean()\n",
        "\n",
        "\n",
        "print('avg_thickness = {:.2f}\\navg_solidity = {:.3f}\\navg_diameter = {:.2f} '.format(avg_thickness, avg_solidity, avg_diameter))\n",
        "print('avg_u = {:.3f}'.format(avg_u))\n",
        "print('thickness | {:.2f}-{:.2f} um'.format(data['thickness(m)'].min()*1E6, data['thickness(m)'].max()*1E6))\n",
        "print('solidity | {:.2f}-{:.2f}'.format(data['solidity'].min(), data['solidity'].max()))\n",
        "print('diameter | {:.2f}-{:.2f} um'.format(data['diameter(m)'].min()*1E6, data['diameter(m)'].max()*1E6))"
      ],
      "execution_count": 27,
      "outputs": [
        {
          "output_type": "stream",
          "name": "stdout",
          "text": [
            "avg_thickness = 0.00\n",
            "avg_solidity = 0.194\n",
            "avg_diameter = 0.00 \n",
            "avg_u = 0.002\n",
            "thickness | 354.60-623.10 um\n",
            "solidity | 0.15-0.24\n",
            "diameter | 6.73-16.99 um\n"
          ]
        }
      ]
    },
    {
      "cell_type": "code",
      "metadata": {
        "id": "VwFntoqr_E5E",
        "colab": {
          "base_uri": "https://localhost:8080/",
          "height": 204
        },
        "outputId": "327de470-82ee-425c-de6e-78eac5d1fbb8"
      },
      "source": [
        "data.head()"
      ],
      "execution_count": 28,
      "outputs": [
        {
          "output_type": "execute_result",
          "data": {
            "text/html": [
              "<div>\n",
              "<style scoped>\n",
              "    .dataframe tbody tr th:only-of-type {\n",
              "        vertical-align: middle;\n",
              "    }\n",
              "\n",
              "    .dataframe tbody tr th {\n",
              "        vertical-align: top;\n",
              "    }\n",
              "\n",
              "    .dataframe thead th {\n",
              "        text-align: right;\n",
              "    }\n",
              "</style>\n",
              "<table border=\"1\" class=\"dataframe\">\n",
              "  <thead>\n",
              "    <tr style=\"text-align: right;\">\n",
              "      <th></th>\n",
              "      <th>ChargeDensity(C/m2)</th>\n",
              "      <th>thickness(m)</th>\n",
              "      <th>solidity</th>\n",
              "      <th>diameter(m)</th>\n",
              "      <th>Interface(m)</th>\n",
              "      <th>Technique</th>\n",
              "      <th>Tem (°C)</th>\n",
              "      <th>Absolute humidity (g/m3)</th>\n",
              "      <th>Force (N)</th>\n",
              "    </tr>\n",
              "  </thead>\n",
              "  <tbody>\n",
              "    <tr>\n",
              "      <th>0</th>\n",
              "      <td>0.000026</td>\n",
              "      <td>0.000472</td>\n",
              "      <td>0.164</td>\n",
              "      <td>0.000009</td>\n",
              "      <td>0.001728</td>\n",
              "      <td>Reicofil</td>\n",
              "      <td>26.4</td>\n",
              "      <td>6.450233</td>\n",
              "      <td>35.5</td>\n",
              "    </tr>\n",
              "    <tr>\n",
              "      <th>1</th>\n",
              "      <td>0.000028</td>\n",
              "      <td>0.000568</td>\n",
              "      <td>0.180</td>\n",
              "      <td>0.000009</td>\n",
              "      <td>0.001961</td>\n",
              "      <td>Reicofil</td>\n",
              "      <td>25.7</td>\n",
              "      <td>6.585998</td>\n",
              "      <td>37.1</td>\n",
              "    </tr>\n",
              "    <tr>\n",
              "      <th>2</th>\n",
              "      <td>0.000031</td>\n",
              "      <td>0.000473</td>\n",
              "      <td>0.181</td>\n",
              "      <td>0.000008</td>\n",
              "      <td>0.001501</td>\n",
              "      <td>Reicofil</td>\n",
              "      <td>26.9</td>\n",
              "      <td>7.297906</td>\n",
              "      <td>36.1</td>\n",
              "    </tr>\n",
              "    <tr>\n",
              "      <th>3</th>\n",
              "      <td>0.000030</td>\n",
              "      <td>0.000600</td>\n",
              "      <td>0.179</td>\n",
              "      <td>0.000008</td>\n",
              "      <td>0.001990</td>\n",
              "      <td>Reicofil</td>\n",
              "      <td>25.8</td>\n",
              "      <td>7.128742</td>\n",
              "      <td>37.3</td>\n",
              "    </tr>\n",
              "    <tr>\n",
              "      <th>4</th>\n",
              "      <td>0.000034</td>\n",
              "      <td>0.000393</td>\n",
              "      <td>0.206</td>\n",
              "      <td>0.000007</td>\n",
              "      <td>0.001106</td>\n",
              "      <td>Reicofil</td>\n",
              "      <td>26.9</td>\n",
              "      <td>7.297906</td>\n",
              "      <td>36.1</td>\n",
              "    </tr>\n",
              "  </tbody>\n",
              "</table>\n",
              "</div>"
            ],
            "text/plain": [
              "   ChargeDensity(C/m2)  thickness(m)  ...  Absolute humidity (g/m3)  Force (N)\n",
              "0             0.000026      0.000472  ...                  6.450233       35.5\n",
              "1             0.000028      0.000568  ...                  6.585998       37.1\n",
              "2             0.000031      0.000473  ...                  7.297906       36.1\n",
              "3             0.000030      0.000600  ...                  7.128742       37.3\n",
              "4             0.000034      0.000393  ...                  7.297906       36.1\n",
              "\n",
              "[5 rows x 9 columns]"
            ]
          },
          "metadata": {},
          "execution_count": 28
        }
      ]
    },
    {
      "cell_type": "code",
      "metadata": {
        "id": "UMf0j_6C_Lss",
        "colab": {
          "base_uri": "https://localhost:8080/"
        },
        "outputId": "5a7d68c5-d143-4da7-d210-b9d99da62000"
      },
      "source": [
        "set_thickness = data.loc[0]['thickness(m)']\n",
        "set_solidity = data.loc[0]['solidity']\n",
        "set_diameter = data.loc[0]['diameter(m)']\n",
        "set_u = data.loc[0]['Interface(m)']\n",
        "set_h = data.loc[0]['Absolute humidity (g/m3)']\n",
        "print('set_thickness = {:.3E}\\nset_solidity = {:.3f}\\nset_diameter = {:.2E} \\nset_u= {:.3f} \\nset_h= {:.1f}'.format(set_thickness, set_solidity, set_diameter, set_u, set_h))\n",
        "\n",
        "set_j = data.loc[0]['ChargeDensity(C/m2)']\n",
        "print('measured j= {:.2E}'.format(set_j))"
      ],
      "execution_count": 29,
      "outputs": [
        {
          "output_type": "stream",
          "name": "stdout",
          "text": [
            "set_thickness = 4.724E-04\n",
            "set_solidity = 0.164\n",
            "set_diameter = 9.09E-06 \n",
            "set_u= 0.002 \n",
            "set_h= 6.5\n",
            "measured j= 2.64E-05\n"
          ]
        }
      ]
    },
    {
      "cell_type": "code",
      "metadata": {
        "id": "ULH27meSCjlA",
        "colab": {
          "base_uri": "https://localhost:8080/",
          "height": 281
        },
        "outputId": "07309c72-4427-4e85-8ca8-37a6bf98ce3c"
      },
      "source": [
        "plt.style.use('ggplot')\n",
        "plt.style.use('seaborn-whitegrid')\n",
        "plt.rcParams['axes.facecolor'] = 'none'\n",
        "\n",
        "\n",
        "fig, ax = plt.subplots(1,3, figsize=(8,3.5), sharey=True)\n",
        "\n",
        "\n",
        "#-----------------------------------------------------------------------------------------------\n",
        "# Thickness ~ charge\n",
        "x = np.linspace(100, 1200)*pow(10,-6)\n",
        "y = set_solidity\n",
        "z = set_diameter\n",
        "u = set_u\n",
        "h = set_h\n",
        "\n",
        "J =  (a-w*h)*(2*x*y/z-c*y**m*x**n/z**p)*0.01/(0.01+u)\n",
        "\n",
        "ax[0].plot(x*pow(10,6), J*pow(10,6), linestyle=\"--\", linewidth = 6)\n",
        "ax[0].scatter(set_thickness*pow(10,6), set_j*pow(10,6), c='b', marker = '^', s=1000)\n",
        "\n",
        "ax[0].set_xlabel(\"Thickness \\n(um)\", fontsize=16)\n",
        "ax[0].set_ylabel(\"(uC/m2)\", fontsize=16)\n",
        "ax[0].tick_params(axis = 'x', labelsize=14)\n",
        "ax[0].tick_params(axis = 'y', labelsize=14)\n",
        "ax[0].set_ylim(0,50)\n",
        "\n",
        "\n",
        "\n",
        "#-----------------------------------------------------------------------------------------------\n",
        "# solidity ~ charge\n",
        "\n",
        "x = set_thickness\n",
        "y = np.linspace(0.05, 0.7)\n",
        "z = set_diameter\n",
        "u = set_u\n",
        "h = set_h\n",
        "\n",
        "J = (a-w*h)*(2*x*y/z-c*y**m*x**n/z**p)*0.01/(0.01+u)\n",
        "\n",
        "\n",
        "ax[1].plot(y,J*pow(10,6), linestyle=\"--\", linewidth = 6)\n",
        "ax[1].scatter(set_solidity, set_j*pow(10,6), c='b', marker = '^', s=1000)\n",
        "\n",
        "ax[1].set_xlabel(\"solidity\", fontsize=16)\n",
        "\n",
        "ax[1].tick_params(axis = 'x', labelsize=14)\n",
        "ax[1].tick_params(axis = 'y', labelsize=14)\n",
        "\n",
        "    \n",
        "#-----------------------------------------------------------------------------------------------\n",
        "# Diameter ~ Charge\n",
        "\n",
        "x = set_thickness\n",
        "y = set_solidity\n",
        "z = np.linspace(3, 20)*pow(10,-6)\n",
        "u = set_u\n",
        "h = set_h\n",
        "\n",
        "J =  (a-w*h)*(2*x*y/z-c*y**m*x**n/z**p)*0.01/(0.01+u)\n",
        "\n",
        "ax[2].plot(z*pow(10,6),J*pow(10,6), linestyle=\"--\", linewidth = 6)\n",
        "ax[2].scatter(set_diameter*pow(10,6), set_j*pow(10,6), c='b', marker = '^', s=1000)\n",
        "\n",
        "ax[2].set_xlabel(\"diameter\\n (um)\", fontsize=16)\n",
        "\n",
        "\n",
        "\n",
        "\n",
        "ax[2].tick_params(axis = 'x', labelsize=14)\n",
        "ax[2].tick_params(axis = 'y', labelsize=14)"
      ],
      "execution_count": 30,
      "outputs": [
        {
          "output_type": "display_data",
          "data": {
            "image/png": "[encoded data removed]",
            "text/plain": [
              "<Figure size 576x252 with 3 Axes>"
            ]
          },
          "metadata": {}
        }
      ]
    },
    {
      "cell_type": "code",
      "metadata": {
        "id": "BoDm1sZcAb6o"
      },
      "source": [
        "simulation_df = pd.DataFrame()\n",
        "\n",
        "#-----------------------------------------------------------------------------------------------\n",
        "# Thickness ~ charge\n",
        "x = np.linspace(100, 1200)*pow(10,-6)\n",
        "y = set_solidity\n",
        "z = set_diameter\n",
        "u = set_u\n",
        "h = set_h\n",
        "\n",
        "J = (a-w*h)*(2*x*y/z-c*y**m*x**n/z**p)*0.01/(0.01+u)\n",
        "\n",
        "\n",
        "simulation_df['thickness (um)']=np.linspace(100, 1200)\n",
        "simulation_df['charge (uC)_1']=J*pow(10,6)\n",
        "\n",
        "#-----------------------------------------------------------------------------------------------\n",
        "# solidity ~ charge\n",
        "\n",
        "x = set_thickness\n",
        "y = np.linspace(0.05, 0.7)\n",
        "z = set_diameter\n",
        "u = set_u\n",
        "h = set_h\n",
        "\n",
        "J = (a-w*h)*(2*x*y/z-c*y**m*x**n/z**p)*0.01/(0.01+u)\n",
        "\n",
        "\n",
        "\n",
        "\n",
        "simulation_df['solidity']=y\n",
        "simulation_df['charge (uC)_2']=J*pow(10,6)\n",
        "\n",
        "    \n",
        "#-----------------------------------------------------------------------------------------------\n",
        "# Diameter ~ Charge\n",
        "\n",
        "x = set_thickness\n",
        "y = set_solidity\n",
        "z = np.linspace(3, 20)*pow(10,-6)\n",
        "u = set_u\n",
        "h = set_h\n",
        "\n",
        "J = (a-w*h)*(2*x*y/z-c*y**m*x**n/z**p)*0.01/(0.01+u)\n",
        "\n",
        "\n",
        "\n",
        "simulation_df['diameter (um)']=z*pow(10,6)\n",
        "simulation_df['charge (uC)_3']=J*pow(10,6)"
      ],
      "execution_count": 31,
      "outputs": []
    },
    {
      "cell_type": "code",
      "metadata": {
        "id": "5AfjkVTBBDMP",
        "colab": {
          "base_uri": "https://localhost:8080/",
          "height": 204
        },
        "outputId": "77443d11-acd1-4feb-8297-6d14da227440"
      },
      "source": [
        "simulation_df.head()"
      ],
      "execution_count": 32,
      "outputs": [
        {
          "output_type": "execute_result",
          "data": {
            "text/html": [
              "<div>\n",
              "<style scoped>\n",
              "    .dataframe tbody tr th:only-of-type {\n",
              "        vertical-align: middle;\n",
              "    }\n",
              "\n",
              "    .dataframe tbody tr th {\n",
              "        vertical-align: top;\n",
              "    }\n",
              "\n",
              "    .dataframe thead th {\n",
              "        text-align: right;\n",
              "    }\n",
              "</style>\n",
              "<table border=\"1\" class=\"dataframe\">\n",
              "  <thead>\n",
              "    <tr style=\"text-align: right;\">\n",
              "      <th></th>\n",
              "      <th>thickness (um)</th>\n",
              "      <th>charge (uC)_1</th>\n",
              "      <th>solidity</th>\n",
              "      <th>charge (uC)_2</th>\n",
              "      <th>diameter (um)</th>\n",
              "      <th>charge (uC)_3</th>\n",
              "    </tr>\n",
              "  </thead>\n",
              "  <tbody>\n",
              "    <tr>\n",
              "      <th>0</th>\n",
              "      <td>100.000000</td>\n",
              "      <td>9.795811</td>\n",
              "      <td>0.050000</td>\n",
              "      <td>12.325476</td>\n",
              "      <td>3.000000</td>\n",
              "      <td>21.628099</td>\n",
              "    </tr>\n",
              "    <tr>\n",
              "      <th>1</th>\n",
              "      <td>122.448980</td>\n",
              "      <td>11.444686</td>\n",
              "      <td>0.063265</td>\n",
              "      <td>14.649440</td>\n",
              "      <td>3.346939</td>\n",
              "      <td>25.300604</td>\n",
              "    </tr>\n",
              "    <tr>\n",
              "      <th>2</th>\n",
              "      <td>144.897959</td>\n",
              "      <td>12.973373</td>\n",
              "      <td>0.076531</td>\n",
              "      <td>16.747537</td>\n",
              "      <td>3.693878</td>\n",
              "      <td>27.622739</td>\n",
              "    </tr>\n",
              "    <tr>\n",
              "      <th>3</th>\n",
              "      <td>167.346939</td>\n",
              "      <td>14.395777</td>\n",
              "      <td>0.089796</td>\n",
              "      <td>18.650623</td>\n",
              "      <td>4.040816</td>\n",
              "      <td>29.063797</td>\n",
              "    </tr>\n",
              "    <tr>\n",
              "      <th>4</th>\n",
              "      <td>189.795918</td>\n",
              "      <td>15.722488</td>\n",
              "      <td>0.103061</td>\n",
              "      <td>20.381259</td>\n",
              "      <td>4.387755</td>\n",
              "      <td>29.914836</td>\n",
              "    </tr>\n",
              "  </tbody>\n",
              "</table>\n",
              "</div>"
            ],
            "text/plain": [
              "   thickness (um)  charge (uC)_1  ...  diameter (um)  charge (uC)_3\n",
              "0      100.000000       9.795811  ...       3.000000      21.628099\n",
              "1      122.448980      11.444686  ...       3.346939      25.300604\n",
              "2      144.897959      12.973373  ...       3.693878      27.622739\n",
              "3      167.346939      14.395777  ...       4.040816      29.063797\n",
              "4      189.795918      15.722488  ...       4.387755      29.914836\n",
              "\n",
              "[5 rows x 6 columns]"
            ]
          },
          "metadata": {},
          "execution_count": 32
        }
      ]
    },
    {
      "cell_type": "code",
      "metadata": {
        "id": "KAAASfeXBGhp"
      },
      "source": [
        "simulation_df.to_excel('simulation_df_SEBS.xlsx')"
      ],
      "execution_count": 33,
      "outputs": []
    },
    {
      "cell_type": "markdown",
      "metadata": {
        "id": "_JwCrmDKivfc"
      },
      "source": [
        "# Validation at different random seeds"
      ]
    },
    {
      "cell_type": "code",
      "metadata": {
        "id": "cNCx_w2OintX"
      },
      "source": [
        "def get_index(random_state, data):\n",
        "  kf = KFold(n_splits=5, shuffle = True, random_state=random_state)\n",
        "  train_indexs = []\n",
        "  test_indexs = []\n",
        "  for train_index, test_index in kf.split(data):\n",
        "      train_indexs.append(train_index)\n",
        "      test_indexs.append(test_index)\n",
        "  index=pd.DataFrame(zip(train_indexs, test_indexs), columns=['train_index','test_index'])\n",
        "  return index"
      ],
      "execution_count": 34,
      "outputs": []
    },
    {
      "cell_type": "code",
      "metadata": {
        "id": "n3u1xnV6iySV"
      },
      "source": [
        "def get_scores(n_fold, index, data):\n",
        "  train_index = index.iloc[n_fold,0]\n",
        "  test_index = index.iloc[n_fold,1]\n",
        "  train, test = data.iloc[train_index], data.iloc[test_index]\n",
        "  train_shape=train.shape\n",
        "  test_shape=test.shape\n",
        "\n",
        "  def func(X,a, w, c, m, n, p):\n",
        "    x,y,z,u,h = X\n",
        "    return (a-w*h)*(2*x*y/z-c*y**m*x**n/z**p)*0.01/(0.01+u)\n",
        "\n",
        "  x=train['thickness(m)'].to_numpy()\n",
        "  y=train['solidity'].to_numpy()\n",
        "  z=train['diameter(m)'].to_numpy()\n",
        "  u=train['Interface(m)'].to_numpy()\n",
        "  h=train['Absolute humidity (g/m3)'].to_numpy()\n",
        "  j=train['ChargeDensity(C/m2)'].to_numpy()\n",
        "\n",
        "\n",
        "  # initial guesses for a,b,c,m,n,p:\n",
        "  p0 = 1E-6 , 1E-10 ,1. , 1. , 1., 1.\n",
        "\n",
        "   # trf & dogbox\n",
        "       #    a          w           c        m          n       p\n",
        "  bound=((  0,         0,          0,       0,         0 ,     0 ), \n",
        "       (np.inf,    np.inf,    np.inf,     np.inf,    np.inf, np.inf))\n",
        "  \n",
        "  ## trf\n",
        "  popt_trf,pcov = curve_fit(func,(x,y,z,u,h),j, p0, bounds = bound, method='trf', maxfev=500000)\n",
        "\n",
        "  y_model_trf = func((x,y,z,u,h),popt_trf[0],popt_trf[1],popt_trf[2], popt_trf[3],popt_trf[4],popt_trf[5]) \n",
        "  MSE_trf = np.sum((j - y_model_trf)**2)/train.shape[0]\n",
        "  MAE_trf = np.sum(abs(j - y_model_trf))/train.shape[0]\n",
        "\n",
        "  ## dogbox\n",
        "  popt_dog, pcov = curve_fit(func,(x,y,z,u,h),j, p0, bounds = bound, method='dogbox', maxfev=500000)\n",
        "  y_model_dog = func((x,y,z,u,h),popt_dog[0],popt_dog[1],popt_dog[2],popt_dog[3],popt_dog[4],popt_dog[5]) \n",
        "  MSE_dog = np.sum((j - y_model_dog)**2)/train.shape[0]\n",
        "  MAE_dog = np.sum(abs(j - y_model_dog))/train.shape[0]\n",
        "\n",
        "  if MSE_trf < MSE_dog:\n",
        "    a,w,c,m,n,p = popt_trf[0],popt_trf[1],popt_trf[2],popt_trf[3],popt_trf[4], popt_trf[5]\n",
        "    print('trf Method is the best method')\n",
        "  else:\n",
        "    a,w,c,m,n,p = popt_dog[0], popt_dog[1], popt_dog[2], popt_dog[3], popt_dog[4], popt_dog[5]\n",
        "    print(\"dogbox Method is the best method\")\n",
        "  trf_result=\"trf Method | MSE = {:.2E}| MAE = {:.2E}| a = {}, w = {}, c = {},m = {}, n = {}, p = {}\".format(MSE_trf,MAE_trf,popt_trf[0],popt_trf[1],popt_trf[2],popt_trf[3],popt_trf[4], popt_trf[5])\n",
        "  dog_result=\"dog Method | MSE = {:.2E}| MAE = {:.2E}| a = {}, w = {}, c = {},m = {}, n = {}, p = {}\".format(MSE_dog,MAE_dog,popt_dog[0], popt_dog[1], popt_dog[2], popt_dog[3], popt_dog[4], popt_dog[5])\n",
        "  # print(trf_result)\n",
        "  # print(dog_result)\n",
        "  \n",
        "  # Validate \n",
        "  \n",
        "  data_val = pd.concat([train, test])\n",
        "  x=data_val['thickness(m)'].to_numpy()\n",
        "  y=data_val['solidity'].to_numpy()\n",
        "  z=data_val['diameter(m)'].to_numpy()\n",
        "  u=data_val['Interface(m)'].to_numpy()\n",
        "  h=data_val['Absolute humidity (g/m3)'].to_numpy()\n",
        "  j=data_val['ChargeDensity(C/m2)'].to_numpy()\n",
        "\n",
        "\n",
        "  data_val['Predicted(C/m2)'] = (a-w*h)*(2*x*y/z-c*y**m*x**n/z**p)*0.01/(0.01+u)\n",
        "\n",
        "  \n",
        "  def mean_absolute_percentage_error(y_true, y_pred):\n",
        "    y_true, y_pred = np.array(y_true), np.array(y_pred)\n",
        "    return np.mean(np.abs((y_true - y_pred) / y_true)) * 100\n",
        "  \n",
        "  mape_trf = mean_absolute_percentage_error(data_val['ChargeDensity(C/m2)'], data_val['Predicted(C/m2)'])\n",
        "  mape_trf_train = mean_absolute_percentage_error(data_val['ChargeDensity(C/m2)'][0:train.shape[0]], data_val['Predicted(C/m2)'][0:train.shape[0]])\n",
        "  mape_trf_test = mean_absolute_percentage_error(data_val['ChargeDensity(C/m2)'][train.shape[0]:data_val.shape[0]], data_val['Predicted(C/m2)'][train.shape[0]:data_val.shape[0]])\n",
        "\n",
        "  return n_fold, train_shape, test_shape, mape_trf, mape_trf_train, mape_trf_test, a,w,c,m,n,p"
      ],
      "execution_count": 35,
      "outputs": []
    },
    {
      "cell_type": "code",
      "metadata": {
        "id": "ZewxKhPSjqw4"
      },
      "source": [
        "max_random_sate = 200"
      ],
      "execution_count": 36,
      "outputs": []
    },
    {
      "cell_type": "code",
      "metadata": {
        "id": "N8NpdvFCjsXO",
        "colab": {
          "base_uri": "https://localhost:8080/"
        },
        "outputId": "7ac96cbb-edef-427b-9895-032f03f2a2f3"
      },
      "source": [
        "random_states = []\n",
        "n_folds = []\n",
        "train_shapes = []\n",
        "test_shapes = []\n",
        "\n",
        "MAPEs = []\n",
        "train_MAPEs = []\n",
        "test_MAPEs = []\n",
        "\n",
        "a_list = []\n",
        "w_list = []\n",
        "c_list = []\n",
        "m_list = []\n",
        "n_list = []\n",
        "p_list = []\n",
        "\n",
        "\n",
        "for random_state in range(max_random_sate):\n",
        "  index = get_index(random_state, data)\n",
        "  for n_fold in range(1):\n",
        "    random_states.append(random_state)\n",
        "    n_fold, train_shape, test_shape, MAPE, train_MAPE, test_MAPE,a,w,c,m,n,p = get_scores(n_fold, index, data)\n",
        "    n_folds.append(n_fold)\n",
        "    train_shapes.append(train_shape)\n",
        "    test_shapes.append(test_shape)\n",
        "    \n",
        "    MAPEs.append(MAPE)\n",
        "    train_MAPEs.append(train_MAPE)\n",
        "    test_MAPEs.append(test_MAPE)\n",
        "    a_list.append(a)\n",
        "    w_list.append(w)\n",
        "    c_list.append(c)\n",
        "    m_list.append(m)\n",
        "    n_list.append(n)\n",
        "    p_list.append(p)\n"
      ],
      "execution_count": 37,
      "outputs": [
        {
          "output_type": "stream",
          "name": "stdout",
          "text": [
            "trf Method is the best method\n",
            "trf Method is the best method\n",
            "trf Method is the best method\n",
            "trf Method is the best method\n",
            "trf Method is the best method\n",
            "trf Method is the best method\n",
            "trf Method is the best method\n",
            "trf Method is the best method\n",
            "trf Method is the best method\n",
            "trf Method is the best method\n",
            "trf Method is the best method\n",
            "trf Method is the best method\n",
            "trf Method is the best method\n",
            "trf Method is the best method\n",
            "trf Method is the best method\n",
            "trf Method is the best method\n",
            "trf Method is the best method\n",
            "trf Method is the best method\n",
            "trf Method is the best method\n",
            "trf Method is the best method\n",
            "trf Method is the best method\n",
            "trf Method is the best method\n",
            "trf Method is the best method\n",
            "trf Method is the best method\n",
            "trf Method is the best method\n",
            "trf Method is the best method\n",
            "trf Method is the best method\n",
            "trf Method is the best method\n",
            "trf Method is the best method\n",
            "trf Method is the best method\n",
            "trf Method is the best method\n",
            "trf Method is the best method\n",
            "trf Method is the best method\n",
            "trf Method is the best method\n",
            "trf Method is the best method\n",
            "trf Method is the best method\n",
            "trf Method is the best method\n",
            "trf Method is the best method\n",
            "trf Method is the best method\n",
            "trf Method is the best method\n",
            "trf Method is the best method\n",
            "trf Method is the best method\n",
            "trf Method is the best method\n",
            "trf Method is the best method\n",
            "trf Method is the best method\n",
            "trf Method is the best method\n",
            "trf Method is the best method\n",
            "trf Method is the best method\n",
            "trf Method is the best method\n",
            "trf Method is the best method\n",
            "trf Method is the best method\n",
            "trf Method is the best method\n",
            "trf Method is the best method\n",
            "trf Method is the best method\n",
            "trf Method is the best method\n",
            "trf Method is the best method\n",
            "trf Method is the best method\n",
            "trf Method is the best method\n",
            "trf Method is the best method\n",
            "trf Method is the best method\n",
            "trf Method is the best method\n",
            "trf Method is the best method\n",
            "trf Method is the best method\n",
            "trf Method is the best method\n",
            "trf Method is the best method\n",
            "trf Method is the best method\n",
            "trf Method is the best method\n",
            "trf Method is the best method\n",
            "trf Method is the best method\n",
            "trf Method is the best method\n",
            "trf Method is the best method\n",
            "trf Method is the best method\n",
            "trf Method is the best method\n",
            "trf Method is the best method\n",
            "trf Method is the best method\n",
            "trf Method is the best method\n",
            "trf Method is the best method\n",
            "trf Method is the best method\n",
            "trf Method is the best method\n",
            "trf Method is the best method\n",
            "trf Method is the best method\n",
            "trf Method is the best method\n",
            "trf Method is the best method\n",
            "trf Method is the best method\n",
            "trf Method is the best method\n",
            "trf Method is the best method\n",
            "trf Method is the best method\n",
            "trf Method is the best method\n",
            "trf Method is the best method\n",
            "trf Method is the best method\n",
            "trf Method is the best method\n",
            "trf Method is the best method\n",
            "trf Method is the best method\n",
            "trf Method is the best method\n",
            "trf Method is the best method\n",
            "trf Method is the best method\n",
            "trf Method is the best method\n",
            "trf Method is the best method\n",
            "trf Method is the best method\n",
            "trf Method is the best method\n",
            "trf Method is the best method\n",
            "trf Method is the best method\n",
            "trf Method is the best method\n",
            "trf Method is the best method\n",
            "trf Method is the best method\n",
            "trf Method is the best method\n",
            "trf Method is the best method\n",
            "trf Method is the best method\n",
            "trf Method is the best method\n",
            "trf Method is the best method\n",
            "trf Method is the best method\n",
            "trf Method is the best method\n",
            "trf Method is the best method\n",
            "trf Method is the best method\n",
            "trf Method is the best method\n",
            "trf Method is the best method\n",
            "trf Method is the best method\n",
            "trf Method is the best method\n",
            "trf Method is the best method\n",
            "trf Method is the best method\n",
            "trf Method is the best method\n",
            "trf Method is the best method\n",
            "trf Method is the best method\n",
            "trf Method is the best method\n",
            "trf Method is the best method\n",
            "trf Method is the best method\n",
            "trf Method is the best method\n",
            "trf Method is the best method\n",
            "trf Method is the best method\n",
            "trf Method is the best method\n",
            "trf Method is the best method\n",
            "trf Method is the best method\n",
            "trf Method is the best method\n",
            "trf Method is the best method\n",
            "trf Method is the best method\n",
            "trf Method is the best method\n",
            "trf Method is the best method\n",
            "trf Method is the best method\n",
            "trf Method is the best method\n",
            "trf Method is the best method\n",
            "trf Method is the best method\n",
            "trf Method is the best method\n",
            "trf Method is the best method\n",
            "trf Method is the best method\n",
            "trf Method is the best method\n",
            "trf Method is the best method\n",
            "trf Method is the best method\n",
            "trf Method is the best method\n",
            "trf Method is the best method\n",
            "trf Method is the best method\n",
            "trf Method is the best method\n",
            "trf Method is the best method\n",
            "trf Method is the best method\n",
            "trf Method is the best method\n",
            "trf Method is the best method\n",
            "trf Method is the best method\n",
            "trf Method is the best method\n",
            "trf Method is the best method\n",
            "trf Method is the best method\n",
            "trf Method is the best method\n",
            "trf Method is the best method\n",
            "trf Method is the best method\n",
            "trf Method is the best method\n",
            "trf Method is the best method\n",
            "trf Method is the best method\n",
            "trf Method is the best method\n",
            "trf Method is the best method\n",
            "trf Method is the best method\n",
            "trf Method is the best method\n",
            "trf Method is the best method\n",
            "trf Method is the best method\n",
            "trf Method is the best method\n",
            "trf Method is the best method\n",
            "trf Method is the best method\n",
            "trf Method is the best method\n",
            "trf Method is the best method\n",
            "trf Method is the best method\n",
            "trf Method is the best method\n",
            "trf Method is the best method\n",
            "trf Method is the best method\n",
            "trf Method is the best method\n",
            "trf Method is the best method\n",
            "trf Method is the best method\n",
            "trf Method is the best method\n",
            "trf Method is the best method\n",
            "trf Method is the best method\n",
            "trf Method is the best method\n",
            "trf Method is the best method\n",
            "trf Method is the best method\n",
            "trf Method is the best method\n",
            "trf Method is the best method\n",
            "trf Method is the best method\n",
            "trf Method is the best method\n",
            "trf Method is the best method\n",
            "trf Method is the best method\n",
            "trf Method is the best method\n",
            "trf Method is the best method\n",
            "trf Method is the best method\n",
            "trf Method is the best method\n",
            "trf Method is the best method\n"
          ]
        }
      ]
    },
    {
      "cell_type": "code",
      "metadata": {
        "id": "FYVXB-IOjyrK",
        "colab": {
          "base_uri": "https://localhost:8080/",
          "height": 419
        },
        "outputId": "05b9cbf7-08ed-452e-c81a-6656bc235365"
      },
      "source": [
        "summary = pd.DataFrame()\n",
        "summary['random_state']=random_states\n",
        "summary['n_fold']=n_folds\n",
        "summary['train_shape'] = train_shapes\n",
        "summary['test_shape'] = test_shapes\n",
        "\n",
        "summary['MAPE'] = MAPEs\n",
        "summary['train_MAPE'] = train_MAPEs\n",
        "summary['test_MAPE'] = test_MAPEs\n",
        "summary['a'] = a_list\n",
        "summary['w'] = w_list\n",
        "summary['c'] = c_list\n",
        "summary['m'] = m_list\n",
        "summary['n'] = n_list\n",
        "summary['p'] = p_list\n",
        "\n",
        "\n",
        "summary"
      ],
      "execution_count": 38,
      "outputs": [
        {
          "output_type": "execute_result",
          "data": {
            "text/html": [
              "<div>\n",
              "<style scoped>\n",
              "    .dataframe tbody tr th:only-of-type {\n",
              "        vertical-align: middle;\n",
              "    }\n",
              "\n",
              "    .dataframe tbody tr th {\n",
              "        vertical-align: top;\n",
              "    }\n",
              "\n",
              "    .dataframe thead th {\n",
              "        text-align: right;\n",
              "    }\n",
              "</style>\n",
              "<table border=\"1\" class=\"dataframe\">\n",
              "  <thead>\n",
              "    <tr style=\"text-align: right;\">\n",
              "      <th></th>\n",
              "      <th>random_state</th>\n",
              "      <th>n_fold</th>\n",
              "      <th>train_shape</th>\n",
              "      <th>test_shape</th>\n",
              "      <th>MAPE</th>\n",
              "      <th>train_MAPE</th>\n",
              "      <th>test_MAPE</th>\n",
              "      <th>a</th>\n",
              "      <th>w</th>\n",
              "      <th>c</th>\n",
              "      <th>m</th>\n",
              "      <th>n</th>\n",
              "      <th>p</th>\n",
              "    </tr>\n",
              "  </thead>\n",
              "  <tbody>\n",
              "    <tr>\n",
              "      <th>0</th>\n",
              "      <td>0</td>\n",
              "      <td>0</td>\n",
              "      <td>(34, 9)</td>\n",
              "      <td>(9, 9)</td>\n",
              "      <td>4.748047</td>\n",
              "      <td>4.644623</td>\n",
              "      <td>5.138758</td>\n",
              "      <td>0.000006</td>\n",
              "      <td>1.916903e-07</td>\n",
              "      <td>0.519276</td>\n",
              "      <td>1.311263</td>\n",
              "      <td>1.294033</td>\n",
              "      <td>1.318679</td>\n",
              "    </tr>\n",
              "    <tr>\n",
              "      <th>1</th>\n",
              "      <td>1</td>\n",
              "      <td>0</td>\n",
              "      <td>(34, 9)</td>\n",
              "      <td>(9, 9)</td>\n",
              "      <td>4.946955</td>\n",
              "      <td>4.528870</td>\n",
              "      <td>6.526389</td>\n",
              "      <td>0.000017</td>\n",
              "      <td>6.443090e-07</td>\n",
              "      <td>1.503329</td>\n",
              "      <td>1.086077</td>\n",
              "      <td>1.101274</td>\n",
              "      <td>1.092031</td>\n",
              "    </tr>\n",
              "    <tr>\n",
              "      <th>2</th>\n",
              "      <td>2</td>\n",
              "      <td>0</td>\n",
              "      <td>(34, 9)</td>\n",
              "      <td>(9, 9)</td>\n",
              "      <td>4.720453</td>\n",
              "      <td>4.349425</td>\n",
              "      <td>6.122115</td>\n",
              "      <td>0.000007</td>\n",
              "      <td>2.503266e-07</td>\n",
              "      <td>0.355450</td>\n",
              "      <td>1.220086</td>\n",
              "      <td>1.266978</td>\n",
              "      <td>1.323110</td>\n",
              "    </tr>\n",
              "    <tr>\n",
              "      <th>3</th>\n",
              "      <td>3</td>\n",
              "      <td>0</td>\n",
              "      <td>(34, 9)</td>\n",
              "      <td>(9, 9)</td>\n",
              "      <td>4.714805</td>\n",
              "      <td>4.393467</td>\n",
              "      <td>5.928748</td>\n",
              "      <td>0.000005</td>\n",
              "      <td>1.735747e-07</td>\n",
              "      <td>0.306178</td>\n",
              "      <td>1.330226</td>\n",
              "      <td>1.348532</td>\n",
              "      <td>1.397108</td>\n",
              "    </tr>\n",
              "    <tr>\n",
              "      <th>4</th>\n",
              "      <td>4</td>\n",
              "      <td>0</td>\n",
              "      <td>(34, 9)</td>\n",
              "      <td>(9, 9)</td>\n",
              "      <td>4.896648</td>\n",
              "      <td>4.761657</td>\n",
              "      <td>5.406611</td>\n",
              "      <td>0.000006</td>\n",
              "      <td>2.195146e-07</td>\n",
              "      <td>0.353918</td>\n",
              "      <td>1.344780</td>\n",
              "      <td>1.369645</td>\n",
              "      <td>1.399416</td>\n",
              "    </tr>\n",
              "    <tr>\n",
              "      <th>...</th>\n",
              "      <td>...</td>\n",
              "      <td>...</td>\n",
              "      <td>...</td>\n",
              "      <td>...</td>\n",
              "      <td>...</td>\n",
              "      <td>...</td>\n",
              "      <td>...</td>\n",
              "      <td>...</td>\n",
              "      <td>...</td>\n",
              "      <td>...</td>\n",
              "      <td>...</td>\n",
              "      <td>...</td>\n",
              "      <td>...</td>\n",
              "    </tr>\n",
              "    <tr>\n",
              "      <th>195</th>\n",
              "      <td>195</td>\n",
              "      <td>0</td>\n",
              "      <td>(34, 9)</td>\n",
              "      <td>(9, 9)</td>\n",
              "      <td>4.872326</td>\n",
              "      <td>4.825089</td>\n",
              "      <td>5.050775</td>\n",
              "      <td>0.000016</td>\n",
              "      <td>6.212983e-07</td>\n",
              "      <td>1.278986</td>\n",
              "      <td>1.091386</td>\n",
              "      <td>1.104991</td>\n",
              "      <td>1.107513</td>\n",
              "    </tr>\n",
              "    <tr>\n",
              "      <th>196</th>\n",
              "      <td>196</td>\n",
              "      <td>0</td>\n",
              "      <td>(34, 9)</td>\n",
              "      <td>(9, 9)</td>\n",
              "      <td>4.868241</td>\n",
              "      <td>4.758070</td>\n",
              "      <td>5.284444</td>\n",
              "      <td>0.000009</td>\n",
              "      <td>3.254984e-07</td>\n",
              "      <td>0.867185</td>\n",
              "      <td>1.196562</td>\n",
              "      <td>1.196027</td>\n",
              "      <td>1.205801</td>\n",
              "    </tr>\n",
              "    <tr>\n",
              "      <th>197</th>\n",
              "      <td>197</td>\n",
              "      <td>0</td>\n",
              "      <td>(34, 9)</td>\n",
              "      <td>(9, 9)</td>\n",
              "      <td>4.893024</td>\n",
              "      <td>5.101198</td>\n",
              "      <td>4.106587</td>\n",
              "      <td>0.000012</td>\n",
              "      <td>3.640062e-07</td>\n",
              "      <td>1.285528</td>\n",
              "      <td>1.118535</td>\n",
              "      <td>1.132415</td>\n",
              "      <td>1.126153</td>\n",
              "    </tr>\n",
              "    <tr>\n",
              "      <th>198</th>\n",
              "      <td>198</td>\n",
              "      <td>0</td>\n",
              "      <td>(34, 9)</td>\n",
              "      <td>(9, 9)</td>\n",
              "      <td>4.848737</td>\n",
              "      <td>4.351377</td>\n",
              "      <td>6.727653</td>\n",
              "      <td>0.000011</td>\n",
              "      <td>3.525565e-07</td>\n",
              "      <td>0.901978</td>\n",
              "      <td>1.141860</td>\n",
              "      <td>1.149256</td>\n",
              "      <td>1.167837</td>\n",
              "    </tr>\n",
              "    <tr>\n",
              "      <th>199</th>\n",
              "      <td>199</td>\n",
              "      <td>0</td>\n",
              "      <td>(34, 9)</td>\n",
              "      <td>(9, 9)</td>\n",
              "      <td>5.166330</td>\n",
              "      <td>4.680658</td>\n",
              "      <td>7.001090</td>\n",
              "      <td>0.000005</td>\n",
              "      <td>2.048316e-07</td>\n",
              "      <td>0.143218</td>\n",
              "      <td>1.585355</td>\n",
              "      <td>1.676281</td>\n",
              "      <td>1.691466</td>\n",
              "    </tr>\n",
              "  </tbody>\n",
              "</table>\n",
              "<p>200 rows × 13 columns</p>\n",
              "</div>"
            ],
            "text/plain": [
              "     random_state  n_fold train_shape  ...         m         n         p\n",
              "0               0       0     (34, 9)  ...  1.311263  1.294033  1.318679\n",
              "1               1       0     (34, 9)  ...  1.086077  1.101274  1.092031\n",
              "2               2       0     (34, 9)  ...  1.220086  1.266978  1.323110\n",
              "3               3       0     (34, 9)  ...  1.330226  1.348532  1.397108\n",
              "4               4       0     (34, 9)  ...  1.344780  1.369645  1.399416\n",
              "..            ...     ...         ...  ...       ...       ...       ...\n",
              "195           195       0     (34, 9)  ...  1.091386  1.104991  1.107513\n",
              "196           196       0     (34, 9)  ...  1.196562  1.196027  1.205801\n",
              "197           197       0     (34, 9)  ...  1.118535  1.132415  1.126153\n",
              "198           198       0     (34, 9)  ...  1.141860  1.149256  1.167837\n",
              "199           199       0     (34, 9)  ...  1.585355  1.676281  1.691466\n",
              "\n",
              "[200 rows x 13 columns]"
            ]
          },
          "metadata": {},
          "execution_count": 38
        }
      ]
    },
    {
      "cell_type": "code",
      "metadata": {
        "colab": {
          "base_uri": "https://localhost:8080/",
          "height": 297
        },
        "id": "Ysvk-Ohpyqdf",
        "outputId": "4984ad15-ec4e-4e69-88f6-2d1b339c4298"
      },
      "source": [
        "summary.describe()"
      ],
      "execution_count": 39,
      "outputs": [
        {
          "output_type": "execute_result",
          "data": {
            "text/html": [
              "<div>\n",
              "<style scoped>\n",
              "    .dataframe tbody tr th:only-of-type {\n",
              "        vertical-align: middle;\n",
              "    }\n",
              "\n",
              "    .dataframe tbody tr th {\n",
              "        vertical-align: top;\n",
              "    }\n",
              "\n",
              "    .dataframe thead th {\n",
              "        text-align: right;\n",
              "    }\n",
              "</style>\n",
              "<table border=\"1\" class=\"dataframe\">\n",
              "  <thead>\n",
              "    <tr style=\"text-align: right;\">\n",
              "      <th></th>\n",
              "      <th>random_state</th>\n",
              "      <th>n_fold</th>\n",
              "      <th>MAPE</th>\n",
              "      <th>train_MAPE</th>\n",
              "      <th>test_MAPE</th>\n",
              "      <th>a</th>\n",
              "      <th>w</th>\n",
              "      <th>c</th>\n",
              "      <th>m</th>\n",
              "      <th>n</th>\n",
              "      <th>p</th>\n",
              "    </tr>\n",
              "  </thead>\n",
              "  <tbody>\n",
              "    <tr>\n",
              "      <th>count</th>\n",
              "      <td>200.000000</td>\n",
              "      <td>200.0</td>\n",
              "      <td>200.000000</td>\n",
              "      <td>200.000000</td>\n",
              "      <td>200.000000</td>\n",
              "      <td>200.000000</td>\n",
              "      <td>2.000000e+02</td>\n",
              "      <td>200.000000</td>\n",
              "      <td>200.000000</td>\n",
              "      <td>200.000000</td>\n",
              "      <td>200.000000</td>\n",
              "    </tr>\n",
              "    <tr>\n",
              "      <th>mean</th>\n",
              "      <td>99.500000</td>\n",
              "      <td>0.0</td>\n",
              "      <td>4.838504</td>\n",
              "      <td>4.603268</td>\n",
              "      <td>5.727173</td>\n",
              "      <td>0.000017</td>\n",
              "      <td>5.198840e-07</td>\n",
              "      <td>1.023529</td>\n",
              "      <td>1.186657</td>\n",
              "      <td>1.200276</td>\n",
              "      <td>1.203793</td>\n",
              "    </tr>\n",
              "    <tr>\n",
              "      <th>std</th>\n",
              "      <td>57.879185</td>\n",
              "      <td>0.0</td>\n",
              "      <td>0.142974</td>\n",
              "      <td>0.391001</td>\n",
              "      <td>1.478621</td>\n",
              "      <td>0.000021</td>\n",
              "      <td>6.553118e-07</td>\n",
              "      <td>0.434883</td>\n",
              "      <td>0.126682</td>\n",
              "      <td>0.138789</td>\n",
              "      <td>0.141026</td>\n",
              "    </tr>\n",
              "    <tr>\n",
              "      <th>min</th>\n",
              "      <td>0.000000</td>\n",
              "      <td>0.0</td>\n",
              "      <td>4.578697</td>\n",
              "      <td>3.088374</td>\n",
              "      <td>2.645422</td>\n",
              "      <td>0.000004</td>\n",
              "      <td>7.624547e-08</td>\n",
              "      <td>0.044315</td>\n",
              "      <td>1.007609</td>\n",
              "      <td>1.008726</td>\n",
              "      <td>1.010048</td>\n",
              "    </tr>\n",
              "    <tr>\n",
              "      <th>25%</th>\n",
              "      <td>49.750000</td>\n",
              "      <td>0.0</td>\n",
              "      <td>4.740599</td>\n",
              "      <td>4.384608</td>\n",
              "      <td>4.713169</td>\n",
              "      <td>0.000007</td>\n",
              "      <td>2.210653e-07</td>\n",
              "      <td>0.724093</td>\n",
              "      <td>1.097684</td>\n",
              "      <td>1.100050</td>\n",
              "      <td>1.107525</td>\n",
              "    </tr>\n",
              "    <tr>\n",
              "      <th>50%</th>\n",
              "      <td>99.500000</td>\n",
              "      <td>0.0</td>\n",
              "      <td>4.823564</td>\n",
              "      <td>4.646238</td>\n",
              "      <td>5.658797</td>\n",
              "      <td>0.000009</td>\n",
              "      <td>3.038536e-07</td>\n",
              "      <td>0.991992</td>\n",
              "      <td>1.166789</td>\n",
              "      <td>1.181758</td>\n",
              "      <td>1.182964</td>\n",
              "    </tr>\n",
              "    <tr>\n",
              "      <th>75%</th>\n",
              "      <td>149.250000</td>\n",
              "      <td>0.0</td>\n",
              "      <td>4.915741</td>\n",
              "      <td>4.898174</td>\n",
              "      <td>6.739034</td>\n",
              "      <td>0.000014</td>\n",
              "      <td>4.443837e-07</td>\n",
              "      <td>1.280622</td>\n",
              "      <td>1.242408</td>\n",
              "      <td>1.260814</td>\n",
              "      <td>1.262196</td>\n",
              "    </tr>\n",
              "    <tr>\n",
              "      <th>max</th>\n",
              "      <td>199.000000</td>\n",
              "      <td>0.0</td>\n",
              "      <td>5.596320</td>\n",
              "      <td>5.401709</td>\n",
              "      <td>10.452762</td>\n",
              "      <td>0.000137</td>\n",
              "      <td>4.840303e-06</td>\n",
              "      <td>1.906817</td>\n",
              "      <td>1.809055</td>\n",
              "      <td>1.861517</td>\n",
              "      <td>1.928572</td>\n",
              "    </tr>\n",
              "  </tbody>\n",
              "</table>\n",
              "</div>"
            ],
            "text/plain": [
              "       random_state  n_fold        MAPE  ...           m           n           p\n",
              "count    200.000000   200.0  200.000000  ...  200.000000  200.000000  200.000000\n",
              "mean      99.500000     0.0    4.838504  ...    1.186657    1.200276    1.203793\n",
              "std       57.879185     0.0    0.142974  ...    0.126682    0.138789    0.141026\n",
              "min        0.000000     0.0    4.578697  ...    1.007609    1.008726    1.010048\n",
              "25%       49.750000     0.0    4.740599  ...    1.097684    1.100050    1.107525\n",
              "50%       99.500000     0.0    4.823564  ...    1.166789    1.181758    1.182964\n",
              "75%      149.250000     0.0    4.915741  ...    1.242408    1.260814    1.262196\n",
              "max      199.000000     0.0    5.596320  ...    1.809055    1.861517    1.928572\n",
              "\n",
              "[8 rows x 11 columns]"
            ]
          },
          "metadata": {},
          "execution_count": 39
        }
      ]
    },
    {
      "cell_type": "code",
      "metadata": {
        "colab": {
          "base_uri": "https://localhost:8080/",
          "height": 639
        },
        "id": "9xVGTo5G76HM",
        "outputId": "7c3228db-ab54-438b-d208-d95b694e4c39"
      },
      "source": [
        "fig, ax = plt.subplots(6,1, figsize=(16,10), sharex=True)\n",
        "\n",
        "sns.scatterplot(ax=ax[0], data=summary, x=\"random_state\", y=\"a\", marker = 's')\n",
        "ax[0].set_yscale('log')\n",
        "ax[0].set_yticks(np.logspace(-6, -3, 10))\n",
        "ax[0].tick_params(axis = 'y', labelsize=14)\n",
        "ax[0].set_xlabel(\"random state\", fontsize=16)\n",
        "ax[0].set_ylabel(\"a\", fontsize=16)\n",
        "\n",
        "sns.scatterplot(ax=ax[1], data=summary, x=\"random_state\", y=\"w\", marker = 's')\n",
        "ax[1].tick_params(axis = 'y', labelsize=14)\n",
        "ax[1].set_xlabel(\"random state\", fontsize=16)\n",
        "ax[1].set_ylabel(\"w\", fontsize=16)\n",
        "sns.scatterplot(ax=ax[2], data=summary, x=\"random_state\", y=\"c\", marker = 's')\n",
        "ax[2].tick_params(axis = 'x', labelsize=16)\n",
        "ax[2].tick_params(axis = 'y', labelsize=14)\n",
        "ax[2].set_xlabel(\"random state\", fontsize=16)\n",
        "ax[2].set_ylabel(\"c\", fontsize=16)\n",
        "\n",
        "sns.scatterplot(ax=ax[3], data=summary, x=\"random_state\", y=\"m\", marker = 's')\n",
        "ax[3].tick_params(axis = 'x', labelsize=16)\n",
        "ax[3].tick_params(axis = 'y', labelsize=14)\n",
        "ax[3].set_xlabel(\"random state\", fontsize=16)\n",
        "ax[3].set_ylabel(\"m\", fontsize=16)\n",
        "\n",
        "\n",
        "sns.scatterplot(ax=ax[4], data=summary, x=\"random_state\", y=\"n\", marker = 's')\n",
        "ax[4].tick_params(axis = 'x', labelsize=16)\n",
        "ax[4].tick_params(axis = 'y', labelsize=14)\n",
        "ax[4].set_xlabel(\"random state\", fontsize=16)\n",
        "ax[4].set_ylabel(\"n\", fontsize=16)\n",
        "\n",
        "\n",
        "sns.scatterplot(ax=ax[5], data=summary, x=\"random_state\", y=\"p\", marker = 's')\n",
        "ax[5].tick_params(axis = 'x', labelsize=16)\n",
        "ax[5].tick_params(axis = 'y', labelsize=14)\n",
        "ax[5].set_xlabel(\"random state\", fontsize=18)\n",
        "ax[5].set_ylabel(\"p\", fontsize=16)"
      ],
      "execution_count": 40,
      "outputs": [
        {
          "output_type": "execute_result",
          "data": {
            "text/plain": [
              "Text(0, 0.5, 'p')"
            ]
          },
          "metadata": {},
          "execution_count": 40
        },
        {
          "output_type": "display_data",
          "data": {
            "image/png": "[encoded data removed]",
            "text/plain": [
              "<Figure size 1152x720 with 6 Axes>"
            ]
          },
          "metadata": {}
        }
      ]
    },
    {
      "cell_type": "code",
      "metadata": {
        "id": "pibXjbDdrwUa"
      },
      "source": [
        "summary.to_csv('200RandomState_SEBS.csv')"
      ],
      "execution_count": 41,
      "outputs": []
    },
    {
      "cell_type": "code",
      "metadata": {
        "id": "rG80mXovt60v",
        "colab": {
          "base_uri": "https://localhost:8080/",
          "height": 509
        },
        "outputId": "2d98c042-2c12-4490-937b-a86cabb515ac"
      },
      "source": [
        "sns.set_style(\"white\")\n",
        "plt.rcParams['axes.facecolor'] = 'none'\n",
        "\n",
        "\n",
        "fig, ax = plt.subplots(2,1, figsize=(14,8), sharex=True)\n",
        "sns.scatterplot(ax=ax[0], data=summary, x=\"random_state\", y=\"train_MAPE\", marker = 's')\n",
        "ax[0].set_xlabel(\"random state\", fontsize=16)\n",
        "ax[0].set_ylabel(\"MAPE-Train (%)\", fontsize=16)\n",
        "ax[0].tick_params(axis = 'x', labelsize=14)\n",
        "ax[0].tick_params(axis = 'y', labelsize=14)\n",
        "ax[0].set_ylim(0,15)\n",
        "\n",
        "\n",
        "sns.scatterplot(ax=ax[1], data=summary, x=\"random_state\", y=\"test_MAPE\", marker=\"$\\circ$\", s=100, color = '#ff6392', ec=\"face\")\n",
        "\n",
        "\n",
        "ax[1].set_xlabel(\"random state\", fontsize=16)\n",
        "ax[1].set_ylabel(\"MAPE-Validate (%)\", fontsize=16)\n",
        "ax[1].tick_params(axis = 'x', labelsize=16)\n",
        "ax[1].tick_params(axis = 'y', labelsize=16)\n",
        "ax[1].xaxis.label.set_color('tab:blue')\n",
        "ax[1].yaxis.label.set_color('tab:blue')\n",
        "ax[1].set_ylim(0,15)\n",
        "l2=ax[1].axhline(5.20, color='#5AA9E6', ls='dashed', linewidth=3)\n",
        "ax[1].tick_params(axis='x', colors='tab:blue')\n",
        "ax[1].tick_params(axis='y', colors='tab:blue')\n",
        "\n",
        "ax[1].spines['bottom'].set_color('tab:blue')\n",
        "ax[1].spines['top'].set_color('tab:blue')\n",
        "ax[1].spines['right'].set_color('tab:blue')\n",
        "ax[1].spines['left'].set_color('tab:blue')"
      ],
      "execution_count": 42,
      "outputs": [
        {
          "output_type": "display_data",
          "data": {
            "image/png": "[encoded data removed]",
            "text/plain": [
              "<Figure size 1008x576 with 2 Axes>"
            ]
          },
          "metadata": {}
        }
      ]
    },
    {
      "cell_type": "code",
      "metadata": {
        "id": "E1-b-e7V5n1Y"
      },
      "source": [
        ""
      ],
      "execution_count": 42,
      "outputs": []
    }
  ]
}