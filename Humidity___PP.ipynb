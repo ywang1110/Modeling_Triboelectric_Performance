{
  "nbformat": 4,
  "nbformat_minor": 0,
  "metadata": {
    "colab": {
      "name": "Humidity _ PP.ipynb",
      "provenance": [],
      "collapsed_sections": [],
      "toc_visible": true,
      "authorship_tag": "ABX9TyO2abiVf5GkH7ExUOcKetX+",
      "include_colab_link": true
    },
    "kernelspec": {
      "name": "python3",
      "display_name": "Python 3"
    },
    "language_info": {
      "name": "python"
    }
  },
  "cells": [
    {
      "cell_type": "markdown",
      "metadata": {
        "id": "view-in-github",
        "colab_type": "text"
      },
      "source": [
        "<a href=\"https://colab.research.google.com/github/ywang1110/Modeling_Triboelectric_Performance/blob/main/Humidity___PP.ipynb\" target=\"_parent\"><img src=\"https://colab.research.google.com/assets/colab-badge.svg\" alt=\"Open In Colab\"/></a>"
      ]
    },
    {
      "cell_type": "code",
      "metadata": {
        "id": "GGLYLaTXXjC8",
        "colab": {
          "base_uri": "https://localhost:8080/"
        },
        "outputId": "ea78177a-a8e6-4762-c50c-574546fe6ea8"
      },
      "source": [
        "import numpy as np\n",
        "import pandas as pd\n",
        "import seaborn as sns\n",
        "from scipy.optimize import curve_fit\n",
        "import matplotlib.pyplot as plt\n",
        "import matplotlib.ticker as mtick\n",
        "from sklearn.metrics import mean_squared_error\n",
        "from sklearn.metrics import mean_absolute_error\n",
        "from sklearn import metrics\n",
        "from sklearn.model_selection import train_test_split\n",
        "from sklearn.model_selection import KFold\n",
        "\n",
        "import statsmodels.api as sm\n",
        "import statsmodels.formula.api as smf\n",
        "import scipy.stats as stats\n",
        "import matplotlib.cm as cm\n",
        "from IPython.display import display\n",
        "from sklearn.feature_selection import f_regression"
      ],
      "execution_count": 1,
      "outputs": [
        {
          "output_type": "stream",
          "name": "stderr",
          "text": [
            "/usr/local/lib/python3.7/dist-packages/statsmodels/tools/_testing.py:19: FutureWarning: pandas.util.testing is deprecated. Use the functions in the public API at pandas.testing instead.\n",
            "  import pandas.util.testing as tm\n"
          ]
        }
      ]
    },
    {
      "cell_type": "markdown",
      "metadata": {
        "id": "kWmeyqHCYHUq"
      },
      "source": [
        "# Prepare dataset"
      ]
    },
    {
      "cell_type": "markdown",
      "metadata": {
        "id": "UhaAP45xYrrg"
      },
      "source": [
        "## Load data"
      ]
    },
    {
      "cell_type": "code",
      "metadata": {
        "colab": {
          "base_uri": "https://localhost:8080/"
        },
        "id": "nPeO9kjDqUse",
        "outputId": "185f916a-9bba-4dc4-e6b0-971f1e42e4f7"
      },
      "source": [
        "from google.colab import drive\n",
        "drive.mount('/content/drive')"
      ],
      "execution_count": 2,
      "outputs": [
        {
          "output_type": "stream",
          "name": "stdout",
          "text": [
            "Drive already mounted at /content/drive; to attempt to forcibly remount, call drive.mount(\"/content/drive\", force_remount=True).\n"
          ]
        }
      ]
    },
    {
      "cell_type": "code",
      "metadata": {
        "id": "xQRm-DwJY_QL",
        "colab": {
          "base_uri": "https://localhost:8080/",
          "height": 205
        },
        "outputId": "1014687b-f83a-4a5b-a710-d0e993a3c8de"
      },
      "source": [
        "df = pd.read_csv('drive/My Drive/0 Sarah PP/0 Data/Humidity/Sarah_PP.xlsx')\n",
        "df.head()"
      ],
      "execution_count": 3,
      "outputs": [
        {
          "output_type": "execute_result",
          "data": {
            "text/html": [
              "<div>\n",
              "<style scoped>\n",
              "    .dataframe tbody tr th:only-of-type {\n",
              "        vertical-align: middle;\n",
              "    }\n",
              "\n",
              "    .dataframe tbody tr th {\n",
              "        vertical-align: top;\n",
              "    }\n",
              "\n",
              "    .dataframe thead th {\n",
              "        text-align: right;\n",
              "    }\n",
              "</style>\n",
              "<table border=\"1\" class=\"dataframe\">\n",
              "  <thead>\n",
              "    <tr style=\"text-align: right;\">\n",
              "      <th></th>\n",
              "      <th>Unnamed: 0</th>\n",
              "      <th>Label</th>\n",
              "      <th>ChargeDensity(µC/m2) j</th>\n",
              "      <th>Thickness(um)</th>\n",
              "      <th>solidity</th>\n",
              "      <th>diameter(um)</th>\n",
              "      <th>Interface(mm)</th>\n",
              "      <th>Tem</th>\n",
              "      <th>Humidity (%)</th>\n",
              "      <th>Force (N)</th>\n",
              "    </tr>\n",
              "  </thead>\n",
              "  <tbody>\n",
              "    <tr>\n",
              "      <th>0</th>\n",
              "      <td>0</td>\n",
              "      <td>S-1</td>\n",
              "      <td>13.233000</td>\n",
              "      <td>524.766667</td>\n",
              "      <td>0.088333</td>\n",
              "      <td>6.184</td>\n",
              "      <td>1.123</td>\n",
              "      <td>25.133333</td>\n",
              "      <td>47.633333</td>\n",
              "      <td>36.133333</td>\n",
              "    </tr>\n",
              "    <tr>\n",
              "      <th>1</th>\n",
              "      <td>1</td>\n",
              "      <td>S-11</td>\n",
              "      <td>19.201667</td>\n",
              "      <td>360.533333</td>\n",
              "      <td>0.127333</td>\n",
              "      <td>3.296</td>\n",
              "      <td>0.765</td>\n",
              "      <td>24.766667</td>\n",
              "      <td>50.033333</td>\n",
              "      <td>36.433333</td>\n",
              "    </tr>\n",
              "    <tr>\n",
              "      <th>2</th>\n",
              "      <td>2</td>\n",
              "      <td>S-13</td>\n",
              "      <td>10.868000</td>\n",
              "      <td>537.533333</td>\n",
              "      <td>0.087667</td>\n",
              "      <td>6.238</td>\n",
              "      <td>1.429</td>\n",
              "      <td>25.733333</td>\n",
              "      <td>45.600000</td>\n",
              "      <td>36.766667</td>\n",
              "    </tr>\n",
              "    <tr>\n",
              "      <th>3</th>\n",
              "      <td>3</td>\n",
              "      <td>S-14</td>\n",
              "      <td>19.316333</td>\n",
              "      <td>404.166667</td>\n",
              "      <td>0.118667</td>\n",
              "      <td>3.580</td>\n",
              "      <td>0.752</td>\n",
              "      <td>24.600000</td>\n",
              "      <td>49.466667</td>\n",
              "      <td>35.800000</td>\n",
              "    </tr>\n",
              "    <tr>\n",
              "      <th>4</th>\n",
              "      <td>4</td>\n",
              "      <td>S-15</td>\n",
              "      <td>26.553667</td>\n",
              "      <td>316.933333</td>\n",
              "      <td>0.148667</td>\n",
              "      <td>2.554</td>\n",
              "      <td>0.857</td>\n",
              "      <td>25.600000</td>\n",
              "      <td>45.033333</td>\n",
              "      <td>36.100000</td>\n",
              "    </tr>\n",
              "  </tbody>\n",
              "</table>\n",
              "</div>"
            ],
            "text/plain": [
              "   Unnamed: 0 Label  ChargeDensity(µC/m2) j  ...        Tem  Humidity (%)  Force (N)\n",
              "0           0   S-1               13.233000  ...  25.133333     47.633333  36.133333\n",
              "1           1  S-11               19.201667  ...  24.766667     50.033333  36.433333\n",
              "2           2  S-13               10.868000  ...  25.733333     45.600000  36.766667\n",
              "3           3  S-14               19.316333  ...  24.600000     49.466667  35.800000\n",
              "4           4  S-15               26.553667  ...  25.600000     45.033333  36.100000\n",
              "\n",
              "[5 rows x 10 columns]"
            ]
          },
          "metadata": {},
          "execution_count": 3
        }
      ]
    },
    {
      "cell_type": "code",
      "metadata": {
        "id": "1TgKCU06ZP_C",
        "colab": {
          "base_uri": "https://localhost:8080/"
        },
        "outputId": "3d2149ad-23dd-4135-b93f-92f275520a88"
      },
      "source": [
        "df.shape"
      ],
      "execution_count": 4,
      "outputs": [
        {
          "output_type": "execute_result",
          "data": {
            "text/plain": [
              "(17, 10)"
            ]
          },
          "metadata": {},
          "execution_count": 4
        }
      ]
    },
    {
      "cell_type": "markdown",
      "metadata": {
        "id": "NC2Q2uIGZhKy"
      },
      "source": [
        "## Unit conversion"
      ]
    },
    {
      "cell_type": "code",
      "metadata": {
        "id": "nFdhMdhwZd51",
        "colab": {
          "base_uri": "https://localhost:8080/",
          "height": 205
        },
        "outputId": "ed133ff8-74d5-4497-f0b8-bfe93bcc220a"
      },
      "source": [
        "data = pd.DataFrame()\n",
        "data['ChargeDensity(C/m2)']=df['ChargeDensity(µC/m2) j']*pow(10,-6)\n",
        "data['thickness(m)']=df['Thickness(um)']*pow(10,-6)\n",
        "data['solidity'] = df['solidity']\n",
        "data['diameter(m)'] = df['diameter(um)']*pow(10,-6)\n",
        "data['Interface(m)']=df['Interface(mm)']*pow(10, -3)\n",
        "data[['Tem (°C)', 'Humidity (%)', 'Force (N)']]=df[['Tem', 'Humidity (%)', 'Force (N)']]\n",
        "\n",
        "data.head()"
      ],
      "execution_count": 5,
      "outputs": [
        {
          "output_type": "execute_result",
          "data": {
            "text/html": [
              "<div>\n",
              "<style scoped>\n",
              "    .dataframe tbody tr th:only-of-type {\n",
              "        vertical-align: middle;\n",
              "    }\n",
              "\n",
              "    .dataframe tbody tr th {\n",
              "        vertical-align: top;\n",
              "    }\n",
              "\n",
              "    .dataframe thead th {\n",
              "        text-align: right;\n",
              "    }\n",
              "</style>\n",
              "<table border=\"1\" class=\"dataframe\">\n",
              "  <thead>\n",
              "    <tr style=\"text-align: right;\">\n",
              "      <th></th>\n",
              "      <th>ChargeDensity(C/m2)</th>\n",
              "      <th>thickness(m)</th>\n",
              "      <th>solidity</th>\n",
              "      <th>diameter(m)</th>\n",
              "      <th>Interface(m)</th>\n",
              "      <th>Tem (°C)</th>\n",
              "      <th>Humidity (%)</th>\n",
              "      <th>Force (N)</th>\n",
              "    </tr>\n",
              "  </thead>\n",
              "  <tbody>\n",
              "    <tr>\n",
              "      <th>0</th>\n",
              "      <td>0.000013</td>\n",
              "      <td>0.000525</td>\n",
              "      <td>0.088333</td>\n",
              "      <td>0.000006</td>\n",
              "      <td>0.001123</td>\n",
              "      <td>25.133333</td>\n",
              "      <td>47.633333</td>\n",
              "      <td>36.133333</td>\n",
              "    </tr>\n",
              "    <tr>\n",
              "      <th>1</th>\n",
              "      <td>0.000019</td>\n",
              "      <td>0.000361</td>\n",
              "      <td>0.127333</td>\n",
              "      <td>0.000003</td>\n",
              "      <td>0.000765</td>\n",
              "      <td>24.766667</td>\n",
              "      <td>50.033333</td>\n",
              "      <td>36.433333</td>\n",
              "    </tr>\n",
              "    <tr>\n",
              "      <th>2</th>\n",
              "      <td>0.000011</td>\n",
              "      <td>0.000538</td>\n",
              "      <td>0.087667</td>\n",
              "      <td>0.000006</td>\n",
              "      <td>0.001429</td>\n",
              "      <td>25.733333</td>\n",
              "      <td>45.600000</td>\n",
              "      <td>36.766667</td>\n",
              "    </tr>\n",
              "    <tr>\n",
              "      <th>3</th>\n",
              "      <td>0.000019</td>\n",
              "      <td>0.000404</td>\n",
              "      <td>0.118667</td>\n",
              "      <td>0.000004</td>\n",
              "      <td>0.000752</td>\n",
              "      <td>24.600000</td>\n",
              "      <td>49.466667</td>\n",
              "      <td>35.800000</td>\n",
              "    </tr>\n",
              "    <tr>\n",
              "      <th>4</th>\n",
              "      <td>0.000027</td>\n",
              "      <td>0.000317</td>\n",
              "      <td>0.148667</td>\n",
              "      <td>0.000003</td>\n",
              "      <td>0.000857</td>\n",
              "      <td>25.600000</td>\n",
              "      <td>45.033333</td>\n",
              "      <td>36.100000</td>\n",
              "    </tr>\n",
              "  </tbody>\n",
              "</table>\n",
              "</div>"
            ],
            "text/plain": [
              "   ChargeDensity(C/m2)  thickness(m)  ...  Humidity (%)  Force (N)\n",
              "0             0.000013      0.000525  ...     47.633333  36.133333\n",
              "1             0.000019      0.000361  ...     50.033333  36.433333\n",
              "2             0.000011      0.000538  ...     45.600000  36.766667\n",
              "3             0.000019      0.000404  ...     49.466667  35.800000\n",
              "4             0.000027      0.000317  ...     45.033333  36.100000\n",
              "\n",
              "[5 rows x 8 columns]"
            ]
          },
          "metadata": {},
          "execution_count": 5
        }
      ]
    },
    {
      "cell_type": "code",
      "metadata": {
        "id": "czu_c1JbdqwO",
        "colab": {
          "base_uri": "https://localhost:8080/"
        },
        "outputId": "2a7999db-fdcf-4ee3-8e70-5b63ae1c83e5"
      },
      "source": [
        "data.shape"
      ],
      "execution_count": 6,
      "outputs": [
        {
          "output_type": "execute_result",
          "data": {
            "text/plain": [
              "(17, 8)"
            ]
          },
          "metadata": {},
          "execution_count": 6
        }
      ]
    },
    {
      "cell_type": "markdown",
      "metadata": {
        "id": "X4EbYCItxpRl"
      },
      "source": [
        "# Train test split"
      ]
    },
    {
      "cell_type": "code",
      "metadata": {
        "id": "yJ6M2aiKxn1A",
        "colab": {
          "base_uri": "https://localhost:8080/",
          "height": 205
        },
        "outputId": "e5ccb454-e577-4c08-ce43-93e10a5526d9"
      },
      "source": [
        "random_state=15\n",
        "\n",
        "kf = KFold(n_splits=5, shuffle = True, random_state=random_state)\n",
        "train_indexs = []\n",
        "test_indexs = []\n",
        "for train_index, test_index in kf.split(data):\n",
        "    train_indexs.append(train_index)\n",
        "    test_indexs.append(test_index)\n",
        "index=pd.DataFrame(zip(train_indexs, test_indexs), columns=['train_index','test_index'])\n",
        "index"
      ],
      "execution_count": 7,
      "outputs": [
        {
          "output_type": "execute_result",
          "data": {
            "text/html": [
              "<div>\n",
              "<style scoped>\n",
              "    .dataframe tbody tr th:only-of-type {\n",
              "        vertical-align: middle;\n",
              "    }\n",
              "\n",
              "    .dataframe tbody tr th {\n",
              "        vertical-align: top;\n",
              "    }\n",
              "\n",
              "    .dataframe thead th {\n",
              "        text-align: right;\n",
              "    }\n",
              "</style>\n",
              "<table border=\"1\" class=\"dataframe\">\n",
              "  <thead>\n",
              "    <tr style=\"text-align: right;\">\n",
              "      <th></th>\n",
              "      <th>train_index</th>\n",
              "      <th>test_index</th>\n",
              "    </tr>\n",
              "  </thead>\n",
              "  <tbody>\n",
              "    <tr>\n",
              "      <th>0</th>\n",
              "      <td>[0, 1, 5, 6, 7, 8, 9, 10, 11, 12, 13, 14, 15]</td>\n",
              "      <td>[2, 3, 4, 16]</td>\n",
              "    </tr>\n",
              "    <tr>\n",
              "      <th>1</th>\n",
              "      <td>[0, 2, 3, 4, 5, 6, 7, 8, 12, 13, 14, 15, 16]</td>\n",
              "      <td>[1, 9, 10, 11]</td>\n",
              "    </tr>\n",
              "    <tr>\n",
              "      <th>2</th>\n",
              "      <td>[0, 1, 2, 3, 4, 5, 7, 8, 9, 10, 11, 12, 15, 16]</td>\n",
              "      <td>[6, 13, 14]</td>\n",
              "    </tr>\n",
              "    <tr>\n",
              "      <th>3</th>\n",
              "      <td>[1, 2, 3, 4, 5, 6, 8, 9, 10, 11, 12, 13, 14, 16]</td>\n",
              "      <td>[0, 7, 15]</td>\n",
              "    </tr>\n",
              "    <tr>\n",
              "      <th>4</th>\n",
              "      <td>[0, 1, 2, 3, 4, 6, 7, 9, 10, 11, 13, 14, 15, 16]</td>\n",
              "      <td>[5, 8, 12]</td>\n",
              "    </tr>\n",
              "  </tbody>\n",
              "</table>\n",
              "</div>"
            ],
            "text/plain": [
              "                                        train_index      test_index\n",
              "0     [0, 1, 5, 6, 7, 8, 9, 10, 11, 12, 13, 14, 15]   [2, 3, 4, 16]\n",
              "1      [0, 2, 3, 4, 5, 6, 7, 8, 12, 13, 14, 15, 16]  [1, 9, 10, 11]\n",
              "2   [0, 1, 2, 3, 4, 5, 7, 8, 9, 10, 11, 12, 15, 16]     [6, 13, 14]\n",
              "3  [1, 2, 3, 4, 5, 6, 8, 9, 10, 11, 12, 13, 14, 16]      [0, 7, 15]\n",
              "4  [0, 1, 2, 3, 4, 6, 7, 9, 10, 11, 13, 14, 15, 16]      [5, 8, 12]"
            ]
          },
          "metadata": {},
          "execution_count": 7
        }
      ]
    },
    {
      "cell_type": "code",
      "metadata": {
        "id": "Gqzw2EpGyImP"
      },
      "source": [
        "n_fold=4"
      ],
      "execution_count": 8,
      "outputs": []
    },
    {
      "cell_type": "code",
      "metadata": {
        "id": "PNIaK8hux4ao",
        "colab": {
          "base_uri": "https://localhost:8080/"
        },
        "outputId": "390e4abc-b26e-46bd-c191-0acb21100f18"
      },
      "source": [
        "train_index = index.iloc[n_fold,0]\n",
        "test_index = index.iloc[n_fold,1]\n",
        "train, test = data.iloc[train_index], data.iloc[test_index]\n",
        "train.shape"
      ],
      "execution_count": 9,
      "outputs": [
        {
          "output_type": "execute_result",
          "data": {
            "text/plain": [
              "(14, 8)"
            ]
          },
          "metadata": {},
          "execution_count": 9
        }
      ]
    },
    {
      "cell_type": "code",
      "metadata": {
        "id": "Tc1aESa7yVHZ",
        "colab": {
          "base_uri": "https://localhost:8080/"
        },
        "outputId": "52230706-4e66-462b-ac24-3258ffeb4004"
      },
      "source": [
        "train.shape"
      ],
      "execution_count": 10,
      "outputs": [
        {
          "output_type": "execute_result",
          "data": {
            "text/plain": [
              "(14, 8)"
            ]
          },
          "metadata": {},
          "execution_count": 10
        }
      ]
    },
    {
      "cell_type": "code",
      "metadata": {
        "id": "JsZABkKUyXRs",
        "colab": {
          "base_uri": "https://localhost:8080/"
        },
        "outputId": "1009da74-e23d-473c-b26c-c3a6020a2946"
      },
      "source": [
        "test.shape"
      ],
      "execution_count": 11,
      "outputs": [
        {
          "output_type": "execute_result",
          "data": {
            "text/plain": [
              "(3, 8)"
            ]
          },
          "metadata": {},
          "execution_count": 11
        }
      ]
    },
    {
      "cell_type": "code",
      "metadata": {
        "id": "Cyoeb676zcA3",
        "colab": {
          "base_uri": "https://localhost:8080/",
          "height": 35
        },
        "outputId": "53ecd7ce-42c6-4dc7-d200-8218f0f6bc18"
      },
      "source": [
        "\"\"\"\n",
        "train.to_csv('train.csv')\n",
        "test.to_csv('test.csv')\n",
        "\"\"\"\n"
      ],
      "execution_count": 12,
      "outputs": [
        {
          "output_type": "execute_result",
          "data": {
            "application/vnd.google.colaboratory.intrinsic+json": {
              "type": "string"
            },
            "text/plain": [
              "\"\\ntrain.to_csv('train.csv')\\ntest.to_csv('test.csv')\\n\""
            ]
          },
          "metadata": {},
          "execution_count": 12
        }
      ]
    },
    {
      "cell_type": "code",
      "metadata": {
        "id": "xBK21SJBztVB",
        "colab": {
          "base_uri": "https://localhost:8080/",
          "height": 35
        },
        "outputId": "5360f975-ae7d-4e49-b75b-fcd9c09298cd"
      },
      "source": [
        "\"\"\"\n",
        "train = pd.read_csv('train.csv')\n",
        "test=pd.read_csv('test.csv')\n",
        "\"\"\""
      ],
      "execution_count": 13,
      "outputs": [
        {
          "output_type": "execute_result",
          "data": {
            "application/vnd.google.colaboratory.intrinsic+json": {
              "type": "string"
            },
            "text/plain": [
              "\"\\ntrain = pd.read_csv('train.csv')\\ntest=pd.read_csv('test.csv')\\n\""
            ]
          },
          "metadata": {},
          "execution_count": 13
        }
      ]
    },
    {
      "cell_type": "code",
      "metadata": {
        "colab": {
          "base_uri": "https://localhost:8080/",
          "height": 205
        },
        "id": "ypQzzBajkzsy",
        "outputId": "62925486-41ce-4e39-b20c-9f0a5f22a23c"
      },
      "source": [
        "train.head()"
      ],
      "execution_count": 14,
      "outputs": [
        {
          "output_type": "execute_result",
          "data": {
            "text/html": [
              "<div>\n",
              "<style scoped>\n",
              "    .dataframe tbody tr th:only-of-type {\n",
              "        vertical-align: middle;\n",
              "    }\n",
              "\n",
              "    .dataframe tbody tr th {\n",
              "        vertical-align: top;\n",
              "    }\n",
              "\n",
              "    .dataframe thead th {\n",
              "        text-align: right;\n",
              "    }\n",
              "</style>\n",
              "<table border=\"1\" class=\"dataframe\">\n",
              "  <thead>\n",
              "    <tr style=\"text-align: right;\">\n",
              "      <th></th>\n",
              "      <th>ChargeDensity(C/m2)</th>\n",
              "      <th>thickness(m)</th>\n",
              "      <th>solidity</th>\n",
              "      <th>diameter(m)</th>\n",
              "      <th>Interface(m)</th>\n",
              "      <th>Tem (°C)</th>\n",
              "      <th>Humidity (%)</th>\n",
              "      <th>Force (N)</th>\n",
              "    </tr>\n",
              "  </thead>\n",
              "  <tbody>\n",
              "    <tr>\n",
              "      <th>0</th>\n",
              "      <td>0.000013</td>\n",
              "      <td>0.000525</td>\n",
              "      <td>0.088333</td>\n",
              "      <td>0.000006</td>\n",
              "      <td>0.001123</td>\n",
              "      <td>25.133333</td>\n",
              "      <td>47.633333</td>\n",
              "      <td>36.133333</td>\n",
              "    </tr>\n",
              "    <tr>\n",
              "      <th>1</th>\n",
              "      <td>0.000019</td>\n",
              "      <td>0.000361</td>\n",
              "      <td>0.127333</td>\n",
              "      <td>0.000003</td>\n",
              "      <td>0.000765</td>\n",
              "      <td>24.766667</td>\n",
              "      <td>50.033333</td>\n",
              "      <td>36.433333</td>\n",
              "    </tr>\n",
              "    <tr>\n",
              "      <th>2</th>\n",
              "      <td>0.000011</td>\n",
              "      <td>0.000538</td>\n",
              "      <td>0.087667</td>\n",
              "      <td>0.000006</td>\n",
              "      <td>0.001429</td>\n",
              "      <td>25.733333</td>\n",
              "      <td>45.600000</td>\n",
              "      <td>36.766667</td>\n",
              "    </tr>\n",
              "    <tr>\n",
              "      <th>3</th>\n",
              "      <td>0.000019</td>\n",
              "      <td>0.000404</td>\n",
              "      <td>0.118667</td>\n",
              "      <td>0.000004</td>\n",
              "      <td>0.000752</td>\n",
              "      <td>24.600000</td>\n",
              "      <td>49.466667</td>\n",
              "      <td>35.800000</td>\n",
              "    </tr>\n",
              "    <tr>\n",
              "      <th>4</th>\n",
              "      <td>0.000027</td>\n",
              "      <td>0.000317</td>\n",
              "      <td>0.148667</td>\n",
              "      <td>0.000003</td>\n",
              "      <td>0.000857</td>\n",
              "      <td>25.600000</td>\n",
              "      <td>45.033333</td>\n",
              "      <td>36.100000</td>\n",
              "    </tr>\n",
              "  </tbody>\n",
              "</table>\n",
              "</div>"
            ],
            "text/plain": [
              "   ChargeDensity(C/m2)  thickness(m)  ...  Humidity (%)  Force (N)\n",
              "0             0.000013      0.000525  ...     47.633333  36.133333\n",
              "1             0.000019      0.000361  ...     50.033333  36.433333\n",
              "2             0.000011      0.000538  ...     45.600000  36.766667\n",
              "3             0.000019      0.000404  ...     49.466667  35.800000\n",
              "4             0.000027      0.000317  ...     45.033333  36.100000\n",
              "\n",
              "[5 rows x 8 columns]"
            ]
          },
          "metadata": {},
          "execution_count": 14
        }
      ]
    },
    {
      "cell_type": "code",
      "metadata": {
        "id": "6tM5qs-ryTb9",
        "colab": {
          "base_uri": "https://localhost:8080/",
          "height": 35
        },
        "outputId": "914cc034-2981-4a54-f460-9c0ab3c257a7"
      },
      "source": [
        "# Train the model\n",
        "x=train['thickness(m)'].to_numpy()\n",
        "y=train['solidity'].to_numpy()\n",
        "z=train['diameter(m)'].to_numpy()\n",
        "u=train['Interface(m)'].to_numpy()\n",
        "h=train['Humidity (%)'].to_numpy()\n",
        "j=train['ChargeDensity(C/m2)'].to_numpy()\n",
        "def func(X,a, w, c, m, n, p):\n",
        "  x,y,z,u,h = X\n",
        "  return (a-w*h)*(2*x*y/z-c*y**m*x**n/z**p)*0.01/(0.01+u)\n",
        "\n",
        "# lm\n",
        "popt_lm,pcov = curve_fit(func,(x,y,z,u,h),j, method='lm', maxfev = 50000)\n",
        "y_model_lm = func((x,y,z,u, h),popt_lm[0],popt_lm[1],popt_lm[2],popt_lm[3],popt_lm[4],popt_lm[5]) \n",
        "MSE_lm = mean_squared_error(j, y_model_lm)\n",
        "MAE_lm = mean_absolute_error(j, y_model_lm)\n",
        "lm_result=\"lm Method | MSE = {:.2E}| MAE = {:.2E}| a = {:.2E}, w = {:.2E}, c = {:.2E},m = {:.2E}, n = {:.2E}, p = {:.2E}\".format(MSE_lm,MAE_lm,popt_lm[0],popt_lm[1],popt_lm[2],popt_lm[3],popt_lm[4],popt_lm[5])\n",
        "lm_result  "
      ],
      "execution_count": 15,
      "outputs": [
        {
          "output_type": "execute_result",
          "data": {
            "application/vnd.google.colaboratory.intrinsic+json": {
              "type": "string"
            },
            "text/plain": [
              "'lm Method | MSE = 1.06E-12| MAE = 9.05E-07| a = 2.71E-02, w = 1.90E-04, c = 2.00E+00,m = 1.00E+00, n = 1.00E+00, p = 1.00E+00'"
            ]
          },
          "metadata": {},
          "execution_count": 15
        }
      ]
    },
    {
      "cell_type": "code",
      "metadata": {
        "id": "_fQTpAW7sJ38"
      },
      "source": [
        "# initial guesses for a,b,c,m,n,p:\n",
        "p0 = 1E-6 , 0 ,1. , 1. , 1., 1."
      ],
      "execution_count": 16,
      "outputs": []
    },
    {
      "cell_type": "code",
      "metadata": {
        "id": "N5n8wUljyG31",
        "colab": {
          "base_uri": "https://localhost:8080/"
        },
        "outputId": "0d6db2f8-be54-46aa-8be2-d25c14fb2f01"
      },
      "source": [
        "  # trf & dogbox\n",
        "       #    a          w           c        m          n       p\n",
        "  bound=((  0,         0,          0,       0,         0 ,     0 ), \n",
        "       (np.inf,    np.inf,    np.inf,     np.inf,    np.inf, np.inf))\n",
        "  \n",
        "  ## trf\n",
        "  popt_trf,pcov = curve_fit(func,(x,y,z,u,h),j, p0, bounds = bound, method='trf', maxfev=50000)\n",
        "\n",
        "  y_model_trf = func((x,y,z,u,h),popt_trf[0],popt_trf[1],popt_trf[2], popt_trf[3],popt_trf[4],popt_trf[5]) \n",
        "  MSE_trf = np.sum((j - y_model_trf)**2)/train.shape[0]\n",
        "  MAE_trf = np.sum(abs(j - y_model_trf))/train.shape[0]\n",
        "\n",
        "  ## dogbox\n",
        "  popt_dog, pcov = curve_fit(func,(x,y,z,u,h),j, p0, bounds = bound, method='dogbox', maxfev=50000)\n",
        "  y_model_dog = func((x,y,z,u,h),popt_dog[0],popt_dog[1],popt_dog[2],popt_dog[3],popt_dog[4],popt_dog[5]) \n",
        "  MSE_dog = np.sum((j - y_model_dog)**2)/train.shape[0]\n",
        "  MAE_dog = np.sum(abs(j - y_model_dog))/train.shape[0]\n",
        "\n",
        "  if MSE_trf < MSE_dog:\n",
        "    a,w,c,m,n,p = popt_trf[0],popt_trf[1],popt_trf[2],popt_trf[3],popt_trf[4], popt_trf[5]\n",
        "    print('trf Method is the best method')\n",
        "  else:\n",
        "    a,w,c,m,n,p = popt_dog[0], popt_dog[1], popt_dog[2], popt_dog[3], popt_dog[4], popt_dog[5]\n",
        "    print(\"dogbox Method is the best method\")\n",
        "  trf_result=\"trf Method | MSE = {:.2E}| MAE = {:.2E}| a = {}, w = {}, c = {},m = {}, n = {}, p = {}\".format(MSE_trf,MAE_trf,popt_trf[0],popt_trf[1],popt_trf[2],popt_trf[3],popt_trf[4], popt_trf[5])\n",
        "  dog_result=\"dog Method | MSE = {:.2E}| MAE = {:.2E}| a = {}, w = {}, c = {},m = {}, n = {}, p = {}\".format(MSE_dog,MAE_dog,popt_dog[0], popt_dog[1], popt_dog[2], popt_dog[3], popt_dog[4], popt_dog[5])\n",
        "  print(trf_result)\n",
        "  print(dog_result)"
      ],
      "execution_count": 17,
      "outputs": [
        {
          "output_type": "stream",
          "name": "stdout",
          "text": [
            "trf Method is the best method\n",
            "trf Method | MSE = 1.89E-12| MAE = 1.23E-06| a = 7.336263855338e-06, w = 7.755014837663289e-08, c = 1.1211490557939956,m = 1.038564402079801, n = 1.199694079312357, p = 1.158499435537135\n",
            "dog Method | MSE = 1.30E-11| MAE = 3.34E-06| a = 5.375871837563073e-06, w = 4.6468878881163794e-08, c = 1.6060791267722296,m = 1.0001476346604612, n = 1.0002863374754656, p = 1.0001286947498966\n"
          ]
        }
      ]
    },
    {
      "cell_type": "code",
      "metadata": {
        "colab": {
          "base_uri": "https://localhost:8080/"
        },
        "id": "No68sdnPnAJ_",
        "outputId": "45cc1729-1105-4ca8-c7cf-7c9e41e892c4"
      },
      "source": [
        "  # Validate (when trf is best)\n",
        "\n",
        "  data_val = pd.concat([train, test])\n",
        "  data_val.head()\n",
        "  x=data_val['thickness(m)'].to_numpy()\n",
        "  y=data_val['solidity'].to_numpy()\n",
        "  z=data_val['diameter(m)'].to_numpy()\n",
        "  u=data_val['Interface(m)'].to_numpy()\n",
        "  h=data_val['Humidity (%)'].to_numpy()\n",
        "  j=data_val['ChargeDensity(C/m2)'].to_numpy()\n",
        "\n",
        "  \n",
        "\n",
        "\n",
        "  data_val['Predicted(C/m2)'] = (a-w*h)*(2*x*y/z-c*y**m*x**n/z**p)*0.01/(0.01+u)\n",
        "\n",
        "  data_val['ratio(%)'] = (data_val['Predicted(C/m2)'] -data_val['ChargeDensity(C/m2)'])/data_val['ChargeDensity(C/m2)']*100\n",
        "  data_val['ChargeDensity(uC/m2)'] = data_val['ChargeDensity(C/m2)']*pow(10,6)\n",
        "  data_val['Predicted(uC/m2)'] = (a-w*h)*(2*x*y/z-c*y**m*x**n/z**p)*0.01/(0.01+u)*pow(10,6)\n",
        "  data_val['ratio_2(%)'] = (data_val['Predicted(uC/m2)']-data_val['ChargeDensity(uC/m2)'])/data_val['ChargeDensity(uC/m2)']*100\n",
        "  def mean_absolute_percentage_error(y_true, y_pred):\n",
        "    y_true, y_pred = np.array(y_true), np.array(y_pred)\n",
        "    return np.mean(np.abs((y_true - y_pred) / y_true)) * 100\n",
        "  \n",
        "  mape = mean_absolute_percentage_error(data_val['ChargeDensity(C/m2)'], data_val['Predicted(C/m2)'])\n",
        "  mape_train = mean_absolute_percentage_error(data_val['ChargeDensity(C/m2)'][0:train.shape[0]], data_val['Predicted(C/m2)'][0:train.shape[0]])\n",
        "  mape_test = mean_absolute_percentage_error(data_val['ChargeDensity(C/m2)'][train.shape[0]:data_val.shape[0]], data_val['Predicted(C/m2)'][train.shape[0]:data_val.shape[0]])\n",
        "  \n",
        "  print('MAPE= {:.2f}'.format(mape))\n",
        "  print('Train_MAPE = {:.2f}'.format(mape_train))\n",
        "  print('test_MAPE = {:.2f}'.format(mape_test))"
      ],
      "execution_count": 18,
      "outputs": [
        {
          "output_type": "stream",
          "name": "stdout",
          "text": [
            "MAPE= 8.74\n",
            "Train_MAPE = 8.49\n",
            "test_MAPE = 9.89\n"
          ]
        }
      ]
    },
    {
      "cell_type": "code",
      "metadata": {
        "colab": {
          "base_uri": "https://localhost:8080/",
          "height": 618
        },
        "id": "pJJqEAKEIPiw",
        "outputId": "64846e41-e90a-4c4e-ce5a-5a6dbc3176d0"
      },
      "source": [
        "data_val"
      ],
      "execution_count": 19,
      "outputs": [
        {
          "output_type": "execute_result",
          "data": {
            "text/html": [
              "<div>\n",
              "<style scoped>\n",
              "    .dataframe tbody tr th:only-of-type {\n",
              "        vertical-align: middle;\n",
              "    }\n",
              "\n",
              "    .dataframe tbody tr th {\n",
              "        vertical-align: top;\n",
              "    }\n",
              "\n",
              "    .dataframe thead th {\n",
              "        text-align: right;\n",
              "    }\n",
              "</style>\n",
              "<table border=\"1\" class=\"dataframe\">\n",
              "  <thead>\n",
              "    <tr style=\"text-align: right;\">\n",
              "      <th></th>\n",
              "      <th>ChargeDensity(C/m2)</th>\n",
              "      <th>thickness(m)</th>\n",
              "      <th>solidity</th>\n",
              "      <th>diameter(m)</th>\n",
              "      <th>Interface(m)</th>\n",
              "      <th>Tem (°C)</th>\n",
              "      <th>Humidity (%)</th>\n",
              "      <th>Force (N)</th>\n",
              "      <th>Predicted(C/m2)</th>\n",
              "      <th>ratio(%)</th>\n",
              "      <th>ChargeDensity(uC/m2)</th>\n",
              "      <th>Predicted(uC/m2)</th>\n",
              "      <th>ratio_2(%)</th>\n",
              "    </tr>\n",
              "  </thead>\n",
              "  <tbody>\n",
              "    <tr>\n",
              "      <th>0</th>\n",
              "      <td>0.000013</td>\n",
              "      <td>0.000525</td>\n",
              "      <td>0.088333</td>\n",
              "      <td>0.000006</td>\n",
              "      <td>0.001123</td>\n",
              "      <td>25.133333</td>\n",
              "      <td>47.633333</td>\n",
              "      <td>36.133333</td>\n",
              "      <td>0.000012</td>\n",
              "      <td>-9.512210</td>\n",
              "      <td>13.233000</td>\n",
              "      <td>11.974249</td>\n",
              "      <td>-9.512210</td>\n",
              "    </tr>\n",
              "    <tr>\n",
              "      <th>1</th>\n",
              "      <td>0.000019</td>\n",
              "      <td>0.000361</td>\n",
              "      <td>0.127333</td>\n",
              "      <td>0.000003</td>\n",
              "      <td>0.000765</td>\n",
              "      <td>24.766667</td>\n",
              "      <td>50.033333</td>\n",
              "      <td>36.433333</td>\n",
              "      <td>0.000019</td>\n",
              "      <td>-0.351736</td>\n",
              "      <td>19.201667</td>\n",
              "      <td>19.134127</td>\n",
              "      <td>-0.351736</td>\n",
              "    </tr>\n",
              "    <tr>\n",
              "      <th>2</th>\n",
              "      <td>0.000011</td>\n",
              "      <td>0.000538</td>\n",
              "      <td>0.087667</td>\n",
              "      <td>0.000006</td>\n",
              "      <td>0.001429</td>\n",
              "      <td>25.733333</td>\n",
              "      <td>45.600000</td>\n",
              "      <td>36.766667</td>\n",
              "      <td>0.000012</td>\n",
              "      <td>11.648042</td>\n",
              "      <td>10.868000</td>\n",
              "      <td>12.133909</td>\n",
              "      <td>11.648042</td>\n",
              "    </tr>\n",
              "    <tr>\n",
              "      <th>3</th>\n",
              "      <td>0.000019</td>\n",
              "      <td>0.000404</td>\n",
              "      <td>0.118667</td>\n",
              "      <td>0.000004</td>\n",
              "      <td>0.000752</td>\n",
              "      <td>24.600000</td>\n",
              "      <td>49.466667</td>\n",
              "      <td>35.800000</td>\n",
              "      <td>0.000018</td>\n",
              "      <td>-5.885943</td>\n",
              "      <td>19.316333</td>\n",
              "      <td>18.179385</td>\n",
              "      <td>-5.885943</td>\n",
              "    </tr>\n",
              "    <tr>\n",
              "      <th>4</th>\n",
              "      <td>0.000027</td>\n",
              "      <td>0.000317</td>\n",
              "      <td>0.148667</td>\n",
              "      <td>0.000003</td>\n",
              "      <td>0.000857</td>\n",
              "      <td>25.600000</td>\n",
              "      <td>45.033333</td>\n",
              "      <td>36.100000</td>\n",
              "      <td>0.000026</td>\n",
              "      <td>-2.820907</td>\n",
              "      <td>26.553667</td>\n",
              "      <td>25.804612</td>\n",
              "      <td>-2.820907</td>\n",
              "    </tr>\n",
              "    <tr>\n",
              "      <th>6</th>\n",
              "      <td>0.000019</td>\n",
              "      <td>0.000468</td>\n",
              "      <td>0.102000</td>\n",
              "      <td>0.000002</td>\n",
              "      <td>0.001271</td>\n",
              "      <td>25.100000</td>\n",
              "      <td>48.933333</td>\n",
              "      <td>36.433333</td>\n",
              "      <td>0.000017</td>\n",
              "      <td>-11.638176</td>\n",
              "      <td>19.327000</td>\n",
              "      <td>17.077690</td>\n",
              "      <td>-11.638176</td>\n",
              "    </tr>\n",
              "    <tr>\n",
              "      <th>7</th>\n",
              "      <td>0.000007</td>\n",
              "      <td>0.000664</td>\n",
              "      <td>0.070000</td>\n",
              "      <td>0.000010</td>\n",
              "      <td>0.001815</td>\n",
              "      <td>25.466667</td>\n",
              "      <td>48.566667</td>\n",
              "      <td>37.100000</td>\n",
              "      <td>0.000008</td>\n",
              "      <td>14.211154</td>\n",
              "      <td>6.776333</td>\n",
              "      <td>7.739329</td>\n",
              "      <td>14.211154</td>\n",
              "    </tr>\n",
              "    <tr>\n",
              "      <th>9</th>\n",
              "      <td>0.000019</td>\n",
              "      <td>0.000414</td>\n",
              "      <td>0.109333</td>\n",
              "      <td>0.000004</td>\n",
              "      <td>0.000760</td>\n",
              "      <td>25.100000</td>\n",
              "      <td>47.566667</td>\n",
              "      <td>36.433333</td>\n",
              "      <td>0.000017</td>\n",
              "      <td>-7.837477</td>\n",
              "      <td>18.707000</td>\n",
              "      <td>17.240843</td>\n",
              "      <td>-7.837477</td>\n",
              "    </tr>\n",
              "    <tr>\n",
              "      <th>10</th>\n",
              "      <td>0.000009</td>\n",
              "      <td>0.000743</td>\n",
              "      <td>0.059667</td>\n",
              "      <td>0.000009</td>\n",
              "      <td>0.002673</td>\n",
              "      <td>26.000000</td>\n",
              "      <td>44.766667</td>\n",
              "      <td>38.100000</td>\n",
              "      <td>0.000007</td>\n",
              "      <td>-15.086326</td>\n",
              "      <td>8.550333</td>\n",
              "      <td>7.260402</td>\n",
              "      <td>-15.086326</td>\n",
              "    </tr>\n",
              "    <tr>\n",
              "      <th>11</th>\n",
              "      <td>0.000016</td>\n",
              "      <td>0.000533</td>\n",
              "      <td>0.110000</td>\n",
              "      <td>0.000004</td>\n",
              "      <td>0.001429</td>\n",
              "      <td>25.866667</td>\n",
              "      <td>47.500000</td>\n",
              "      <td>36.100000</td>\n",
              "      <td>0.000017</td>\n",
              "      <td>7.791599</td>\n",
              "      <td>15.968333</td>\n",
              "      <td>17.212522</td>\n",
              "      <td>7.791599</td>\n",
              "    </tr>\n",
              "    <tr>\n",
              "      <th>13</th>\n",
              "      <td>0.000017</td>\n",
              "      <td>0.000457</td>\n",
              "      <td>0.120333</td>\n",
              "      <td>0.000003</td>\n",
              "      <td>0.001067</td>\n",
              "      <td>25.000000</td>\n",
              "      <td>46.933333</td>\n",
              "      <td>36.100000</td>\n",
              "      <td>0.000020</td>\n",
              "      <td>15.218824</td>\n",
              "      <td>17.164667</td>\n",
              "      <td>19.776927</td>\n",
              "      <td>15.218824</td>\n",
              "    </tr>\n",
              "    <tr>\n",
              "      <th>14</th>\n",
              "      <td>0.000018</td>\n",
              "      <td>0.000485</td>\n",
              "      <td>0.107000</td>\n",
              "      <td>0.000003</td>\n",
              "      <td>0.001210</td>\n",
              "      <td>25.400000</td>\n",
              "      <td>46.133333</td>\n",
              "      <td>36.100000</td>\n",
              "      <td>0.000019</td>\n",
              "      <td>6.699318</td>\n",
              "      <td>17.521667</td>\n",
              "      <td>18.695499</td>\n",
              "      <td>6.699318</td>\n",
              "    </tr>\n",
              "    <tr>\n",
              "      <th>15</th>\n",
              "      <td>0.000017</td>\n",
              "      <td>0.000496</td>\n",
              "      <td>0.122333</td>\n",
              "      <td>0.000003</td>\n",
              "      <td>0.001154</td>\n",
              "      <td>24.600000</td>\n",
              "      <td>50.766667</td>\n",
              "      <td>36.766667</td>\n",
              "      <td>0.000018</td>\n",
              "      <td>7.557044</td>\n",
              "      <td>16.849333</td>\n",
              "      <td>18.122645</td>\n",
              "      <td>7.557044</td>\n",
              "    </tr>\n",
              "    <tr>\n",
              "      <th>16</th>\n",
              "      <td>0.000020</td>\n",
              "      <td>0.000493</td>\n",
              "      <td>0.120667</td>\n",
              "      <td>0.000003</td>\n",
              "      <td>0.001310</td>\n",
              "      <td>25.533333</td>\n",
              "      <td>48.566667</td>\n",
              "      <td>36.433333</td>\n",
              "      <td>0.000019</td>\n",
              "      <td>-2.626178</td>\n",
              "      <td>19.728333</td>\n",
              "      <td>19.210232</td>\n",
              "      <td>-2.626178</td>\n",
              "    </tr>\n",
              "    <tr>\n",
              "      <th>5</th>\n",
              "      <td>0.000015</td>\n",
              "      <td>0.000438</td>\n",
              "      <td>0.098333</td>\n",
              "      <td>0.000004</td>\n",
              "      <td>0.000886</td>\n",
              "      <td>26.166667</td>\n",
              "      <td>40.066667</td>\n",
              "      <td>35.866667</td>\n",
              "      <td>0.000018</td>\n",
              "      <td>20.869658</td>\n",
              "      <td>15.099333</td>\n",
              "      <td>18.250513</td>\n",
              "      <td>20.869658</td>\n",
              "    </tr>\n",
              "    <tr>\n",
              "      <th>8</th>\n",
              "      <td>0.000012</td>\n",
              "      <td>0.000497</td>\n",
              "      <td>0.088667</td>\n",
              "      <td>0.000005</td>\n",
              "      <td>0.001180</td>\n",
              "      <td>24.633333</td>\n",
              "      <td>49.133333</td>\n",
              "      <td>36.433333</td>\n",
              "      <td>0.000012</td>\n",
              "      <td>0.225138</td>\n",
              "      <td>12.183667</td>\n",
              "      <td>12.211097</td>\n",
              "      <td>0.225138</td>\n",
              "    </tr>\n",
              "    <tr>\n",
              "      <th>12</th>\n",
              "      <td>0.000020</td>\n",
              "      <td>0.000522</td>\n",
              "      <td>0.111000</td>\n",
              "      <td>0.000003</td>\n",
              "      <td>0.001369</td>\n",
              "      <td>26.033333</td>\n",
              "      <td>47.800000</td>\n",
              "      <td>37.100000</td>\n",
              "      <td>0.000018</td>\n",
              "      <td>-8.565778</td>\n",
              "      <td>19.529333</td>\n",
              "      <td>17.856494</td>\n",
              "      <td>-8.565778</td>\n",
              "    </tr>\n",
              "  </tbody>\n",
              "</table>\n",
              "</div>"
            ],
            "text/plain": [
              "    ChargeDensity(C/m2)  thickness(m)  ...  Predicted(uC/m2)  ratio_2(%)\n",
              "0              0.000013      0.000525  ...         11.974249   -9.512210\n",
              "1              0.000019      0.000361  ...         19.134127   -0.351736\n",
              "2              0.000011      0.000538  ...         12.133909   11.648042\n",
              "3              0.000019      0.000404  ...         18.179385   -5.885943\n",
              "4              0.000027      0.000317  ...         25.804612   -2.820907\n",
              "6              0.000019      0.000468  ...         17.077690  -11.638176\n",
              "7              0.000007      0.000664  ...          7.739329   14.211154\n",
              "9              0.000019      0.000414  ...         17.240843   -7.837477\n",
              "10             0.000009      0.000743  ...          7.260402  -15.086326\n",
              "11             0.000016      0.000533  ...         17.212522    7.791599\n",
              "13             0.000017      0.000457  ...         19.776927   15.218824\n",
              "14             0.000018      0.000485  ...         18.695499    6.699318\n",
              "15             0.000017      0.000496  ...         18.122645    7.557044\n",
              "16             0.000020      0.000493  ...         19.210232   -2.626178\n",
              "5              0.000015      0.000438  ...         18.250513   20.869658\n",
              "8              0.000012      0.000497  ...         12.211097    0.225138\n",
              "12             0.000020      0.000522  ...         17.856494   -8.565778\n",
              "\n",
              "[17 rows x 13 columns]"
            ]
          },
          "metadata": {},
          "execution_count": 19
        }
      ]
    },
    {
      "cell_type": "code",
      "metadata": {
        "colab": {
          "base_uri": "https://localhost:8080/",
          "height": 336
        },
        "id": "oMfT25_cKLeB",
        "outputId": "83521403-82de-49a4-ea42-b43f97e54312"
      },
      "source": [
        "data_val.describe()"
      ],
      "execution_count": 20,
      "outputs": [
        {
          "output_type": "execute_result",
          "data": {
            "text/html": [
              "<div>\n",
              "<style scoped>\n",
              "    .dataframe tbody tr th:only-of-type {\n",
              "        vertical-align: middle;\n",
              "    }\n",
              "\n",
              "    .dataframe tbody tr th {\n",
              "        vertical-align: top;\n",
              "    }\n",
              "\n",
              "    .dataframe thead th {\n",
              "        text-align: right;\n",
              "    }\n",
              "</style>\n",
              "<table border=\"1\" class=\"dataframe\">\n",
              "  <thead>\n",
              "    <tr style=\"text-align: right;\">\n",
              "      <th></th>\n",
              "      <th>ChargeDensity(C/m2)</th>\n",
              "      <th>thickness(m)</th>\n",
              "      <th>solidity</th>\n",
              "      <th>diameter(m)</th>\n",
              "      <th>Interface(m)</th>\n",
              "      <th>Tem (°C)</th>\n",
              "      <th>Humidity (%)</th>\n",
              "      <th>Force (N)</th>\n",
              "      <th>Predicted(C/m2)</th>\n",
              "      <th>ratio(%)</th>\n",
              "      <th>ChargeDensity(uC/m2)</th>\n",
              "      <th>Predicted(uC/m2)</th>\n",
              "      <th>ratio_2(%)</th>\n",
              "    </tr>\n",
              "  </thead>\n",
              "  <tbody>\n",
              "    <tr>\n",
              "      <th>count</th>\n",
              "      <td>17.000000</td>\n",
              "      <td>17.000000</td>\n",
              "      <td>17.000000</td>\n",
              "      <td>17.000000</td>\n",
              "      <td>17.000000</td>\n",
              "      <td>17.000000</td>\n",
              "      <td>17.000000</td>\n",
              "      <td>17.000000</td>\n",
              "      <td>17.000000</td>\n",
              "      <td>17.000000</td>\n",
              "      <td>17.000000</td>\n",
              "      <td>17.000000</td>\n",
              "      <td>17.000000</td>\n",
              "    </tr>\n",
              "    <tr>\n",
              "      <th>mean</th>\n",
              "      <td>0.000016</td>\n",
              "      <td>0.000491</td>\n",
              "      <td>0.105294</td>\n",
              "      <td>0.000004</td>\n",
              "      <td>0.001238</td>\n",
              "      <td>25.337255</td>\n",
              "      <td>47.323529</td>\n",
              "      <td>36.482353</td>\n",
              "      <td>0.000016</td>\n",
              "      <td>1.170356</td>\n",
              "      <td>16.269294</td>\n",
              "      <td>16.345910</td>\n",
              "      <td>1.170356</td>\n",
              "    </tr>\n",
              "    <tr>\n",
              "      <th>std</th>\n",
              "      <td>0.000005</td>\n",
              "      <td>0.000101</td>\n",
              "      <td>0.021843</td>\n",
              "      <td>0.000002</td>\n",
              "      <td>0.000468</td>\n",
              "      <td>0.521600</td>\n",
              "      <td>2.526684</td>\n",
              "      <td>0.564840</td>\n",
              "      <td>0.000005</td>\n",
              "      <td>10.554029</td>\n",
              "      <td>4.812006</td>\n",
              "      <td>4.662496</td>\n",
              "      <td>10.554029</td>\n",
              "    </tr>\n",
              "    <tr>\n",
              "      <th>min</th>\n",
              "      <td>0.000007</td>\n",
              "      <td>0.000317</td>\n",
              "      <td>0.059667</td>\n",
              "      <td>0.000002</td>\n",
              "      <td>0.000752</td>\n",
              "      <td>24.600000</td>\n",
              "      <td>40.066667</td>\n",
              "      <td>35.800000</td>\n",
              "      <td>0.000007</td>\n",
              "      <td>-15.086326</td>\n",
              "      <td>6.776333</td>\n",
              "      <td>7.260402</td>\n",
              "      <td>-15.086326</td>\n",
              "    </tr>\n",
              "    <tr>\n",
              "      <th>25%</th>\n",
              "      <td>0.000013</td>\n",
              "      <td>0.000438</td>\n",
              "      <td>0.088667</td>\n",
              "      <td>0.000003</td>\n",
              "      <td>0.000886</td>\n",
              "      <td>25.000000</td>\n",
              "      <td>46.133333</td>\n",
              "      <td>36.100000</td>\n",
              "      <td>0.000012</td>\n",
              "      <td>-7.837477</td>\n",
              "      <td>13.233000</td>\n",
              "      <td>12.211097</td>\n",
              "      <td>-7.837477</td>\n",
              "    </tr>\n",
              "    <tr>\n",
              "      <th>50%</th>\n",
              "      <td>0.000017</td>\n",
              "      <td>0.000493</td>\n",
              "      <td>0.109333</td>\n",
              "      <td>0.000004</td>\n",
              "      <td>0.001180</td>\n",
              "      <td>25.400000</td>\n",
              "      <td>47.633333</td>\n",
              "      <td>36.433333</td>\n",
              "      <td>0.000018</td>\n",
              "      <td>-0.351736</td>\n",
              "      <td>17.164667</td>\n",
              "      <td>17.856494</td>\n",
              "      <td>-0.351736</td>\n",
              "    </tr>\n",
              "    <tr>\n",
              "      <th>75%</th>\n",
              "      <td>0.000019</td>\n",
              "      <td>0.000525</td>\n",
              "      <td>0.120333</td>\n",
              "      <td>0.000005</td>\n",
              "      <td>0.001369</td>\n",
              "      <td>25.733333</td>\n",
              "      <td>48.933333</td>\n",
              "      <td>36.766667</td>\n",
              "      <td>0.000019</td>\n",
              "      <td>7.791599</td>\n",
              "      <td>19.316333</td>\n",
              "      <td>18.695499</td>\n",
              "      <td>7.791599</td>\n",
              "    </tr>\n",
              "    <tr>\n",
              "      <th>max</th>\n",
              "      <td>0.000027</td>\n",
              "      <td>0.000743</td>\n",
              "      <td>0.148667</td>\n",
              "      <td>0.000010</td>\n",
              "      <td>0.002673</td>\n",
              "      <td>26.166667</td>\n",
              "      <td>50.766667</td>\n",
              "      <td>38.100000</td>\n",
              "      <td>0.000026</td>\n",
              "      <td>20.869658</td>\n",
              "      <td>26.553667</td>\n",
              "      <td>25.804612</td>\n",
              "      <td>20.869658</td>\n",
              "    </tr>\n",
              "  </tbody>\n",
              "</table>\n",
              "</div>"
            ],
            "text/plain": [
              "       ChargeDensity(C/m2)  thickness(m)  ...  Predicted(uC/m2)  ratio_2(%)\n",
              "count            17.000000     17.000000  ...         17.000000   17.000000\n",
              "mean              0.000016      0.000491  ...         16.345910    1.170356\n",
              "std               0.000005      0.000101  ...          4.662496   10.554029\n",
              "min               0.000007      0.000317  ...          7.260402  -15.086326\n",
              "25%               0.000013      0.000438  ...         12.211097   -7.837477\n",
              "50%               0.000017      0.000493  ...         17.856494   -0.351736\n",
              "75%               0.000019      0.000525  ...         18.695499    7.791599\n",
              "max               0.000027      0.000743  ...         25.804612   20.869658\n",
              "\n",
              "[8 rows x 13 columns]"
            ]
          },
          "metadata": {},
          "execution_count": 20
        }
      ]
    },
    {
      "cell_type": "markdown",
      "metadata": {
        "id": "kfHFVUhWIMlL"
      },
      "source": [
        "# Simulation"
      ]
    },
    {
      "cell_type": "code",
      "metadata": {
        "colab": {
          "base_uri": "https://localhost:8080/"
        },
        "id": "zxNhreZqIOIX",
        "outputId": "b4704346-3a0a-493c-9149-1ca02902823d"
      },
      "source": [
        "label = 1\n",
        "set_thickness = data.loc[label]['thickness(m)']\n",
        "set_solidity = data.loc[label]['solidity']\n",
        "set_diameter = data.loc[label]['diameter(m)']\n",
        "set_u = data.loc[label]['Interface(m)']\n",
        "set_h = data.loc[label]['Humidity (%)']\n",
        "print('set_thickness = {:.3E}\\nset_solidity = {:.3f}\\nset_diameter = {:.2E} \\nset_u= {:.3f} \\nset_h= {:.1f}'.format(set_thickness, set_solidity, set_diameter, set_u, set_h))\n",
        "\n",
        "set_j = data.loc[label]['ChargeDensity(C/m2)']\n",
        "print('measured j= {:.2E}'.format(set_j))"
      ],
      "execution_count": 21,
      "outputs": [
        {
          "output_type": "stream",
          "name": "stdout",
          "text": [
            "set_thickness = 3.605E-04\n",
            "set_solidity = 0.127\n",
            "set_diameter = 3.30E-06 \n",
            "set_u= 0.001 \n",
            "set_h= 50.0\n",
            "measured j= 1.92E-05\n"
          ]
        }
      ]
    },
    {
      "cell_type": "code",
      "metadata": {
        "id": "OW0MiyRuL3sL"
      },
      "source": [
        ""
      ],
      "execution_count": 21,
      "outputs": []
    },
    {
      "cell_type": "code",
      "metadata": {
        "colab": {
          "base_uri": "https://localhost:8080/",
          "height": 281
        },
        "id": "l-ujpxmQI2TE",
        "outputId": "4546e002-3423-4509-c4a4-6032342a1247"
      },
      "source": [
        "plt.style.use('ggplot')\n",
        "plt.style.use('seaborn-whitegrid')\n",
        "plt.rcParams['axes.facecolor'] = 'none'\n",
        "\n",
        "\n",
        "fig, ax = plt.subplots(1,3, figsize=(8,3.5), sharey=True)\n",
        "\n",
        "\n",
        "#-----------------------------------------------------------------------------------------------\n",
        "# Thickness ~ charge\n",
        "x = np.linspace(100, 1200)*pow(10,-6)\n",
        "y = set_solidity\n",
        "z = set_diameter\n",
        "u = set_u\n",
        "h = set_h\n",
        "\n",
        "J =  (a-w*h)*(2*x*y/z-c*y**m*x**n/z**p)*0.01/(0.01+u)\n",
        "\n",
        "ax[0].plot(x*pow(10,6), J*pow(10,6), linestyle=\"--\", linewidth = 6)\n",
        "ax[0].scatter(set_thickness*pow(10,6), set_j*pow(10,6), c='b', marker = '^', s=1000)\n",
        "\n",
        "ax[0].set_xlabel(\"Thickness \\n(um)\", fontsize=16)\n",
        "ax[0].set_ylabel(\"(uC/m2)\", fontsize=16)\n",
        "ax[0].tick_params(axis = 'x', labelsize=14)\n",
        "ax[0].tick_params(axis = 'y', labelsize=14)\n",
        "ax[0].set_ylim(0,50)\n",
        "\n",
        "\n",
        "\n",
        "#-----------------------------------------------------------------------------------------------\n",
        "# solidity ~ charge\n",
        "\n",
        "x = set_thickness\n",
        "y = np.linspace(0.05, 0.15)\n",
        "z = set_diameter\n",
        "u = set_u\n",
        "h = set_h\n",
        "\n",
        "J = (a-w*h)*(2*x*y/z-c*y**m*x**n/z**p)*0.01/(0.01+u)\n",
        "\n",
        "\n",
        "ax[1].plot(y,J*pow(10,6), linestyle=\"--\", linewidth = 6)\n",
        "ax[1].scatter(set_solidity, set_j*pow(10,6), c='b', marker = '^', s=1000)\n",
        "\n",
        "ax[1].set_xlabel(\"solidity\", fontsize=16)\n",
        "\n",
        "ax[1].tick_params(axis = 'x', labelsize=14)\n",
        "ax[1].tick_params(axis = 'y', labelsize=14)\n",
        "\n",
        "    \n",
        "#-----------------------------------------------------------------------------------------------\n",
        "# Diameter ~ Charge\n",
        "\n",
        "x = set_thickness\n",
        "y = set_solidity\n",
        "z = np.linspace(1, 20)*pow(10,-6)\n",
        "u = set_u\n",
        "h = set_h\n",
        "\n",
        "J =  (a-w*h)*(2*x*y/z-c*y**m*x**n/z**p)*0.01/(0.01+u)\n",
        "\n",
        "ax[2].plot(z*pow(10,6),J*pow(10,6), linestyle=\"--\", linewidth = 6)\n",
        "ax[2].scatter(set_diameter*pow(10,6), set_j*pow(10,6), c='b', marker = '^', s=1000)\n",
        "\n",
        "ax[2].set_xlabel(\"diameter\\n (um)\", fontsize=16)\n",
        "\n",
        "\n",
        "\n",
        "\n",
        "ax[2].tick_params(axis = 'x', labelsize=14)\n",
        "ax[2].tick_params(axis = 'y', labelsize=14)"
      ],
      "execution_count": 22,
      "outputs": [
        {
          "output_type": "display_data",
          "data": {
            "image/png": "[encoded data removed]",
            "text/plain": [
              "<Figure size 576x252 with 3 Axes>"
            ]
          },
          "metadata": {}
        }
      ]
    },
    {
      "cell_type": "code",
      "metadata": {
        "id": "zVWieghIKYTd"
      },
      "source": [
        "simulation_df = pd.DataFrame()\n",
        "\n",
        "#-----------------------------------------------------------------------------------------------\n",
        "# Thickness ~ charge\n",
        "x = np.linspace(100, 1200)*pow(10,-6)\n",
        "y = set_solidity\n",
        "z = set_diameter\n",
        "u = set_u\n",
        "h = set_h\n",
        "\n",
        "J = (a-w*h)*(2*x*y/z-c*y**m*x**n/z**p)*0.01/(0.01+u)\n",
        "\n",
        "\n",
        "simulation_df['thickness (um)']=np.linspace(100, 1200)\n",
        "simulation_df['charge (uC)_1']=J*pow(10,6)\n",
        "\n",
        "#-----------------------------------------------------------------------------------------------\n",
        "# solidity ~ charge\n",
        "\n",
        "x = set_thickness\n",
        "y = np.linspace(0.05, 0.15)\n",
        "z = set_diameter\n",
        "u = set_u\n",
        "h = set_h\n",
        "\n",
        "J = (a-w*h)*(2*x*y/z-c*y**m*x**n/z**p)*0.01/(0.01+u)\n",
        "\n",
        "\n",
        "\n",
        "\n",
        "simulation_df['solidity']=y\n",
        "simulation_df['charge (uC)_2']=J*pow(10,6)\n",
        "\n",
        "    \n",
        "#-----------------------------------------------------------------------------------------------\n",
        "# Diameter ~ Charge\n",
        "\n",
        "x = set_thickness\n",
        "y = set_solidity\n",
        "z = np.linspace(1, 20)*pow(10,-6)\n",
        "u = set_u\n",
        "h = set_h\n",
        "\n",
        "J = (a-w*h)*(2*x*y/z-c*y**m*x**n/z**p)*0.01/(0.01+u)\n",
        "\n",
        "\n",
        "\n",
        "simulation_df['diameter (um)']=z*pow(10,6)\n",
        "simulation_df['charge (uC)_3']=J*pow(10,6)"
      ],
      "execution_count": 23,
      "outputs": []
    },
    {
      "cell_type": "code",
      "metadata": {
        "id": "NJAQWWAgKbuc"
      },
      "source": [
        "simulation_df.to_excel('simulation_df_PP.xlsx')"
      ],
      "execution_count": 24,
      "outputs": []
    },
    {
      "cell_type": "markdown",
      "metadata": {
        "id": "_JwCrmDKivfc"
      },
      "source": [
        "# Validation at different random seeds"
      ]
    },
    {
      "cell_type": "code",
      "metadata": {
        "id": "2_5o-uXrH5y2",
        "colab": {
          "base_uri": "https://localhost:8080/",
          "height": 135
        },
        "outputId": "8cb49197-9ac7-42b1-e88c-45cced60c239"
      },
      "source": [
        "=1"
      ],
      "execution_count": 25,
      "outputs": [
        {
          "output_type": "error",
          "ename": "SyntaxError",
          "evalue": "ignored",
          "traceback": [
            "\u001b[0;36m  File \u001b[0;32m\"<ipython-input-25-fc4e1f6d94ea>\"\u001b[0;36m, line \u001b[0;32m1\u001b[0m\n\u001b[0;31m    =1\u001b[0m\n\u001b[0m    ^\u001b[0m\n\u001b[0;31mSyntaxError\u001b[0m\u001b[0;31m:\u001b[0m invalid syntax\n"
          ]
        }
      ]
    },
    {
      "cell_type": "code",
      "metadata": {
        "id": "cNCx_w2OintX"
      },
      "source": [
        "def get_index(random_state, data):\n",
        "  kf = KFold(n_splits=5, shuffle = True, random_state=random_state)\n",
        "  train_indexs = []\n",
        "  test_indexs = []\n",
        "  for train_index, test_index in kf.split(data):\n",
        "      train_indexs.append(train_index)\n",
        "      test_indexs.append(test_index)\n",
        "  index=pd.DataFrame(zip(train_indexs, test_indexs), columns=['train_index','test_index'])\n",
        "  return index"
      ],
      "execution_count": null,
      "outputs": []
    },
    {
      "cell_type": "code",
      "metadata": {
        "id": "n3u1xnV6iySV"
      },
      "source": [
        "def get_scores(n_fold, index, data):\n",
        "  train_index = index.iloc[n_fold,0]\n",
        "  test_index = index.iloc[n_fold,1]\n",
        "  train, test = data.iloc[train_index], data.iloc[test_index]\n",
        "  train_shape=train.shape\n",
        "  test_shape=test.shape\n",
        "\n",
        "  def func(X,a, w, c, m, n, p):\n",
        "    x,y,z,u,h = X\n",
        "    return (a-w*h)*(2*x*y/z-c*y**m*x**n/z**p)*0.01/(0.01+u)\n",
        "\n",
        "  x=train['thickness(m)'].to_numpy()\n",
        "  y=train['solidity'].to_numpy()\n",
        "  z=train['diameter(m)'].to_numpy()\n",
        "  u=train['Interface(m)'].to_numpy()\n",
        "  h=train['Humidity (%)'].to_numpy()\n",
        "  j=train['ChargeDensity(C/m2)'].to_numpy()\n",
        "\n",
        "\n",
        "  # initial guesses for a,b,c,m,n,p:\n",
        "  p0 = 1E-6 , 0 ,1. , 1. , 1., 1.\n",
        "\n",
        "   # trf & dogbox\n",
        "       #    a          w           c        m          n       p\n",
        "  bound=((  0,         0,          0,       0,         0 ,     0 ), \n",
        "       (np.inf,    np.inf,    np.inf,     np.inf,    np.inf, np.inf))\n",
        "  \n",
        "  ## trf\n",
        "  popt_trf,pcov = curve_fit(func,(x,y,z,u,h),j, p0, bounds = bound, method='trf', maxfev=500000)\n",
        "\n",
        "  y_model_trf = func((x,y,z,u,h),popt_trf[0],popt_trf[1],popt_trf[2], popt_trf[3],popt_trf[4],popt_trf[5]) \n",
        "  MSE_trf = np.sum((j - y_model_trf)**2)/train.shape[0]\n",
        "  MAE_trf = np.sum(abs(j - y_model_trf))/train.shape[0]\n",
        "\n",
        "  ## dogbox\n",
        "  popt_dog, pcov = curve_fit(func,(x,y,z,u,h),j, p0, bounds = bound, method='dogbox', maxfev=500000)\n",
        "  y_model_dog = func((x,y,z,u,h),popt_dog[0],popt_dog[1],popt_dog[2],popt_dog[3],popt_dog[4],popt_dog[5]) \n",
        "  MSE_dog = np.sum((j - y_model_dog)**2)/train.shape[0]\n",
        "  MAE_dog = np.sum(abs(j - y_model_dog))/train.shape[0]\n",
        "\n",
        "  if MSE_trf < MSE_dog:\n",
        "    a,w,c,m,n,p = popt_trf[0],popt_trf[1],popt_trf[2],popt_trf[3],popt_trf[4], popt_trf[5]\n",
        "    print('trf Method is the best method')\n",
        "  else:\n",
        "    a,w,c,m,n,p = popt_dog[0], popt_dog[1], popt_dog[2], popt_dog[3], popt_dog[4], popt_dog[5]\n",
        "    print(\"dogbox Method is the best method\")\n",
        "  trf_result=\"trf Method | MSE = {:.2E}| MAE = {:.2E}| a = {}, w = {}, c = {},m = {}, n = {}, p = {}\".format(MSE_trf,MAE_trf,popt_trf[0],popt_trf[1],popt_trf[2],popt_trf[3],popt_trf[4], popt_trf[5])\n",
        "  dog_result=\"dog Method | MSE = {:.2E}| MAE = {:.2E}| a = {}, w = {}, c = {},m = {}, n = {}, p = {}\".format(MSE_dog,MAE_dog,popt_dog[0], popt_dog[1], popt_dog[2], popt_dog[3], popt_dog[4], popt_dog[5])\n",
        "  # print(trf_result)\n",
        "  # print(dog_result)\n",
        "  \n",
        "  # Validate \n",
        "  \n",
        "  data_val = pd.concat([train, test])\n",
        "  x=data_val['thickness(m)'].to_numpy()\n",
        "  y=data_val['solidity'].to_numpy()\n",
        "  z=data_val['diameter(m)'].to_numpy()\n",
        "  u=data_val['Interface(m)'].to_numpy()\n",
        "  h=data_val['Humidity (%)'].to_numpy()\n",
        "  j=data_val['ChargeDensity(C/m2)'].to_numpy()\n",
        "\n",
        "\n",
        "  data_val['Predicted(C/m2)'] = (a-w*h)*(2*x*y/z-c*y**m*x**n/z**p)*0.01/(0.01+u)\n",
        "\n",
        "  \n",
        "  def mean_absolute_percentage_error(y_true, y_pred):\n",
        "    y_true, y_pred = np.array(y_true), np.array(y_pred)\n",
        "    return np.mean(np.abs((y_true - y_pred) / y_true)) * 100\n",
        "  \n",
        "  mape_trf = mean_absolute_percentage_error(data_val['ChargeDensity(C/m2)'], data_val['Predicted(C/m2)'])\n",
        "  mape_trf_train = mean_absolute_percentage_error(data_val['ChargeDensity(C/m2)'][0:train.shape[0]], data_val['Predicted(C/m2)'][0:train.shape[0]])\n",
        "  mape_trf_test = mean_absolute_percentage_error(data_val['ChargeDensity(C/m2)'][train.shape[0]:data_val.shape[0]], data_val['Predicted(C/m2)'][train.shape[0]:data_val.shape[0]])\n",
        "\n",
        "  return n_fold, train_shape, test_shape, mape_trf, mape_trf_train, mape_trf_test"
      ],
      "execution_count": null,
      "outputs": []
    },
    {
      "cell_type": "code",
      "metadata": {
        "id": "ZewxKhPSjqw4"
      },
      "source": [
        "max_random_sate = 100"
      ],
      "execution_count": null,
      "outputs": []
    },
    {
      "cell_type": "code",
      "metadata": {
        "id": "N8NpdvFCjsXO"
      },
      "source": [
        "random_states = []\n",
        "n_folds = []\n",
        "train_shapes = []\n",
        "test_shapes = []\n",
        "\n",
        "MAPEs = []\n",
        "train_MAPEs = []\n",
        "test_MAPEs = []\n",
        "\n",
        "\n",
        "for random_state in range(max_random_sate):\n",
        "  index = get_index(random_state, data)\n",
        "  for n_fold in range(5):\n",
        "    random_states.append(random_state)\n",
        "    n_fold, train_shape, test_shape, MAPE, train_MAPE, test_MAPE = get_scores(n_fold, index, data)\n",
        "    n_folds.append(n_fold)\n",
        "    train_shapes.append(train_shape)\n",
        "    test_shapes.append(test_shape)\n",
        "    \n",
        "    MAPEs.append(MAPE)\n",
        "    train_MAPEs.append(train_MAPE)\n",
        "    test_MAPEs.append(test_MAPE)\n"
      ],
      "execution_count": null,
      "outputs": []
    },
    {
      "cell_type": "code",
      "metadata": {
        "id": "FYVXB-IOjyrK"
      },
      "source": [
        "summary = pd.DataFrame()\n",
        "summary['random_state']=random_states\n",
        "summary['n_fold']=n_folds\n",
        "summary['train_shape'] = train_shapes\n",
        "summary['test_shape'] = test_shapes\n",
        "\n",
        "summary['MAPE'] = MAPEs\n",
        "summary['train_MAPE'] = train_MAPEs\n",
        "summary['test_MAPE'] = test_MAPEs\n",
        "\n",
        "summary"
      ],
      "execution_count": null,
      "outputs": []
    },
    {
      "cell_type": "code",
      "metadata": {
        "id": "Ysvk-Ohpyqdf"
      },
      "source": [
        "summary.describe()"
      ],
      "execution_count": null,
      "outputs": []
    },
    {
      "cell_type": "code",
      "metadata": {
        "id": "pibXjbDdrwUa"
      },
      "source": [
        "summary.to_csv('100RandomState_PP.csv')"
      ],
      "execution_count": null,
      "outputs": []
    },
    {
      "cell_type": "code",
      "metadata": {
        "id": "rG80mXovt60v"
      },
      "source": [
        ""
      ],
      "execution_count": null,
      "outputs": []
    }
  ]
}