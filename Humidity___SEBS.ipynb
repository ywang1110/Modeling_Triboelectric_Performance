{
  "nbformat": 4,
  "nbformat_minor": 0,
  "metadata": {
    "colab": {
      "name": "Humidity _ SEBS.ipynb",
      "provenance": [],
      "collapsed_sections": [],
      "authorship_tag": "ABX9TyMcckFYXCn+N36QFwpcTbgR",
      "include_colab_link": true
    },
    "kernelspec": {
      "name": "python3",
      "display_name": "Python 3"
    },
    "language_info": {
      "name": "python"
    }
  },
  "cells": [
    {
      "cell_type": "markdown",
      "metadata": {
        "id": "view-in-github",
        "colab_type": "text"
      },
      "source": [
        "<a href=\"https://colab.research.google.com/github/ywang1110/Modeling_Triboelectric_Performance/blob/main/Humidity___SEBS.ipynb\" target=\"_parent\"><img src=\"https://colab.research.google.com/assets/colab-badge.svg\" alt=\"Open In Colab\"/></a>"
      ]
    },
    {
      "cell_type": "code",
      "metadata": {
        "id": "GGLYLaTXXjC8",
        "colab": {
          "base_uri": "https://localhost:8080/"
        },
        "outputId": "71454cd0-4309-4760-ff35-932fc49ac593"
      },
      "source": [
        "import numpy as np\n",
        "import pandas as pd\n",
        "import seaborn as sns\n",
        "from scipy.optimize import curve_fit\n",
        "import matplotlib.pyplot as plt\n",
        "import matplotlib.ticker as mtick\n",
        "from sklearn.metrics import mean_squared_error\n",
        "from sklearn.metrics import mean_absolute_error\n",
        "from sklearn import metrics\n",
        "from sklearn.model_selection import train_test_split\n",
        "from sklearn.model_selection import KFold\n",
        "\n",
        "import statsmodels.api as sm\n",
        "import statsmodels.formula.api as smf\n",
        "import scipy.stats as stats\n",
        "import matplotlib.cm as cm\n",
        "from IPython.display import display\n",
        "from sklearn.feature_selection import f_regression"
      ],
      "execution_count": 1,
      "outputs": [
        {
          "output_type": "stream",
          "name": "stderr",
          "text": [
            "/usr/local/lib/python3.7/dist-packages/statsmodels/tools/_testing.py:19: FutureWarning: pandas.util.testing is deprecated. Use the functions in the public API at pandas.testing instead.\n",
            "  import pandas.util.testing as tm\n"
          ]
        }
      ]
    },
    {
      "cell_type": "markdown",
      "metadata": {
        "id": "kWmeyqHCYHUq"
      },
      "source": [
        "# Prepare dataset"
      ]
    },
    {
      "cell_type": "markdown",
      "metadata": {
        "id": "UhaAP45xYrrg"
      },
      "source": [
        "## Load data"
      ]
    },
    {
      "cell_type": "code",
      "metadata": {
        "colab": {
          "base_uri": "https://localhost:8080/"
        },
        "id": "nPeO9kjDqUse",
        "outputId": "283cab9f-e296-4f78-cd87-162fd347c3f3"
      },
      "source": [
        "from google.colab import drive\n",
        "drive.mount('/content/drive')"
      ],
      "execution_count": 2,
      "outputs": [
        {
          "output_type": "stream",
          "name": "stdout",
          "text": [
            "Drive already mounted at /content/drive; to attempt to forcibly remount, call drive.mount(\"/content/drive\", force_remount=True).\n"
          ]
        }
      ]
    },
    {
      "cell_type": "code",
      "metadata": {
        "id": "xQRm-DwJY_QL",
        "colab": {
          "base_uri": "https://localhost:8080/",
          "height": 204
        },
        "outputId": "df06c1e6-62ca-4edd-e7bc-3834b0840d3a"
      },
      "source": [
        "df = pd.read_excel('drive/My Drive/1 Manuscript_AFM/Data process/3 NewData_Train - updateDiameter-Validiate.xlsx', sheet_name='mean')\n",
        "df.head()"
      ],
      "execution_count": 3,
      "outputs": [
        {
          "output_type": "execute_result",
          "data": {
            "text/html": [
              "<div>\n",
              "<style scoped>\n",
              "    .dataframe tbody tr th:only-of-type {\n",
              "        vertical-align: middle;\n",
              "    }\n",
              "\n",
              "    .dataframe tbody tr th {\n",
              "        vertical-align: top;\n",
              "    }\n",
              "\n",
              "    .dataframe thead th {\n",
              "        text-align: right;\n",
              "    }\n",
              "</style>\n",
              "<table border=\"1\" class=\"dataframe\">\n",
              "  <thead>\n",
              "    <tr style=\"text-align: right;\">\n",
              "      <th></th>\n",
              "      <th>Unnamed: 0</th>\n",
              "      <th>ChargeDensity(µC/m2) j</th>\n",
              "      <th>Thickness (um) x</th>\n",
              "      <th>solidity y</th>\n",
              "      <th>diameter (um) z</th>\n",
              "      <th>Interface  (mm) u</th>\n",
              "      <th>Tem (°C)</th>\n",
              "      <th>Humidity (%)</th>\n",
              "      <th>Force (N)</th>\n",
              "      <th>Technique</th>\n",
              "    </tr>\n",
              "  </thead>\n",
              "  <tbody>\n",
              "    <tr>\n",
              "      <th>0</th>\n",
              "      <td>K-1</td>\n",
              "      <td>26.43</td>\n",
              "      <td>472.4</td>\n",
              "      <td>0.164</td>\n",
              "      <td>9.09225</td>\n",
              "      <td>1.728</td>\n",
              "      <td>26.4</td>\n",
              "      <td>25.9</td>\n",
              "      <td>35.5</td>\n",
              "      <td>Reicofil</td>\n",
              "    </tr>\n",
              "    <tr>\n",
              "      <th>1</th>\n",
              "      <td>K-2</td>\n",
              "      <td>28.35</td>\n",
              "      <td>568.1</td>\n",
              "      <td>0.180</td>\n",
              "      <td>9.30286</td>\n",
              "      <td>1.961</td>\n",
              "      <td>25.7</td>\n",
              "      <td>27.5</td>\n",
              "      <td>37.1</td>\n",
              "      <td>Reicofil</td>\n",
              "    </tr>\n",
              "    <tr>\n",
              "      <th>2</th>\n",
              "      <td>K-3</td>\n",
              "      <td>31.15</td>\n",
              "      <td>472.9</td>\n",
              "      <td>0.181</td>\n",
              "      <td>7.73240</td>\n",
              "      <td>1.501</td>\n",
              "      <td>26.9</td>\n",
              "      <td>28.5</td>\n",
              "      <td>36.1</td>\n",
              "      <td>Reicofil</td>\n",
              "    </tr>\n",
              "    <tr>\n",
              "      <th>3</th>\n",
              "      <td>K-4</td>\n",
              "      <td>30.28</td>\n",
              "      <td>600.2</td>\n",
              "      <td>0.179</td>\n",
              "      <td>7.77859</td>\n",
              "      <td>1.990</td>\n",
              "      <td>25.8</td>\n",
              "      <td>29.6</td>\n",
              "      <td>37.3</td>\n",
              "      <td>Reicofil</td>\n",
              "    </tr>\n",
              "    <tr>\n",
              "      <th>4</th>\n",
              "      <td>K-5</td>\n",
              "      <td>33.76</td>\n",
              "      <td>393.3</td>\n",
              "      <td>0.206</td>\n",
              "      <td>7.41502</td>\n",
              "      <td>1.106</td>\n",
              "      <td>26.9</td>\n",
              "      <td>28.5</td>\n",
              "      <td>36.1</td>\n",
              "      <td>Reicofil</td>\n",
              "    </tr>\n",
              "  </tbody>\n",
              "</table>\n",
              "</div>"
            ],
            "text/plain": [
              "  Unnamed: 0  ChargeDensity(µC/m2) j  ...  Force (N)  Technique\n",
              "0        K-1                   26.43  ...       35.5   Reicofil\n",
              "1        K-2                   28.35  ...       37.1   Reicofil\n",
              "2        K-3                   31.15  ...       36.1   Reicofil\n",
              "3        K-4                   30.28  ...       37.3   Reicofil\n",
              "4        K-5                   33.76  ...       36.1   Reicofil\n",
              "\n",
              "[5 rows x 10 columns]"
            ]
          },
          "metadata": {},
          "execution_count": 3
        }
      ]
    },
    {
      "cell_type": "code",
      "metadata": {
        "id": "1TgKCU06ZP_C",
        "colab": {
          "base_uri": "https://localhost:8080/"
        },
        "outputId": "042ec444-c76f-440e-e5ad-cabddef6af90"
      },
      "source": [
        "df.shape"
      ],
      "execution_count": 4,
      "outputs": [
        {
          "output_type": "execute_result",
          "data": {
            "text/plain": [
              "(43, 10)"
            ]
          },
          "metadata": {},
          "execution_count": 4
        }
      ]
    },
    {
      "cell_type": "markdown",
      "metadata": {
        "id": "NC2Q2uIGZhKy"
      },
      "source": [
        "## Unit conversion"
      ]
    },
    {
      "cell_type": "code",
      "metadata": {
        "id": "nFdhMdhwZd51",
        "colab": {
          "base_uri": "https://localhost:8080/",
          "height": 204
        },
        "outputId": "19fd85e2-0e03-42b8-ad3d-9c73a920421f"
      },
      "source": [
        "data = pd.DataFrame()\n",
        "data['ChargeDensity(C/m2)']=df['ChargeDensity(µC/m2) j']*pow(10,-6)\n",
        "data['thickness(m)']=df['Thickness (um) x']*pow(10,-6)\n",
        "data['solidity'] = df['solidity y']\n",
        "data['diameter(m)'] = df['diameter (um) z']*pow(10,-6)\n",
        "data['Interface(m)']=df['Interface  (mm) u']*pow(10, -3)\n",
        "data['Technique'] = df['Technique']\n",
        "data[['Tem (°C)', 'Humidity (%)', 'Force (N)']]=df[['Tem (°C)', 'Humidity (%)', 'Force (N)']]\n",
        "\n",
        "data.head()"
      ],
      "execution_count": 5,
      "outputs": [
        {
          "output_type": "execute_result",
          "data": {
            "text/html": [
              "<div>\n",
              "<style scoped>\n",
              "    .dataframe tbody tr th:only-of-type {\n",
              "        vertical-align: middle;\n",
              "    }\n",
              "\n",
              "    .dataframe tbody tr th {\n",
              "        vertical-align: top;\n",
              "    }\n",
              "\n",
              "    .dataframe thead th {\n",
              "        text-align: right;\n",
              "    }\n",
              "</style>\n",
              "<table border=\"1\" class=\"dataframe\">\n",
              "  <thead>\n",
              "    <tr style=\"text-align: right;\">\n",
              "      <th></th>\n",
              "      <th>ChargeDensity(C/m2)</th>\n",
              "      <th>thickness(m)</th>\n",
              "      <th>solidity</th>\n",
              "      <th>diameter(m)</th>\n",
              "      <th>Interface(m)</th>\n",
              "      <th>Technique</th>\n",
              "      <th>Tem (°C)</th>\n",
              "      <th>Humidity (%)</th>\n",
              "      <th>Force (N)</th>\n",
              "    </tr>\n",
              "  </thead>\n",
              "  <tbody>\n",
              "    <tr>\n",
              "      <th>0</th>\n",
              "      <td>0.000026</td>\n",
              "      <td>0.000472</td>\n",
              "      <td>0.164</td>\n",
              "      <td>0.000009</td>\n",
              "      <td>0.001728</td>\n",
              "      <td>Reicofil</td>\n",
              "      <td>26.4</td>\n",
              "      <td>25.9</td>\n",
              "      <td>35.5</td>\n",
              "    </tr>\n",
              "    <tr>\n",
              "      <th>1</th>\n",
              "      <td>0.000028</td>\n",
              "      <td>0.000568</td>\n",
              "      <td>0.180</td>\n",
              "      <td>0.000009</td>\n",
              "      <td>0.001961</td>\n",
              "      <td>Reicofil</td>\n",
              "      <td>25.7</td>\n",
              "      <td>27.5</td>\n",
              "      <td>37.1</td>\n",
              "    </tr>\n",
              "    <tr>\n",
              "      <th>2</th>\n",
              "      <td>0.000031</td>\n",
              "      <td>0.000473</td>\n",
              "      <td>0.181</td>\n",
              "      <td>0.000008</td>\n",
              "      <td>0.001501</td>\n",
              "      <td>Reicofil</td>\n",
              "      <td>26.9</td>\n",
              "      <td>28.5</td>\n",
              "      <td>36.1</td>\n",
              "    </tr>\n",
              "    <tr>\n",
              "      <th>3</th>\n",
              "      <td>0.000030</td>\n",
              "      <td>0.000600</td>\n",
              "      <td>0.179</td>\n",
              "      <td>0.000008</td>\n",
              "      <td>0.001990</td>\n",
              "      <td>Reicofil</td>\n",
              "      <td>25.8</td>\n",
              "      <td>29.6</td>\n",
              "      <td>37.3</td>\n",
              "    </tr>\n",
              "    <tr>\n",
              "      <th>4</th>\n",
              "      <td>0.000034</td>\n",
              "      <td>0.000393</td>\n",
              "      <td>0.206</td>\n",
              "      <td>0.000007</td>\n",
              "      <td>0.001106</td>\n",
              "      <td>Reicofil</td>\n",
              "      <td>26.9</td>\n",
              "      <td>28.5</td>\n",
              "      <td>36.1</td>\n",
              "    </tr>\n",
              "  </tbody>\n",
              "</table>\n",
              "</div>"
            ],
            "text/plain": [
              "   ChargeDensity(C/m2)  thickness(m)  ...  Humidity (%)  Force (N)\n",
              "0             0.000026      0.000472  ...          25.9       35.5\n",
              "1             0.000028      0.000568  ...          27.5       37.1\n",
              "2             0.000031      0.000473  ...          28.5       36.1\n",
              "3             0.000030      0.000600  ...          29.6       37.3\n",
              "4             0.000034      0.000393  ...          28.5       36.1\n",
              "\n",
              "[5 rows x 9 columns]"
            ]
          },
          "metadata": {},
          "execution_count": 5
        }
      ]
    },
    {
      "cell_type": "code",
      "metadata": {
        "id": "czu_c1JbdqwO",
        "colab": {
          "base_uri": "https://localhost:8080/"
        },
        "outputId": "1206ec6c-bffb-4513-eb9a-ce343ba43448"
      },
      "source": [
        "data.shape"
      ],
      "execution_count": 6,
      "outputs": [
        {
          "output_type": "execute_result",
          "data": {
            "text/plain": [
              "(43, 9)"
            ]
          },
          "metadata": {},
          "execution_count": 6
        }
      ]
    },
    {
      "cell_type": "markdown",
      "metadata": {
        "id": "X4EbYCItxpRl"
      },
      "source": [
        "# Train test split"
      ]
    },
    {
      "cell_type": "code",
      "metadata": {
        "id": "yJ6M2aiKxn1A",
        "colab": {
          "base_uri": "https://localhost:8080/",
          "height": 204
        },
        "outputId": "34873f98-f0f2-43e3-953c-ef8b8f709567"
      },
      "source": [
        "random_state=69\n",
        "kf = KFold(n_splits=5, shuffle = True, random_state=random_state)\n",
        "train_indexs = []\n",
        "test_indexs = []\n",
        "for train_index, test_index in kf.split(data):\n",
        "    train_indexs.append(train_index)\n",
        "    test_indexs.append(test_index)\n",
        "index=pd.DataFrame(zip(train_indexs, test_indexs), columns=['train_index','test_index'])\n",
        "index"
      ],
      "execution_count": 7,
      "outputs": [
        {
          "output_type": "execute_result",
          "data": {
            "text/html": [
              "<div>\n",
              "<style scoped>\n",
              "    .dataframe tbody tr th:only-of-type {\n",
              "        vertical-align: middle;\n",
              "    }\n",
              "\n",
              "    .dataframe tbody tr th {\n",
              "        vertical-align: top;\n",
              "    }\n",
              "\n",
              "    .dataframe thead th {\n",
              "        text-align: right;\n",
              "    }\n",
              "</style>\n",
              "<table border=\"1\" class=\"dataframe\">\n",
              "  <thead>\n",
              "    <tr style=\"text-align: right;\">\n",
              "      <th></th>\n",
              "      <th>train_index</th>\n",
              "      <th>test_index</th>\n",
              "    </tr>\n",
              "  </thead>\n",
              "  <tbody>\n",
              "    <tr>\n",
              "      <th>0</th>\n",
              "      <td>[0, 2, 3, 5, 6, 7, 9, 10, 11, 12, 14, 15, 16, ...</td>\n",
              "      <td>[1, 4, 8, 13, 23, 29, 37, 39, 40]</td>\n",
              "    </tr>\n",
              "    <tr>\n",
              "      <th>1</th>\n",
              "      <td>[1, 2, 3, 4, 7, 8, 9, 11, 12, 13, 14, 15, 16, ...</td>\n",
              "      <td>[0, 5, 6, 10, 17, 18, 19, 27, 31]</td>\n",
              "    </tr>\n",
              "    <tr>\n",
              "      <th>2</th>\n",
              "      <td>[0, 1, 3, 4, 5, 6, 7, 8, 9, 10, 11, 12, 13, 16...</td>\n",
              "      <td>[2, 14, 15, 25, 28, 30, 35, 36, 38]</td>\n",
              "    </tr>\n",
              "    <tr>\n",
              "      <th>3</th>\n",
              "      <td>[0, 1, 2, 4, 5, 6, 8, 9, 10, 11, 13, 14, 15, 1...</td>\n",
              "      <td>[3, 7, 12, 16, 21, 24, 34, 42]</td>\n",
              "    </tr>\n",
              "    <tr>\n",
              "      <th>4</th>\n",
              "      <td>[0, 1, 2, 3, 4, 5, 6, 7, 8, 10, 12, 13, 14, 15...</td>\n",
              "      <td>[9, 11, 20, 22, 26, 32, 33, 41]</td>\n",
              "    </tr>\n",
              "  </tbody>\n",
              "</table>\n",
              "</div>"
            ],
            "text/plain": [
              "                                         train_index                           test_index\n",
              "0  [0, 2, 3, 5, 6, 7, 9, 10, 11, 12, 14, 15, 16, ...    [1, 4, 8, 13, 23, 29, 37, 39, 40]\n",
              "1  [1, 2, 3, 4, 7, 8, 9, 11, 12, 13, 14, 15, 16, ...    [0, 5, 6, 10, 17, 18, 19, 27, 31]\n",
              "2  [0, 1, 3, 4, 5, 6, 7, 8, 9, 10, 11, 12, 13, 16...  [2, 14, 15, 25, 28, 30, 35, 36, 38]\n",
              "3  [0, 1, 2, 4, 5, 6, 8, 9, 10, 11, 13, 14, 15, 1...       [3, 7, 12, 16, 21, 24, 34, 42]\n",
              "4  [0, 1, 2, 3, 4, 5, 6, 7, 8, 10, 12, 13, 14, 15...      [9, 11, 20, 22, 26, 32, 33, 41]"
            ]
          },
          "metadata": {},
          "execution_count": 7
        }
      ]
    },
    {
      "cell_type": "code",
      "metadata": {
        "id": "Gqzw2EpGyImP"
      },
      "source": [
        "n_fold=2"
      ],
      "execution_count": 8,
      "outputs": []
    },
    {
      "cell_type": "code",
      "metadata": {
        "id": "PNIaK8hux4ao",
        "colab": {
          "base_uri": "https://localhost:8080/"
        },
        "outputId": "4e84f6e0-aae6-46e3-d7ff-1899037b50d8"
      },
      "source": [
        "train_index = index.iloc[n_fold,0]\n",
        "test_index = index.iloc[n_fold,1]\n",
        "train, test = data.iloc[train_index], data.iloc[test_index]\n",
        "train.shape"
      ],
      "execution_count": 9,
      "outputs": [
        {
          "output_type": "execute_result",
          "data": {
            "text/plain": [
              "(34, 9)"
            ]
          },
          "metadata": {},
          "execution_count": 9
        }
      ]
    },
    {
      "cell_type": "code",
      "metadata": {
        "id": "Tc1aESa7yVHZ",
        "colab": {
          "base_uri": "https://localhost:8080/"
        },
        "outputId": "a5d462ca-a645-4ab6-f773-100c628c6583"
      },
      "source": [
        "train.shape"
      ],
      "execution_count": 10,
      "outputs": [
        {
          "output_type": "execute_result",
          "data": {
            "text/plain": [
              "(34, 9)"
            ]
          },
          "metadata": {},
          "execution_count": 10
        }
      ]
    },
    {
      "cell_type": "code",
      "metadata": {
        "id": "JsZABkKUyXRs",
        "colab": {
          "base_uri": "https://localhost:8080/"
        },
        "outputId": "37fb785e-c1a8-45ba-8c73-b5d23f80ea47"
      },
      "source": [
        "test.shape"
      ],
      "execution_count": 11,
      "outputs": [
        {
          "output_type": "execute_result",
          "data": {
            "text/plain": [
              "(9, 9)"
            ]
          },
          "metadata": {},
          "execution_count": 11
        }
      ]
    },
    {
      "cell_type": "code",
      "metadata": {
        "id": "Cyoeb676zcA3",
        "colab": {
          "base_uri": "https://localhost:8080/",
          "height": 35
        },
        "outputId": "f6d854da-8f16-42be-d3fd-d6d415099b75"
      },
      "source": [
        "\"\"\"\n",
        "train.to_csv('train.csv')\n",
        "test.to_csv('test.csv')\n",
        "\"\"\"\n"
      ],
      "execution_count": 12,
      "outputs": [
        {
          "output_type": "execute_result",
          "data": {
            "application/vnd.google.colaboratory.intrinsic+json": {
              "type": "string"
            },
            "text/plain": [
              "\"\\ntrain.to_csv('train.csv')\\ntest.to_csv('test.csv')\\n\""
            ]
          },
          "metadata": {},
          "execution_count": 12
        }
      ]
    },
    {
      "cell_type": "code",
      "metadata": {
        "id": "xBK21SJBztVB",
        "colab": {
          "base_uri": "https://localhost:8080/",
          "height": 35
        },
        "outputId": "9e66dd92-63df-49e2-c9bc-4322ba4d2aa6"
      },
      "source": [
        "\"\"\"\n",
        "train = pd.read_csv('train.csv')\n",
        "test=pd.read_csv('test.csv')\n",
        "\"\"\""
      ],
      "execution_count": 13,
      "outputs": [
        {
          "output_type": "execute_result",
          "data": {
            "application/vnd.google.colaboratory.intrinsic+json": {
              "type": "string"
            },
            "text/plain": [
              "\"\\ntrain = pd.read_csv('train.csv')\\ntest=pd.read_csv('test.csv')\\n\""
            ]
          },
          "metadata": {},
          "execution_count": 13
        }
      ]
    },
    {
      "cell_type": "code",
      "metadata": {
        "colab": {
          "base_uri": "https://localhost:8080/",
          "height": 204
        },
        "id": "ypQzzBajkzsy",
        "outputId": "42679ec9-4c50-4781-c8ab-43651aa85622"
      },
      "source": [
        "train.head()"
      ],
      "execution_count": 14,
      "outputs": [
        {
          "output_type": "execute_result",
          "data": {
            "text/html": [
              "<div>\n",
              "<style scoped>\n",
              "    .dataframe tbody tr th:only-of-type {\n",
              "        vertical-align: middle;\n",
              "    }\n",
              "\n",
              "    .dataframe tbody tr th {\n",
              "        vertical-align: top;\n",
              "    }\n",
              "\n",
              "    .dataframe thead th {\n",
              "        text-align: right;\n",
              "    }\n",
              "</style>\n",
              "<table border=\"1\" class=\"dataframe\">\n",
              "  <thead>\n",
              "    <tr style=\"text-align: right;\">\n",
              "      <th></th>\n",
              "      <th>ChargeDensity(C/m2)</th>\n",
              "      <th>thickness(m)</th>\n",
              "      <th>solidity</th>\n",
              "      <th>diameter(m)</th>\n",
              "      <th>Interface(m)</th>\n",
              "      <th>Technique</th>\n",
              "      <th>Tem (°C)</th>\n",
              "      <th>Humidity (%)</th>\n",
              "      <th>Force (N)</th>\n",
              "    </tr>\n",
              "  </thead>\n",
              "  <tbody>\n",
              "    <tr>\n",
              "      <th>0</th>\n",
              "      <td>0.000026</td>\n",
              "      <td>0.000472</td>\n",
              "      <td>0.164</td>\n",
              "      <td>0.000009</td>\n",
              "      <td>0.001728</td>\n",
              "      <td>Reicofil</td>\n",
              "      <td>26.4</td>\n",
              "      <td>25.9</td>\n",
              "      <td>35.5</td>\n",
              "    </tr>\n",
              "    <tr>\n",
              "      <th>1</th>\n",
              "      <td>0.000028</td>\n",
              "      <td>0.000568</td>\n",
              "      <td>0.180</td>\n",
              "      <td>0.000009</td>\n",
              "      <td>0.001961</td>\n",
              "      <td>Reicofil</td>\n",
              "      <td>25.7</td>\n",
              "      <td>27.5</td>\n",
              "      <td>37.1</td>\n",
              "    </tr>\n",
              "    <tr>\n",
              "      <th>3</th>\n",
              "      <td>0.000030</td>\n",
              "      <td>0.000600</td>\n",
              "      <td>0.179</td>\n",
              "      <td>0.000008</td>\n",
              "      <td>0.001990</td>\n",
              "      <td>Reicofil</td>\n",
              "      <td>25.8</td>\n",
              "      <td>29.6</td>\n",
              "      <td>37.3</td>\n",
              "    </tr>\n",
              "    <tr>\n",
              "      <th>4</th>\n",
              "      <td>0.000034</td>\n",
              "      <td>0.000393</td>\n",
              "      <td>0.206</td>\n",
              "      <td>0.000007</td>\n",
              "      <td>0.001106</td>\n",
              "      <td>Reicofil</td>\n",
              "      <td>26.9</td>\n",
              "      <td>28.5</td>\n",
              "      <td>36.1</td>\n",
              "    </tr>\n",
              "    <tr>\n",
              "      <th>5</th>\n",
              "      <td>0.000035</td>\n",
              "      <td>0.000521</td>\n",
              "      <td>0.213</td>\n",
              "      <td>0.000007</td>\n",
              "      <td>0.001530</td>\n",
              "      <td>Reicofil</td>\n",
              "      <td>26.9</td>\n",
              "      <td>25.6</td>\n",
              "      <td>38.1</td>\n",
              "    </tr>\n",
              "  </tbody>\n",
              "</table>\n",
              "</div>"
            ],
            "text/plain": [
              "   ChargeDensity(C/m2)  thickness(m)  ...  Humidity (%)  Force (N)\n",
              "0             0.000026      0.000472  ...          25.9       35.5\n",
              "1             0.000028      0.000568  ...          27.5       37.1\n",
              "3             0.000030      0.000600  ...          29.6       37.3\n",
              "4             0.000034      0.000393  ...          28.5       36.1\n",
              "5             0.000035      0.000521  ...          25.6       38.1\n",
              "\n",
              "[5 rows x 9 columns]"
            ]
          },
          "metadata": {},
          "execution_count": 14
        }
      ]
    },
    {
      "cell_type": "code",
      "metadata": {
        "id": "6tM5qs-ryTb9",
        "colab": {
          "base_uri": "https://localhost:8080/",
          "height": 35
        },
        "outputId": "e678aa8a-9fa7-4390-9ed5-9039e63f717b"
      },
      "source": [
        "# Train the model\n",
        "x=train['thickness(m)'].to_numpy()\n",
        "y=train['solidity'].to_numpy()\n",
        "z=train['diameter(m)'].to_numpy()\n",
        "u=train['Interface(m)'].to_numpy()\n",
        "h=train['Humidity (%)'].to_numpy()\n",
        "j=train['ChargeDensity(C/m2)'].to_numpy()\n",
        "def func(X,a, w, c, m, n, p):\n",
        "  x,y,z,u,h = X\n",
        "  return (a-w*h)*(2*x*y/z-c*y**m*x**n/z**p)*0.01/(0.01+u)\n",
        "\n",
        "# lm\n",
        "popt_lm,pcov = curve_fit(func,(x,y,z,u,h),j, method='lm', maxfev = 50000)\n",
        "y_model_lm = func((x,y,z,u, h),popt_lm[0],popt_lm[1],popt_lm[2],popt_lm[3],popt_lm[4],popt_lm[5]) \n",
        "MSE_lm = mean_squared_error(j, y_model_lm)\n",
        "MAE_lm = mean_absolute_error(j, y_model_lm)\n",
        "lm_result=\"lm Method | MSE = {:.2E}| MAE = {:.2E}| a = {:.2E}, w = {:.2E}, c = {:.2E},m = {:.2E}, n = {:.2E}, p = {:.2E}\".format(MSE_lm,MAE_lm,popt_lm[0],popt_lm[1],popt_lm[2],popt_lm[3],popt_lm[4],popt_lm[5])\n",
        "lm_result  "
      ],
      "execution_count": 15,
      "outputs": [
        {
          "output_type": "execute_result",
          "data": {
            "application/vnd.google.colaboratory.intrinsic+json": {
              "type": "string"
            },
            "text/plain": [
              "'lm Method | MSE = 1.96E-12| MAE = 1.13E-06| a = 5.87E-06, w = 6.53E-08, c = 2.31E-01,m = 1.28E+00, n = 1.44E+00, p = 1.47E+00'"
            ]
          },
          "metadata": {},
          "execution_count": 15
        }
      ]
    },
    {
      "cell_type": "code",
      "metadata": {
        "id": "_fQTpAW7sJ38"
      },
      "source": [
        "# initial guesses for a,b,c,m,n,p:\n",
        "p0 = 1E-6 , 0 ,1. , 1. , 1., 1."
      ],
      "execution_count": 16,
      "outputs": []
    },
    {
      "cell_type": "code",
      "metadata": {
        "id": "N5n8wUljyG31",
        "colab": {
          "base_uri": "https://localhost:8080/"
        },
        "outputId": "e03b124f-b5a6-4334-967b-d36e11b5763c"
      },
      "source": [
        "  # trf & dogbox\n",
        "       #    a          w           c        m          n       p\n",
        "  bound=((  0,         0,          0,       0,         0 ,     0 ), \n",
        "       (np.inf,    np.inf,    np.inf,     np.inf,    np.inf, np.inf))\n",
        "  \n",
        "  ## trf\n",
        "  popt_trf,pcov = curve_fit(func,(x,y,z,u,h),j, p0, bounds = bound, method='trf', maxfev=50000)\n",
        "\n",
        "  y_model_trf = func((x,y,z,u,h),popt_trf[0],popt_trf[1],popt_trf[2], popt_trf[3],popt_trf[4],popt_trf[5]) \n",
        "  MSE_trf = np.sum((j - y_model_trf)**2)/train.shape[0]\n",
        "  MAE_trf = np.sum(abs(j - y_model_trf))/train.shape[0]\n",
        "\n",
        "  ## dogbox\n",
        "  popt_dog, pcov = curve_fit(func,(x,y,z,u,h),j, p0, bounds = bound, method='dogbox', maxfev=50000)\n",
        "  y_model_dog = func((x,y,z,u,h),popt_dog[0],popt_dog[1],popt_dog[2],popt_dog[3],popt_dog[4],popt_dog[5]) \n",
        "  MSE_dog = np.sum((j - y_model_dog)**2)/train.shape[0]\n",
        "  MAE_dog = np.sum(abs(j - y_model_dog))/train.shape[0]\n",
        "\n",
        "  if MSE_trf < MSE_dog:\n",
        "    a,w,c,m,n,p = popt_trf[0],popt_trf[1],popt_trf[2],popt_trf[3],popt_trf[4], popt_trf[5]\n",
        "    print('trf Method is the best method')\n",
        "  else:\n",
        "    a,w,c,m,n,p = popt_dog[0], popt_dog[1], popt_dog[2], popt_dog[3], popt_dog[4], popt_dog[5]\n",
        "    print(\"dogbox Method is the best method\")\n",
        "  trf_result=\"trf Method | MSE = {:.2E}| MAE = {:.2E}| a = {}, w = {}, c = {},m = {}, n = {}, p = {}\".format(MSE_trf,MAE_trf,popt_trf[0],popt_trf[1],popt_trf[2],popt_trf[3],popt_trf[4], popt_trf[5])\n",
        "  dog_result=\"dog Method | MSE = {:.2E}| MAE = {:.2E}| a = {}, w = {}, c = {},m = {}, n = {}, p = {}\".format(MSE_dog,MAE_dog,popt_dog[0], popt_dog[1], popt_dog[2], popt_dog[3], popt_dog[4], popt_dog[5])\n",
        "  print(trf_result)\n",
        "  print(dog_result)"
      ],
      "execution_count": 17,
      "outputs": [
        {
          "output_type": "stream",
          "name": "stdout",
          "text": [
            "trf Method is the best method\n",
            "trf Method | MSE = 1.96E-12| MAE = 1.13E-06| a = 5.874322373286812e-06, w = 6.534235949232691e-08, c = 0.23141858659366696,m = 1.2810318155346905, n = 1.4369036386191405, p = 1.4686712848195835\n",
            "dog Method | MSE = 3.11E-11| MAE = 4.51E-06| a = 3.0150341873134238e-06, w = 0.0, c = 1.057881457452267,m = 1.0000074483021628, n = 1.0000090607620764, p = 1.0000097592583057\n"
          ]
        }
      ]
    },
    {
      "cell_type": "code",
      "metadata": {
        "colab": {
          "base_uri": "https://localhost:8080/"
        },
        "id": "No68sdnPnAJ_",
        "outputId": "3d40906e-b3fd-42ef-b2b0-d14b5c6153a6"
      },
      "source": [
        "  # Validate (when trf is best)\n",
        "\n",
        "  data_val = pd.concat([train, test])\n",
        "  data_val.head()\n",
        "  x=data_val['thickness(m)'].to_numpy()\n",
        "  y=data_val['solidity'].to_numpy()\n",
        "  z=data_val['diameter(m)'].to_numpy()\n",
        "  u=data_val['Interface(m)'].to_numpy()\n",
        "  h=data_val['Humidity (%)'].to_numpy()\n",
        "  j=data_val['ChargeDensity(C/m2)'].to_numpy()\n",
        "\n",
        "  \n",
        "\n",
        "\n",
        "  data_val['Predicted(C/m2)'] = (a-w*h)*(2*x*y/z-c*y**m*x**n/z**p)*0.01/(0.01+u)\n",
        "\n",
        "  data_val['ratio(%)'] = (data_val['Predicted(C/m2)'] -data_val['ChargeDensity(C/m2)'])/data_val['ChargeDensity(C/m2)']*100\n",
        "  data_val['ChargeDensity(uC/m2)'] = data_val['ChargeDensity(C/m2)']*pow(10,6)\n",
        "  data_val['Predicted(uC/m2)'] = (a-w*h)*(2*x*y/z-c*y**m*x**n/z**p)*0.01/(0.01+u)*pow(10,6)\n",
        "  data_val['ratio_2(%)'] = (data_val['Predicted(uC/m2)']-data_val['ChargeDensity(uC/m2)'])/data_val['ChargeDensity(uC/m2)']*100\n",
        "  def mean_absolute_percentage_error(y_true, y_pred):\n",
        "    y_true, y_pred = np.array(y_true), np.array(y_pred)\n",
        "    return np.mean(np.abs((y_true - y_pred) / y_true)) * 100\n",
        "  \n",
        "  mape = mean_absolute_percentage_error(data_val['ChargeDensity(C/m2)'], data_val['Predicted(C/m2)'])\n",
        "  mape_train = mean_absolute_percentage_error(data_val['ChargeDensity(C/m2)'][0:train.shape[0]], data_val['Predicted(C/m2)'][0:train.shape[0]])\n",
        "  mape_test = mean_absolute_percentage_error(data_val['ChargeDensity(C/m2)'][train.shape[0]:data_val.shape[0]], data_val['Predicted(C/m2)'][train.shape[0]:data_val.shape[0]])\n",
        "  \n",
        "  print('MAPE= {:.2f}'.format(mape))\n",
        "  print('Train_MAPE = {:.2f}'.format(mape_train))\n",
        "  print('test_MAPE = {:.2f}'.format(mape_test))"
      ],
      "execution_count": 18,
      "outputs": [
        {
          "output_type": "stream",
          "name": "stdout",
          "text": [
            "MAPE= 4.46\n",
            "Train_MAPE = 4.21\n",
            "test_MAPE = 5.38\n"
          ]
        }
      ]
    },
    {
      "cell_type": "code",
      "metadata": {
        "colab": {
          "base_uri": "https://localhost:8080/",
          "height": 221
        },
        "id": "n7Buj0vTpdr4",
        "outputId": "c5262f51-7073-4adb-e61f-62cbe4634dad"
      },
      "source": [
        "data_val.head()"
      ],
      "execution_count": 33,
      "outputs": [
        {
          "output_type": "execute_result",
          "data": {
            "text/html": [
              "<div>\n",
              "<style scoped>\n",
              "    .dataframe tbody tr th:only-of-type {\n",
              "        vertical-align: middle;\n",
              "    }\n",
              "\n",
              "    .dataframe tbody tr th {\n",
              "        vertical-align: top;\n",
              "    }\n",
              "\n",
              "    .dataframe thead th {\n",
              "        text-align: right;\n",
              "    }\n",
              "</style>\n",
              "<table border=\"1\" class=\"dataframe\">\n",
              "  <thead>\n",
              "    <tr style=\"text-align: right;\">\n",
              "      <th></th>\n",
              "      <th>ChargeDensity(C/m2)</th>\n",
              "      <th>thickness(m)</th>\n",
              "      <th>solidity</th>\n",
              "      <th>diameter(m)</th>\n",
              "      <th>Interface(m)</th>\n",
              "      <th>Technique</th>\n",
              "      <th>Tem (°C)</th>\n",
              "      <th>Humidity (%)</th>\n",
              "      <th>Force (N)</th>\n",
              "      <th>Predicted(C/m2)</th>\n",
              "      <th>ratio(%)</th>\n",
              "      <th>ChargeDensity(uC/m2)</th>\n",
              "      <th>Predicted(uC/m2)</th>\n",
              "      <th>ratio_2(%)</th>\n",
              "    </tr>\n",
              "  </thead>\n",
              "  <tbody>\n",
              "    <tr>\n",
              "      <th>0</th>\n",
              "      <td>0.000026</td>\n",
              "      <td>0.000472</td>\n",
              "      <td>0.164</td>\n",
              "      <td>0.000009</td>\n",
              "      <td>0.001728</td>\n",
              "      <td>Reicofil</td>\n",
              "      <td>26.4</td>\n",
              "      <td>25.9</td>\n",
              "      <td>35.5</td>\n",
              "      <td>0.000026</td>\n",
              "      <td>-0.101657</td>\n",
              "      <td>26.43</td>\n",
              "      <td>26.403132</td>\n",
              "      <td>-0.101657</td>\n",
              "    </tr>\n",
              "    <tr>\n",
              "      <th>1</th>\n",
              "      <td>0.000028</td>\n",
              "      <td>0.000568</td>\n",
              "      <td>0.180</td>\n",
              "      <td>0.000009</td>\n",
              "      <td>0.001961</td>\n",
              "      <td>Reicofil</td>\n",
              "      <td>25.7</td>\n",
              "      <td>27.5</td>\n",
              "      <td>37.1</td>\n",
              "      <td>0.000028</td>\n",
              "      <td>-0.208301</td>\n",
              "      <td>28.35</td>\n",
              "      <td>28.290947</td>\n",
              "      <td>-0.208301</td>\n",
              "    </tr>\n",
              "    <tr>\n",
              "      <th>3</th>\n",
              "      <td>0.000030</td>\n",
              "      <td>0.000600</td>\n",
              "      <td>0.179</td>\n",
              "      <td>0.000008</td>\n",
              "      <td>0.001990</td>\n",
              "      <td>Reicofil</td>\n",
              "      <td>25.8</td>\n",
              "      <td>29.6</td>\n",
              "      <td>37.3</td>\n",
              "      <td>0.000028</td>\n",
              "      <td>-7.761488</td>\n",
              "      <td>30.28</td>\n",
              "      <td>27.929822</td>\n",
              "      <td>-7.761488</td>\n",
              "    </tr>\n",
              "    <tr>\n",
              "      <th>4</th>\n",
              "      <td>0.000034</td>\n",
              "      <td>0.000393</td>\n",
              "      <td>0.206</td>\n",
              "      <td>0.000007</td>\n",
              "      <td>0.001106</td>\n",
              "      <td>Reicofil</td>\n",
              "      <td>26.9</td>\n",
              "      <td>28.5</td>\n",
              "      <td>36.1</td>\n",
              "      <td>0.000031</td>\n",
              "      <td>-9.351349</td>\n",
              "      <td>33.76</td>\n",
              "      <td>30.602985</td>\n",
              "      <td>-9.351349</td>\n",
              "    </tr>\n",
              "    <tr>\n",
              "      <th>5</th>\n",
              "      <td>0.000035</td>\n",
              "      <td>0.000521</td>\n",
              "      <td>0.213</td>\n",
              "      <td>0.000007</td>\n",
              "      <td>0.001530</td>\n",
              "      <td>Reicofil</td>\n",
              "      <td>26.9</td>\n",
              "      <td>25.6</td>\n",
              "      <td>38.1</td>\n",
              "      <td>0.000033</td>\n",
              "      <td>-5.317701</td>\n",
              "      <td>34.67</td>\n",
              "      <td>32.826353</td>\n",
              "      <td>-5.317701</td>\n",
              "    </tr>\n",
              "  </tbody>\n",
              "</table>\n",
              "</div>"
            ],
            "text/plain": [
              "   ChargeDensity(C/m2)  thickness(m)  ...  Predicted(uC/m2)  ratio_2(%)\n",
              "0             0.000026      0.000472  ...         26.403132   -0.101657\n",
              "1             0.000028      0.000568  ...         28.290947   -0.208301\n",
              "3             0.000030      0.000600  ...         27.929822   -7.761488\n",
              "4             0.000034      0.000393  ...         30.602985   -9.351349\n",
              "5             0.000035      0.000521  ...         32.826353   -5.317701\n",
              "\n",
              "[5 rows x 14 columns]"
            ]
          },
          "metadata": {},
          "execution_count": 33
        }
      ]
    },
    {
      "cell_type": "code",
      "metadata": {
        "id": "6zNjti0bvKsO"
      },
      "source": [
        "data_val.to_csv('data_val_SEBS.csv')"
      ],
      "execution_count": 32,
      "outputs": []
    },
    {
      "cell_type": "code",
      "metadata": {
        "colab": {
          "base_uri": "https://localhost:8080/",
          "height": 265
        },
        "id": "kviqF4w-pfgE",
        "outputId": "2bfbb71b-8adb-44c6-8c42-4b7446e8d3e0"
      },
      "source": [
        "import matplotlib.pyplot as plt\n",
        "plt.scatter(data_val['ChargeDensity(uC/m2)'], data_val['Predicted(uC/m2)'])\n",
        "plt.show()"
      ],
      "execution_count": 20,
      "outputs": [
        {
          "output_type": "display_data",
          "data": {
            "image/png": "[encoded data removed]",
            "text/plain": [
              "<Figure size 432x288 with 1 Axes>"
            ]
          },
          "metadata": {
            "needs_background": "light"
          }
        }
      ]
    },
    {
      "cell_type": "markdown",
      "metadata": {
        "id": "YTVac_yS_CGt"
      },
      "source": [
        "# simulation"
      ]
    },
    {
      "cell_type": "code",
      "metadata": {
        "id": "fc-42ySw_Bm9",
        "outputId": "018881b9-24fa-4187-b5be-1d9c2a2779ff",
        "colab": {
          "base_uri": "https://localhost:8080/"
        }
      },
      "source": [
        "avg_thickness = data['thickness(m)'].mean()\n",
        "avg_solidity = data['solidity'].mean()\n",
        "avg_diameter = data['diameter(m)'].mean()\n",
        "avg_u = data['Interface(m)'].mean()\n",
        "\n",
        "\n",
        "print('avg_thickness = {:.2f}\\navg_solidity = {:.3f}\\navg_diameter = {:.2f} '.format(avg_thickness, avg_solidity, avg_diameter))\n",
        "print('avg_u = {:.3f}'.format(avg_u))\n",
        "print('thickness | {:.2f}-{:.2f} um'.format(data['thickness(m)'].min()*1E6, data['thickness(m)'].max()*1E6))\n",
        "print('solidity | {:.2f}-{:.2f}'.format(data['solidity'].min(), data['solidity'].max()))\n",
        "print('diameter | {:.2f}-{:.2f} um'.format(data['diameter(m)'].min()*1E6, data['diameter(m)'].max()*1E6))"
      ],
      "execution_count": 34,
      "outputs": [
        {
          "output_type": "stream",
          "name": "stdout",
          "text": [
            "avg_thickness = 0.00\n",
            "avg_solidity = 0.194\n",
            "avg_diameter = 0.00 \n",
            "avg_u = 0.002\n",
            "thickness | 354.60-623.10 um\n",
            "solidity | 0.15-0.24\n",
            "diameter | 6.73-16.99 um\n"
          ]
        }
      ]
    },
    {
      "cell_type": "code",
      "metadata": {
        "id": "VwFntoqr_E5E",
        "outputId": "d297b6d4-d17b-475e-d02c-a82354f0ba52",
        "colab": {
          "base_uri": "https://localhost:8080/",
          "height": 204
        }
      },
      "source": [
        "data.head()"
      ],
      "execution_count": 43,
      "outputs": [
        {
          "output_type": "execute_result",
          "data": {
            "text/html": [
              "<div>\n",
              "<style scoped>\n",
              "    .dataframe tbody tr th:only-of-type {\n",
              "        vertical-align: middle;\n",
              "    }\n",
              "\n",
              "    .dataframe tbody tr th {\n",
              "        vertical-align: top;\n",
              "    }\n",
              "\n",
              "    .dataframe thead th {\n",
              "        text-align: right;\n",
              "    }\n",
              "</style>\n",
              "<table border=\"1\" class=\"dataframe\">\n",
              "  <thead>\n",
              "    <tr style=\"text-align: right;\">\n",
              "      <th></th>\n",
              "      <th>ChargeDensity(C/m2)</th>\n",
              "      <th>thickness(m)</th>\n",
              "      <th>solidity</th>\n",
              "      <th>diameter(m)</th>\n",
              "      <th>Interface(m)</th>\n",
              "      <th>Technique</th>\n",
              "      <th>Tem (°C)</th>\n",
              "      <th>Humidity (%)</th>\n",
              "      <th>Force (N)</th>\n",
              "    </tr>\n",
              "  </thead>\n",
              "  <tbody>\n",
              "    <tr>\n",
              "      <th>0</th>\n",
              "      <td>0.000026</td>\n",
              "      <td>0.000472</td>\n",
              "      <td>0.164</td>\n",
              "      <td>0.000009</td>\n",
              "      <td>0.001728</td>\n",
              "      <td>Reicofil</td>\n",
              "      <td>26.4</td>\n",
              "      <td>25.9</td>\n",
              "      <td>35.5</td>\n",
              "    </tr>\n",
              "    <tr>\n",
              "      <th>1</th>\n",
              "      <td>0.000028</td>\n",
              "      <td>0.000568</td>\n",
              "      <td>0.180</td>\n",
              "      <td>0.000009</td>\n",
              "      <td>0.001961</td>\n",
              "      <td>Reicofil</td>\n",
              "      <td>25.7</td>\n",
              "      <td>27.5</td>\n",
              "      <td>37.1</td>\n",
              "    </tr>\n",
              "    <tr>\n",
              "      <th>2</th>\n",
              "      <td>0.000031</td>\n",
              "      <td>0.000473</td>\n",
              "      <td>0.181</td>\n",
              "      <td>0.000008</td>\n",
              "      <td>0.001501</td>\n",
              "      <td>Reicofil</td>\n",
              "      <td>26.9</td>\n",
              "      <td>28.5</td>\n",
              "      <td>36.1</td>\n",
              "    </tr>\n",
              "    <tr>\n",
              "      <th>3</th>\n",
              "      <td>0.000030</td>\n",
              "      <td>0.000600</td>\n",
              "      <td>0.179</td>\n",
              "      <td>0.000008</td>\n",
              "      <td>0.001990</td>\n",
              "      <td>Reicofil</td>\n",
              "      <td>25.8</td>\n",
              "      <td>29.6</td>\n",
              "      <td>37.3</td>\n",
              "    </tr>\n",
              "    <tr>\n",
              "      <th>4</th>\n",
              "      <td>0.000034</td>\n",
              "      <td>0.000393</td>\n",
              "      <td>0.206</td>\n",
              "      <td>0.000007</td>\n",
              "      <td>0.001106</td>\n",
              "      <td>Reicofil</td>\n",
              "      <td>26.9</td>\n",
              "      <td>28.5</td>\n",
              "      <td>36.1</td>\n",
              "    </tr>\n",
              "  </tbody>\n",
              "</table>\n",
              "</div>"
            ],
            "text/plain": [
              "   ChargeDensity(C/m2)  thickness(m)  ...  Humidity (%)  Force (N)\n",
              "0             0.000026      0.000472  ...          25.9       35.5\n",
              "1             0.000028      0.000568  ...          27.5       37.1\n",
              "2             0.000031      0.000473  ...          28.5       36.1\n",
              "3             0.000030      0.000600  ...          29.6       37.3\n",
              "4             0.000034      0.000393  ...          28.5       36.1\n",
              "\n",
              "[5 rows x 9 columns]"
            ]
          },
          "metadata": {},
          "execution_count": 43
        }
      ]
    },
    {
      "cell_type": "code",
      "metadata": {
        "id": "UMf0j_6C_Lss",
        "outputId": "1ed792d7-22c9-4efe-8768-006ffd148264",
        "colab": {
          "base_uri": "https://localhost:8080/"
        }
      },
      "source": [
        "set_thickness = data.loc[0]['thickness(m)']\n",
        "set_solidity = data.loc[0]['solidity']\n",
        "set_diameter = data.loc[0]['diameter(m)']\n",
        "set_u = data.loc[0]['Interface(m)']\n",
        "set_h = data.loc[0]['Humidity (%)']\n",
        "print('set_thickness = {:.3E}\\nset_solidity = {:.3f}\\nset_diameter = {:.2E} \\nset_u= {:.3f} \\nset_h= {:.1f}'.format(set_thickness, set_solidity, set_diameter, set_u, set_h))\n",
        "\n",
        "set_j = data.loc[0]['ChargeDensity(C/m2)']\n",
        "print('measured j= {:.2E}'.format(set_j))"
      ],
      "execution_count": 46,
      "outputs": [
        {
          "output_type": "stream",
          "name": "stdout",
          "text": [
            "set_thickness = 4.724E-04\n",
            "set_solidity = 0.164\n",
            "set_diameter = 9.09E-06 \n",
            "set_u= 0.002 \n",
            "set_h= 25.9\n",
            "measured j= 2.64E-05\n"
          ]
        }
      ]
    },
    {
      "cell_type": "code",
      "metadata": {
        "id": "ULH27meSCjlA",
        "outputId": "135e61fe-7af2-4062-a9f2-eaa024af5f89",
        "colab": {
          "base_uri": "https://localhost:8080/",
          "height": 281
        }
      },
      "source": [
        "plt.style.use('ggplot')\n",
        "plt.style.use('seaborn-whitegrid')\n",
        "plt.rcParams['axes.facecolor'] = 'none'\n",
        "\n",
        "\n",
        "fig, ax = plt.subplots(1,3, figsize=(8,3.5), sharey=True)\n",
        "\n",
        "\n",
        "#-----------------------------------------------------------------------------------------------\n",
        "# Thickness ~ charge\n",
        "x = np.linspace(100, 1200)*pow(10,-6)\n",
        "y = set_solidity\n",
        "z = set_diameter\n",
        "u = set_u\n",
        "h = set_h\n",
        "\n",
        "J =  (a-w*h)*(2*x*y/z-c*y**m*x**n/z**p)*0.01/(0.01+u)\n",
        "\n",
        "ax[0].plot(x*pow(10,6), J*pow(10,6), linestyle=\"--\", linewidth = 6)\n",
        "ax[0].scatter(set_thickness*pow(10,6), set_j*pow(10,6), c='b', marker = '^', s=1000)\n",
        "\n",
        "ax[0].set_xlabel(\"Thickness \\n(um)\", fontsize=16)\n",
        "ax[0].set_ylabel(\"(uC/m2)\", fontsize=16)\n",
        "ax[0].tick_params(axis = 'x', labelsize=14)\n",
        "ax[0].tick_params(axis = 'y', labelsize=14)\n",
        "ax[0].set_ylim(0,50)\n",
        "\n",
        "\n",
        "\n",
        "#-----------------------------------------------------------------------------------------------\n",
        "# solidity ~ charge\n",
        "\n",
        "x = set_thickness\n",
        "y = np.linspace(0.05, 0.7)\n",
        "z = set_diameter\n",
        "u = set_u\n",
        "h = set_h\n",
        "\n",
        "J = (a-w*h)*(2*x*y/z-c*y**m*x**n/z**p)*0.01/(0.01+u)\n",
        "\n",
        "\n",
        "ax[1].plot(y,J*pow(10,6), linestyle=\"--\", linewidth = 6)\n",
        "ax[1].scatter(set_solidity, set_j*pow(10,6), c='b', marker = '^', s=1000)\n",
        "\n",
        "ax[1].set_xlabel(\"solidity\", fontsize=16)\n",
        "\n",
        "ax[1].tick_params(axis = 'x', labelsize=14)\n",
        "ax[1].tick_params(axis = 'y', labelsize=14)\n",
        "\n",
        "    \n",
        "#-----------------------------------------------------------------------------------------------\n",
        "# Diameter ~ Charge\n",
        "\n",
        "x = set_thickness\n",
        "y = set_solidity\n",
        "z = np.linspace(3, 20)*pow(10,-6)\n",
        "u = set_u\n",
        "h = set_h\n",
        "\n",
        "J =  (a-w*h)*(2*x*y/z-c*y**m*x**n/z**p)*0.01/(0.01+u)\n",
        "\n",
        "ax[2].plot(z*pow(10,6),J*pow(10,6), linestyle=\"--\", linewidth = 6)\n",
        "ax[2].scatter(set_diameter*pow(10,6), set_j*pow(10,6), c='b', marker = '^', s=1000)\n",
        "\n",
        "ax[2].set_xlabel(\"diameter\\n (um)\", fontsize=16)\n",
        "\n",
        "\n",
        "\n",
        "\n",
        "ax[2].tick_params(axis = 'x', labelsize=14)\n",
        "ax[2].tick_params(axis = 'y', labelsize=14)"
      ],
      "execution_count": 55,
      "outputs": [
        {
          "output_type": "display_data",
          "data": {
            "image/png": "[encoded data removed]",
            "text/plain": [
              "<Figure size 576x252 with 3 Axes>"
            ]
          },
          "metadata": {}
        }
      ]
    },
    {
      "cell_type": "code",
      "metadata": {
        "id": "BoDm1sZcAb6o"
      },
      "source": [
        "simulation_df = pd.DataFrame()\n",
        "\n",
        "#-----------------------------------------------------------------------------------------------\n",
        "# Thickness ~ charge\n",
        "x = np.linspace(100, 1200)*pow(10,-6)\n",
        "y = set_solidity\n",
        "z = set_diameter\n",
        "u = set_u\n",
        "h = set_h\n",
        "\n",
        "J = (a-w*h)*(2*x*y/z-c*y**m*x**n/z**p)*0.01/(0.01+u)\n",
        "\n",
        "\n",
        "simulation_df['thickness (um)']=np.linspace(100, 1200)\n",
        "simulation_df['charge (uC)_1']=J*pow(10,6)\n",
        "\n",
        "#-----------------------------------------------------------------------------------------------\n",
        "# solidity ~ charge\n",
        "\n",
        "x = set_thickness\n",
        "y = np.linspace(0.05, 0.7)\n",
        "z = set_diameter\n",
        "u = set_u\n",
        "h = set_h\n",
        "\n",
        "J = (a-w*h)*(2*x*y/z-c*y**m*x**n/z**p)*0.01/(0.01+u)\n",
        "\n",
        "\n",
        "\n",
        "\n",
        "simulation_df['solidity']=y\n",
        "simulation_df['charge (uC)_2']=J*pow(10,6)\n",
        "\n",
        "    \n",
        "#-----------------------------------------------------------------------------------------------\n",
        "# Diameter ~ Charge\n",
        "\n",
        "x = set_thickness\n",
        "y = set_solidity\n",
        "z = np.linspace(3, 20)*pow(10,-6)\n",
        "u = set_u\n",
        "h = set_h\n",
        "\n",
        "J = (a-w*h)*(2*x*y/z-c*y**m*x**n/z**p)*0.01/(0.01+u)\n",
        "\n",
        "\n",
        "\n",
        "simulation_df['diameter (um)']=z*pow(10,6)\n",
        "simulation_df['charge (uC)_3']=J*pow(10,6)"
      ],
      "execution_count": 49,
      "outputs": []
    },
    {
      "cell_type": "code",
      "metadata": {
        "id": "5AfjkVTBBDMP",
        "outputId": "9d949cf4-f569-4d3e-8e31-5710464c4740",
        "colab": {
          "base_uri": "https://localhost:8080/",
          "height": 204
        }
      },
      "source": [
        "simulation_df.head()"
      ],
      "execution_count": 50,
      "outputs": [
        {
          "output_type": "execute_result",
          "data": {
            "text/html": [
              "<div>\n",
              "<style scoped>\n",
              "    .dataframe tbody tr th:only-of-type {\n",
              "        vertical-align: middle;\n",
              "    }\n",
              "\n",
              "    .dataframe tbody tr th {\n",
              "        vertical-align: top;\n",
              "    }\n",
              "\n",
              "    .dataframe thead th {\n",
              "        text-align: right;\n",
              "    }\n",
              "</style>\n",
              "<table border=\"1\" class=\"dataframe\">\n",
              "  <thead>\n",
              "    <tr style=\"text-align: right;\">\n",
              "      <th></th>\n",
              "      <th>thickness (um)</th>\n",
              "      <th>charge (uC)_1</th>\n",
              "      <th>solidity</th>\n",
              "      <th>charge (uC)_2</th>\n",
              "      <th>diameter (um)</th>\n",
              "      <th>charge (uC)_3</th>\n",
              "    </tr>\n",
              "  </thead>\n",
              "  <tbody>\n",
              "    <tr>\n",
              "      <th>0</th>\n",
              "      <td>100.000000</td>\n",
              "      <td>9.172126</td>\n",
              "      <td>0.050000</td>\n",
              "      <td>11.023243</td>\n",
              "      <td>3.000000</td>\n",
              "      <td>9.047524</td>\n",
              "    </tr>\n",
              "    <tr>\n",
              "      <th>1</th>\n",
              "      <td>122.448980</td>\n",
              "      <td>10.813000</td>\n",
              "      <td>0.063265</td>\n",
              "      <td>13.298710</td>\n",
              "      <td>3.346939</td>\n",
              "      <td>15.957414</td>\n",
              "    </tr>\n",
              "    <tr>\n",
              "      <th>2</th>\n",
              "      <td>144.897959</td>\n",
              "      <td>12.349417</td>\n",
              "      <td>0.076531</td>\n",
              "      <td>15.412898</td>\n",
              "      <td>3.693878</td>\n",
              "      <td>20.562255</td>\n",
              "    </tr>\n",
              "    <tr>\n",
              "      <th>3</th>\n",
              "      <td>167.346939</td>\n",
              "      <td>13.790889</td>\n",
              "      <td>0.089796</td>\n",
              "      <td>17.386641</td>\n",
              "      <td>4.040816</td>\n",
              "      <td>23.655719</td>\n",
              "    </tr>\n",
              "    <tr>\n",
              "      <th>4</th>\n",
              "      <td>189.795918</td>\n",
              "      <td>15.144853</td>\n",
              "      <td>0.103061</td>\n",
              "      <td>19.235296</td>\n",
              "      <td>4.387755</td>\n",
              "      <td>25.728794</td>\n",
              "    </tr>\n",
              "  </tbody>\n",
              "</table>\n",
              "</div>"
            ],
            "text/plain": [
              "   thickness (um)  charge (uC)_1  ...  diameter (um)  charge (uC)_3\n",
              "0      100.000000       9.172126  ...       3.000000       9.047524\n",
              "1      122.448980      10.813000  ...       3.346939      15.957414\n",
              "2      144.897959      12.349417  ...       3.693878      20.562255\n",
              "3      167.346939      13.790889  ...       4.040816      23.655719\n",
              "4      189.795918      15.144853  ...       4.387755      25.728794\n",
              "\n",
              "[5 rows x 6 columns]"
            ]
          },
          "metadata": {},
          "execution_count": 50
        }
      ]
    },
    {
      "cell_type": "code",
      "metadata": {
        "id": "KAAASfeXBGhp"
      },
      "source": [
        "simulation_df.to_excel('simulation_df_SEBS.xlsx')"
      ],
      "execution_count": 51,
      "outputs": []
    },
    {
      "cell_type": "markdown",
      "metadata": {
        "id": "_JwCrmDKivfc"
      },
      "source": [
        "# Validation at different random seeds"
      ]
    },
    {
      "cell_type": "code",
      "metadata": {
        "id": "cNCx_w2OintX"
      },
      "source": [
        "def get_index(random_state, data):\n",
        "  kf = KFold(n_splits=5, shuffle = True, random_state=random_state)\n",
        "  train_indexs = []\n",
        "  test_indexs = []\n",
        "  for train_index, test_index in kf.split(data):\n",
        "      train_indexs.append(train_index)\n",
        "      test_indexs.append(test_index)\n",
        "  index=pd.DataFrame(zip(train_indexs, test_indexs), columns=['train_index','test_index'])\n",
        "  return index"
      ],
      "execution_count": 21,
      "outputs": []
    },
    {
      "cell_type": "code",
      "metadata": {
        "id": "n3u1xnV6iySV"
      },
      "source": [
        "def get_scores(n_fold, index, data):\n",
        "  train_index = index.iloc[n_fold,0]\n",
        "  test_index = index.iloc[n_fold,1]\n",
        "  train, test = data.iloc[train_index], data.iloc[test_index]\n",
        "  train_shape=train.shape\n",
        "  test_shape=test.shape\n",
        "\n",
        "  def func(X,a, w, c, m, n, p):\n",
        "    x,y,z,u,h = X\n",
        "    return (a-w*h)*(2*x*y/z-c*y**m*x**n/z**p)*0.01/(0.01+u)\n",
        "\n",
        "  x=train['thickness(m)'].to_numpy()\n",
        "  y=train['solidity'].to_numpy()\n",
        "  z=train['diameter(m)'].to_numpy()\n",
        "  u=train['Interface(m)'].to_numpy()\n",
        "  h=train['Humidity (%)'].to_numpy()\n",
        "  j=train['ChargeDensity(C/m2)'].to_numpy()\n",
        "\n",
        "\n",
        "  # initial guesses for a,b,c,m,n,p:\n",
        "  p0 = 1E-6 , 1E-10 ,1. , 1. , 1., 1.\n",
        "\n",
        "   # trf & dogbox\n",
        "       #    a          w           c        m          n       p\n",
        "  bound=((  0,         0,          0,       0,         0 ,     0 ), \n",
        "       (np.inf,    np.inf,    np.inf,     np.inf,    np.inf, np.inf))\n",
        "  \n",
        "  ## trf\n",
        "  popt_trf,pcov = curve_fit(func,(x,y,z,u,h),j, p0, bounds = bound, method='trf', maxfev=500000)\n",
        "\n",
        "  y_model_trf = func((x,y,z,u,h),popt_trf[0],popt_trf[1],popt_trf[2], popt_trf[3],popt_trf[4],popt_trf[5]) \n",
        "  MSE_trf = np.sum((j - y_model_trf)**2)/train.shape[0]\n",
        "  MAE_trf = np.sum(abs(j - y_model_trf))/train.shape[0]\n",
        "\n",
        "  ## dogbox\n",
        "  popt_dog, pcov = curve_fit(func,(x,y,z,u,h),j, p0, bounds = bound, method='dogbox', maxfev=500000)\n",
        "  y_model_dog = func((x,y,z,u,h),popt_dog[0],popt_dog[1],popt_dog[2],popt_dog[3],popt_dog[4],popt_dog[5]) \n",
        "  MSE_dog = np.sum((j - y_model_dog)**2)/train.shape[0]\n",
        "  MAE_dog = np.sum(abs(j - y_model_dog))/train.shape[0]\n",
        "\n",
        "  if MSE_trf < MSE_dog:\n",
        "    a,w,c,m,n,p = popt_trf[0],popt_trf[1],popt_trf[2],popt_trf[3],popt_trf[4], popt_trf[5]\n",
        "    print('trf Method is the best method')\n",
        "  else:\n",
        "    a,w,c,m,n,p = popt_dog[0], popt_dog[1], popt_dog[2], popt_dog[3], popt_dog[4], popt_dog[5]\n",
        "    print(\"dogbox Method is the best method\")\n",
        "  trf_result=\"trf Method | MSE = {:.2E}| MAE = {:.2E}| a = {}, w = {}, c = {},m = {}, n = {}, p = {}\".format(MSE_trf,MAE_trf,popt_trf[0],popt_trf[1],popt_trf[2],popt_trf[3],popt_trf[4], popt_trf[5])\n",
        "  dog_result=\"dog Method | MSE = {:.2E}| MAE = {:.2E}| a = {}, w = {}, c = {},m = {}, n = {}, p = {}\".format(MSE_dog,MAE_dog,popt_dog[0], popt_dog[1], popt_dog[2], popt_dog[3], popt_dog[4], popt_dog[5])\n",
        "  # print(trf_result)\n",
        "  # print(dog_result)\n",
        "  \n",
        "  # Validate \n",
        "  \n",
        "  data_val = pd.concat([train, test])\n",
        "  x=data_val['thickness(m)'].to_numpy()\n",
        "  y=data_val['solidity'].to_numpy()\n",
        "  z=data_val['diameter(m)'].to_numpy()\n",
        "  u=data_val['Interface(m)'].to_numpy()\n",
        "  h=data_val['Humidity (%)'].to_numpy()\n",
        "  j=data_val['ChargeDensity(C/m2)'].to_numpy()\n",
        "\n",
        "\n",
        "  data_val['Predicted(C/m2)'] = (a-w*h)*(2*x*y/z-c*y**m*x**n/z**p)*0.01/(0.01+u)\n",
        "\n",
        "  \n",
        "  def mean_absolute_percentage_error(y_true, y_pred):\n",
        "    y_true, y_pred = np.array(y_true), np.array(y_pred)\n",
        "    return np.mean(np.abs((y_true - y_pred) / y_true)) * 100\n",
        "  \n",
        "  mape_trf = mean_absolute_percentage_error(data_val['ChargeDensity(C/m2)'], data_val['Predicted(C/m2)'])\n",
        "  mape_trf_train = mean_absolute_percentage_error(data_val['ChargeDensity(C/m2)'][0:train.shape[0]], data_val['Predicted(C/m2)'][0:train.shape[0]])\n",
        "  mape_trf_test = mean_absolute_percentage_error(data_val['ChargeDensity(C/m2)'][train.shape[0]:data_val.shape[0]], data_val['Predicted(C/m2)'][train.shape[0]:data_val.shape[0]])\n",
        "\n",
        "  return n_fold, train_shape, test_shape, mape_trf, mape_trf_train, mape_trf_test"
      ],
      "execution_count": 22,
      "outputs": []
    },
    {
      "cell_type": "code",
      "metadata": {
        "id": "ZewxKhPSjqw4"
      },
      "source": [
        "max_random_sate = 100"
      ],
      "execution_count": 23,
      "outputs": []
    },
    {
      "cell_type": "code",
      "metadata": {
        "id": "N8NpdvFCjsXO",
        "colab": {
          "base_uri": "https://localhost:8080/"
        },
        "outputId": "25ecf413-7ff1-401e-8623-222a766576ac"
      },
      "source": [
        "random_states = []\n",
        "n_folds = []\n",
        "train_shapes = []\n",
        "test_shapes = []\n",
        "\n",
        "MAPEs = []\n",
        "train_MAPEs = []\n",
        "test_MAPEs = []\n",
        "\n",
        "\n",
        "for random_state in range(max_random_sate):\n",
        "  index = get_index(random_state, data)\n",
        "  for n_fold in range(5):\n",
        "    random_states.append(random_state)\n",
        "    n_fold, train_shape, test_shape, MAPE, train_MAPE, test_MAPE = get_scores(n_fold, index, data)\n",
        "    n_folds.append(n_fold)\n",
        "    train_shapes.append(train_shape)\n",
        "    test_shapes.append(test_shape)\n",
        "    \n",
        "    MAPEs.append(MAPE)\n",
        "    train_MAPEs.append(train_MAPE)\n",
        "    test_MAPEs.append(test_MAPE)\n"
      ],
      "execution_count": 24,
      "outputs": [
        {
          "output_type": "stream",
          "name": "stdout",
          "text": [
            "trf Method is the best method\n",
            "trf Method is the best method\n",
            "trf Method is the best method\n",
            "trf Method is the best method\n",
            "trf Method is the best method\n",
            "trf Method is the best method\n",
            "trf Method is the best method\n",
            "trf Method is the best method\n",
            "trf Method is the best method\n",
            "trf Method is the best method\n",
            "trf Method is the best method\n",
            "trf Method is the best method\n",
            "trf Method is the best method\n",
            "trf Method is the best method\n",
            "trf Method is the best method\n",
            "trf Method is the best method\n",
            "trf Method is the best method\n",
            "trf Method is the best method\n",
            "trf Method is the best method\n",
            "trf Method is the best method\n",
            "trf Method is the best method\n",
            "trf Method is the best method\n",
            "trf Method is the best method\n",
            "trf Method is the best method\n",
            "trf Method is the best method\n",
            "trf Method is the best method\n",
            "trf Method is the best method\n",
            "trf Method is the best method\n",
            "trf Method is the best method\n",
            "trf Method is the best method\n",
            "trf Method is the best method\n",
            "trf Method is the best method\n",
            "trf Method is the best method\n",
            "trf Method is the best method\n",
            "trf Method is the best method\n",
            "trf Method is the best method\n",
            "trf Method is the best method\n",
            "trf Method is the best method\n",
            "trf Method is the best method\n",
            "trf Method is the best method\n",
            "trf Method is the best method\n",
            "trf Method is the best method\n",
            "trf Method is the best method\n",
            "trf Method is the best method\n",
            "trf Method is the best method\n",
            "trf Method is the best method\n",
            "trf Method is the best method\n",
            "trf Method is the best method\n",
            "trf Method is the best method\n",
            "trf Method is the best method\n",
            "trf Method is the best method\n",
            "trf Method is the best method\n",
            "trf Method is the best method\n",
            "trf Method is the best method\n",
            "trf Method is the best method\n",
            "trf Method is the best method\n",
            "trf Method is the best method\n",
            "trf Method is the best method\n",
            "trf Method is the best method\n",
            "trf Method is the best method\n",
            "trf Method is the best method\n",
            "trf Method is the best method\n",
            "trf Method is the best method\n",
            "trf Method is the best method\n",
            "trf Method is the best method\n",
            "trf Method is the best method\n",
            "trf Method is the best method\n",
            "trf Method is the best method\n",
            "trf Method is the best method\n",
            "trf Method is the best method\n",
            "trf Method is the best method\n",
            "trf Method is the best method\n",
            "trf Method is the best method\n",
            "trf Method is the best method\n",
            "trf Method is the best method\n",
            "trf Method is the best method\n",
            "trf Method is the best method\n",
            "trf Method is the best method\n",
            "trf Method is the best method\n",
            "trf Method is the best method\n",
            "trf Method is the best method\n",
            "trf Method is the best method\n",
            "trf Method is the best method\n",
            "trf Method is the best method\n",
            "trf Method is the best method\n",
            "trf Method is the best method\n",
            "trf Method is the best method\n",
            "trf Method is the best method\n",
            "trf Method is the best method\n",
            "trf Method is the best method\n",
            "trf Method is the best method\n",
            "trf Method is the best method\n",
            "trf Method is the best method\n",
            "trf Method is the best method\n",
            "trf Method is the best method\n",
            "trf Method is the best method\n",
            "trf Method is the best method\n",
            "trf Method is the best method\n",
            "trf Method is the best method\n",
            "trf Method is the best method\n",
            "trf Method is the best method\n",
            "trf Method is the best method\n",
            "trf Method is the best method\n",
            "trf Method is the best method\n",
            "trf Method is the best method\n",
            "trf Method is the best method\n",
            "trf Method is the best method\n",
            "trf Method is the best method\n",
            "trf Method is the best method\n",
            "trf Method is the best method\n",
            "trf Method is the best method\n",
            "trf Method is the best method\n",
            "trf Method is the best method\n",
            "trf Method is the best method\n",
            "trf Method is the best method\n",
            "trf Method is the best method\n",
            "trf Method is the best method\n",
            "trf Method is the best method\n",
            "trf Method is the best method\n",
            "trf Method is the best method\n",
            "trf Method is the best method\n",
            "trf Method is the best method\n",
            "trf Method is the best method\n",
            "trf Method is the best method\n",
            "trf Method is the best method\n",
            "trf Method is the best method\n",
            "trf Method is the best method\n",
            "trf Method is the best method\n",
            "trf Method is the best method\n",
            "trf Method is the best method\n",
            "trf Method is the best method\n",
            "trf Method is the best method\n",
            "trf Method is the best method\n",
            "trf Method is the best method\n",
            "trf Method is the best method\n",
            "trf Method is the best method\n",
            "trf Method is the best method\n",
            "trf Method is the best method\n",
            "trf Method is the best method\n",
            "trf Method is the best method\n",
            "trf Method is the best method\n",
            "trf Method is the best method\n",
            "trf Method is the best method\n",
            "trf Method is the best method\n",
            "trf Method is the best method\n",
            "trf Method is the best method\n",
            "trf Method is the best method\n",
            "trf Method is the best method\n",
            "trf Method is the best method\n",
            "trf Method is the best method\n",
            "trf Method is the best method\n",
            "trf Method is the best method\n",
            "trf Method is the best method\n",
            "trf Method is the best method\n",
            "trf Method is the best method\n",
            "trf Method is the best method\n",
            "trf Method is the best method\n",
            "trf Method is the best method\n",
            "trf Method is the best method\n",
            "trf Method is the best method\n",
            "trf Method is the best method\n",
            "trf Method is the best method\n",
            "trf Method is the best method\n",
            "trf Method is the best method\n",
            "trf Method is the best method\n",
            "trf Method is the best method\n",
            "trf Method is the best method\n",
            "trf Method is the best method\n",
            "trf Method is the best method\n",
            "trf Method is the best method\n",
            "trf Method is the best method\n",
            "trf Method is the best method\n",
            "trf Method is the best method\n",
            "trf Method is the best method\n",
            "trf Method is the best method\n",
            "trf Method is the best method\n",
            "trf Method is the best method\n",
            "trf Method is the best method\n",
            "trf Method is the best method\n",
            "trf Method is the best method\n",
            "trf Method is the best method\n",
            "trf Method is the best method\n",
            "trf Method is the best method\n",
            "trf Method is the best method\n",
            "trf Method is the best method\n",
            "trf Method is the best method\n",
            "trf Method is the best method\n",
            "trf Method is the best method\n",
            "trf Method is the best method\n",
            "trf Method is the best method\n",
            "trf Method is the best method\n",
            "trf Method is the best method\n",
            "trf Method is the best method\n",
            "trf Method is the best method\n",
            "trf Method is the best method\n",
            "trf Method is the best method\n",
            "trf Method is the best method\n",
            "trf Method is the best method\n",
            "trf Method is the best method\n",
            "trf Method is the best method\n",
            "trf Method is the best method\n",
            "trf Method is the best method\n",
            "trf Method is the best method\n",
            "trf Method is the best method\n",
            "trf Method is the best method\n",
            "trf Method is the best method\n",
            "trf Method is the best method\n",
            "trf Method is the best method\n",
            "trf Method is the best method\n",
            "trf Method is the best method\n",
            "trf Method is the best method\n",
            "trf Method is the best method\n",
            "trf Method is the best method\n",
            "trf Method is the best method\n",
            "trf Method is the best method\n",
            "trf Method is the best method\n",
            "trf Method is the best method\n",
            "trf Method is the best method\n",
            "trf Method is the best method\n",
            "trf Method is the best method\n",
            "trf Method is the best method\n",
            "trf Method is the best method\n",
            "trf Method is the best method\n",
            "trf Method is the best method\n",
            "trf Method is the best method\n",
            "trf Method is the best method\n",
            "trf Method is the best method\n",
            "trf Method is the best method\n",
            "trf Method is the best method\n",
            "trf Method is the best method\n",
            "trf Method is the best method\n",
            "trf Method is the best method\n",
            "trf Method is the best method\n",
            "trf Method is the best method\n",
            "trf Method is the best method\n",
            "trf Method is the best method\n",
            "trf Method is the best method\n",
            "trf Method is the best method\n",
            "trf Method is the best method\n",
            "trf Method is the best method\n",
            "trf Method is the best method\n",
            "trf Method is the best method\n",
            "trf Method is the best method\n",
            "trf Method is the best method\n",
            "trf Method is the best method\n",
            "trf Method is the best method\n",
            "trf Method is the best method\n",
            "trf Method is the best method\n",
            "trf Method is the best method\n",
            "trf Method is the best method\n",
            "trf Method is the best method\n",
            "trf Method is the best method\n",
            "trf Method is the best method\n",
            "trf Method is the best method\n",
            "trf Method is the best method\n",
            "trf Method is the best method\n",
            "trf Method is the best method\n",
            "trf Method is the best method\n",
            "trf Method is the best method\n",
            "trf Method is the best method\n",
            "trf Method is the best method\n",
            "trf Method is the best method\n",
            "trf Method is the best method\n",
            "trf Method is the best method\n",
            "trf Method is the best method\n",
            "trf Method is the best method\n",
            "trf Method is the best method\n",
            "trf Method is the best method\n",
            "trf Method is the best method\n",
            "trf Method is the best method\n",
            "trf Method is the best method\n",
            "trf Method is the best method\n",
            "trf Method is the best method\n",
            "trf Method is the best method\n",
            "trf Method is the best method\n",
            "trf Method is the best method\n",
            "trf Method is the best method\n",
            "trf Method is the best method\n",
            "trf Method is the best method\n",
            "trf Method is the best method\n",
            "trf Method is the best method\n",
            "trf Method is the best method\n",
            "trf Method is the best method\n",
            "trf Method is the best method\n",
            "trf Method is the best method\n",
            "trf Method is the best method\n",
            "trf Method is the best method\n",
            "trf Method is the best method\n",
            "trf Method is the best method\n",
            "trf Method is the best method\n",
            "trf Method is the best method\n",
            "trf Method is the best method\n",
            "trf Method is the best method\n",
            "trf Method is the best method\n",
            "trf Method is the best method\n",
            "trf Method is the best method\n",
            "trf Method is the best method\n",
            "trf Method is the best method\n",
            "trf Method is the best method\n",
            "trf Method is the best method\n",
            "trf Method is the best method\n",
            "trf Method is the best method\n",
            "trf Method is the best method\n",
            "trf Method is the best method\n",
            "trf Method is the best method\n",
            "trf Method is the best method\n",
            "trf Method is the best method\n",
            "trf Method is the best method\n",
            "trf Method is the best method\n",
            "trf Method is the best method\n",
            "trf Method is the best method\n",
            "trf Method is the best method\n",
            "trf Method is the best method\n",
            "trf Method is the best method\n",
            "trf Method is the best method\n",
            "trf Method is the best method\n",
            "trf Method is the best method\n",
            "trf Method is the best method\n",
            "trf Method is the best method\n",
            "trf Method is the best method\n",
            "trf Method is the best method\n",
            "trf Method is the best method\n",
            "trf Method is the best method\n",
            "trf Method is the best method\n",
            "trf Method is the best method\n",
            "trf Method is the best method\n",
            "trf Method is the best method\n",
            "trf Method is the best method\n",
            "trf Method is the best method\n",
            "trf Method is the best method\n",
            "trf Method is the best method\n",
            "trf Method is the best method\n",
            "trf Method is the best method\n",
            "trf Method is the best method\n",
            "trf Method is the best method\n",
            "trf Method is the best method\n",
            "trf Method is the best method\n",
            "trf Method is the best method\n",
            "trf Method is the best method\n",
            "trf Method is the best method\n",
            "trf Method is the best method\n",
            "trf Method is the best method\n",
            "trf Method is the best method\n",
            "trf Method is the best method\n",
            "trf Method is the best method\n",
            "trf Method is the best method\n",
            "trf Method is the best method\n",
            "trf Method is the best method\n",
            "trf Method is the best method\n",
            "trf Method is the best method\n",
            "trf Method is the best method\n",
            "trf Method is the best method\n",
            "trf Method is the best method\n",
            "trf Method is the best method\n",
            "trf Method is the best method\n",
            "trf Method is the best method\n",
            "trf Method is the best method\n",
            "trf Method is the best method\n",
            "trf Method is the best method\n",
            "trf Method is the best method\n",
            "trf Method is the best method\n",
            "trf Method is the best method\n",
            "trf Method is the best method\n",
            "trf Method is the best method\n",
            "trf Method is the best method\n",
            "trf Method is the best method\n",
            "trf Method is the best method\n",
            "trf Method is the best method\n",
            "trf Method is the best method\n",
            "trf Method is the best method\n",
            "trf Method is the best method\n",
            "trf Method is the best method\n",
            "trf Method is the best method\n",
            "trf Method is the best method\n",
            "trf Method is the best method\n",
            "trf Method is the best method\n",
            "trf Method is the best method\n",
            "trf Method is the best method\n",
            "trf Method is the best method\n",
            "trf Method is the best method\n",
            "trf Method is the best method\n",
            "trf Method is the best method\n",
            "trf Method is the best method\n",
            "trf Method is the best method\n",
            "trf Method is the best method\n",
            "trf Method is the best method\n",
            "trf Method is the best method\n",
            "trf Method is the best method\n",
            "trf Method is the best method\n",
            "trf Method is the best method\n",
            "trf Method is the best method\n",
            "trf Method is the best method\n",
            "trf Method is the best method\n",
            "trf Method is the best method\n",
            "trf Method is the best method\n",
            "trf Method is the best method\n",
            "trf Method is the best method\n",
            "trf Method is the best method\n",
            "trf Method is the best method\n",
            "trf Method is the best method\n",
            "trf Method is the best method\n",
            "trf Method is the best method\n",
            "trf Method is the best method\n",
            "trf Method is the best method\n",
            "trf Method is the best method\n",
            "trf Method is the best method\n",
            "trf Method is the best method\n",
            "trf Method is the best method\n",
            "trf Method is the best method\n",
            "trf Method is the best method\n",
            "trf Method is the best method\n",
            "trf Method is the best method\n",
            "trf Method is the best method\n",
            "trf Method is the best method\n",
            "trf Method is the best method\n",
            "trf Method is the best method\n",
            "trf Method is the best method\n",
            "trf Method is the best method\n",
            "trf Method is the best method\n",
            "trf Method is the best method\n",
            "trf Method is the best method\n",
            "trf Method is the best method\n",
            "trf Method is the best method\n",
            "trf Method is the best method\n",
            "trf Method is the best method\n",
            "trf Method is the best method\n",
            "trf Method is the best method\n",
            "trf Method is the best method\n",
            "trf Method is the best method\n",
            "trf Method is the best method\n",
            "trf Method is the best method\n",
            "trf Method is the best method\n",
            "trf Method is the best method\n",
            "trf Method is the best method\n",
            "trf Method is the best method\n",
            "trf Method is the best method\n",
            "trf Method is the best method\n",
            "trf Method is the best method\n",
            "trf Method is the best method\n",
            "trf Method is the best method\n",
            "trf Method is the best method\n",
            "trf Method is the best method\n",
            "trf Method is the best method\n",
            "trf Method is the best method\n",
            "trf Method is the best method\n",
            "trf Method is the best method\n",
            "trf Method is the best method\n",
            "trf Method is the best method\n",
            "trf Method is the best method\n",
            "trf Method is the best method\n",
            "trf Method is the best method\n",
            "trf Method is the best method\n",
            "trf Method is the best method\n",
            "trf Method is the best method\n",
            "trf Method is the best method\n",
            "trf Method is the best method\n",
            "trf Method is the best method\n",
            "trf Method is the best method\n",
            "trf Method is the best method\n",
            "trf Method is the best method\n",
            "trf Method is the best method\n",
            "trf Method is the best method\n",
            "trf Method is the best method\n",
            "trf Method is the best method\n",
            "trf Method is the best method\n",
            "trf Method is the best method\n",
            "trf Method is the best method\n",
            "trf Method is the best method\n",
            "trf Method is the best method\n",
            "trf Method is the best method\n",
            "trf Method is the best method\n",
            "trf Method is the best method\n",
            "trf Method is the best method\n",
            "trf Method is the best method\n",
            "trf Method is the best method\n",
            "trf Method is the best method\n",
            "trf Method is the best method\n",
            "trf Method is the best method\n",
            "trf Method is the best method\n",
            "trf Method is the best method\n",
            "trf Method is the best method\n",
            "trf Method is the best method\n",
            "trf Method is the best method\n",
            "trf Method is the best method\n",
            "trf Method is the best method\n",
            "trf Method is the best method\n",
            "trf Method is the best method\n",
            "trf Method is the best method\n",
            "trf Method is the best method\n",
            "trf Method is the best method\n",
            "trf Method is the best method\n",
            "trf Method is the best method\n",
            "trf Method is the best method\n",
            "trf Method is the best method\n",
            "trf Method is the best method\n",
            "trf Method is the best method\n",
            "trf Method is the best method\n",
            "trf Method is the best method\n",
            "trf Method is the best method\n",
            "trf Method is the best method\n"
          ]
        }
      ]
    },
    {
      "cell_type": "code",
      "metadata": {
        "id": "FYVXB-IOjyrK",
        "colab": {
          "base_uri": "https://localhost:8080/",
          "height": 419
        },
        "outputId": "d3ba6216-e41a-496f-96b8-0c6f7b9852de"
      },
      "source": [
        "summary = pd.DataFrame()\n",
        "summary['random_state']=random_states\n",
        "summary['n_fold']=n_folds\n",
        "summary['train_shape'] = train_shapes\n",
        "summary['test_shape'] = test_shapes\n",
        "\n",
        "summary['MAPE'] = MAPEs\n",
        "summary['train_MAPE'] = train_MAPEs\n",
        "summary['test_MAPE'] = test_MAPEs\n",
        "\n",
        "summary"
      ],
      "execution_count": 25,
      "outputs": [
        {
          "output_type": "execute_result",
          "data": {
            "text/html": [
              "<div>\n",
              "<style scoped>\n",
              "    .dataframe tbody tr th:only-of-type {\n",
              "        vertical-align: middle;\n",
              "    }\n",
              "\n",
              "    .dataframe tbody tr th {\n",
              "        vertical-align: top;\n",
              "    }\n",
              "\n",
              "    .dataframe thead th {\n",
              "        text-align: right;\n",
              "    }\n",
              "</style>\n",
              "<table border=\"1\" class=\"dataframe\">\n",
              "  <thead>\n",
              "    <tr style=\"text-align: right;\">\n",
              "      <th></th>\n",
              "      <th>random_state</th>\n",
              "      <th>n_fold</th>\n",
              "      <th>train_shape</th>\n",
              "      <th>test_shape</th>\n",
              "      <th>MAPE</th>\n",
              "      <th>train_MAPE</th>\n",
              "      <th>test_MAPE</th>\n",
              "    </tr>\n",
              "  </thead>\n",
              "  <tbody>\n",
              "    <tr>\n",
              "      <th>0</th>\n",
              "      <td>0</td>\n",
              "      <td>0</td>\n",
              "      <td>(34, 9)</td>\n",
              "      <td>(9, 9)</td>\n",
              "      <td>4.374903</td>\n",
              "      <td>4.212144</td>\n",
              "      <td>4.989767</td>\n",
              "    </tr>\n",
              "    <tr>\n",
              "      <th>1</th>\n",
              "      <td>0</td>\n",
              "      <td>1</td>\n",
              "      <td>(34, 9)</td>\n",
              "      <td>(9, 9)</td>\n",
              "      <td>4.409075</td>\n",
              "      <td>4.341502</td>\n",
              "      <td>4.664351</td>\n",
              "    </tr>\n",
              "    <tr>\n",
              "      <th>2</th>\n",
              "      <td>0</td>\n",
              "      <td>2</td>\n",
              "      <td>(34, 9)</td>\n",
              "      <td>(9, 9)</td>\n",
              "      <td>4.300581</td>\n",
              "      <td>4.172199</td>\n",
              "      <td>4.785577</td>\n",
              "    </tr>\n",
              "    <tr>\n",
              "      <th>3</th>\n",
              "      <td>0</td>\n",
              "      <td>3</td>\n",
              "      <td>(35, 9)</td>\n",
              "      <td>(8, 9)</td>\n",
              "      <td>4.263329</td>\n",
              "      <td>4.208912</td>\n",
              "      <td>4.501404</td>\n",
              "    </tr>\n",
              "    <tr>\n",
              "      <th>4</th>\n",
              "      <td>0</td>\n",
              "      <td>4</td>\n",
              "      <td>(35, 9)</td>\n",
              "      <td>(8, 9)</td>\n",
              "      <td>4.355574</td>\n",
              "      <td>4.217870</td>\n",
              "      <td>4.958032</td>\n",
              "    </tr>\n",
              "    <tr>\n",
              "      <th>...</th>\n",
              "      <td>...</td>\n",
              "      <td>...</td>\n",
              "      <td>...</td>\n",
              "      <td>...</td>\n",
              "      <td>...</td>\n",
              "      <td>...</td>\n",
              "      <td>...</td>\n",
              "    </tr>\n",
              "    <tr>\n",
              "      <th>495</th>\n",
              "      <td>99</td>\n",
              "      <td>0</td>\n",
              "      <td>(34, 9)</td>\n",
              "      <td>(9, 9)</td>\n",
              "      <td>4.544577</td>\n",
              "      <td>4.072240</td>\n",
              "      <td>6.328960</td>\n",
              "    </tr>\n",
              "    <tr>\n",
              "      <th>496</th>\n",
              "      <td>99</td>\n",
              "      <td>1</td>\n",
              "      <td>(34, 9)</td>\n",
              "      <td>(9, 9)</td>\n",
              "      <td>4.339738</td>\n",
              "      <td>5.037398</td>\n",
              "      <td>1.704133</td>\n",
              "    </tr>\n",
              "    <tr>\n",
              "      <th>497</th>\n",
              "      <td>99</td>\n",
              "      <td>2</td>\n",
              "      <td>(34, 9)</td>\n",
              "      <td>(9, 9)</td>\n",
              "      <td>4.401044</td>\n",
              "      <td>4.074807</td>\n",
              "      <td>5.633495</td>\n",
              "    </tr>\n",
              "    <tr>\n",
              "      <th>498</th>\n",
              "      <td>99</td>\n",
              "      <td>3</td>\n",
              "      <td>(35, 9)</td>\n",
              "      <td>(8, 9)</td>\n",
              "      <td>4.229263</td>\n",
              "      <td>3.937304</td>\n",
              "      <td>5.506582</td>\n",
              "    </tr>\n",
              "    <tr>\n",
              "      <th>499</th>\n",
              "      <td>99</td>\n",
              "      <td>4</td>\n",
              "      <td>(35, 9)</td>\n",
              "      <td>(8, 9)</td>\n",
              "      <td>4.256195</td>\n",
              "      <td>3.617631</td>\n",
              "      <td>7.049915</td>\n",
              "    </tr>\n",
              "  </tbody>\n",
              "</table>\n",
              "<p>500 rows × 7 columns</p>\n",
              "</div>"
            ],
            "text/plain": [
              "     random_state  n_fold train_shape  ...      MAPE  train_MAPE  test_MAPE\n",
              "0               0       0     (34, 9)  ...  4.374903    4.212144   4.989767\n",
              "1               0       1     (34, 9)  ...  4.409075    4.341502   4.664351\n",
              "2               0       2     (34, 9)  ...  4.300581    4.172199   4.785577\n",
              "3               0       3     (35, 9)  ...  4.263329    4.208912   4.501404\n",
              "4               0       4     (35, 9)  ...  4.355574    4.217870   4.958032\n",
              "..            ...     ...         ...  ...       ...         ...        ...\n",
              "495            99       0     (34, 9)  ...  4.544577    4.072240   6.328960\n",
              "496            99       1     (34, 9)  ...  4.339738    5.037398   1.704133\n",
              "497            99       2     (34, 9)  ...  4.401044    4.074807   5.633495\n",
              "498            99       3     (35, 9)  ...  4.229263    3.937304   5.506582\n",
              "499            99       4     (35, 9)  ...  4.256195    3.617631   7.049915\n",
              "\n",
              "[500 rows x 7 columns]"
            ]
          },
          "metadata": {},
          "execution_count": 25
        }
      ]
    },
    {
      "cell_type": "code",
      "metadata": {
        "colab": {
          "base_uri": "https://localhost:8080/",
          "height": 297
        },
        "id": "Ysvk-Ohpyqdf",
        "outputId": "115cc384-f295-4f49-960f-0100ce043bfc"
      },
      "source": [
        "summary.describe()"
      ],
      "execution_count": 26,
      "outputs": [
        {
          "output_type": "execute_result",
          "data": {
            "text/html": [
              "<div>\n",
              "<style scoped>\n",
              "    .dataframe tbody tr th:only-of-type {\n",
              "        vertical-align: middle;\n",
              "    }\n",
              "\n",
              "    .dataframe tbody tr th {\n",
              "        vertical-align: top;\n",
              "    }\n",
              "\n",
              "    .dataframe thead th {\n",
              "        text-align: right;\n",
              "    }\n",
              "</style>\n",
              "<table border=\"1\" class=\"dataframe\">\n",
              "  <thead>\n",
              "    <tr style=\"text-align: right;\">\n",
              "      <th></th>\n",
              "      <th>random_state</th>\n",
              "      <th>n_fold</th>\n",
              "      <th>MAPE</th>\n",
              "      <th>train_MAPE</th>\n",
              "      <th>test_MAPE</th>\n",
              "    </tr>\n",
              "  </thead>\n",
              "  <tbody>\n",
              "    <tr>\n",
              "      <th>count</th>\n",
              "      <td>500.000000</td>\n",
              "      <td>500.00000</td>\n",
              "      <td>500.000000</td>\n",
              "      <td>500.000000</td>\n",
              "      <td>500.000000</td>\n",
              "    </tr>\n",
              "    <tr>\n",
              "      <th>mean</th>\n",
              "      <td>49.500000</td>\n",
              "      <td>2.00000</td>\n",
              "      <td>4.413280</td>\n",
              "      <td>4.230034</td>\n",
              "      <td>5.147549</td>\n",
              "    </tr>\n",
              "    <tr>\n",
              "      <th>std</th>\n",
              "      <td>28.894979</td>\n",
              "      <td>1.41563</td>\n",
              "      <td>0.586611</td>\n",
              "      <td>0.646676</td>\n",
              "      <td>1.352249</td>\n",
              "    </tr>\n",
              "    <tr>\n",
              "      <th>min</th>\n",
              "      <td>0.000000</td>\n",
              "      <td>0.00000</td>\n",
              "      <td>4.219467</td>\n",
              "      <td>3.229678</td>\n",
              "      <td>1.704133</td>\n",
              "    </tr>\n",
              "    <tr>\n",
              "      <th>25%</th>\n",
              "      <td>24.750000</td>\n",
              "      <td>1.00000</td>\n",
              "      <td>4.304577</td>\n",
              "      <td>4.008687</td>\n",
              "      <td>4.211669</td>\n",
              "    </tr>\n",
              "    <tr>\n",
              "      <th>50%</th>\n",
              "      <td>49.500000</td>\n",
              "      <td>2.00000</td>\n",
              "      <td>4.360977</td>\n",
              "      <td>4.221615</td>\n",
              "      <td>5.010024</td>\n",
              "    </tr>\n",
              "    <tr>\n",
              "      <th>75%</th>\n",
              "      <td>74.250000</td>\n",
              "      <td>3.00000</td>\n",
              "      <td>4.428064</td>\n",
              "      <td>4.386175</td>\n",
              "      <td>5.892280</td>\n",
              "    </tr>\n",
              "    <tr>\n",
              "      <th>max</th>\n",
              "      <td>99.000000</td>\n",
              "      <td>4.00000</td>\n",
              "      <td>13.555023</td>\n",
              "      <td>13.787595</td>\n",
              "      <td>15.471926</td>\n",
              "    </tr>\n",
              "  </tbody>\n",
              "</table>\n",
              "</div>"
            ],
            "text/plain": [
              "       random_state     n_fold        MAPE  train_MAPE   test_MAPE\n",
              "count    500.000000  500.00000  500.000000  500.000000  500.000000\n",
              "mean      49.500000    2.00000    4.413280    4.230034    5.147549\n",
              "std       28.894979    1.41563    0.586611    0.646676    1.352249\n",
              "min        0.000000    0.00000    4.219467    3.229678    1.704133\n",
              "25%       24.750000    1.00000    4.304577    4.008687    4.211669\n",
              "50%       49.500000    2.00000    4.360977    4.221615    5.010024\n",
              "75%       74.250000    3.00000    4.428064    4.386175    5.892280\n",
              "max       99.000000    4.00000   13.555023   13.787595   15.471926"
            ]
          },
          "metadata": {},
          "execution_count": 26
        }
      ]
    },
    {
      "cell_type": "code",
      "metadata": {
        "id": "pibXjbDdrwUa"
      },
      "source": [
        "summary.to_csv('100RandomState_SEBS.csv')"
      ],
      "execution_count": 27,
      "outputs": []
    },
    {
      "cell_type": "code",
      "metadata": {
        "id": "rG80mXovt60v"
      },
      "source": [
        ""
      ],
      "execution_count": 27,
      "outputs": []
    }
  ]
}