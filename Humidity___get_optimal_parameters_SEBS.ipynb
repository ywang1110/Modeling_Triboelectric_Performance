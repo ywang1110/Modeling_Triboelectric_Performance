{
  "nbformat": 4,
  "nbformat_minor": 0,
  "metadata": {
    "colab": {
      "name": "Humidity _ get optimal parameters_SEBS.ipynb",
      "provenance": [],
      "collapsed_sections": [],
      "authorship_tag": "ABX9TyPVZOnCIortw12ug0x6qBw2",
      "include_colab_link": true
    },
    "kernelspec": {
      "name": "python3",
      "display_name": "Python 3"
    },
    "language_info": {
      "name": "python"
    }
  },
  "cells": [
    {
      "cell_type": "markdown",
      "metadata": {
        "id": "view-in-github",
        "colab_type": "text"
      },
      "source": [
        "<a href=\"https://colab.research.google.com/github/ywang1110/Modeling_Triboelectric_Performance/blob/main/Humidity___get_optimal_parameters_SEBS.ipynb\" target=\"_parent\"><img src=\"https://colab.research.google.com/assets/colab-badge.svg\" alt=\"Open In Colab\"/></a>"
      ]
    },
    {
      "cell_type": "code",
      "metadata": {
        "id": "GGLYLaTXXjC8",
        "colab": {
          "base_uri": "https://localhost:8080/"
        },
        "outputId": "d89dd0ed-4d63-474c-9bc1-d5c659ad99e3"
      },
      "source": [
        "import numpy as np\n",
        "import pandas as pd\n",
        "import seaborn as sns\n",
        "from scipy.optimize import curve_fit\n",
        "import matplotlib.pyplot as plt\n",
        "import matplotlib.ticker as mtick\n",
        "from sklearn.metrics import mean_squared_error\n",
        "from sklearn.metrics import mean_absolute_error\n",
        "from sklearn import metrics\n",
        "from sklearn.model_selection import train_test_split\n",
        "from sklearn.model_selection import KFold\n",
        "\n",
        "import statsmodels.api as sm\n",
        "import statsmodels.formula.api as smf\n",
        "import scipy.stats as stats\n",
        "import matplotlib.cm as cm\n",
        "from IPython.display import display\n",
        "from sklearn.feature_selection import f_regression"
      ],
      "execution_count": 1,
      "outputs": [
        {
          "output_type": "stream",
          "name": "stderr",
          "text": [
            "/usr/local/lib/python3.7/dist-packages/statsmodels/tools/_testing.py:19: FutureWarning: pandas.util.testing is deprecated. Use the functions in the public API at pandas.testing instead.\n",
            "  import pandas.util.testing as tm\n"
          ]
        }
      ]
    },
    {
      "cell_type": "markdown",
      "metadata": {
        "id": "kWmeyqHCYHUq"
      },
      "source": [
        "# Prepare dataset"
      ]
    },
    {
      "cell_type": "markdown",
      "metadata": {
        "id": "UhaAP45xYrrg"
      },
      "source": [
        "## Load data"
      ]
    },
    {
      "cell_type": "code",
      "metadata": {
        "colab": {
          "base_uri": "https://localhost:8080/"
        },
        "id": "nPeO9kjDqUse",
        "outputId": "c3cbd51e-0cb7-40f1-dba2-3a61226b2f2c"
      },
      "source": [
        "from google.colab import drive\n",
        "drive.mount('/content/drive')"
      ],
      "execution_count": 2,
      "outputs": [
        {
          "output_type": "stream",
          "name": "stdout",
          "text": [
            "Drive already mounted at /content/drive; to attempt to forcibly remount, call drive.mount(\"/content/drive\", force_remount=True).\n"
          ]
        }
      ]
    },
    {
      "cell_type": "code",
      "metadata": {
        "id": "xQRm-DwJY_QL",
        "colab": {
          "base_uri": "https://localhost:8080/",
          "height": 204
        },
        "outputId": "75593bbc-868e-4ce9-c7f4-d04f9cace3a2"
      },
      "source": [
        "df = pd.read_excel('drive/My Drive/1 Manuscript_AFM/Data process/3 NewData_Train - updateDiameter-Validiate.xlsx', sheet_name='mean')\n",
        "df.head()"
      ],
      "execution_count": 3,
      "outputs": [
        {
          "output_type": "execute_result",
          "data": {
            "text/html": [
              "<div>\n",
              "<style scoped>\n",
              "    .dataframe tbody tr th:only-of-type {\n",
              "        vertical-align: middle;\n",
              "    }\n",
              "\n",
              "    .dataframe tbody tr th {\n",
              "        vertical-align: top;\n",
              "    }\n",
              "\n",
              "    .dataframe thead th {\n",
              "        text-align: right;\n",
              "    }\n",
              "</style>\n",
              "<table border=\"1\" class=\"dataframe\">\n",
              "  <thead>\n",
              "    <tr style=\"text-align: right;\">\n",
              "      <th></th>\n",
              "      <th>Unnamed: 0</th>\n",
              "      <th>ChargeDensity(µC/m2) j</th>\n",
              "      <th>Thickness (um) x</th>\n",
              "      <th>solidity y</th>\n",
              "      <th>diameter (um) z</th>\n",
              "      <th>Interface  (mm) u</th>\n",
              "      <th>Tem (°C)</th>\n",
              "      <th>Humidity (%)</th>\n",
              "      <th>Force (N)</th>\n",
              "      <th>Technique</th>\n",
              "    </tr>\n",
              "  </thead>\n",
              "  <tbody>\n",
              "    <tr>\n",
              "      <th>0</th>\n",
              "      <td>K-1</td>\n",
              "      <td>26.43</td>\n",
              "      <td>472.4</td>\n",
              "      <td>0.164</td>\n",
              "      <td>9.09225</td>\n",
              "      <td>1.728</td>\n",
              "      <td>26.4</td>\n",
              "      <td>25.9</td>\n",
              "      <td>35.5</td>\n",
              "      <td>Reicofil</td>\n",
              "    </tr>\n",
              "    <tr>\n",
              "      <th>1</th>\n",
              "      <td>K-2</td>\n",
              "      <td>28.35</td>\n",
              "      <td>568.1</td>\n",
              "      <td>0.180</td>\n",
              "      <td>9.30286</td>\n",
              "      <td>1.961</td>\n",
              "      <td>25.7</td>\n",
              "      <td>27.5</td>\n",
              "      <td>37.1</td>\n",
              "      <td>Reicofil</td>\n",
              "    </tr>\n",
              "    <tr>\n",
              "      <th>2</th>\n",
              "      <td>K-3</td>\n",
              "      <td>31.15</td>\n",
              "      <td>472.9</td>\n",
              "      <td>0.181</td>\n",
              "      <td>7.73240</td>\n",
              "      <td>1.501</td>\n",
              "      <td>26.9</td>\n",
              "      <td>28.5</td>\n",
              "      <td>36.1</td>\n",
              "      <td>Reicofil</td>\n",
              "    </tr>\n",
              "    <tr>\n",
              "      <th>3</th>\n",
              "      <td>K-4</td>\n",
              "      <td>30.28</td>\n",
              "      <td>600.2</td>\n",
              "      <td>0.179</td>\n",
              "      <td>7.77859</td>\n",
              "      <td>1.990</td>\n",
              "      <td>25.8</td>\n",
              "      <td>29.6</td>\n",
              "      <td>37.3</td>\n",
              "      <td>Reicofil</td>\n",
              "    </tr>\n",
              "    <tr>\n",
              "      <th>4</th>\n",
              "      <td>K-5</td>\n",
              "      <td>33.76</td>\n",
              "      <td>393.3</td>\n",
              "      <td>0.206</td>\n",
              "      <td>7.41502</td>\n",
              "      <td>1.106</td>\n",
              "      <td>26.9</td>\n",
              "      <td>28.5</td>\n",
              "      <td>36.1</td>\n",
              "      <td>Reicofil</td>\n",
              "    </tr>\n",
              "  </tbody>\n",
              "</table>\n",
              "</div>"
            ],
            "text/plain": [
              "  Unnamed: 0  ChargeDensity(µC/m2) j  ...  Force (N)  Technique\n",
              "0        K-1                   26.43  ...       35.5   Reicofil\n",
              "1        K-2                   28.35  ...       37.1   Reicofil\n",
              "2        K-3                   31.15  ...       36.1   Reicofil\n",
              "3        K-4                   30.28  ...       37.3   Reicofil\n",
              "4        K-5                   33.76  ...       36.1   Reicofil\n",
              "\n",
              "[5 rows x 10 columns]"
            ]
          },
          "metadata": {},
          "execution_count": 3
        }
      ]
    },
    {
      "cell_type": "code",
      "metadata": {
        "id": "1TgKCU06ZP_C",
        "colab": {
          "base_uri": "https://localhost:8080/"
        },
        "outputId": "0232bb69-2e8e-4ff1-f35f-4a0d54f08327"
      },
      "source": [
        "df.shape"
      ],
      "execution_count": 4,
      "outputs": [
        {
          "output_type": "execute_result",
          "data": {
            "text/plain": [
              "(43, 10)"
            ]
          },
          "metadata": {},
          "execution_count": 4
        }
      ]
    },
    {
      "cell_type": "markdown",
      "metadata": {
        "id": "NC2Q2uIGZhKy"
      },
      "source": [
        "## Unit conversion"
      ]
    },
    {
      "cell_type": "code",
      "metadata": {
        "id": "nFdhMdhwZd51",
        "colab": {
          "base_uri": "https://localhost:8080/",
          "height": 204
        },
        "outputId": "956a063a-7c38-41fc-8041-b9350ead9cb0"
      },
      "source": [
        "data = pd.DataFrame()\n",
        "data['ChargeDensity(C/m2)']=df['ChargeDensity(µC/m2) j']*pow(10,-6)\n",
        "data['thickness(m)']=df['Thickness (um) x']*pow(10,-6)\n",
        "data['solidity'] = df['solidity y']\n",
        "data['diameter(m)'] = df['diameter (um) z']*pow(10,-6)\n",
        "data['Interface(m)']=df['Interface  (mm) u']*pow(10, -3)\n",
        "data['Technique'] = df['Technique']\n",
        "data[['Tem (°C)', 'Humidity (%)', 'Force (N)']]=df[['Tem (°C)', 'Humidity (%)', 'Force (N)']]\n",
        "\n",
        "data.head()"
      ],
      "execution_count": 5,
      "outputs": [
        {
          "output_type": "execute_result",
          "data": {
            "text/html": [
              "<div>\n",
              "<style scoped>\n",
              "    .dataframe tbody tr th:only-of-type {\n",
              "        vertical-align: middle;\n",
              "    }\n",
              "\n",
              "    .dataframe tbody tr th {\n",
              "        vertical-align: top;\n",
              "    }\n",
              "\n",
              "    .dataframe thead th {\n",
              "        text-align: right;\n",
              "    }\n",
              "</style>\n",
              "<table border=\"1\" class=\"dataframe\">\n",
              "  <thead>\n",
              "    <tr style=\"text-align: right;\">\n",
              "      <th></th>\n",
              "      <th>ChargeDensity(C/m2)</th>\n",
              "      <th>thickness(m)</th>\n",
              "      <th>solidity</th>\n",
              "      <th>diameter(m)</th>\n",
              "      <th>Interface(m)</th>\n",
              "      <th>Technique</th>\n",
              "      <th>Tem (°C)</th>\n",
              "      <th>Humidity (%)</th>\n",
              "      <th>Force (N)</th>\n",
              "    </tr>\n",
              "  </thead>\n",
              "  <tbody>\n",
              "    <tr>\n",
              "      <th>0</th>\n",
              "      <td>0.000026</td>\n",
              "      <td>0.000472</td>\n",
              "      <td>0.164</td>\n",
              "      <td>0.000009</td>\n",
              "      <td>0.001728</td>\n",
              "      <td>Reicofil</td>\n",
              "      <td>26.4</td>\n",
              "      <td>25.9</td>\n",
              "      <td>35.5</td>\n",
              "    </tr>\n",
              "    <tr>\n",
              "      <th>1</th>\n",
              "      <td>0.000028</td>\n",
              "      <td>0.000568</td>\n",
              "      <td>0.180</td>\n",
              "      <td>0.000009</td>\n",
              "      <td>0.001961</td>\n",
              "      <td>Reicofil</td>\n",
              "      <td>25.7</td>\n",
              "      <td>27.5</td>\n",
              "      <td>37.1</td>\n",
              "    </tr>\n",
              "    <tr>\n",
              "      <th>2</th>\n",
              "      <td>0.000031</td>\n",
              "      <td>0.000473</td>\n",
              "      <td>0.181</td>\n",
              "      <td>0.000008</td>\n",
              "      <td>0.001501</td>\n",
              "      <td>Reicofil</td>\n",
              "      <td>26.9</td>\n",
              "      <td>28.5</td>\n",
              "      <td>36.1</td>\n",
              "    </tr>\n",
              "    <tr>\n",
              "      <th>3</th>\n",
              "      <td>0.000030</td>\n",
              "      <td>0.000600</td>\n",
              "      <td>0.179</td>\n",
              "      <td>0.000008</td>\n",
              "      <td>0.001990</td>\n",
              "      <td>Reicofil</td>\n",
              "      <td>25.8</td>\n",
              "      <td>29.6</td>\n",
              "      <td>37.3</td>\n",
              "    </tr>\n",
              "    <tr>\n",
              "      <th>4</th>\n",
              "      <td>0.000034</td>\n",
              "      <td>0.000393</td>\n",
              "      <td>0.206</td>\n",
              "      <td>0.000007</td>\n",
              "      <td>0.001106</td>\n",
              "      <td>Reicofil</td>\n",
              "      <td>26.9</td>\n",
              "      <td>28.5</td>\n",
              "      <td>36.1</td>\n",
              "    </tr>\n",
              "  </tbody>\n",
              "</table>\n",
              "</div>"
            ],
            "text/plain": [
              "   ChargeDensity(C/m2)  thickness(m)  ...  Humidity (%)  Force (N)\n",
              "0             0.000026      0.000472  ...          25.9       35.5\n",
              "1             0.000028      0.000568  ...          27.5       37.1\n",
              "2             0.000031      0.000473  ...          28.5       36.1\n",
              "3             0.000030      0.000600  ...          29.6       37.3\n",
              "4             0.000034      0.000393  ...          28.5       36.1\n",
              "\n",
              "[5 rows x 9 columns]"
            ]
          },
          "metadata": {},
          "execution_count": 5
        }
      ]
    },
    {
      "cell_type": "code",
      "metadata": {
        "id": "czu_c1JbdqwO",
        "colab": {
          "base_uri": "https://localhost:8080/"
        },
        "outputId": "f6f1bea3-0f7b-4dc9-8d37-3d382adf6538"
      },
      "source": [
        "data.shape"
      ],
      "execution_count": 6,
      "outputs": [
        {
          "output_type": "execute_result",
          "data": {
            "text/plain": [
              "(43, 9)"
            ]
          },
          "metadata": {},
          "execution_count": 6
        }
      ]
    },
    {
      "cell_type": "markdown",
      "metadata": {
        "id": "X4EbYCItxpRl"
      },
      "source": [
        "# Train test split"
      ]
    },
    {
      "cell_type": "code",
      "metadata": {
        "id": "yJ6M2aiKxn1A",
        "colab": {
          "base_uri": "https://localhost:8080/",
          "height": 204
        },
        "outputId": "1c322d31-58b0-46fd-e1a8-aa84accc5723"
      },
      "source": [
        "random_state=76\n",
        "kf = KFold(n_splits=5, shuffle = True, random_state=random_state)\n",
        "train_indexs = []\n",
        "test_indexs = []\n",
        "for train_index, test_index in kf.split(data):\n",
        "    train_indexs.append(train_index)\n",
        "    test_indexs.append(test_index)\n",
        "index=pd.DataFrame(zip(train_indexs, test_indexs), columns=['train_index','test_index'])\n",
        "index"
      ],
      "execution_count": 7,
      "outputs": [
        {
          "output_type": "execute_result",
          "data": {
            "text/html": [
              "<div>\n",
              "<style scoped>\n",
              "    .dataframe tbody tr th:only-of-type {\n",
              "        vertical-align: middle;\n",
              "    }\n",
              "\n",
              "    .dataframe tbody tr th {\n",
              "        vertical-align: top;\n",
              "    }\n",
              "\n",
              "    .dataframe thead th {\n",
              "        text-align: right;\n",
              "    }\n",
              "</style>\n",
              "<table border=\"1\" class=\"dataframe\">\n",
              "  <thead>\n",
              "    <tr style=\"text-align: right;\">\n",
              "      <th></th>\n",
              "      <th>train_index</th>\n",
              "      <th>test_index</th>\n",
              "    </tr>\n",
              "  </thead>\n",
              "  <tbody>\n",
              "    <tr>\n",
              "      <th>0</th>\n",
              "      <td>[0, 1, 2, 3, 4, 5, 6, 7, 8, 11, 12, 13, 15, 16...</td>\n",
              "      <td>[9, 10, 14, 22, 24, 25, 35, 36, 39]</td>\n",
              "    </tr>\n",
              "    <tr>\n",
              "      <th>1</th>\n",
              "      <td>[0, 1, 2, 3, 5, 7, 8, 9, 10, 11, 12, 13, 14, 1...</td>\n",
              "      <td>[4, 6, 21, 23, 27, 30, 31, 32, 40]</td>\n",
              "    </tr>\n",
              "    <tr>\n",
              "      <th>2</th>\n",
              "      <td>[0, 1, 4, 5, 6, 7, 8, 9, 10, 12, 14, 15, 16, 1...</td>\n",
              "      <td>[2, 3, 11, 13, 17, 19, 29, 38, 42]</td>\n",
              "    </tr>\n",
              "    <tr>\n",
              "      <th>3</th>\n",
              "      <td>[0, 1, 2, 3, 4, 6, 7, 9, 10, 11, 13, 14, 15, 1...</td>\n",
              "      <td>[5, 8, 12, 16, 18, 20, 28, 37]</td>\n",
              "    </tr>\n",
              "    <tr>\n",
              "      <th>4</th>\n",
              "      <td>[2, 3, 4, 5, 6, 8, 9, 10, 11, 12, 13, 14, 16, ...</td>\n",
              "      <td>[0, 1, 7, 15, 26, 33, 34, 41]</td>\n",
              "    </tr>\n",
              "  </tbody>\n",
              "</table>\n",
              "</div>"
            ],
            "text/plain": [
              "                                         train_index                           test_index\n",
              "0  [0, 1, 2, 3, 4, 5, 6, 7, 8, 11, 12, 13, 15, 16...  [9, 10, 14, 22, 24, 25, 35, 36, 39]\n",
              "1  [0, 1, 2, 3, 5, 7, 8, 9, 10, 11, 12, 13, 14, 1...   [4, 6, 21, 23, 27, 30, 31, 32, 40]\n",
              "2  [0, 1, 4, 5, 6, 7, 8, 9, 10, 12, 14, 15, 16, 1...   [2, 3, 11, 13, 17, 19, 29, 38, 42]\n",
              "3  [0, 1, 2, 3, 4, 6, 7, 9, 10, 11, 13, 14, 15, 1...       [5, 8, 12, 16, 18, 20, 28, 37]\n",
              "4  [2, 3, 4, 5, 6, 8, 9, 10, 11, 12, 13, 14, 16, ...        [0, 1, 7, 15, 26, 33, 34, 41]"
            ]
          },
          "metadata": {},
          "execution_count": 7
        }
      ]
    },
    {
      "cell_type": "code",
      "metadata": {
        "id": "Gqzw2EpGyImP"
      },
      "source": [
        "n_fold=4"
      ],
      "execution_count": 8,
      "outputs": []
    },
    {
      "cell_type": "code",
      "metadata": {
        "id": "PNIaK8hux4ao",
        "colab": {
          "base_uri": "https://localhost:8080/"
        },
        "outputId": "d0d93cac-14c7-43b3-88d1-350ad54bc016"
      },
      "source": [
        "train_index = index.iloc[n_fold,0]\n",
        "test_index = index.iloc[n_fold,1]\n",
        "train, test = data.iloc[train_index], data.iloc[test_index]\n",
        "train.shape"
      ],
      "execution_count": 9,
      "outputs": [
        {
          "output_type": "execute_result",
          "data": {
            "text/plain": [
              "(35, 9)"
            ]
          },
          "metadata": {},
          "execution_count": 9
        }
      ]
    },
    {
      "cell_type": "code",
      "metadata": {
        "id": "Tc1aESa7yVHZ",
        "colab": {
          "base_uri": "https://localhost:8080/"
        },
        "outputId": "fe8b1a83-657b-4165-a54a-7781099c4863"
      },
      "source": [
        "train.shape"
      ],
      "execution_count": 10,
      "outputs": [
        {
          "output_type": "execute_result",
          "data": {
            "text/plain": [
              "(35, 9)"
            ]
          },
          "metadata": {},
          "execution_count": 10
        }
      ]
    },
    {
      "cell_type": "code",
      "metadata": {
        "id": "JsZABkKUyXRs",
        "colab": {
          "base_uri": "https://localhost:8080/"
        },
        "outputId": "be9fbdf4-2974-464f-97db-e786954c5164"
      },
      "source": [
        "test.shape"
      ],
      "execution_count": 11,
      "outputs": [
        {
          "output_type": "execute_result",
          "data": {
            "text/plain": [
              "(8, 9)"
            ]
          },
          "metadata": {},
          "execution_count": 11
        }
      ]
    },
    {
      "cell_type": "code",
      "metadata": {
        "id": "Cyoeb676zcA3",
        "colab": {
          "base_uri": "https://localhost:8080/",
          "height": 35
        },
        "outputId": "63d71d00-70d1-447b-c955-2d665f63a03a"
      },
      "source": [
        "\"\"\"\n",
        "train.to_csv('train.csv')\n",
        "test.to_csv('test.csv')\n",
        "\"\"\"\n"
      ],
      "execution_count": 12,
      "outputs": [
        {
          "output_type": "execute_result",
          "data": {
            "application/vnd.google.colaboratory.intrinsic+json": {
              "type": "string"
            },
            "text/plain": [
              "\"\\ntrain.to_csv('train.csv')\\ntest.to_csv('test.csv')\\n\""
            ]
          },
          "metadata": {},
          "execution_count": 12
        }
      ]
    },
    {
      "cell_type": "code",
      "metadata": {
        "id": "xBK21SJBztVB",
        "colab": {
          "base_uri": "https://localhost:8080/",
          "height": 35
        },
        "outputId": "bb6fce44-5ab2-4b21-f6ce-37d76538c347"
      },
      "source": [
        "\"\"\"\n",
        "train = pd.read_csv('train.csv')\n",
        "test=pd.read_csv('test.csv')\n",
        "\"\"\""
      ],
      "execution_count": 13,
      "outputs": [
        {
          "output_type": "execute_result",
          "data": {
            "application/vnd.google.colaboratory.intrinsic+json": {
              "type": "string"
            },
            "text/plain": [
              "\"\\ntrain = pd.read_csv('train.csv')\\ntest=pd.read_csv('test.csv')\\n\""
            ]
          },
          "metadata": {},
          "execution_count": 13
        }
      ]
    },
    {
      "cell_type": "code",
      "metadata": {
        "colab": {
          "base_uri": "https://localhost:8080/",
          "height": 204
        },
        "id": "ypQzzBajkzsy",
        "outputId": "6c2c97ff-bca2-466f-c97d-1a46d6926934"
      },
      "source": [
        "train.head()"
      ],
      "execution_count": 14,
      "outputs": [
        {
          "output_type": "execute_result",
          "data": {
            "text/html": [
              "<div>\n",
              "<style scoped>\n",
              "    .dataframe tbody tr th:only-of-type {\n",
              "        vertical-align: middle;\n",
              "    }\n",
              "\n",
              "    .dataframe tbody tr th {\n",
              "        vertical-align: top;\n",
              "    }\n",
              "\n",
              "    .dataframe thead th {\n",
              "        text-align: right;\n",
              "    }\n",
              "</style>\n",
              "<table border=\"1\" class=\"dataframe\">\n",
              "  <thead>\n",
              "    <tr style=\"text-align: right;\">\n",
              "      <th></th>\n",
              "      <th>ChargeDensity(C/m2)</th>\n",
              "      <th>thickness(m)</th>\n",
              "      <th>solidity</th>\n",
              "      <th>diameter(m)</th>\n",
              "      <th>Interface(m)</th>\n",
              "      <th>Technique</th>\n",
              "      <th>Tem (°C)</th>\n",
              "      <th>Humidity (%)</th>\n",
              "      <th>Force (N)</th>\n",
              "    </tr>\n",
              "  </thead>\n",
              "  <tbody>\n",
              "    <tr>\n",
              "      <th>2</th>\n",
              "      <td>0.000031</td>\n",
              "      <td>0.000473</td>\n",
              "      <td>0.181</td>\n",
              "      <td>0.000008</td>\n",
              "      <td>0.001501</td>\n",
              "      <td>Reicofil</td>\n",
              "      <td>26.9</td>\n",
              "      <td>28.5</td>\n",
              "      <td>36.1</td>\n",
              "    </tr>\n",
              "    <tr>\n",
              "      <th>3</th>\n",
              "      <td>0.000030</td>\n",
              "      <td>0.000600</td>\n",
              "      <td>0.179</td>\n",
              "      <td>0.000008</td>\n",
              "      <td>0.001990</td>\n",
              "      <td>Reicofil</td>\n",
              "      <td>25.8</td>\n",
              "      <td>29.6</td>\n",
              "      <td>37.3</td>\n",
              "    </tr>\n",
              "    <tr>\n",
              "      <th>4</th>\n",
              "      <td>0.000034</td>\n",
              "      <td>0.000393</td>\n",
              "      <td>0.206</td>\n",
              "      <td>0.000007</td>\n",
              "      <td>0.001106</td>\n",
              "      <td>Reicofil</td>\n",
              "      <td>26.9</td>\n",
              "      <td>28.5</td>\n",
              "      <td>36.1</td>\n",
              "    </tr>\n",
              "    <tr>\n",
              "      <th>5</th>\n",
              "      <td>0.000035</td>\n",
              "      <td>0.000521</td>\n",
              "      <td>0.213</td>\n",
              "      <td>0.000007</td>\n",
              "      <td>0.001530</td>\n",
              "      <td>Reicofil</td>\n",
              "      <td>26.9</td>\n",
              "      <td>25.6</td>\n",
              "      <td>38.1</td>\n",
              "    </tr>\n",
              "    <tr>\n",
              "      <th>6</th>\n",
              "      <td>0.000019</td>\n",
              "      <td>0.000475</td>\n",
              "      <td>0.153</td>\n",
              "      <td>0.000016</td>\n",
              "      <td>0.001347</td>\n",
              "      <td>Reicofil</td>\n",
              "      <td>26.7</td>\n",
              "      <td>27.8</td>\n",
              "      <td>35.8</td>\n",
              "    </tr>\n",
              "  </tbody>\n",
              "</table>\n",
              "</div>"
            ],
            "text/plain": [
              "   ChargeDensity(C/m2)  thickness(m)  ...  Humidity (%)  Force (N)\n",
              "2             0.000031      0.000473  ...          28.5       36.1\n",
              "3             0.000030      0.000600  ...          29.6       37.3\n",
              "4             0.000034      0.000393  ...          28.5       36.1\n",
              "5             0.000035      0.000521  ...          25.6       38.1\n",
              "6             0.000019      0.000475  ...          27.8       35.8\n",
              "\n",
              "[5 rows x 9 columns]"
            ]
          },
          "metadata": {},
          "execution_count": 14
        }
      ]
    },
    {
      "cell_type": "code",
      "metadata": {
        "id": "6tM5qs-ryTb9",
        "colab": {
          "base_uri": "https://localhost:8080/",
          "height": 35
        },
        "outputId": "d072aa39-b58f-4c8e-c502-da8fa914577d"
      },
      "source": [
        "# Train the model\n",
        "x=train['thickness(m)'].to_numpy()\n",
        "y=train['solidity'].to_numpy()\n",
        "z=train['diameter(m)'].to_numpy()\n",
        "u=train['Interface(m)'].to_numpy()\n",
        "h=train['Humidity (%)'].to_numpy()\n",
        "j=train['ChargeDensity(C/m2)'].to_numpy()\n",
        "def func(X,a, w, c, m, n, p):\n",
        "  x,y,z,u,h = X\n",
        "  return (a-w*h)*(2*x*y/z-c*y**m*x**n/z**p)*0.01/(0.01+u)\n",
        "\n",
        "# lm\n",
        "popt_lm,pcov = curve_fit(func,(x,y,z,u,h),j, method='lm', maxfev = 50000)\n",
        "y_model_lm = func((x,y,z,u, h),popt_lm[0],popt_lm[1],popt_lm[2],popt_lm[3],popt_lm[4],popt_lm[5]) \n",
        "MSE_lm = mean_squared_error(j, y_model_lm)\n",
        "MAE_lm = mean_absolute_error(j, y_model_lm)\n",
        "lm_result=\"lm Method | MSE = {:.2E}| MAE = {:.2E}| a = {:.2E}, w = {:.2E}, c = {:.2E},m = {:.2E}, n = {:.2E}, p = {:.2E}\".format(MSE_lm,MAE_lm,popt_lm[0],popt_lm[1],popt_lm[2],popt_lm[3],popt_lm[4],popt_lm[5])\n",
        "lm_result  "
      ],
      "execution_count": 15,
      "outputs": [
        {
          "output_type": "execute_result",
          "data": {
            "application/vnd.google.colaboratory.intrinsic+json": {
              "type": "string"
            },
            "text/plain": [
              "'lm Method | MSE = 2.12E-12| MAE = 1.16E-06| a = -1.36E+01, w = -1.34E-01, c = 2.00E+00,m = 1.00E+00, n = 1.00E+00, p = 1.00E+00'"
            ]
          },
          "metadata": {},
          "execution_count": 15
        }
      ]
    },
    {
      "cell_type": "code",
      "metadata": {
        "id": "_fQTpAW7sJ38"
      },
      "source": [
        "# initial guesses for a,b,c,m,n,p:\n",
        "p0 = 1E-6 , 0 ,1. , 1. , 1., 1."
      ],
      "execution_count": 16,
      "outputs": []
    },
    {
      "cell_type": "code",
      "metadata": {
        "id": "N5n8wUljyG31",
        "colab": {
          "base_uri": "https://localhost:8080/"
        },
        "outputId": "69a79b87-22d5-4812-cd10-b6d5db9dbd75"
      },
      "source": [
        "  # trf & dogbox\n",
        "       #    a          w           c        m          n       p\n",
        "  bound=((  0,         0,          0,       0,         0 ,     0 ), \n",
        "       (np.inf,    np.inf,    np.inf,     np.inf,    np.inf, np.inf))\n",
        "  \n",
        "  ## trf\n",
        "  popt_trf,pcov = curve_fit(func,(x,y,z,u,h),j, p0, bounds = bound, method='trf', maxfev=50000)\n",
        "\n",
        "  y_model_trf = func((x,y,z,u,h),popt_trf[0],popt_trf[1],popt_trf[2], popt_trf[3],popt_trf[4],popt_trf[5]) \n",
        "  MSE_trf = np.sum((j - y_model_trf)**2)/train.shape[0]\n",
        "  MAE_trf = np.sum(abs(j - y_model_trf))/train.shape[0]\n",
        "\n",
        "  ## dogbox\n",
        "  popt_dog, pcov = curve_fit(func,(x,y,z,u,h),j, p0, bounds = bound, method='dogbox', maxfev=50000)\n",
        "  y_model_dog = func((x,y,z,u,h),popt_dog[0],popt_dog[1],popt_dog[2],popt_dog[3],popt_dog[4],popt_dog[5]) \n",
        "  MSE_dog = np.sum((j - y_model_dog)**2)/train.shape[0]\n",
        "  MAE_dog = np.sum(abs(j - y_model_dog))/train.shape[0]\n",
        "\n",
        "  if MSE_trf < MSE_dog:\n",
        "    a,w,c,m,n,p = popt_trf[0],popt_trf[1],popt_trf[2],popt_trf[3],popt_trf[4], popt_trf[5]\n",
        "    print('trf Method is the best method')\n",
        "  else:\n",
        "    a,w,c,m,n,p = popt_dog[0], popt_dog[1], popt_dog[2], popt_dog[3], popt_dog[4], popt_dog[5]\n",
        "    print(\"dogbox Method is the best method\")\n",
        "  trf_result=\"trf Method | MSE = {:.2E}| MAE = {:.2E}| a = {}, w = {}, c = {},m = {}, n = {}, p = {}\".format(MSE_trf,MAE_trf,popt_trf[0],popt_trf[1],popt_trf[2],popt_trf[3],popt_trf[4], popt_trf[5])\n",
        "  dog_result=\"dog Method | MSE = {:.2E}| MAE = {:.2E}| a = {}, w = {}, c = {},m = {}, n = {}, p = {}\".format(MSE_dog,MAE_dog,popt_dog[0], popt_dog[1], popt_dog[2], popt_dog[3], popt_dog[4], popt_dog[5])\n",
        "  print(trf_result)\n",
        "  print(dog_result)\n",
        "\n"
      ],
      "execution_count": 17,
      "outputs": [
        {
          "output_type": "stream",
          "name": "stdout",
          "text": [
            "trf Method is the best method\n",
            "trf Method | MSE = 2.07E-12| MAE = 1.16E-06| a = 8.662556613714061e-06, w = 8.72405899455878e-08, c = 0.7328619534238513,m = 1.1720535364964912, n = 1.2499661565443916, p = 1.2490984021620677\n",
            "dog Method | MSE = 3.29E-11| MAE = 4.63E-06| a = 1.4308581184086282e-06, w = 0.0, c = 0.0,m = 1.000060864893057, n = 1.0000895625289352, p = 1.0000846486342911\n"
          ]
        }
      ]
    },
    {
      "cell_type": "code",
      "metadata": {
        "colab": {
          "base_uri": "https://localhost:8080/"
        },
        "id": "No68sdnPnAJ_",
        "outputId": "20df70e0-cd4d-418b-b571-9d00b99fee8f"
      },
      "source": [
        "  # Validate (when trf is best)\n",
        "\n",
        "  data_val = pd.concat([train, test])\n",
        "  data_val.head()\n",
        "  x=data_val['thickness(m)'].to_numpy()\n",
        "  y=data_val['solidity'].to_numpy()\n",
        "  z=data_val['diameter(m)'].to_numpy()\n",
        "  u=data_val['Interface(m)'].to_numpy()\n",
        "  h=data_val['Humidity (%)'].to_numpy()\n",
        "  j=data_val['ChargeDensity(C/m2)'].to_numpy()\n",
        "\n",
        "\n",
        "  data_val['Predicted(C/m2)'] = (a-w*h)*(2*x*y/z-c*y**m*x**n/z**p)*0.01/(0.01+u)\n",
        "\n",
        "  data_val['ratio(%)'] = (data_val['Predicted(C/m2)'] -data_val['ChargeDensity(C/m2)'])/data_val['ChargeDensity(C/m2)']*100\n",
        "  data_val['ChargeDensity(uC/m2)'] = data_val['ChargeDensity(C/m2)']*pow(10,6)\n",
        "  data_val['Predicted(uC/m2)'] = (a-w*h)*(2*x*y/z-c*y**m*x**n/z**p)*0.01/(0.01+u)*pow(10,6)\n",
        "  data_val['ratio_2(%)'] = (data_val['Predicted(uC/m2)']-data_val['ChargeDensity(uC/m2)'])/data_val['ChargeDensity(uC/m2)']*100\n",
        "  def mean_absolute_percentage_error(y_true, y_pred):\n",
        "    y_true, y_pred = np.array(y_true), np.array(y_pred)\n",
        "    return np.mean(np.abs((y_true - y_pred) / y_true)) * 100\n",
        "  \n",
        "  mape = mean_absolute_percentage_error(data_val['ChargeDensity(C/m2)'], data_val['Predicted(C/m2)'])\n",
        "  mape_train = mean_absolute_percentage_error(data_val['ChargeDensity(C/m2)'][0:train.shape[0]], data_val['Predicted(C/m2)'][0:train.shape[0]])\n",
        "  mape_test = mean_absolute_percentage_error(data_val['ChargeDensity(C/m2)'][train.shape[0]:data_val.shape[0]], data_val['Predicted(C/m2)'][train.shape[0]:data_val.shape[0]])\n",
        "  \n",
        "  print('MAPE= {:.2f}'.format(mape))\n",
        "  print('Train_MAPE = {:.2f}'.format(mape_train))\n",
        "  print('test_MAPE = {:.2f}'.format(mape_test))"
      ],
      "execution_count": 18,
      "outputs": [
        {
          "output_type": "stream",
          "name": "stdout",
          "text": [
            "MAPE= 4.28\n",
            "Train_MAPE = 4.36\n",
            "test_MAPE = 3.93\n"
          ]
        }
      ]
    },
    {
      "cell_type": "code",
      "metadata": {
        "colab": {
          "base_uri": "https://localhost:8080/",
          "height": 204
        },
        "id": "crFKn9PnGKO3",
        "outputId": "c75d54a6-deb3-4841-c990-6a1a8d85a1dd"
      },
      "source": [
        "data_afterTheory = data_val.iloc[:, :10]\n",
        "data_afterTheory.head()"
      ],
      "execution_count": 19,
      "outputs": [
        {
          "output_type": "execute_result",
          "data": {
            "text/html": [
              "<div>\n",
              "<style scoped>\n",
              "    .dataframe tbody tr th:only-of-type {\n",
              "        vertical-align: middle;\n",
              "    }\n",
              "\n",
              "    .dataframe tbody tr th {\n",
              "        vertical-align: top;\n",
              "    }\n",
              "\n",
              "    .dataframe thead th {\n",
              "        text-align: right;\n",
              "    }\n",
              "</style>\n",
              "<table border=\"1\" class=\"dataframe\">\n",
              "  <thead>\n",
              "    <tr style=\"text-align: right;\">\n",
              "      <th></th>\n",
              "      <th>ChargeDensity(C/m2)</th>\n",
              "      <th>thickness(m)</th>\n",
              "      <th>solidity</th>\n",
              "      <th>diameter(m)</th>\n",
              "      <th>Interface(m)</th>\n",
              "      <th>Technique</th>\n",
              "      <th>Tem (°C)</th>\n",
              "      <th>Humidity (%)</th>\n",
              "      <th>Force (N)</th>\n",
              "      <th>Predicted(C/m2)</th>\n",
              "    </tr>\n",
              "  </thead>\n",
              "  <tbody>\n",
              "    <tr>\n",
              "      <th>2</th>\n",
              "      <td>0.000031</td>\n",
              "      <td>0.000473</td>\n",
              "      <td>0.181</td>\n",
              "      <td>0.000008</td>\n",
              "      <td>0.001501</td>\n",
              "      <td>Reicofil</td>\n",
              "      <td>26.9</td>\n",
              "      <td>28.5</td>\n",
              "      <td>36.1</td>\n",
              "      <td>0.000029</td>\n",
              "    </tr>\n",
              "    <tr>\n",
              "      <th>3</th>\n",
              "      <td>0.000030</td>\n",
              "      <td>0.000600</td>\n",
              "      <td>0.179</td>\n",
              "      <td>0.000008</td>\n",
              "      <td>0.001990</td>\n",
              "      <td>Reicofil</td>\n",
              "      <td>25.8</td>\n",
              "      <td>29.6</td>\n",
              "      <td>37.3</td>\n",
              "      <td>0.000028</td>\n",
              "    </tr>\n",
              "    <tr>\n",
              "      <th>4</th>\n",
              "      <td>0.000034</td>\n",
              "      <td>0.000393</td>\n",
              "      <td>0.206</td>\n",
              "      <td>0.000007</td>\n",
              "      <td>0.001106</td>\n",
              "      <td>Reicofil</td>\n",
              "      <td>26.9</td>\n",
              "      <td>28.5</td>\n",
              "      <td>36.1</td>\n",
              "      <td>0.000031</td>\n",
              "    </tr>\n",
              "    <tr>\n",
              "      <th>5</th>\n",
              "      <td>0.000035</td>\n",
              "      <td>0.000521</td>\n",
              "      <td>0.213</td>\n",
              "      <td>0.000007</td>\n",
              "      <td>0.001530</td>\n",
              "      <td>Reicofil</td>\n",
              "      <td>26.9</td>\n",
              "      <td>25.6</td>\n",
              "      <td>38.1</td>\n",
              "      <td>0.000033</td>\n",
              "    </tr>\n",
              "    <tr>\n",
              "      <th>6</th>\n",
              "      <td>0.000019</td>\n",
              "      <td>0.000475</td>\n",
              "      <td>0.153</td>\n",
              "      <td>0.000016</td>\n",
              "      <td>0.001347</td>\n",
              "      <td>Reicofil</td>\n",
              "      <td>26.7</td>\n",
              "      <td>27.8</td>\n",
              "      <td>35.8</td>\n",
              "      <td>0.000020</td>\n",
              "    </tr>\n",
              "  </tbody>\n",
              "</table>\n",
              "</div>"
            ],
            "text/plain": [
              "   ChargeDensity(C/m2)  thickness(m)  ...  Force (N)  Predicted(C/m2)\n",
              "2             0.000031      0.000473  ...       36.1         0.000029\n",
              "3             0.000030      0.000600  ...       37.3         0.000028\n",
              "4             0.000034      0.000393  ...       36.1         0.000031\n",
              "5             0.000035      0.000521  ...       38.1         0.000033\n",
              "6             0.000019      0.000475  ...       35.8         0.000020\n",
              "\n",
              "[5 rows x 10 columns]"
            ]
          },
          "metadata": {},
          "execution_count": 19
        }
      ]
    },
    {
      "cell_type": "code",
      "metadata": {
        "colab": {
          "base_uri": "https://localhost:8080/",
          "height": 297
        },
        "id": "XV2ppf2DInum",
        "outputId": "713e74ae-6cf7-46c7-e8f2-e9c76909d6b7"
      },
      "source": [
        "data_afterTheory.describe()"
      ],
      "execution_count": 20,
      "outputs": [
        {
          "output_type": "execute_result",
          "data": {
            "text/html": [
              "<div>\n",
              "<style scoped>\n",
              "    .dataframe tbody tr th:only-of-type {\n",
              "        vertical-align: middle;\n",
              "    }\n",
              "\n",
              "    .dataframe tbody tr th {\n",
              "        vertical-align: top;\n",
              "    }\n",
              "\n",
              "    .dataframe thead th {\n",
              "        text-align: right;\n",
              "    }\n",
              "</style>\n",
              "<table border=\"1\" class=\"dataframe\">\n",
              "  <thead>\n",
              "    <tr style=\"text-align: right;\">\n",
              "      <th></th>\n",
              "      <th>ChargeDensity(C/m2)</th>\n",
              "      <th>thickness(m)</th>\n",
              "      <th>solidity</th>\n",
              "      <th>diameter(m)</th>\n",
              "      <th>Interface(m)</th>\n",
              "      <th>Tem (°C)</th>\n",
              "      <th>Humidity (%)</th>\n",
              "      <th>Force (N)</th>\n",
              "      <th>Predicted(C/m2)</th>\n",
              "    </tr>\n",
              "  </thead>\n",
              "  <tbody>\n",
              "    <tr>\n",
              "      <th>count</th>\n",
              "      <td>43.000000</td>\n",
              "      <td>43.000000</td>\n",
              "      <td>43.000000</td>\n",
              "      <td>43.000000</td>\n",
              "      <td>43.000000</td>\n",
              "      <td>43.000000</td>\n",
              "      <td>43.000000</td>\n",
              "      <td>43.000000</td>\n",
              "      <td>43.000000</td>\n",
              "    </tr>\n",
              "    <tr>\n",
              "      <th>mean</th>\n",
              "      <td>0.000027</td>\n",
              "      <td>0.000506</td>\n",
              "      <td>0.194041</td>\n",
              "      <td>0.000010</td>\n",
              "      <td>0.001508</td>\n",
              "      <td>25.793023</td>\n",
              "      <td>29.886047</td>\n",
              "      <td>36.348837</td>\n",
              "      <td>0.000027</td>\n",
              "    </tr>\n",
              "    <tr>\n",
              "      <th>std</th>\n",
              "      <td>0.000004</td>\n",
              "      <td>0.000074</td>\n",
              "      <td>0.020650</td>\n",
              "      <td>0.000003</td>\n",
              "      <td>0.000335</td>\n",
              "      <td>0.965450</td>\n",
              "      <td>2.940731</td>\n",
              "      <td>0.660942</td>\n",
              "      <td>0.000003</td>\n",
              "    </tr>\n",
              "    <tr>\n",
              "      <th>min</th>\n",
              "      <td>0.000019</td>\n",
              "      <td>0.000355</td>\n",
              "      <td>0.153000</td>\n",
              "      <td>0.000007</td>\n",
              "      <td>0.001019</td>\n",
              "      <td>23.800000</td>\n",
              "      <td>25.600000</td>\n",
              "      <td>35.200000</td>\n",
              "      <td>0.000019</td>\n",
              "    </tr>\n",
              "    <tr>\n",
              "      <th>25%</th>\n",
              "      <td>0.000025</td>\n",
              "      <td>0.000470</td>\n",
              "      <td>0.176500</td>\n",
              "      <td>0.000008</td>\n",
              "      <td>0.001273</td>\n",
              "      <td>24.950000</td>\n",
              "      <td>27.450000</td>\n",
              "      <td>36.100000</td>\n",
              "      <td>0.000026</td>\n",
              "    </tr>\n",
              "    <tr>\n",
              "      <th>50%</th>\n",
              "      <td>0.000028</td>\n",
              "      <td>0.000512</td>\n",
              "      <td>0.196000</td>\n",
              "      <td>0.000009</td>\n",
              "      <td>0.001394</td>\n",
              "      <td>25.800000</td>\n",
              "      <td>29.600000</td>\n",
              "      <td>36.100000</td>\n",
              "      <td>0.000028</td>\n",
              "    </tr>\n",
              "    <tr>\n",
              "      <th>75%</th>\n",
              "      <td>0.000030</td>\n",
              "      <td>0.000564</td>\n",
              "      <td>0.211500</td>\n",
              "      <td>0.000013</td>\n",
              "      <td>0.001738</td>\n",
              "      <td>26.500000</td>\n",
              "      <td>31.500000</td>\n",
              "      <td>36.950000</td>\n",
              "      <td>0.000029</td>\n",
              "    </tr>\n",
              "    <tr>\n",
              "      <th>max</th>\n",
              "      <td>0.000035</td>\n",
              "      <td>0.000623</td>\n",
              "      <td>0.240000</td>\n",
              "      <td>0.000017</td>\n",
              "      <td>0.002327</td>\n",
              "      <td>27.300000</td>\n",
              "      <td>36.700000</td>\n",
              "      <td>38.100000</td>\n",
              "      <td>0.000033</td>\n",
              "    </tr>\n",
              "  </tbody>\n",
              "</table>\n",
              "</div>"
            ],
            "text/plain": [
              "       ChargeDensity(C/m2)  thickness(m)  ...  Force (N)  Predicted(C/m2)\n",
              "count            43.000000     43.000000  ...  43.000000        43.000000\n",
              "mean              0.000027      0.000506  ...  36.348837         0.000027\n",
              "std               0.000004      0.000074  ...   0.660942         0.000003\n",
              "min               0.000019      0.000355  ...  35.200000         0.000019\n",
              "25%               0.000025      0.000470  ...  36.100000         0.000026\n",
              "50%               0.000028      0.000512  ...  36.100000         0.000028\n",
              "75%               0.000030      0.000564  ...  36.950000         0.000029\n",
              "max               0.000035      0.000623  ...  38.100000         0.000033\n",
              "\n",
              "[8 rows x 9 columns]"
            ]
          },
          "metadata": {},
          "execution_count": 20
        }
      ]
    },
    {
      "cell_type": "markdown",
      "metadata": {
        "id": "_JwCrmDKivfc"
      },
      "source": [
        "# Validation at different random seeds"
      ]
    },
    {
      "cell_type": "code",
      "metadata": {
        "id": "cNCx_w2OintX"
      },
      "source": [
        "def get_index(random_state, data):\n",
        "  kf = KFold(n_splits=5, shuffle = True, random_state=random_state)\n",
        "  train_indexs = []\n",
        "  test_indexs = []\n",
        "  for train_index, test_index in kf.split(data):\n",
        "      train_indexs.append(train_index)\n",
        "      test_indexs.append(test_index)\n",
        "  index=pd.DataFrame(zip(train_indexs, test_indexs), columns=['train_index','test_index'])\n",
        "  return index"
      ],
      "execution_count": 21,
      "outputs": []
    },
    {
      "cell_type": "code",
      "metadata": {
        "id": "n3u1xnV6iySV"
      },
      "source": [
        "def get_scores(n_fold, index, data):\n",
        "  train_index = index.iloc[n_fold,0]\n",
        "  test_index = index.iloc[n_fold,1]\n",
        "  train, test = data.iloc[train_index], data.iloc[test_index]\n",
        "  train_shape=train.shape\n",
        "  test_shape=test.shape\n",
        "  \n",
        "  # Validate (when trf is best)\n",
        "  a,w,c,m,n,p = popt_trf[0],popt_trf[1],popt_trf[2], popt_trf[3],popt_trf[4],popt_trf[5]\n",
        "  \n",
        "  data_val = pd.concat([train, test])\n",
        "  x=data_val['thickness(m)'].to_numpy()\n",
        "  y=data_val['solidity'].to_numpy()\n",
        "  z=data_val['diameter(m)'].to_numpy()\n",
        "  u=data_val['Interface(m)'].to_numpy()\n",
        "  j=data_val['ChargeDensity(C/m2)'].to_numpy()\n",
        "\n",
        "\n",
        "  data_val['Predicted(C/m2)'] = (a-w*h)*(2*x*y/z-c*y**m*x**n/z**p)*0.01/(0.01+u)\n",
        "\n",
        "  \n",
        "  def mean_absolute_percentage_error(y_true, y_pred):\n",
        "    y_true, y_pred = np.array(y_true), np.array(y_pred)\n",
        "    return np.mean(np.abs((y_true - y_pred) / y_true)) * 100\n",
        "  \n",
        "  mape_trf = mean_absolute_percentage_error(data_val['ChargeDensity(C/m2)'], data_val['Predicted(C/m2)'])\n",
        "  mape_trf_train = mean_absolute_percentage_error(data_val['ChargeDensity(C/m2)'][0:train.shape[0]], data_val['Predicted(C/m2)'][0:train.shape[0]])\n",
        "  mape_trf_test = mean_absolute_percentage_error(data_val['ChargeDensity(C/m2)'][train.shape[0]:data_val.shape[0]], data_val['Predicted(C/m2)'][train.shape[0]:data_val.shape[0]])\n",
        "\n",
        "  return n_fold, train_shape, test_shape, mape_trf, mape_trf_train, mape_trf_test"
      ],
      "execution_count": 22,
      "outputs": []
    },
    {
      "cell_type": "code",
      "metadata": {
        "id": "ZewxKhPSjqw4"
      },
      "source": [
        "max_random_sate = 100"
      ],
      "execution_count": 23,
      "outputs": []
    },
    {
      "cell_type": "code",
      "metadata": {
        "id": "N8NpdvFCjsXO"
      },
      "source": [
        "random_states = []\n",
        "n_folds = []\n",
        "train_shapes = []\n",
        "test_shapes = []\n",
        "\n",
        "MAPEs = []\n",
        "train_MAPEs = []\n",
        "test_MAPEs = []\n",
        "\n",
        "\n",
        "for random_state in range(max_random_sate):\n",
        "  index = get_index(random_state, data)\n",
        "  for n_fold in range(5):\n",
        "    random_states.append(random_state)\n",
        "    n_fold, train_shape, test_shape, MAPE, train_MAPE, test_MAPE = get_scores(n_fold, index, data)\n",
        "    n_folds.append(n_fold)\n",
        "    train_shapes.append(train_shape)\n",
        "    test_shapes.append(test_shape)\n",
        "    \n",
        "    MAPEs.append(MAPE)\n",
        "    train_MAPEs.append(train_MAPE)\n",
        "    test_MAPEs.append(test_MAPE)\n"
      ],
      "execution_count": 24,
      "outputs": []
    },
    {
      "cell_type": "code",
      "metadata": {
        "id": "FYVXB-IOjyrK",
        "colab": {
          "base_uri": "https://localhost:8080/",
          "height": 419
        },
        "outputId": "b3f12986-cda9-4b54-ced4-9de3f676ed38"
      },
      "source": [
        "summary = pd.DataFrame()\n",
        "summary['random_state']=random_states\n",
        "summary['n_fold']=n_folds\n",
        "summary['train_shape'] = train_shapes\n",
        "summary['test_shape'] = test_shapes\n",
        "\n",
        "summary['MAPE'] = MAPEs\n",
        "summary['train_MAPE'] = train_MAPEs\n",
        "summary['test_MAPE'] = test_MAPEs\n",
        "\n",
        "summary"
      ],
      "execution_count": 25,
      "outputs": [
        {
          "output_type": "execute_result",
          "data": {
            "text/html": [
              "<div>\n",
              "<style scoped>\n",
              "    .dataframe tbody tr th:only-of-type {\n",
              "        vertical-align: middle;\n",
              "    }\n",
              "\n",
              "    .dataframe tbody tr th {\n",
              "        vertical-align: top;\n",
              "    }\n",
              "\n",
              "    .dataframe thead th {\n",
              "        text-align: right;\n",
              "    }\n",
              "</style>\n",
              "<table border=\"1\" class=\"dataframe\">\n",
              "  <thead>\n",
              "    <tr style=\"text-align: right;\">\n",
              "      <th></th>\n",
              "      <th>random_state</th>\n",
              "      <th>n_fold</th>\n",
              "      <th>train_shape</th>\n",
              "      <th>test_shape</th>\n",
              "      <th>MAPE</th>\n",
              "      <th>train_MAPE</th>\n",
              "      <th>test_MAPE</th>\n",
              "    </tr>\n",
              "  </thead>\n",
              "  <tbody>\n",
              "    <tr>\n",
              "      <th>0</th>\n",
              "      <td>0</td>\n",
              "      <td>0</td>\n",
              "      <td>(34, 9)</td>\n",
              "      <td>(9, 9)</td>\n",
              "      <td>5.054769</td>\n",
              "      <td>4.561619</td>\n",
              "      <td>6.917779</td>\n",
              "    </tr>\n",
              "    <tr>\n",
              "      <th>1</th>\n",
              "      <td>0</td>\n",
              "      <td>1</td>\n",
              "      <td>(34, 9)</td>\n",
              "      <td>(9, 9)</td>\n",
              "      <td>4.449678</td>\n",
              "      <td>4.155590</td>\n",
              "      <td>5.560673</td>\n",
              "    </tr>\n",
              "    <tr>\n",
              "      <th>2</th>\n",
              "      <td>0</td>\n",
              "      <td>2</td>\n",
              "      <td>(34, 9)</td>\n",
              "      <td>(9, 9)</td>\n",
              "      <td>5.083324</td>\n",
              "      <td>4.435650</td>\n",
              "      <td>7.530094</td>\n",
              "    </tr>\n",
              "    <tr>\n",
              "      <th>3</th>\n",
              "      <td>0</td>\n",
              "      <td>3</td>\n",
              "      <td>(35, 9)</td>\n",
              "      <td>(8, 9)</td>\n",
              "      <td>4.537419</td>\n",
              "      <td>4.709046</td>\n",
              "      <td>3.786553</td>\n",
              "    </tr>\n",
              "    <tr>\n",
              "      <th>4</th>\n",
              "      <td>0</td>\n",
              "      <td>4</td>\n",
              "      <td>(35, 9)</td>\n",
              "      <td>(8, 9)</td>\n",
              "      <td>3.961210</td>\n",
              "      <td>4.084332</td>\n",
              "      <td>3.422549</td>\n",
              "    </tr>\n",
              "    <tr>\n",
              "      <th>...</th>\n",
              "      <td>...</td>\n",
              "      <td>...</td>\n",
              "      <td>...</td>\n",
              "      <td>...</td>\n",
              "      <td>...</td>\n",
              "      <td>...</td>\n",
              "      <td>...</td>\n",
              "    </tr>\n",
              "    <tr>\n",
              "      <th>495</th>\n",
              "      <td>99</td>\n",
              "      <td>0</td>\n",
              "      <td>(34, 9)</td>\n",
              "      <td>(9, 9)</td>\n",
              "      <td>4.799700</td>\n",
              "      <td>4.599759</td>\n",
              "      <td>5.555031</td>\n",
              "    </tr>\n",
              "    <tr>\n",
              "      <th>496</th>\n",
              "      <td>99</td>\n",
              "      <td>1</td>\n",
              "      <td>(34, 9)</td>\n",
              "      <td>(9, 9)</td>\n",
              "      <td>4.975497</td>\n",
              "      <td>4.906367</td>\n",
              "      <td>5.236656</td>\n",
              "    </tr>\n",
              "    <tr>\n",
              "      <th>497</th>\n",
              "      <td>99</td>\n",
              "      <td>2</td>\n",
              "      <td>(34, 9)</td>\n",
              "      <td>(9, 9)</td>\n",
              "      <td>5.490396</td>\n",
              "      <td>5.227799</td>\n",
              "      <td>6.482433</td>\n",
              "    </tr>\n",
              "    <tr>\n",
              "      <th>498</th>\n",
              "      <td>99</td>\n",
              "      <td>3</td>\n",
              "      <td>(35, 9)</td>\n",
              "      <td>(8, 9)</td>\n",
              "      <td>4.231035</td>\n",
              "      <td>3.763419</td>\n",
              "      <td>6.276853</td>\n",
              "    </tr>\n",
              "    <tr>\n",
              "      <th>499</th>\n",
              "      <td>99</td>\n",
              "      <td>4</td>\n",
              "      <td>(35, 9)</td>\n",
              "      <td>(8, 9)</td>\n",
              "      <td>4.885876</td>\n",
              "      <td>3.987028</td>\n",
              "      <td>8.818336</td>\n",
              "    </tr>\n",
              "  </tbody>\n",
              "</table>\n",
              "<p>500 rows × 7 columns</p>\n",
              "</div>"
            ],
            "text/plain": [
              "     random_state  n_fold train_shape  ...      MAPE  train_MAPE  test_MAPE\n",
              "0               0       0     (34, 9)  ...  5.054769    4.561619   6.917779\n",
              "1               0       1     (34, 9)  ...  4.449678    4.155590   5.560673\n",
              "2               0       2     (34, 9)  ...  5.083324    4.435650   7.530094\n",
              "3               0       3     (35, 9)  ...  4.537419    4.709046   3.786553\n",
              "4               0       4     (35, 9)  ...  3.961210    4.084332   3.422549\n",
              "..            ...     ...         ...  ...       ...         ...        ...\n",
              "495            99       0     (34, 9)  ...  4.799700    4.599759   5.555031\n",
              "496            99       1     (34, 9)  ...  4.975497    4.906367   5.236656\n",
              "497            99       2     (34, 9)  ...  5.490396    5.227799   6.482433\n",
              "498            99       3     (35, 9)  ...  4.231035    3.763419   6.276853\n",
              "499            99       4     (35, 9)  ...  4.885876    3.987028   8.818336\n",
              "\n",
              "[500 rows x 7 columns]"
            ]
          },
          "metadata": {},
          "execution_count": 25
        }
      ]
    },
    {
      "cell_type": "code",
      "metadata": {
        "colab": {
          "base_uri": "https://localhost:8080/",
          "height": 297
        },
        "id": "Ysvk-Ohpyqdf",
        "outputId": "a34aa434-2cc6-48e1-b197-5fcfcb0647e6"
      },
      "source": [
        "summary.describe()"
      ],
      "execution_count": 27,
      "outputs": [
        {
          "output_type": "execute_result",
          "data": {
            "text/html": [
              "<div>\n",
              "<style scoped>\n",
              "    .dataframe tbody tr th:only-of-type {\n",
              "        vertical-align: middle;\n",
              "    }\n",
              "\n",
              "    .dataframe tbody tr th {\n",
              "        vertical-align: top;\n",
              "    }\n",
              "\n",
              "    .dataframe thead th {\n",
              "        text-align: right;\n",
              "    }\n",
              "</style>\n",
              "<table border=\"1\" class=\"dataframe\">\n",
              "  <thead>\n",
              "    <tr style=\"text-align: right;\">\n",
              "      <th></th>\n",
              "      <th>random_state</th>\n",
              "      <th>n_fold</th>\n",
              "      <th>MAPE</th>\n",
              "      <th>train_MAPE</th>\n",
              "      <th>test_MAPE</th>\n",
              "    </tr>\n",
              "  </thead>\n",
              "  <tbody>\n",
              "    <tr>\n",
              "      <th>count</th>\n",
              "      <td>500.000000</td>\n",
              "      <td>500.00000</td>\n",
              "      <td>500.000000</td>\n",
              "      <td>500.000000</td>\n",
              "      <td>500.000000</td>\n",
              "    </tr>\n",
              "    <tr>\n",
              "      <th>mean</th>\n",
              "      <td>49.500000</td>\n",
              "      <td>2.00000</td>\n",
              "      <td>4.708926</td>\n",
              "      <td>4.467795</td>\n",
              "      <td>5.643006</td>\n",
              "    </tr>\n",
              "    <tr>\n",
              "      <th>std</th>\n",
              "      <td>28.894979</td>\n",
              "      <td>1.41563</td>\n",
              "      <td>0.374351</td>\n",
              "      <td>0.356796</td>\n",
              "      <td>1.455724</td>\n",
              "    </tr>\n",
              "    <tr>\n",
              "      <th>min</th>\n",
              "      <td>0.000000</td>\n",
              "      <td>0.00000</td>\n",
              "      <td>3.708889</td>\n",
              "      <td>3.414385</td>\n",
              "      <td>1.596922</td>\n",
              "    </tr>\n",
              "    <tr>\n",
              "      <th>25%</th>\n",
              "      <td>24.750000</td>\n",
              "      <td>1.00000</td>\n",
              "      <td>4.420361</td>\n",
              "      <td>4.223066</td>\n",
              "      <td>4.637448</td>\n",
              "    </tr>\n",
              "    <tr>\n",
              "      <th>50%</th>\n",
              "      <td>49.500000</td>\n",
              "      <td>2.00000</td>\n",
              "      <td>4.722756</td>\n",
              "      <td>4.466102</td>\n",
              "      <td>5.554448</td>\n",
              "    </tr>\n",
              "    <tr>\n",
              "      <th>75%</th>\n",
              "      <td>74.250000</td>\n",
              "      <td>3.00000</td>\n",
              "      <td>4.989510</td>\n",
              "      <td>4.706076</td>\n",
              "      <td>6.651382</td>\n",
              "    </tr>\n",
              "    <tr>\n",
              "      <th>max</th>\n",
              "      <td>99.000000</td>\n",
              "      <td>4.00000</td>\n",
              "      <td>5.779022</td>\n",
              "      <td>5.491788</td>\n",
              "      <td>10.706806</td>\n",
              "    </tr>\n",
              "  </tbody>\n",
              "</table>\n",
              "</div>"
            ],
            "text/plain": [
              "       random_state     n_fold        MAPE  train_MAPE   test_MAPE\n",
              "count    500.000000  500.00000  500.000000  500.000000  500.000000\n",
              "mean      49.500000    2.00000    4.708926    4.467795    5.643006\n",
              "std       28.894979    1.41563    0.374351    0.356796    1.455724\n",
              "min        0.000000    0.00000    3.708889    3.414385    1.596922\n",
              "25%       24.750000    1.00000    4.420361    4.223066    4.637448\n",
              "50%       49.500000    2.00000    4.722756    4.466102    5.554448\n",
              "75%       74.250000    3.00000    4.989510    4.706076    6.651382\n",
              "max       99.000000    4.00000    5.779022    5.491788   10.706806"
            ]
          },
          "metadata": {},
          "execution_count": 27
        }
      ]
    },
    {
      "cell_type": "code",
      "metadata": {
        "id": "pibXjbDdrwUa"
      },
      "source": [
        "summary.to_csv('100RandomState_SEBS.csv')"
      ],
      "execution_count": 26,
      "outputs": []
    },
    {
      "cell_type": "code",
      "metadata": {
        "id": "rG80mXovt60v"
      },
      "source": [
        ""
      ],
      "execution_count": 26,
      "outputs": []
    }
  ]
}