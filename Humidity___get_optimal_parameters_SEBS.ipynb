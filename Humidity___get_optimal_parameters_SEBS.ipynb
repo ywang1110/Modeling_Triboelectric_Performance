{
  "nbformat": 4,
  "nbformat_minor": 0,
  "metadata": {
    "colab": {
      "name": "Humidity _ get optimal parameters_SEBS.ipynb",
      "provenance": [],
      "authorship_tag": "ABX9TyMcBhu8QoNFWVgiF5lV5xKG",
      "include_colab_link": true
    },
    "kernelspec": {
      "name": "python3",
      "display_name": "Python 3"
    },
    "language_info": {
      "name": "python"
    }
  },
  "cells": [
    {
      "cell_type": "markdown",
      "metadata": {
        "id": "view-in-github",
        "colab_type": "text"
      },
      "source": [
        "<a href=\"https://colab.research.google.com/github/ywang1110/Modeling_Triboelectric_Performance/blob/main/Humidity___get_optimal_parameters_SEBS.ipynb\" target=\"_parent\"><img src=\"https://colab.research.google.com/assets/colab-badge.svg\" alt=\"Open In Colab\"/></a>"
      ]
    },
    {
      "cell_type": "code",
      "metadata": {
        "id": "GGLYLaTXXjC8",
        "colab": {
          "base_uri": "https://localhost:8080/"
        },
        "outputId": "a14ee9af-8615-4205-95b0-c2ab2728697f"
      },
      "source": [
        "import numpy as np\n",
        "import pandas as pd\n",
        "import seaborn as sns\n",
        "from scipy.optimize import curve_fit\n",
        "import matplotlib.pyplot as plt\n",
        "import matplotlib.ticker as mtick\n",
        "from sklearn.metrics import mean_squared_error\n",
        "from sklearn.metrics import mean_absolute_error\n",
        "from sklearn import metrics\n",
        "from sklearn.model_selection import train_test_split\n",
        "from sklearn.model_selection import KFold\n",
        "\n",
        "import statsmodels.api as sm\n",
        "import statsmodels.formula.api as smf\n",
        "import scipy.stats as stats\n",
        "import matplotlib.cm as cm\n",
        "from IPython.display import display\n",
        "from sklearn.feature_selection import f_regression"
      ],
      "execution_count": null,
      "outputs": [
        {
          "output_type": "stream",
          "name": "stderr",
          "text": [
            "/usr/local/lib/python3.7/dist-packages/statsmodels/tools/_testing.py:19: FutureWarning: pandas.util.testing is deprecated. Use the functions in the public API at pandas.testing instead.\n",
            "  import pandas.util.testing as tm\n"
          ]
        }
      ]
    },
    {
      "cell_type": "markdown",
      "metadata": {
        "id": "kWmeyqHCYHUq"
      },
      "source": [
        "# Prepare dataset"
      ]
    },
    {
      "cell_type": "markdown",
      "metadata": {
        "id": "UhaAP45xYrrg"
      },
      "source": [
        "## Load data"
      ]
    },
    {
      "cell_type": "code",
      "metadata": {
        "colab": {
          "base_uri": "https://localhost:8080/"
        },
        "id": "nPeO9kjDqUse",
        "outputId": "5b19d857-ae23-42fd-aae8-54bff8452afa"
      },
      "source": [
        "from google.colab import drive\n",
        "drive.mount('/content/drive')"
      ],
      "execution_count": null,
      "outputs": [
        {
          "output_type": "stream",
          "name": "stdout",
          "text": [
            "Drive already mounted at /content/drive; to attempt to forcibly remount, call drive.mount(\"/content/drive\", force_remount=True).\n"
          ]
        }
      ]
    },
    {
      "cell_type": "code",
      "metadata": {
        "id": "xQRm-DwJY_QL",
        "colab": {
          "base_uri": "https://localhost:8080/",
          "height": 204
        },
        "outputId": "6a65713a-82ea-4a57-9886-ab06945f7fc4"
      },
      "source": [
        "df = pd.read_excel('drive/My Drive/1 Manuscript_AFM/Data process/3 NewData_Train - updateDiameter-Validiate.xlsx', sheet_name='mean')\n",
        "df.head()"
      ],
      "execution_count": null,
      "outputs": [
        {
          "output_type": "execute_result",
          "data": {
            "text/html": [
              "<div>\n",
              "<style scoped>\n",
              "    .dataframe tbody tr th:only-of-type {\n",
              "        vertical-align: middle;\n",
              "    }\n",
              "\n",
              "    .dataframe tbody tr th {\n",
              "        vertical-align: top;\n",
              "    }\n",
              "\n",
              "    .dataframe thead th {\n",
              "        text-align: right;\n",
              "    }\n",
              "</style>\n",
              "<table border=\"1\" class=\"dataframe\">\n",
              "  <thead>\n",
              "    <tr style=\"text-align: right;\">\n",
              "      <th></th>\n",
              "      <th>Unnamed: 0</th>\n",
              "      <th>ChargeDensity(µC/m2) j</th>\n",
              "      <th>Thickness (um) x</th>\n",
              "      <th>solidity y</th>\n",
              "      <th>diameter (um) z</th>\n",
              "      <th>Interface  (mm) u</th>\n",
              "      <th>Tem (°C)</th>\n",
              "      <th>Humidity (%)</th>\n",
              "      <th>Force (N)</th>\n",
              "      <th>Technique</th>\n",
              "    </tr>\n",
              "  </thead>\n",
              "  <tbody>\n",
              "    <tr>\n",
              "      <th>0</th>\n",
              "      <td>K-1</td>\n",
              "      <td>26.43</td>\n",
              "      <td>472.4</td>\n",
              "      <td>0.164</td>\n",
              "      <td>9.09225</td>\n",
              "      <td>1.728</td>\n",
              "      <td>26.4</td>\n",
              "      <td>25.9</td>\n",
              "      <td>35.5</td>\n",
              "      <td>Reicofil</td>\n",
              "    </tr>\n",
              "    <tr>\n",
              "      <th>1</th>\n",
              "      <td>K-2</td>\n",
              "      <td>28.35</td>\n",
              "      <td>568.1</td>\n",
              "      <td>0.180</td>\n",
              "      <td>9.30286</td>\n",
              "      <td>1.961</td>\n",
              "      <td>25.7</td>\n",
              "      <td>27.5</td>\n",
              "      <td>37.1</td>\n",
              "      <td>Reicofil</td>\n",
              "    </tr>\n",
              "    <tr>\n",
              "      <th>2</th>\n",
              "      <td>K-3</td>\n",
              "      <td>31.15</td>\n",
              "      <td>472.9</td>\n",
              "      <td>0.181</td>\n",
              "      <td>7.73240</td>\n",
              "      <td>1.501</td>\n",
              "      <td>26.9</td>\n",
              "      <td>28.5</td>\n",
              "      <td>36.1</td>\n",
              "      <td>Reicofil</td>\n",
              "    </tr>\n",
              "    <tr>\n",
              "      <th>3</th>\n",
              "      <td>K-4</td>\n",
              "      <td>30.28</td>\n",
              "      <td>600.2</td>\n",
              "      <td>0.179</td>\n",
              "      <td>7.77859</td>\n",
              "      <td>1.990</td>\n",
              "      <td>25.8</td>\n",
              "      <td>29.6</td>\n",
              "      <td>37.3</td>\n",
              "      <td>Reicofil</td>\n",
              "    </tr>\n",
              "    <tr>\n",
              "      <th>4</th>\n",
              "      <td>K-5</td>\n",
              "      <td>33.76</td>\n",
              "      <td>393.3</td>\n",
              "      <td>0.206</td>\n",
              "      <td>7.41502</td>\n",
              "      <td>1.106</td>\n",
              "      <td>26.9</td>\n",
              "      <td>28.5</td>\n",
              "      <td>36.1</td>\n",
              "      <td>Reicofil</td>\n",
              "    </tr>\n",
              "  </tbody>\n",
              "</table>\n",
              "</div>"
            ],
            "text/plain": [
              "  Unnamed: 0  ChargeDensity(µC/m2) j  ...  Force (N)  Technique\n",
              "0        K-1                   26.43  ...       35.5   Reicofil\n",
              "1        K-2                   28.35  ...       37.1   Reicofil\n",
              "2        K-3                   31.15  ...       36.1   Reicofil\n",
              "3        K-4                   30.28  ...       37.3   Reicofil\n",
              "4        K-5                   33.76  ...       36.1   Reicofil\n",
              "\n",
              "[5 rows x 10 columns]"
            ]
          },
          "metadata": {},
          "execution_count": 3
        }
      ]
    },
    {
      "cell_type": "code",
      "metadata": {
        "id": "1TgKCU06ZP_C",
        "colab": {
          "base_uri": "https://localhost:8080/"
        },
        "outputId": "34eca487-b880-41cf-bb1f-8277d6d6fa1a"
      },
      "source": [
        "df.shape"
      ],
      "execution_count": null,
      "outputs": [
        {
          "output_type": "execute_result",
          "data": {
            "text/plain": [
              "(43, 10)"
            ]
          },
          "metadata": {},
          "execution_count": 4
        }
      ]
    },
    {
      "cell_type": "markdown",
      "metadata": {
        "id": "NC2Q2uIGZhKy"
      },
      "source": [
        "## Unit conversion"
      ]
    },
    {
      "cell_type": "code",
      "metadata": {
        "id": "nFdhMdhwZd51",
        "colab": {
          "base_uri": "https://localhost:8080/",
          "height": 204
        },
        "outputId": "fae3f9a4-0074-42da-e7d0-5ca539784a28"
      },
      "source": [
        "data = pd.DataFrame()\n",
        "data['ChargeDensity(C/m2)']=df['ChargeDensity(µC/m2) j']*pow(10,-6)\n",
        "data['thickness(m)']=df['Thickness (um) x']*pow(10,-6)\n",
        "data['solidity'] = df['solidity y']\n",
        "data['diameter(m)'] = df['diameter (um) z']*pow(10,-6)\n",
        "data['Interface(m)']=df['Interface  (mm) u']*pow(10, -3)\n",
        "data['Technique'] = df['Technique']\n",
        "data[['Tem (°C)', 'Humidity (%)', 'Force (N)']]=df[['Tem (°C)', 'Humidity (%)', 'Force (N)']]\n",
        "\n",
        "data.head()"
      ],
      "execution_count": null,
      "outputs": [
        {
          "output_type": "execute_result",
          "data": {
            "text/html": [
              "<div>\n",
              "<style scoped>\n",
              "    .dataframe tbody tr th:only-of-type {\n",
              "        vertical-align: middle;\n",
              "    }\n",
              "\n",
              "    .dataframe tbody tr th {\n",
              "        vertical-align: top;\n",
              "    }\n",
              "\n",
              "    .dataframe thead th {\n",
              "        text-align: right;\n",
              "    }\n",
              "</style>\n",
              "<table border=\"1\" class=\"dataframe\">\n",
              "  <thead>\n",
              "    <tr style=\"text-align: right;\">\n",
              "      <th></th>\n",
              "      <th>ChargeDensity(C/m2)</th>\n",
              "      <th>thickness(m)</th>\n",
              "      <th>solidity</th>\n",
              "      <th>diameter(m)</th>\n",
              "      <th>Interface(m)</th>\n",
              "      <th>Technique</th>\n",
              "      <th>Tem (°C)</th>\n",
              "      <th>Humidity (%)</th>\n",
              "      <th>Force (N)</th>\n",
              "    </tr>\n",
              "  </thead>\n",
              "  <tbody>\n",
              "    <tr>\n",
              "      <th>0</th>\n",
              "      <td>0.000026</td>\n",
              "      <td>0.000472</td>\n",
              "      <td>0.164</td>\n",
              "      <td>0.000009</td>\n",
              "      <td>0.001728</td>\n",
              "      <td>Reicofil</td>\n",
              "      <td>26.4</td>\n",
              "      <td>25.9</td>\n",
              "      <td>35.5</td>\n",
              "    </tr>\n",
              "    <tr>\n",
              "      <th>1</th>\n",
              "      <td>0.000028</td>\n",
              "      <td>0.000568</td>\n",
              "      <td>0.180</td>\n",
              "      <td>0.000009</td>\n",
              "      <td>0.001961</td>\n",
              "      <td>Reicofil</td>\n",
              "      <td>25.7</td>\n",
              "      <td>27.5</td>\n",
              "      <td>37.1</td>\n",
              "    </tr>\n",
              "    <tr>\n",
              "      <th>2</th>\n",
              "      <td>0.000031</td>\n",
              "      <td>0.000473</td>\n",
              "      <td>0.181</td>\n",
              "      <td>0.000008</td>\n",
              "      <td>0.001501</td>\n",
              "      <td>Reicofil</td>\n",
              "      <td>26.9</td>\n",
              "      <td>28.5</td>\n",
              "      <td>36.1</td>\n",
              "    </tr>\n",
              "    <tr>\n",
              "      <th>3</th>\n",
              "      <td>0.000030</td>\n",
              "      <td>0.000600</td>\n",
              "      <td>0.179</td>\n",
              "      <td>0.000008</td>\n",
              "      <td>0.001990</td>\n",
              "      <td>Reicofil</td>\n",
              "      <td>25.8</td>\n",
              "      <td>29.6</td>\n",
              "      <td>37.3</td>\n",
              "    </tr>\n",
              "    <tr>\n",
              "      <th>4</th>\n",
              "      <td>0.000034</td>\n",
              "      <td>0.000393</td>\n",
              "      <td>0.206</td>\n",
              "      <td>0.000007</td>\n",
              "      <td>0.001106</td>\n",
              "      <td>Reicofil</td>\n",
              "      <td>26.9</td>\n",
              "      <td>28.5</td>\n",
              "      <td>36.1</td>\n",
              "    </tr>\n",
              "  </tbody>\n",
              "</table>\n",
              "</div>"
            ],
            "text/plain": [
              "   ChargeDensity(C/m2)  thickness(m)  ...  Humidity (%)  Force (N)\n",
              "0             0.000026      0.000472  ...          25.9       35.5\n",
              "1             0.000028      0.000568  ...          27.5       37.1\n",
              "2             0.000031      0.000473  ...          28.5       36.1\n",
              "3             0.000030      0.000600  ...          29.6       37.3\n",
              "4             0.000034      0.000393  ...          28.5       36.1\n",
              "\n",
              "[5 rows x 9 columns]"
            ]
          },
          "metadata": {},
          "execution_count": 5
        }
      ]
    },
    {
      "cell_type": "code",
      "metadata": {
        "id": "czu_c1JbdqwO",
        "colab": {
          "base_uri": "https://localhost:8080/"
        },
        "outputId": "dbbf3202-78b0-4c32-8c63-749bff8820f8"
      },
      "source": [
        "data.shape"
      ],
      "execution_count": null,
      "outputs": [
        {
          "output_type": "execute_result",
          "data": {
            "text/plain": [
              "(43, 9)"
            ]
          },
          "metadata": {},
          "execution_count": 6
        }
      ]
    },
    {
      "cell_type": "markdown",
      "metadata": {
        "id": "X4EbYCItxpRl"
      },
      "source": [
        "# Train test split"
      ]
    },
    {
      "cell_type": "code",
      "metadata": {
        "id": "yJ6M2aiKxn1A",
        "colab": {
          "base_uri": "https://localhost:8080/",
          "height": 204
        },
        "outputId": "675b2c7b-4261-428c-e22d-c23c9390b9f6"
      },
      "source": [
        "random_state=76\n",
        "kf = KFold(n_splits=5, shuffle = True, random_state=random_state)\n",
        "train_indexs = []\n",
        "test_indexs = []\n",
        "for train_index, test_index in kf.split(data):\n",
        "    train_indexs.append(train_index)\n",
        "    test_indexs.append(test_index)\n",
        "index=pd.DataFrame(zip(train_indexs, test_indexs), columns=['train_index','test_index'])\n",
        "index"
      ],
      "execution_count": null,
      "outputs": [
        {
          "output_type": "execute_result",
          "data": {
            "text/html": [
              "<div>\n",
              "<style scoped>\n",
              "    .dataframe tbody tr th:only-of-type {\n",
              "        vertical-align: middle;\n",
              "    }\n",
              "\n",
              "    .dataframe tbody tr th {\n",
              "        vertical-align: top;\n",
              "    }\n",
              "\n",
              "    .dataframe thead th {\n",
              "        text-align: right;\n",
              "    }\n",
              "</style>\n",
              "<table border=\"1\" class=\"dataframe\">\n",
              "  <thead>\n",
              "    <tr style=\"text-align: right;\">\n",
              "      <th></th>\n",
              "      <th>train_index</th>\n",
              "      <th>test_index</th>\n",
              "    </tr>\n",
              "  </thead>\n",
              "  <tbody>\n",
              "    <tr>\n",
              "      <th>0</th>\n",
              "      <td>[0, 1, 2, 3, 4, 5, 6, 7, 8, 11, 12, 13, 15, 16...</td>\n",
              "      <td>[9, 10, 14, 22, 24, 25, 35, 36, 39]</td>\n",
              "    </tr>\n",
              "    <tr>\n",
              "      <th>1</th>\n",
              "      <td>[0, 1, 2, 3, 5, 7, 8, 9, 10, 11, 12, 13, 14, 1...</td>\n",
              "      <td>[4, 6, 21, 23, 27, 30, 31, 32, 40]</td>\n",
              "    </tr>\n",
              "    <tr>\n",
              "      <th>2</th>\n",
              "      <td>[0, 1, 4, 5, 6, 7, 8, 9, 10, 12, 14, 15, 16, 1...</td>\n",
              "      <td>[2, 3, 11, 13, 17, 19, 29, 38, 42]</td>\n",
              "    </tr>\n",
              "    <tr>\n",
              "      <th>3</th>\n",
              "      <td>[0, 1, 2, 3, 4, 6, 7, 9, 10, 11, 13, 14, 15, 1...</td>\n",
              "      <td>[5, 8, 12, 16, 18, 20, 28, 37]</td>\n",
              "    </tr>\n",
              "    <tr>\n",
              "      <th>4</th>\n",
              "      <td>[2, 3, 4, 5, 6, 8, 9, 10, 11, 12, 13, 14, 16, ...</td>\n",
              "      <td>[0, 1, 7, 15, 26, 33, 34, 41]</td>\n",
              "    </tr>\n",
              "  </tbody>\n",
              "</table>\n",
              "</div>"
            ],
            "text/plain": [
              "                                         train_index                           test_index\n",
              "0  [0, 1, 2, 3, 4, 5, 6, 7, 8, 11, 12, 13, 15, 16...  [9, 10, 14, 22, 24, 25, 35, 36, 39]\n",
              "1  [0, 1, 2, 3, 5, 7, 8, 9, 10, 11, 12, 13, 14, 1...   [4, 6, 21, 23, 27, 30, 31, 32, 40]\n",
              "2  [0, 1, 4, 5, 6, 7, 8, 9, 10, 12, 14, 15, 16, 1...   [2, 3, 11, 13, 17, 19, 29, 38, 42]\n",
              "3  [0, 1, 2, 3, 4, 6, 7, 9, 10, 11, 13, 14, 15, 1...       [5, 8, 12, 16, 18, 20, 28, 37]\n",
              "4  [2, 3, 4, 5, 6, 8, 9, 10, 11, 12, 13, 14, 16, ...        [0, 1, 7, 15, 26, 33, 34, 41]"
            ]
          },
          "metadata": {},
          "execution_count": 7
        }
      ]
    },
    {
      "cell_type": "code",
      "metadata": {
        "id": "Gqzw2EpGyImP"
      },
      "source": [
        "n_fold=4"
      ],
      "execution_count": null,
      "outputs": []
    },
    {
      "cell_type": "code",
      "metadata": {
        "id": "PNIaK8hux4ao",
        "colab": {
          "base_uri": "https://localhost:8080/"
        },
        "outputId": "9a14adbc-9ccf-4008-eb5d-5418dd80cf10"
      },
      "source": [
        "train_index = index.iloc[n_fold,0]\n",
        "test_index = index.iloc[n_fold,1]\n",
        "train, test = data.iloc[train_index], data.iloc[test_index]\n",
        "train.shape"
      ],
      "execution_count": null,
      "outputs": [
        {
          "output_type": "execute_result",
          "data": {
            "text/plain": [
              "(35, 9)"
            ]
          },
          "metadata": {},
          "execution_count": 9
        }
      ]
    },
    {
      "cell_type": "code",
      "metadata": {
        "id": "Tc1aESa7yVHZ",
        "colab": {
          "base_uri": "https://localhost:8080/"
        },
        "outputId": "66b1849d-a796-4c55-cc53-6c5b5436ae73"
      },
      "source": [
        "train.shape"
      ],
      "execution_count": null,
      "outputs": [
        {
          "output_type": "execute_result",
          "data": {
            "text/plain": [
              "(35, 9)"
            ]
          },
          "metadata": {},
          "execution_count": 10
        }
      ]
    },
    {
      "cell_type": "code",
      "metadata": {
        "id": "JsZABkKUyXRs",
        "colab": {
          "base_uri": "https://localhost:8080/"
        },
        "outputId": "5ca6356e-1db9-47e2-a033-dc2393508c7e"
      },
      "source": [
        "test.shape"
      ],
      "execution_count": null,
      "outputs": [
        {
          "output_type": "execute_result",
          "data": {
            "text/plain": [
              "(8, 9)"
            ]
          },
          "metadata": {},
          "execution_count": 11
        }
      ]
    },
    {
      "cell_type": "code",
      "metadata": {
        "id": "Cyoeb676zcA3",
        "colab": {
          "base_uri": "https://localhost:8080/",
          "height": 35
        },
        "outputId": "2b841a6b-f1c7-4b54-83b7-879787f231e3"
      },
      "source": [
        "\"\"\"\n",
        "train.to_csv('train.csv')\n",
        "test.to_csv('test.csv')\n",
        "\"\"\"\n"
      ],
      "execution_count": null,
      "outputs": [
        {
          "output_type": "execute_result",
          "data": {
            "application/vnd.google.colaboratory.intrinsic+json": {
              "type": "string"
            },
            "text/plain": [
              "\"\\ntrain.to_csv('train.csv')\\ntest.to_csv('test.csv')\\n\""
            ]
          },
          "metadata": {},
          "execution_count": 12
        }
      ]
    },
    {
      "cell_type": "code",
      "metadata": {
        "id": "xBK21SJBztVB",
        "colab": {
          "base_uri": "https://localhost:8080/",
          "height": 35
        },
        "outputId": "16fcbfe3-d5e5-4cd2-ba60-5cee1ea2d5af"
      },
      "source": [
        "\"\"\"\n",
        "train = pd.read_csv('train.csv')\n",
        "test=pd.read_csv('test.csv')\n",
        "\"\"\""
      ],
      "execution_count": null,
      "outputs": [
        {
          "output_type": "execute_result",
          "data": {
            "application/vnd.google.colaboratory.intrinsic+json": {
              "type": "string"
            },
            "text/plain": [
              "\"\\ntrain = pd.read_csv('train.csv')\\ntest=pd.read_csv('test.csv')\\n\""
            ]
          },
          "metadata": {},
          "execution_count": 13
        }
      ]
    },
    {
      "cell_type": "code",
      "metadata": {
        "id": "6tM5qs-ryTb9",
        "colab": {
          "base_uri": "https://localhost:8080/",
          "height": 35
        },
        "outputId": "9afddafc-02d3-47a9-f177-85109454681f"
      },
      "source": [
        "# Train the model\n",
        "x=train['thickness(m)'].to_numpy()\n",
        "y=train['solidity'].to_numpy()\n",
        "z=train['diameter(m)'].to_numpy()\n",
        "u=train['Interface(m)'].to_numpy()\n",
        "j=train['ChargeDensity(C/m2)'].to_numpy()\n",
        "def func(X,a, c, m, n, p):\n",
        "  x,y,z,u = X\n",
        "  return a*(2*x*y/z-c*y**m*x**n/z**p)*0.01/(0.01+u)\n",
        "# initial guesses for a,b,c,m,n,p:\n",
        "p0 = 1E-6 , 1. ,1. , 1. , 1.\n",
        "# lm\n",
        "popt_lm,pcov = curve_fit(func,(x,y,z,u),j, method='lm', maxfev = 50000)\n",
        "y_model_lm = func((x,y,z,u),popt_lm[0],popt_lm[1],popt_lm[2],popt_lm[3],popt_lm[4]) \n",
        "MSE_lm = mean_squared_error(j, y_model_lm)\n",
        "MAE_lm = mean_absolute_error(j, y_model_lm)\n",
        "lm_result=\"lm Method | MSE = {:.2E}| MAE = {:.2E}| a = {:.2E}, c = {:.2E},m = {:.2E}, n = {:.2E}, p = {:.2E}\".format(MSE_lm,MAE_lm,popt_lm[0],popt_lm[1],popt_lm[2],popt_lm[3],popt_lm[4])\n",
        "lm_result  "
      ],
      "execution_count": null,
      "outputs": [
        {
          "output_type": "execute_result",
          "data": {
            "application/vnd.google.colaboratory.intrinsic+json": {
              "type": "string"
            },
            "text/plain": [
              "'lm Method | MSE = 2.83E-12| MAE = 1.28E-06| a = 1.31E-05, c = 1.34E+00,m = 1.08E+00, n = 1.08E+00, p = 1.09E+00'"
            ]
          },
          "metadata": {},
          "execution_count": 14
        }
      ]
    },
    {
      "cell_type": "code",
      "metadata": {
        "id": "N5n8wUljyG31",
        "colab": {
          "base_uri": "https://localhost:8080/"
        },
        "outputId": "2b2dee90-fbda-418f-c323-2d10f6bdb855"
      },
      "source": [
        "  # trf & dogbox\n",
        "       #a          b           c          \n",
        "  bound=((  0,         0,          0,   0,         0         ), \n",
        "       (np.inf,    np.inf,    np.inf, np.inf,    np.inf))\n",
        "  ## trf\n",
        "  popt_trf,pcov = curve_fit(func,(x,y,z,u),j, p0, bounds = bound, method='trf', maxfev=50000)\n",
        "\n",
        "  y_model_trf = func((x,y,z,u),popt_trf[0],popt_trf[1],popt_trf[2], popt_trf[3],popt_trf[4]) \n",
        "  MSE_trf = np.sum((j - y_model_trf)**2)/train.shape[0]\n",
        "  MAE_trf = np.sum(abs(j - y_model_trf))/train.shape[0]\n",
        "\n",
        "  ## dogbox\n",
        "  popt_dog, pcov = curve_fit(func,(x,y,z,u),j, p0, bounds = bound, method='dogbox', maxfev=50000)\n",
        "  y_model_dog = func((x,y,z,u),popt_dog[0],popt_dog[1],popt_dog[2],popt_dog[3],popt_dog[4]) \n",
        "  MSE_dog = np.sum((j - y_model_dog)**2)/train.shape[0]\n",
        "  MAE_dog = np.sum(abs(j - y_model_dog))/train.shape[0]\n",
        "\n",
        "  if MSE_trf < MSE_dog:\n",
        "      print('trf Method is the best method')\n",
        "  else:\n",
        "      print(\"dogbox Method is the best method\")\n",
        "  trf_result=\"trf Method | MSE = {:.2E}| MAE = {:.2E}| a = {}, c = {},m = {}, n = {}, p = {}\".format(MSE_trf,MAE_trf,popt_trf[0],popt_trf[1],popt_trf[2],popt_trf[3],popt_trf[4])\n",
        "  dog_result=\"dog Method | MSE = {:.2E}| MAE = {:.2E}| a = {}, c = {},m = {}, n = {}, p = {}\".format(MSE_dog,MAE_dog,popt_dog[0], popt_dog[1], popt_dog[2], popt_dog[3], popt_dog[4])\n",
        "\n",
        "  # Validate (when trf is best)\n",
        "  a,c,m,n,p = popt_trf[0],popt_trf[1],popt_trf[2],popt_trf[3],popt_trf[4]\n",
        "\n",
        "  data_val = pd.concat([train, test])\n",
        "  data_val.head()\n",
        "  x=data_val['thickness(m)'].to_numpy()\n",
        "  y=data_val['solidity'].to_numpy()\n",
        "  z=data_val['diameter(m)'].to_numpy()\n",
        "  u=data_val['Interface(m)'].to_numpy()\n",
        "  j=data_val['ChargeDensity(C/m2)'].to_numpy()\n",
        "\n",
        "\n",
        "  data_val['Predicted(C/m2)'] = a*(2*x*y/z-c*y**m*x**n/z**p)*0.01/(0.01+u)\n",
        "\n",
        "  data_val['ratio(%)'] = (data_val['Predicted(C/m2)'] -data_val['ChargeDensity(C/m2)'])/data_val['ChargeDensity(C/m2)']*100\n",
        "  data_val['ChargeDensity(uC/m2)'] = data_val['ChargeDensity(C/m2)']*pow(10,6)\n",
        "  data_val['Predicted(uC/m2)'] = a*(2*x*y/z-c*y**m*x**n/z**p)*0.01/(0.01+u)*pow(10,6)\n",
        "  data_val['ratio_2(%)'] = (data_val['Predicted(uC/m2)']-data_val['ChargeDensity(uC/m2)'])/data_val['ChargeDensity(uC/m2)']*100\n",
        "  def mean_absolute_percentage_error(y_true, y_pred):\n",
        "    y_true, y_pred = np.array(y_true), np.array(y_pred)\n",
        "    return np.mean(np.abs((y_true - y_pred) / y_true)) * 100\n",
        "  mape_trf = mean_absolute_percentage_error(data_val['ChargeDensity(C/m2)'], data_val['Predicted(C/m2)'])\n",
        "  mape_trf_train = mean_absolute_percentage_error(data_val['ChargeDensity(C/m2)'][0:train.shape[0]], data_val['Predicted(C/m2)'][0:train.shape[0]])\n",
        "  mape_trf_test = mean_absolute_percentage_error(data_val['ChargeDensity(C/m2)'][train.shape[0]:data_val.shape[0]], data_val['Predicted(C/m2)'][train.shape[0]:data_val.shape[0]])\n",
        "  print( \"trf Method | MSE = {:.2E}| MAE = {:.2E}| a = {}, c = {},m = {}, n = {}, p = {}\".format(MSE_trf,MAE_trf,popt_trf[0],popt_trf[1],popt_trf[2],popt_trf[3],popt_trf[4]))\n",
        "  print( \"dog Method | MSE = {:.2E}| MAE = {:.2E}| a = {}, c = {},m = {}, n = {}, p = {}\".format(MSE_dog,MAE_dog,popt_dog[0], popt_dog[1], popt_dog[2], popt_dog[3], popt_dog[4]))\n",
        "  print('MAPE= {:.2f}'.format(mape_trf))\n",
        "  print('Train_MAPE = {:.2f}'.format(mape_trf_train))\n",
        "  print('test_MAPE = {:.2f}'.format(mape_trf_test))"
      ],
      "execution_count": null,
      "outputs": [
        {
          "output_type": "stream",
          "name": "stdout",
          "text": [
            "trf Method is the best method\n",
            "trf Method | MSE = 2.84E-12| MAE = 1.29E-06| a = 7.33358335345706e-06, c = 0.9637914305754077,m = 1.1659956607310682, n = 1.1689975959596484, p = 1.1765786722620015\n",
            "dog Method | MSE = 3.29E-11| MAE = 4.63E-06| a = 1.90394647438442e-06, c = 0.49804687499999994,m = 1.000011328877653, n = 1.00001171082407, p = 1.000012464984451\n",
            "MAPE= 4.79\n",
            "Train_MAPE = 4.69\n",
            "test_MAPE = 5.24\n"
          ]
        }
      ]
    },
    {
      "cell_type": "code",
      "metadata": {
        "colab": {
          "base_uri": "https://localhost:8080/",
          "height": 204
        },
        "id": "crFKn9PnGKO3",
        "outputId": "450ec5ea-85ce-40c8-b86e-dafc726faa1a"
      },
      "source": [
        "data_afterTheory = data_val.iloc[:, :10]\n",
        "data_afterTheory.head()"
      ],
      "execution_count": null,
      "outputs": [
        {
          "output_type": "execute_result",
          "data": {
            "text/html": [
              "<div>\n",
              "<style scoped>\n",
              "    .dataframe tbody tr th:only-of-type {\n",
              "        vertical-align: middle;\n",
              "    }\n",
              "\n",
              "    .dataframe tbody tr th {\n",
              "        vertical-align: top;\n",
              "    }\n",
              "\n",
              "    .dataframe thead th {\n",
              "        text-align: right;\n",
              "    }\n",
              "</style>\n",
              "<table border=\"1\" class=\"dataframe\">\n",
              "  <thead>\n",
              "    <tr style=\"text-align: right;\">\n",
              "      <th></th>\n",
              "      <th>ChargeDensity(C/m2)</th>\n",
              "      <th>thickness(m)</th>\n",
              "      <th>solidity</th>\n",
              "      <th>diameter(m)</th>\n",
              "      <th>Interface(m)</th>\n",
              "      <th>Technique</th>\n",
              "      <th>Tem (°C)</th>\n",
              "      <th>Humidity (%)</th>\n",
              "      <th>Force (N)</th>\n",
              "      <th>Predicted(C/m2)</th>\n",
              "    </tr>\n",
              "  </thead>\n",
              "  <tbody>\n",
              "    <tr>\n",
              "      <th>2</th>\n",
              "      <td>0.000031</td>\n",
              "      <td>0.000473</td>\n",
              "      <td>0.181</td>\n",
              "      <td>0.000008</td>\n",
              "      <td>0.001501</td>\n",
              "      <td>Reicofil</td>\n",
              "      <td>26.9</td>\n",
              "      <td>28.5</td>\n",
              "      <td>36.1</td>\n",
              "      <td>0.000029</td>\n",
              "    </tr>\n",
              "    <tr>\n",
              "      <th>3</th>\n",
              "      <td>0.000030</td>\n",
              "      <td>0.000600</td>\n",
              "      <td>0.179</td>\n",
              "      <td>0.000008</td>\n",
              "      <td>0.001990</td>\n",
              "      <td>Reicofil</td>\n",
              "      <td>25.8</td>\n",
              "      <td>29.6</td>\n",
              "      <td>37.3</td>\n",
              "      <td>0.000030</td>\n",
              "    </tr>\n",
              "    <tr>\n",
              "      <th>4</th>\n",
              "      <td>0.000034</td>\n",
              "      <td>0.000393</td>\n",
              "      <td>0.206</td>\n",
              "      <td>0.000007</td>\n",
              "      <td>0.001106</td>\n",
              "      <td>Reicofil</td>\n",
              "      <td>26.9</td>\n",
              "      <td>28.5</td>\n",
              "      <td>36.1</td>\n",
              "      <td>0.000030</td>\n",
              "    </tr>\n",
              "    <tr>\n",
              "      <th>5</th>\n",
              "      <td>0.000035</td>\n",
              "      <td>0.000521</td>\n",
              "      <td>0.213</td>\n",
              "      <td>0.000007</td>\n",
              "      <td>0.001530</td>\n",
              "      <td>Reicofil</td>\n",
              "      <td>26.9</td>\n",
              "      <td>25.6</td>\n",
              "      <td>38.1</td>\n",
              "      <td>0.000031</td>\n",
              "    </tr>\n",
              "    <tr>\n",
              "      <th>6</th>\n",
              "      <td>0.000019</td>\n",
              "      <td>0.000475</td>\n",
              "      <td>0.153</td>\n",
              "      <td>0.000016</td>\n",
              "      <td>0.001347</td>\n",
              "      <td>Reicofil</td>\n",
              "      <td>26.7</td>\n",
              "      <td>27.8</td>\n",
              "      <td>35.8</td>\n",
              "      <td>0.000019</td>\n",
              "    </tr>\n",
              "  </tbody>\n",
              "</table>\n",
              "</div>"
            ],
            "text/plain": [
              "   ChargeDensity(C/m2)  thickness(m)  ...  Force (N)  Predicted(C/m2)\n",
              "2             0.000031      0.000473  ...       36.1         0.000029\n",
              "3             0.000030      0.000600  ...       37.3         0.000030\n",
              "4             0.000034      0.000393  ...       36.1         0.000030\n",
              "5             0.000035      0.000521  ...       38.1         0.000031\n",
              "6             0.000019      0.000475  ...       35.8         0.000019\n",
              "\n",
              "[5 rows x 10 columns]"
            ]
          },
          "metadata": {},
          "execution_count": 16
        }
      ]
    },
    {
      "cell_type": "markdown",
      "metadata": {
        "id": "8DILgtsBE-tk"
      },
      "source": [
        "# Humidity"
      ]
    },
    {
      "cell_type": "code",
      "metadata": {
        "colab": {
          "base_uri": "https://localhost:8080/",
          "height": 204
        },
        "id": "pB16AtUIFZSI",
        "outputId": "176db9a5-73d9-4b97-9b8b-db893a6a4e00"
      },
      "source": [
        "data_afterTheory['Residual'] = data_afterTheory['Predicted(C/m2)'] - data_afterTheory['ChargeDensity(C/m2)']\n",
        "data_afterTheory.head()"
      ],
      "execution_count": null,
      "outputs": [
        {
          "output_type": "execute_result",
          "data": {
            "text/html": [
              "<div>\n",
              "<style scoped>\n",
              "    .dataframe tbody tr th:only-of-type {\n",
              "        vertical-align: middle;\n",
              "    }\n",
              "\n",
              "    .dataframe tbody tr th {\n",
              "        vertical-align: top;\n",
              "    }\n",
              "\n",
              "    .dataframe thead th {\n",
              "        text-align: right;\n",
              "    }\n",
              "</style>\n",
              "<table border=\"1\" class=\"dataframe\">\n",
              "  <thead>\n",
              "    <tr style=\"text-align: right;\">\n",
              "      <th></th>\n",
              "      <th>ChargeDensity(C/m2)</th>\n",
              "      <th>thickness(m)</th>\n",
              "      <th>solidity</th>\n",
              "      <th>diameter(m)</th>\n",
              "      <th>Interface(m)</th>\n",
              "      <th>Technique</th>\n",
              "      <th>Tem (°C)</th>\n",
              "      <th>Humidity (%)</th>\n",
              "      <th>Force (N)</th>\n",
              "      <th>Predicted(C/m2)</th>\n",
              "      <th>Residual</th>\n",
              "    </tr>\n",
              "  </thead>\n",
              "  <tbody>\n",
              "    <tr>\n",
              "      <th>2</th>\n",
              "      <td>0.000031</td>\n",
              "      <td>0.000473</td>\n",
              "      <td>0.181</td>\n",
              "      <td>0.000008</td>\n",
              "      <td>0.001501</td>\n",
              "      <td>Reicofil</td>\n",
              "      <td>26.9</td>\n",
              "      <td>28.5</td>\n",
              "      <td>36.1</td>\n",
              "      <td>0.000029</td>\n",
              "      <td>-2.215841e-06</td>\n",
              "    </tr>\n",
              "    <tr>\n",
              "      <th>3</th>\n",
              "      <td>0.000030</td>\n",
              "      <td>0.000600</td>\n",
              "      <td>0.179</td>\n",
              "      <td>0.000008</td>\n",
              "      <td>0.001990</td>\n",
              "      <td>Reicofil</td>\n",
              "      <td>25.8</td>\n",
              "      <td>29.6</td>\n",
              "      <td>37.3</td>\n",
              "      <td>0.000030</td>\n",
              "      <td>-7.683442e-07</td>\n",
              "    </tr>\n",
              "    <tr>\n",
              "      <th>4</th>\n",
              "      <td>0.000034</td>\n",
              "      <td>0.000393</td>\n",
              "      <td>0.206</td>\n",
              "      <td>0.000007</td>\n",
              "      <td>0.001106</td>\n",
              "      <td>Reicofil</td>\n",
              "      <td>26.9</td>\n",
              "      <td>28.5</td>\n",
              "      <td>36.1</td>\n",
              "      <td>0.000030</td>\n",
              "      <td>-3.924111e-06</td>\n",
              "    </tr>\n",
              "    <tr>\n",
              "      <th>5</th>\n",
              "      <td>0.000035</td>\n",
              "      <td>0.000521</td>\n",
              "      <td>0.213</td>\n",
              "      <td>0.000007</td>\n",
              "      <td>0.001530</td>\n",
              "      <td>Reicofil</td>\n",
              "      <td>26.9</td>\n",
              "      <td>25.6</td>\n",
              "      <td>38.1</td>\n",
              "      <td>0.000031</td>\n",
              "      <td>-3.521669e-06</td>\n",
              "    </tr>\n",
              "    <tr>\n",
              "      <th>6</th>\n",
              "      <td>0.000019</td>\n",
              "      <td>0.000475</td>\n",
              "      <td>0.153</td>\n",
              "      <td>0.000016</td>\n",
              "      <td>0.001347</td>\n",
              "      <td>Reicofil</td>\n",
              "      <td>26.7</td>\n",
              "      <td>27.8</td>\n",
              "      <td>35.8</td>\n",
              "      <td>0.000019</td>\n",
              "      <td>3.720106e-07</td>\n",
              "    </tr>\n",
              "  </tbody>\n",
              "</table>\n",
              "</div>"
            ],
            "text/plain": [
              "   ChargeDensity(C/m2)  thickness(m)  ...  Predicted(C/m2)      Residual\n",
              "2             0.000031      0.000473  ...         0.000029 -2.215841e-06\n",
              "3             0.000030      0.000600  ...         0.000030 -7.683442e-07\n",
              "4             0.000034      0.000393  ...         0.000030 -3.924111e-06\n",
              "5             0.000035      0.000521  ...         0.000031 -3.521669e-06\n",
              "6             0.000019      0.000475  ...         0.000019  3.720106e-07\n",
              "\n",
              "[5 rows x 11 columns]"
            ]
          },
          "metadata": {},
          "execution_count": 17
        }
      ]
    },
    {
      "cell_type": "markdown",
      "metadata": {
        "id": "wHFy_jCeNAFl"
      },
      "source": [
        "## Netural network"
      ]
    },
    {
      "cell_type": "code",
      "metadata": {
        "id": "YVVa0Zo7NCsz"
      },
      "source": [
        ""
      ],
      "execution_count": null,
      "outputs": []
    },
    {
      "cell_type": "markdown",
      "metadata": {
        "id": "k4Vox1r7M5as"
      },
      "source": [
        "## Sklearn linear regression"
      ]
    },
    {
      "cell_type": "code",
      "metadata": {
        "id": "S-Y51oZ5E5pd"
      },
      "source": [
        "from sklearn.linear_model import LinearRegression "
      ],
      "execution_count": null,
      "outputs": []
    },
    {
      "cell_type": "code",
      "metadata": {
        "id": "IfKUaCnrE5nl"
      },
      "source": [
        "X = data_afterTheory.loc[:, ['Humidity (%)', 'Force (N)']]\n",
        "y = data_afterTheory.loc[:, 'Residual']"
      ],
      "execution_count": null,
      "outputs": []
    },
    {
      "cell_type": "code",
      "metadata": {
        "id": "ZXCxuwwkHsOx"
      },
      "source": [
        "X_train = data_afterTheory.loc[:, ['Humidity (%)', 'Force (N)']][:35]\n",
        "y_train = data_afterTheory.loc[:, 'Residual'][:35]"
      ],
      "execution_count": null,
      "outputs": []
    },
    {
      "cell_type": "code",
      "metadata": {
        "colab": {
          "base_uri": "https://localhost:8080/"
        },
        "id": "omI-Y2LCE5lS",
        "outputId": "e023191d-0cad-4fac-df73-70e24f46f089"
      },
      "source": [
        "reg = LinearRegression(fit_intercept = False).fit(X, y)\n",
        "reg.score(X, y)"
      ],
      "execution_count": null,
      "outputs": [
        {
          "output_type": "execute_result",
          "data": {
            "text/plain": [
              "0.21994606367274638"
            ]
          },
          "metadata": {},
          "execution_count": 21
        }
      ]
    },
    {
      "cell_type": "code",
      "metadata": {
        "colab": {
          "base_uri": "https://localhost:8080/"
        },
        "id": "tDQPcSzvE5cs",
        "outputId": "6cc0e1fd-c1b4-4d59-eaa7-d2b7fa8db219"
      },
      "source": [
        "w, l = reg.coef_\n",
        "print(w, l)"
      ],
      "execution_count": null,
      "outputs": [
        {
          "output_type": "stream",
          "name": "stdout",
          "text": [
            "2.5684588583128055e-07 -2.0801033146758604e-07\n"
          ]
        }
      ]
    },
    {
      "cell_type": "code",
      "metadata": {
        "colab": {
          "base_uri": "https://localhost:8080/"
        },
        "id": "NoCCK-CSHLMM",
        "outputId": "af4c69e8-b3fb-46a6-96dc-a5a10926c02b"
      },
      "source": [
        "reg.intercept_"
      ],
      "execution_count": null,
      "outputs": [
        {
          "output_type": "execute_result",
          "data": {
            "text/plain": [
              "0.0"
            ]
          },
          "metadata": {},
          "execution_count": 23
        }
      ]
    },
    {
      "cell_type": "code",
      "metadata": {
        "id": "PZCgR5lkLhLH"
      },
      "source": [
        "predictedResidual = reg.predict(X)"
      ],
      "execution_count": null,
      "outputs": []
    },
    {
      "cell_type": "code",
      "metadata": {
        "id": "6ny-_KpSLiHI"
      },
      "source": [
        "data_afterTheory['linear_predictedResidual'] = predictedResidual"
      ],
      "execution_count": null,
      "outputs": []
    },
    {
      "cell_type": "code",
      "metadata": {
        "colab": {
          "base_uri": "https://localhost:8080/",
          "height": 204
        },
        "id": "N1Z0VPNELCD8",
        "outputId": "472744c9-8c9d-4086-ddf0-0e8f8257d596"
      },
      "source": [
        "data_afterTheory.head()"
      ],
      "execution_count": null,
      "outputs": [
        {
          "output_type": "execute_result",
          "data": {
            "text/html": [
              "<div>\n",
              "<style scoped>\n",
              "    .dataframe tbody tr th:only-of-type {\n",
              "        vertical-align: middle;\n",
              "    }\n",
              "\n",
              "    .dataframe tbody tr th {\n",
              "        vertical-align: top;\n",
              "    }\n",
              "\n",
              "    .dataframe thead th {\n",
              "        text-align: right;\n",
              "    }\n",
              "</style>\n",
              "<table border=\"1\" class=\"dataframe\">\n",
              "  <thead>\n",
              "    <tr style=\"text-align: right;\">\n",
              "      <th></th>\n",
              "      <th>ChargeDensity(C/m2)</th>\n",
              "      <th>thickness(m)</th>\n",
              "      <th>solidity</th>\n",
              "      <th>diameter(m)</th>\n",
              "      <th>Interface(m)</th>\n",
              "      <th>Technique</th>\n",
              "      <th>Tem (°C)</th>\n",
              "      <th>Humidity (%)</th>\n",
              "      <th>Force (N)</th>\n",
              "      <th>Predicted(C/m2)</th>\n",
              "      <th>Residual</th>\n",
              "      <th>linear_predictedResidual</th>\n",
              "    </tr>\n",
              "  </thead>\n",
              "  <tbody>\n",
              "    <tr>\n",
              "      <th>2</th>\n",
              "      <td>0.000031</td>\n",
              "      <td>0.000473</td>\n",
              "      <td>0.181</td>\n",
              "      <td>0.000008</td>\n",
              "      <td>0.001501</td>\n",
              "      <td>Reicofil</td>\n",
              "      <td>26.9</td>\n",
              "      <td>28.5</td>\n",
              "      <td>36.1</td>\n",
              "      <td>0.000029</td>\n",
              "      <td>-2.215841e-06</td>\n",
              "      <td>-1.890652e-07</td>\n",
              "    </tr>\n",
              "    <tr>\n",
              "      <th>3</th>\n",
              "      <td>0.000030</td>\n",
              "      <td>0.000600</td>\n",
              "      <td>0.179</td>\n",
              "      <td>0.000008</td>\n",
              "      <td>0.001990</td>\n",
              "      <td>Reicofil</td>\n",
              "      <td>25.8</td>\n",
              "      <td>29.6</td>\n",
              "      <td>37.3</td>\n",
              "      <td>0.000030</td>\n",
              "      <td>-7.683442e-07</td>\n",
              "      <td>-1.561471e-07</td>\n",
              "    </tr>\n",
              "    <tr>\n",
              "      <th>4</th>\n",
              "      <td>0.000034</td>\n",
              "      <td>0.000393</td>\n",
              "      <td>0.206</td>\n",
              "      <td>0.000007</td>\n",
              "      <td>0.001106</td>\n",
              "      <td>Reicofil</td>\n",
              "      <td>26.9</td>\n",
              "      <td>28.5</td>\n",
              "      <td>36.1</td>\n",
              "      <td>0.000030</td>\n",
              "      <td>-3.924111e-06</td>\n",
              "      <td>-1.890652e-07</td>\n",
              "    </tr>\n",
              "    <tr>\n",
              "      <th>5</th>\n",
              "      <td>0.000035</td>\n",
              "      <td>0.000521</td>\n",
              "      <td>0.213</td>\n",
              "      <td>0.000007</td>\n",
              "      <td>0.001530</td>\n",
              "      <td>Reicofil</td>\n",
              "      <td>26.9</td>\n",
              "      <td>25.6</td>\n",
              "      <td>38.1</td>\n",
              "      <td>0.000031</td>\n",
              "      <td>-3.521669e-06</td>\n",
              "      <td>-1.349939e-06</td>\n",
              "    </tr>\n",
              "    <tr>\n",
              "      <th>6</th>\n",
              "      <td>0.000019</td>\n",
              "      <td>0.000475</td>\n",
              "      <td>0.153</td>\n",
              "      <td>0.000016</td>\n",
              "      <td>0.001347</td>\n",
              "      <td>Reicofil</td>\n",
              "      <td>26.7</td>\n",
              "      <td>27.8</td>\n",
              "      <td>35.8</td>\n",
              "      <td>0.000019</td>\n",
              "      <td>3.720106e-07</td>\n",
              "      <td>-3.064542e-07</td>\n",
              "    </tr>\n",
              "  </tbody>\n",
              "</table>\n",
              "</div>"
            ],
            "text/plain": [
              "   ChargeDensity(C/m2)  thickness(m)  ...      Residual  linear_predictedResidual\n",
              "2             0.000031      0.000473  ... -2.215841e-06             -1.890652e-07\n",
              "3             0.000030      0.000600  ... -7.683442e-07             -1.561471e-07\n",
              "4             0.000034      0.000393  ... -3.924111e-06             -1.890652e-07\n",
              "5             0.000035      0.000521  ... -3.521669e-06             -1.349939e-06\n",
              "6             0.000019      0.000475  ...  3.720106e-07             -3.064542e-07\n",
              "\n",
              "[5 rows x 12 columns]"
            ]
          },
          "metadata": {},
          "execution_count": 26
        }
      ]
    },
    {
      "cell_type": "code",
      "metadata": {
        "id": "Z4LGCcRSL0Q6"
      },
      "source": [
        "a, c, m, n, p = popt_trf[0],popt_trf[1],popt_trf[2],popt_trf[3],popt_trf[4]"
      ],
      "execution_count": null,
      "outputs": []
    },
    {
      "cell_type": "code",
      "metadata": {
        "id": "9fu8RV0rI8py"
      },
      "source": [
        "x=data_afterTheory['thickness(m)'].to_numpy()\n",
        "y=data_afterTheory['solidity'].to_numpy()\n",
        "z=data_afterTheory['diameter(m)'].to_numpy()\n",
        "u=data_afterTheory['Interface(m)'].to_numpy()\n",
        "j=data_afterTheory['ChargeDensity(C/m2)'].to_numpy()"
      ],
      "execution_count": null,
      "outputs": []
    },
    {
      "cell_type": "code",
      "metadata": {
        "id": "jqGpI_AILK84"
      },
      "source": [
        "h = data_afterTheory['Humidity (%)']\n",
        "f = data_afterTheory['Force (N)']"
      ],
      "execution_count": null,
      "outputs": []
    },
    {
      "cell_type": "code",
      "metadata": {
        "colab": {
          "base_uri": "https://localhost:8080/",
          "height": 204
        },
        "id": "dET_WZzZIzdu",
        "outputId": "814fdb9d-5cdc-41d8-c42c-3a24a5c1b2b2"
      },
      "source": [
        "data_afterTheory['newPredictedCharge'] = j-(w*h+l*f)\n",
        "data_afterTheory.head()"
      ],
      "execution_count": null,
      "outputs": [
        {
          "output_type": "execute_result",
          "data": {
            "text/html": [
              "<div>\n",
              "<style scoped>\n",
              "    .dataframe tbody tr th:only-of-type {\n",
              "        vertical-align: middle;\n",
              "    }\n",
              "\n",
              "    .dataframe tbody tr th {\n",
              "        vertical-align: top;\n",
              "    }\n",
              "\n",
              "    .dataframe thead th {\n",
              "        text-align: right;\n",
              "    }\n",
              "</style>\n",
              "<table border=\"1\" class=\"dataframe\">\n",
              "  <thead>\n",
              "    <tr style=\"text-align: right;\">\n",
              "      <th></th>\n",
              "      <th>ChargeDensity(C/m2)</th>\n",
              "      <th>thickness(m)</th>\n",
              "      <th>solidity</th>\n",
              "      <th>diameter(m)</th>\n",
              "      <th>Interface(m)</th>\n",
              "      <th>Technique</th>\n",
              "      <th>Tem (°C)</th>\n",
              "      <th>Humidity (%)</th>\n",
              "      <th>Force (N)</th>\n",
              "      <th>Predicted(C/m2)</th>\n",
              "      <th>Residual</th>\n",
              "      <th>linear_predictedResidual</th>\n",
              "      <th>newPredictedCharge</th>\n",
              "    </tr>\n",
              "  </thead>\n",
              "  <tbody>\n",
              "    <tr>\n",
              "      <th>2</th>\n",
              "      <td>0.000031</td>\n",
              "      <td>0.000473</td>\n",
              "      <td>0.181</td>\n",
              "      <td>0.000008</td>\n",
              "      <td>0.001501</td>\n",
              "      <td>Reicofil</td>\n",
              "      <td>26.9</td>\n",
              "      <td>28.5</td>\n",
              "      <td>36.1</td>\n",
              "      <td>0.000029</td>\n",
              "      <td>-2.215841e-06</td>\n",
              "      <td>-1.890652e-07</td>\n",
              "      <td>0.000031</td>\n",
              "    </tr>\n",
              "    <tr>\n",
              "      <th>3</th>\n",
              "      <td>0.000030</td>\n",
              "      <td>0.000600</td>\n",
              "      <td>0.179</td>\n",
              "      <td>0.000008</td>\n",
              "      <td>0.001990</td>\n",
              "      <td>Reicofil</td>\n",
              "      <td>25.8</td>\n",
              "      <td>29.6</td>\n",
              "      <td>37.3</td>\n",
              "      <td>0.000030</td>\n",
              "      <td>-7.683442e-07</td>\n",
              "      <td>-1.561471e-07</td>\n",
              "      <td>0.000030</td>\n",
              "    </tr>\n",
              "    <tr>\n",
              "      <th>4</th>\n",
              "      <td>0.000034</td>\n",
              "      <td>0.000393</td>\n",
              "      <td>0.206</td>\n",
              "      <td>0.000007</td>\n",
              "      <td>0.001106</td>\n",
              "      <td>Reicofil</td>\n",
              "      <td>26.9</td>\n",
              "      <td>28.5</td>\n",
              "      <td>36.1</td>\n",
              "      <td>0.000030</td>\n",
              "      <td>-3.924111e-06</td>\n",
              "      <td>-1.890652e-07</td>\n",
              "      <td>0.000034</td>\n",
              "    </tr>\n",
              "    <tr>\n",
              "      <th>5</th>\n",
              "      <td>0.000035</td>\n",
              "      <td>0.000521</td>\n",
              "      <td>0.213</td>\n",
              "      <td>0.000007</td>\n",
              "      <td>0.001530</td>\n",
              "      <td>Reicofil</td>\n",
              "      <td>26.9</td>\n",
              "      <td>25.6</td>\n",
              "      <td>38.1</td>\n",
              "      <td>0.000031</td>\n",
              "      <td>-3.521669e-06</td>\n",
              "      <td>-1.349939e-06</td>\n",
              "      <td>0.000036</td>\n",
              "    </tr>\n",
              "    <tr>\n",
              "      <th>6</th>\n",
              "      <td>0.000019</td>\n",
              "      <td>0.000475</td>\n",
              "      <td>0.153</td>\n",
              "      <td>0.000016</td>\n",
              "      <td>0.001347</td>\n",
              "      <td>Reicofil</td>\n",
              "      <td>26.7</td>\n",
              "      <td>27.8</td>\n",
              "      <td>35.8</td>\n",
              "      <td>0.000019</td>\n",
              "      <td>3.720106e-07</td>\n",
              "      <td>-3.064542e-07</td>\n",
              "      <td>0.000019</td>\n",
              "    </tr>\n",
              "  </tbody>\n",
              "</table>\n",
              "</div>"
            ],
            "text/plain": [
              "   ChargeDensity(C/m2)  ...  newPredictedCharge\n",
              "2             0.000031  ...            0.000031\n",
              "3             0.000030  ...            0.000030\n",
              "4             0.000034  ...            0.000034\n",
              "5             0.000035  ...            0.000036\n",
              "6             0.000019  ...            0.000019\n",
              "\n",
              "[5 rows x 13 columns]"
            ]
          },
          "metadata": {},
          "execution_count": 30
        }
      ]
    },
    {
      "cell_type": "code",
      "metadata": {
        "colab": {
          "base_uri": "https://localhost:8080/"
        },
        "id": "Cxm7KcS0L8-g",
        "outputId": "92566e01-380d-488d-945e-5f1a5edf2e2b"
      },
      "source": [
        "def mean_absolute_percentage_error(y_true, y_pred):\n",
        "  y_true, y_pred = np.array(y_true), np.array(y_pred)\n",
        "  return np.mean(np.abs((y_true - y_pred) / y_true)) * 100\n",
        "\n",
        "mape_trf = mean_absolute_percentage_error(data_afterTheory['ChargeDensity(C/m2)'], data_afterTheory['Predicted(C/m2)'])\n",
        "mape_trf_train = mean_absolute_percentage_error(data_afterTheory['ChargeDensity(C/m2)'][0:train.shape[0]], data_afterTheory['Predicted(C/m2)'][0:train.shape[0]])\n",
        "mape_trf_test = mean_absolute_percentage_error(data_afterTheory['ChargeDensity(C/m2)'][train.shape[0]:data_val.shape[0]], data_afterTheory['Predicted(C/m2)'][train.shape[0]:data_val.shape[0]])\n",
        "\n",
        "print('MAPE= {:.2f}'.format(mape_trf))\n",
        "print('Train_MAPE = {:.2f}'.format(mape_trf_train))\n",
        "print('test_MAPE = {:.2f}'.format(mape_trf_test))"
      ],
      "execution_count": null,
      "outputs": [
        {
          "output_type": "stream",
          "name": "stdout",
          "text": [
            "MAPE= 4.79\n",
            "Train_MAPE = 4.69\n",
            "test_MAPE = 5.24\n"
          ]
        }
      ]
    },
    {
      "cell_type": "code",
      "metadata": {
        "colab": {
          "base_uri": "https://localhost:8080/"
        },
        "id": "w89IRMNmbhLJ",
        "outputId": "90b23af4-b946-42f8-83f9-3df47bfc77de"
      },
      "source": [
        "def mean_absolute_percentage_error(y_true, y_pred):\n",
        "  y_true, y_pred = np.array(y_true), np.array(y_pred)\n",
        "  return np.mean(np.abs((y_true - y_pred) / y_true)) * 100\n",
        "\n",
        "mape_trf = mean_absolute_percentage_error(data_afterTheory['ChargeDensity(C/m2)'], data_afterTheory['newPredictedCharge'])\n",
        "mape_trf_train = mean_absolute_percentage_error(data_afterTheory['ChargeDensity(C/m2)'][0:train.shape[0]], data_afterTheory['newPredictedCharge'][0:train.shape[0]])\n",
        "mape_trf_test = mean_absolute_percentage_error(data_afterTheory['ChargeDensity(C/m2)'][train.shape[0]:data_val.shape[0]], data_afterTheory['newPredictedCharge'][train.shape[0]:data_val.shape[0]])\n",
        "\n",
        "print('MAPE= {:.2f}'.format(mape_trf))\n",
        "print('Train_MAPE = {:.2f}'.format(mape_trf_train))\n",
        "print('test_MAPE = {:.2f}'.format(mape_trf_test))"
      ],
      "execution_count": null,
      "outputs": [
        {
          "output_type": "stream",
          "name": "stdout",
          "text": [
            "MAPE= 2.53\n",
            "Train_MAPE = 2.39\n",
            "test_MAPE = 3.13\n"
          ]
        }
      ]
    },
    {
      "cell_type": "markdown",
      "metadata": {
        "id": "wSXhp-mbSa1C"
      },
      "source": [
        "# Validation at different random seeds"
      ]
    },
    {
      "cell_type": "code",
      "metadata": {
        "id": "-1kwyP3nSfId"
      },
      "source": [
        "def get_index(random_state, data):\n",
        "  kf = KFold(n_splits=5, shuffle = True, random_state=random_state)\n",
        "  train_indexs = []\n",
        "  test_indexs = []\n",
        "  for train_index, test_index in kf.split(data):\n",
        "      train_indexs.append(train_index)\n",
        "      test_indexs.append(test_index)\n",
        "  index=pd.DataFrame(zip(train_indexs, test_indexs), columns=['train_index','test_index'])\n",
        "  return index"
      ],
      "execution_count": null,
      "outputs": []
    },
    {
      "cell_type": "code",
      "metadata": {
        "colab": {
          "base_uri": "https://localhost:8080/",
          "height": 204
        },
        "id": "0sVHRSuVTAZI",
        "outputId": "4c2e7056-357e-4a68-cdd6-2f52e483b0f2"
      },
      "source": [
        "get_index(76, train)"
      ],
      "execution_count": null,
      "outputs": [
        {
          "output_type": "execute_result",
          "data": {
            "text/html": [
              "<div>\n",
              "<style scoped>\n",
              "    .dataframe tbody tr th:only-of-type {\n",
              "        vertical-align: middle;\n",
              "    }\n",
              "\n",
              "    .dataframe tbody tr th {\n",
              "        vertical-align: top;\n",
              "    }\n",
              "\n",
              "    .dataframe thead th {\n",
              "        text-align: right;\n",
              "    }\n",
              "</style>\n",
              "<table border=\"1\" class=\"dataframe\">\n",
              "  <thead>\n",
              "    <tr style=\"text-align: right;\">\n",
              "      <th></th>\n",
              "      <th>train_index</th>\n",
              "      <th>test_index</th>\n",
              "    </tr>\n",
              "  </thead>\n",
              "  <tbody>\n",
              "    <tr>\n",
              "      <th>0</th>\n",
              "      <td>[0, 1, 2, 3, 4, 5, 6, 7, 8, 10, 12, 15, 16, 17...</td>\n",
              "      <td>[9, 11, 13, 14, 21, 24, 32]</td>\n",
              "    </tr>\n",
              "    <tr>\n",
              "      <th>1</th>\n",
              "      <td>[0, 1, 2, 3, 4, 5, 7, 8, 9, 10, 11, 12, 13, 14...</td>\n",
              "      <td>[6, 17, 19, 20, 22, 23, 27]</td>\n",
              "    </tr>\n",
              "    <tr>\n",
              "      <th>2</th>\n",
              "      <td>[0, 1, 2, 6, 7, 8, 9, 10, 11, 12, 13, 14, 15, ...</td>\n",
              "      <td>[3, 4, 5, 16, 25, 29, 30]</td>\n",
              "    </tr>\n",
              "    <tr>\n",
              "      <th>3</th>\n",
              "      <td>[0, 1, 3, 4, 5, 6, 7, 9, 10, 11, 13, 14, 15, 1...</td>\n",
              "      <td>[2, 8, 12, 18, 28, 31, 34]</td>\n",
              "    </tr>\n",
              "    <tr>\n",
              "      <th>4</th>\n",
              "      <td>[2, 3, 4, 5, 6, 8, 9, 11, 12, 13, 14, 16, 17, ...</td>\n",
              "      <td>[0, 1, 7, 10, 15, 26, 33]</td>\n",
              "    </tr>\n",
              "  </tbody>\n",
              "</table>\n",
              "</div>"
            ],
            "text/plain": [
              "                                         train_index                   test_index\n",
              "0  [0, 1, 2, 3, 4, 5, 6, 7, 8, 10, 12, 15, 16, 17...  [9, 11, 13, 14, 21, 24, 32]\n",
              "1  [0, 1, 2, 3, 4, 5, 7, 8, 9, 10, 11, 12, 13, 14...  [6, 17, 19, 20, 22, 23, 27]\n",
              "2  [0, 1, 2, 6, 7, 8, 9, 10, 11, 12, 13, 14, 15, ...    [3, 4, 5, 16, 25, 29, 30]\n",
              "3  [0, 1, 3, 4, 5, 6, 7, 9, 10, 11, 13, 14, 15, 1...   [2, 8, 12, 18, 28, 31, 34]\n",
              "4  [2, 3, 4, 5, 6, 8, 9, 11, 12, 13, 14, 16, 17, ...    [0, 1, 7, 10, 15, 26, 33]"
            ]
          },
          "metadata": {},
          "execution_count": 34
        }
      ]
    },
    {
      "cell_type": "code",
      "metadata": {
        "colab": {
          "base_uri": "https://localhost:8080/"
        },
        "id": "WeSXNmo9UhJ7",
        "outputId": "fcd3b56b-bcb6-4ea6-cb31-1edfd34c43a9"
      },
      "source": [
        "a,c,m,n,p, -w, -l"
      ],
      "execution_count": null,
      "outputs": [
        {
          "output_type": "execute_result",
          "data": {
            "text/plain": [
              "(7.33358335345706e-06,\n",
              " 0.9637914305754077,\n",
              " 1.1659956607310682,\n",
              " 1.1689975959596484,\n",
              " 1.1765786722620015,\n",
              " -2.5684588583128055e-07,\n",
              " 2.0801033146758604e-07)"
            ]
          },
          "metadata": {},
          "execution_count": 35
        }
      ]
    },
    {
      "cell_type": "code",
      "metadata": {
        "id": "qgRPqO3eSiEq"
      },
      "source": [
        "def get_scores(n_fold, index, data):\n",
        "  train_index = index.iloc[n_fold,0]\n",
        "  test_index = index.iloc[n_fold,1]\n",
        "  train, test = data.iloc[train_index], data.iloc[test_index]\n",
        "  train_shape=train.shape\n",
        "  test_shape=test.shape\n",
        "\n",
        "  # Train the model\n",
        "  x=train['thickness(m)'].to_numpy()\n",
        "  y=train['solidity'].to_numpy()\n",
        "  z=train['diameter(m)'].to_numpy()\n",
        "  u=train['Interface(m)'].to_numpy()\n",
        "  j=train['ChargeDensity(C/m2)'].to_numpy()\n",
        "  def func(X,a, c, m, n, p):\n",
        "    x,y,z,u = X\n",
        "    return a*(2*x*y/z-c*y**m*x**n/z**p)*0.01/(0.01+u)\n",
        "  # initial guesses for a,b,c,m,n,p:\n",
        "  p0 = 1E-6 , 1. ,1. , 1. , 1.\n",
        "  # lm\n",
        "  popt_lm,pcov = curve_fit(func,(x,y,z,u),j, method='lm', maxfev = 50000)\n",
        "  y_model_lm = func((x,y,z,u),popt_lm[0],popt_lm[1],popt_lm[2],popt_lm[3],popt_lm[4]) \n",
        "  MSE_lm = mean_squared_error(j, y_model_lm)\n",
        "  MAE_lm = mean_absolute_error(j, y_model_lm)\n",
        "  lm_result=\"lm Method | MSE = {:.2E}| MAE = {:.2E}| a = {:.2E}, c = {:.2E},m = {:.2E}, n = {:.2E}, p = {:.2E}\".format(MSE_lm,MAE_lm,popt_lm[0],popt_lm[1],popt_lm[2],popt_lm[3],popt_lm[4])\n",
        "  \n",
        "\n",
        "  # trf & dogbox\n",
        "       #a          b           c          \n",
        "  bound=((  0,         0,          0,   0,         0         ), \n",
        "       (np.inf,    np.inf,    np.inf, np.inf,    np.inf))\n",
        "  ## trf\n",
        "  popt_trf,pcov = curve_fit(func,(x,y,z,u),j, p0, bounds = bound, method='trf', maxfev=50000)\n",
        "\n",
        "  y_model_trf = func((x,y,z,u),popt_trf[0],popt_trf[1],popt_trf[2], popt_trf[3],popt_trf[4]) \n",
        "  MSE_trf = np.sum((j - y_model_trf)**2)/train.shape[0]\n",
        "  MAE_trf = np.sum(abs(j - y_model_trf))/train.shape[0]\n",
        "\n",
        "  ## dogbox\n",
        "  popt_dog, pcov = curve_fit(func,(x,y,z,u),j, p0, bounds = bound, method='dogbox', maxfev=50000)\n",
        "  y_model_dog = func((x,y,z,u),popt_dog[0],popt_dog[1],popt_dog[2],popt_dog[3],popt_dog[4]) \n",
        "  MSE_dog = np.sum((j - y_model_dog)**2)/train.shape[0]\n",
        "  MAE_dog = np.sum(abs(j - y_model_dog))/train.shape[0]\n",
        "\n",
        "  if MSE_trf < MSE_dog:\n",
        "      print('trf Method is the best method')\n",
        "  else:\n",
        "      print(\"dogbox Method is the best method\")\n",
        "  trf_result=\"trf Method | MSE = {:.2E}| MAE = {:.2E}| a = {}, c = {},m = {}, n = {}, p = {}\".format(MSE_trf,MAE_trf,popt_trf[0],popt_trf[1],popt_trf[2],popt_trf[3],popt_trf[4])\n",
        "  dog_result=\"dog Method | MSE = {:.2E}| MAE = {:.2E}| a = {}, c = {},m = {}, n = {}, p = {}\".format(MSE_dog,MAE_dog,popt_dog[0], popt_dog[1], popt_dog[2], popt_dog[3], popt_dog[4])\n",
        "\n",
        "  # Validate (when trf is best)\n",
        "  a,c,m,n,p = popt_trf[0],popt_trf[1],popt_trf[2],popt_trf[3],popt_trf[4]\n",
        "  data_val = pd.concat([train, test])\n",
        "  data_val.head()\n",
        "  x=data_val['thickness(m)'].to_numpy()\n",
        "  y=data_val['solidity'].to_numpy()\n",
        "  z=data_val['diameter(m)'].to_numpy()\n",
        "  u=data_val['Interface(m)'].to_numpy()\n",
        "  h= data_val['Humidity (%)'].to_numpy()\n",
        "  f= data_val['Force (N)'].to_numpy()\n",
        "  j=data_val['ChargeDensity(C/m2)'].to_numpy()\n",
        "\n",
        "\n",
        "  data_val['Predicted(C/m2)'] = a*(2*x*y/z-c*y**m*x**n/z**p)*0.01/(0.01+u)\n",
        "  data_val['newPredicted(C/m2)'] = j-(w*h+l*f)\n",
        "\n",
        "  \n",
        "  def mean_absolute_percentage_error(y_true, y_pred):\n",
        "    y_true, y_pred = np.array(y_true), np.array(y_pred)\n",
        "    return np.mean(np.abs((y_true - y_pred) / y_true)) * 100\n",
        "  mape_trf = mean_absolute_percentage_error(data_val['ChargeDensity(C/m2)'], data_val['Predicted(C/m2)'])\n",
        "  mape_trf_train = mean_absolute_percentage_error(data_val['ChargeDensity(C/m2)'][0:train.shape[0]], data_val['Predicted(C/m2)'][0:train.shape[0]])\n",
        "  mape_trf_test = mean_absolute_percentage_error(data_val['ChargeDensity(C/m2)'][train.shape[0]:data_val.shape[0]], data_val['Predicted(C/m2)'][train.shape[0]:data_val.shape[0]])\n",
        "\n",
        "  mape_trf_new = mean_absolute_percentage_error(data_val['ChargeDensity(C/m2)'], data_val['newPredicted(C/m2)'])\n",
        "  mape_trf_train_new = mean_absolute_percentage_error(data_val['ChargeDensity(C/m2)'][0:train.shape[0]], data_val['newPredicted(C/m2)'][0:train.shape[0]])\n",
        "  mape_trf_test_new = mean_absolute_percentage_error(data_val['ChargeDensity(C/m2)'][train.shape[0]:data_val.shape[0]], data_val['newPredicted(C/m2)'][train.shape[0]:data_val.shape[0]])\n",
        "  return n_fold, train_shape, test_shape, mape_trf, mape_trf_train, mape_trf_test, mape_trf_new, mape_trf_train_new, mape_trf_test_new"
      ],
      "execution_count": null,
      "outputs": []
    },
    {
      "cell_type": "code",
      "metadata": {
        "id": "GuJC3godSiCG"
      },
      "source": [
        "max_random_sate = 100"
      ],
      "execution_count": null,
      "outputs": []
    },
    {
      "cell_type": "code",
      "metadata": {
        "colab": {
          "base_uri": "https://localhost:8080/"
        },
        "id": "IKXAs4T4Sh_0",
        "outputId": "9d477023-d97c-4bf9-c310-f6bb2b4115b5"
      },
      "source": [
        "random_states = []\n",
        "n_folds = []\n",
        "train_shapes = []\n",
        "test_shapes = []\n",
        "MAPEs = []\n",
        "train_MAPEs = []\n",
        "test_MAPEs = []\n",
        "\n",
        "MAPEs_new = []\n",
        "MAPEs_train_new = []\n",
        "MAPEs_test_new = []\n",
        "\n",
        "\n",
        "for random_state in range(max_random_sate):\n",
        "  index = get_index(random_state, data)\n",
        "  for n_fold in range(5):\n",
        "    random_states.append(random_state)\n",
        "    n_fold, train_shape, test_shape, MAPE, train_MAPE, test_MAPE,  mape_new,  mape_train_new, mape_test_new = get_scores(n_fold, index, data)\n",
        "    # n_fold, train_shape, test_shape, MAPE, train_MAPE, test_MAPE = get_scores(n_fold, index, data)\n",
        "    n_folds.append(n_fold)\n",
        "    train_shapes.append(train_shape)\n",
        "    test_shapes.append(test_shape)\n",
        "    MAPEs.append(MAPE)\n",
        "    train_MAPEs.append(train_MAPE)\n",
        "    test_MAPEs.append(test_MAPE)\n",
        "    \n",
        "    MAPEs_new.append(mape_new)\n",
        "    MAPEs_train_new.append(mape_train_new)\n",
        "    MAPEs_test_new.append(mape_test_new)\n"
      ],
      "execution_count": null,
      "outputs": [
        {
          "output_type": "stream",
          "name": "stdout",
          "text": [
            "trf Method is the best method\n",
            "trf Method is the best method\n",
            "trf Method is the best method\n",
            "trf Method is the best method\n",
            "trf Method is the best method\n",
            "trf Method is the best method\n",
            "trf Method is the best method\n",
            "trf Method is the best method\n",
            "trf Method is the best method\n",
            "trf Method is the best method\n",
            "trf Method is the best method\n",
            "trf Method is the best method\n",
            "trf Method is the best method\n",
            "trf Method is the best method\n",
            "trf Method is the best method\n",
            "trf Method is the best method\n",
            "dogbox Method is the best method\n",
            "dogbox Method is the best method\n",
            "trf Method is the best method\n",
            "trf Method is the best method\n",
            "trf Method is the best method\n",
            "trf Method is the best method\n",
            "trf Method is the best method\n",
            "trf Method is the best method\n",
            "trf Method is the best method\n",
            "trf Method is the best method\n",
            "trf Method is the best method\n",
            "trf Method is the best method\n",
            "trf Method is the best method\n",
            "trf Method is the best method\n",
            "trf Method is the best method\n",
            "trf Method is the best method\n",
            "trf Method is the best method\n",
            "trf Method is the best method\n",
            "trf Method is the best method\n",
            "trf Method is the best method\n",
            "trf Method is the best method\n",
            "trf Method is the best method\n",
            "trf Method is the best method\n"
          ]
        },
        {
          "output_type": "stream",
          "name": "stderr",
          "text": [
            "/usr/local/lib/python3.7/dist-packages/scipy/optimize/minpack.py:808: OptimizeWarning: Covariance of the parameters could not be estimated\n",
            "  category=OptimizeWarning)\n"
          ]
        },
        {
          "output_type": "stream",
          "name": "stdout",
          "text": [
            "trf Method is the best method\n",
            "trf Method is the best method\n",
            "trf Method is the best method\n",
            "trf Method is the best method\n",
            "trf Method is the best method\n",
            "trf Method is the best method\n",
            "trf Method is the best method\n",
            "trf Method is the best method\n",
            "trf Method is the best method\n",
            "trf Method is the best method\n",
            "trf Method is the best method\n",
            "dogbox Method is the best method\n",
            "trf Method is the best method\n",
            "trf Method is the best method\n",
            "trf Method is the best method\n",
            "trf Method is the best method\n",
            "trf Method is the best method\n",
            "dogbox Method is the best method\n",
            "trf Method is the best method\n",
            "trf Method is the best method\n",
            "trf Method is the best method\n",
            "trf Method is the best method\n",
            "trf Method is the best method\n",
            "trf Method is the best method\n",
            "trf Method is the best method\n",
            "trf Method is the best method\n",
            "trf Method is the best method\n",
            "trf Method is the best method\n",
            "trf Method is the best method\n",
            "trf Method is the best method\n",
            "trf Method is the best method\n",
            "trf Method is the best method\n",
            "trf Method is the best method\n",
            "trf Method is the best method\n",
            "trf Method is the best method\n",
            "trf Method is the best method\n",
            "trf Method is the best method\n",
            "trf Method is the best method\n",
            "trf Method is the best method\n",
            "trf Method is the best method\n",
            "trf Method is the best method\n",
            "trf Method is the best method\n",
            "trf Method is the best method\n",
            "trf Method is the best method\n",
            "trf Method is the best method\n",
            "trf Method is the best method\n",
            "trf Method is the best method\n",
            "trf Method is the best method\n",
            "trf Method is the best method\n",
            "trf Method is the best method\n",
            "trf Method is the best method\n",
            "trf Method is the best method\n",
            "trf Method is the best method\n",
            "trf Method is the best method\n"
          ]
        },
        {
          "output_type": "stream",
          "name": "stderr",
          "text": [
            "/usr/local/lib/python3.7/dist-packages/scipy/optimize/minpack.py:808: OptimizeWarning: Covariance of the parameters could not be estimated\n",
            "  category=OptimizeWarning)\n"
          ]
        },
        {
          "output_type": "stream",
          "name": "stdout",
          "text": [
            "trf Method is the best method\n",
            "trf Method is the best method\n",
            "trf Method is the best method\n",
            "trf Method is the best method\n",
            "trf Method is the best method\n",
            "trf Method is the best method\n",
            "trf Method is the best method\n",
            "trf Method is the best method\n",
            "trf Method is the best method\n",
            "trf Method is the best method\n",
            "trf Method is the best method\n",
            "trf Method is the best method\n",
            "trf Method is the best method\n",
            "trf Method is the best method\n",
            "trf Method is the best method\n",
            "trf Method is the best method\n",
            "trf Method is the best method\n",
            "trf Method is the best method\n",
            "trf Method is the best method\n",
            "trf Method is the best method\n",
            "trf Method is the best method\n",
            "trf Method is the best method\n",
            "trf Method is the best method\n",
            "trf Method is the best method\n",
            "trf Method is the best method\n",
            "dogbox Method is the best method\n",
            "trf Method is the best method\n",
            "trf Method is the best method\n",
            "trf Method is the best method\n",
            "trf Method is the best method\n",
            "trf Method is the best method\n",
            "trf Method is the best method\n",
            "trf Method is the best method\n",
            "trf Method is the best method\n",
            "trf Method is the best method\n",
            "trf Method is the best method\n",
            "trf Method is the best method\n",
            "trf Method is the best method\n",
            "trf Method is the best method\n",
            "trf Method is the best method\n",
            "trf Method is the best method\n",
            "trf Method is the best method\n",
            "dogbox Method is the best method\n",
            "trf Method is the best method\n",
            "trf Method is the best method\n",
            "trf Method is the best method\n",
            "trf Method is the best method\n",
            "trf Method is the best method\n",
            "trf Method is the best method\n",
            "trf Method is the best method\n",
            "trf Method is the best method\n",
            "trf Method is the best method\n",
            "trf Method is the best method\n",
            "trf Method is the best method\n",
            "trf Method is the best method\n",
            "trf Method is the best method\n",
            "trf Method is the best method\n",
            "trf Method is the best method\n",
            "trf Method is the best method\n",
            "trf Method is the best method\n",
            "trf Method is the best method\n",
            "trf Method is the best method\n",
            "trf Method is the best method\n",
            "trf Method is the best method\n",
            "trf Method is the best method\n",
            "trf Method is the best method\n",
            "trf Method is the best method\n",
            "trf Method is the best method\n",
            "trf Method is the best method\n",
            "trf Method is the best method\n",
            "trf Method is the best method\n",
            "trf Method is the best method\n",
            "trf Method is the best method\n",
            "trf Method is the best method\n",
            "trf Method is the best method\n",
            "trf Method is the best method\n",
            "trf Method is the best method\n",
            "trf Method is the best method\n",
            "trf Method is the best method\n",
            "trf Method is the best method\n",
            "trf Method is the best method\n",
            "trf Method is the best method\n",
            "trf Method is the best method\n",
            "trf Method is the best method\n",
            "trf Method is the best method\n",
            "trf Method is the best method\n",
            "trf Method is the best method\n",
            "trf Method is the best method\n",
            "trf Method is the best method\n",
            "trf Method is the best method\n",
            "trf Method is the best method\n",
            "trf Method is the best method\n",
            "trf Method is the best method\n",
            "trf Method is the best method\n",
            "trf Method is the best method\n",
            "trf Method is the best method\n",
            "trf Method is the best method\n",
            "trf Method is the best method\n",
            "trf Method is the best method\n",
            "trf Method is the best method\n",
            "trf Method is the best method\n",
            "trf Method is the best method\n",
            "trf Method is the best method\n",
            "trf Method is the best method\n",
            "trf Method is the best method\n",
            "trf Method is the best method\n",
            "trf Method is the best method\n",
            "trf Method is the best method\n",
            "trf Method is the best method\n",
            "trf Method is the best method\n",
            "trf Method is the best method\n",
            "trf Method is the best method\n",
            "trf Method is the best method\n",
            "trf Method is the best method\n",
            "trf Method is the best method\n",
            "trf Method is the best method\n",
            "trf Method is the best method\n",
            "trf Method is the best method\n",
            "trf Method is the best method\n",
            "trf Method is the best method\n",
            "trf Method is the best method\n",
            "trf Method is the best method\n",
            "trf Method is the best method\n",
            "trf Method is the best method\n",
            "trf Method is the best method\n",
            "trf Method is the best method\n",
            "trf Method is the best method\n",
            "trf Method is the best method\n",
            "trf Method is the best method\n",
            "trf Method is the best method\n",
            "trf Method is the best method\n"
          ]
        },
        {
          "output_type": "stream",
          "name": "stderr",
          "text": [
            "/usr/local/lib/python3.7/dist-packages/scipy/optimize/minpack.py:808: OptimizeWarning: Covariance of the parameters could not be estimated\n",
            "  category=OptimizeWarning)\n"
          ]
        },
        {
          "output_type": "stream",
          "name": "stdout",
          "text": [
            "trf Method is the best method\n",
            "trf Method is the best method\n",
            "trf Method is the best method\n",
            "trf Method is the best method\n",
            "trf Method is the best method\n",
            "trf Method is the best method\n"
          ]
        },
        {
          "output_type": "stream",
          "name": "stderr",
          "text": [
            "/usr/local/lib/python3.7/dist-packages/scipy/optimize/minpack.py:808: OptimizeWarning: Covariance of the parameters could not be estimated\n",
            "  category=OptimizeWarning)\n"
          ]
        },
        {
          "output_type": "stream",
          "name": "stdout",
          "text": [
            "trf Method is the best method\n",
            "trf Method is the best method\n",
            "trf Method is the best method\n",
            "trf Method is the best method\n",
            "trf Method is the best method\n",
            "trf Method is the best method\n",
            "trf Method is the best method\n",
            "trf Method is the best method\n",
            "trf Method is the best method\n",
            "trf Method is the best method\n",
            "trf Method is the best method\n",
            "trf Method is the best method\n",
            "trf Method is the best method\n",
            "trf Method is the best method\n",
            "trf Method is the best method\n",
            "trf Method is the best method\n",
            "trf Method is the best method\n",
            "trf Method is the best method\n",
            "trf Method is the best method\n",
            "trf Method is the best method\n",
            "trf Method is the best method\n",
            "trf Method is the best method\n",
            "trf Method is the best method\n",
            "trf Method is the best method\n",
            "trf Method is the best method\n",
            "trf Method is the best method\n",
            "trf Method is the best method\n",
            "trf Method is the best method\n",
            "trf Method is the best method\n",
            "trf Method is the best method\n",
            "trf Method is the best method\n",
            "trf Method is the best method\n",
            "trf Method is the best method\n",
            "trf Method is the best method\n",
            "trf Method is the best method\n",
            "trf Method is the best method\n",
            "trf Method is the best method\n",
            "trf Method is the best method\n",
            "trf Method is the best method\n",
            "dogbox Method is the best method\n",
            "trf Method is the best method\n",
            "trf Method is the best method\n",
            "trf Method is the best method\n",
            "trf Method is the best method\n",
            "trf Method is the best method\n",
            "trf Method is the best method\n",
            "trf Method is the best method\n",
            "trf Method is the best method\n",
            "trf Method is the best method\n",
            "trf Method is the best method\n",
            "trf Method is the best method\n",
            "trf Method is the best method\n",
            "trf Method is the best method\n",
            "trf Method is the best method\n",
            "trf Method is the best method\n",
            "trf Method is the best method\n",
            "trf Method is the best method\n",
            "trf Method is the best method\n",
            "trf Method is the best method\n",
            "trf Method is the best method\n",
            "trf Method is the best method\n",
            "trf Method is the best method\n",
            "trf Method is the best method\n",
            "trf Method is the best method\n",
            "trf Method is the best method\n",
            "trf Method is the best method\n",
            "trf Method is the best method\n",
            "trf Method is the best method\n",
            "trf Method is the best method\n",
            "trf Method is the best method\n",
            "trf Method is the best method\n",
            "trf Method is the best method\n",
            "trf Method is the best method\n",
            "trf Method is the best method\n",
            "trf Method is the best method\n",
            "trf Method is the best method\n",
            "trf Method is the best method\n",
            "trf Method is the best method\n",
            "trf Method is the best method\n",
            "trf Method is the best method\n",
            "trf Method is the best method\n",
            "trf Method is the best method\n",
            "trf Method is the best method\n",
            "trf Method is the best method\n",
            "dogbox Method is the best method\n",
            "trf Method is the best method\n",
            "trf Method is the best method\n",
            "trf Method is the best method\n",
            "trf Method is the best method\n",
            "trf Method is the best method\n",
            "trf Method is the best method\n",
            "trf Method is the best method\n",
            "trf Method is the best method\n",
            "trf Method is the best method\n",
            "trf Method is the best method\n",
            "trf Method is the best method\n",
            "trf Method is the best method\n",
            "trf Method is the best method\n",
            "trf Method is the best method\n",
            "trf Method is the best method\n",
            "trf Method is the best method\n",
            "trf Method is the best method\n",
            "trf Method is the best method\n",
            "trf Method is the best method\n",
            "trf Method is the best method\n",
            "trf Method is the best method\n",
            "trf Method is the best method\n",
            "dogbox Method is the best method\n",
            "trf Method is the best method\n",
            "trf Method is the best method\n",
            "trf Method is the best method\n",
            "trf Method is the best method\n",
            "trf Method is the best method\n",
            "trf Method is the best method\n",
            "trf Method is the best method\n",
            "trf Method is the best method\n",
            "trf Method is the best method\n",
            "trf Method is the best method\n",
            "trf Method is the best method\n",
            "trf Method is the best method\n",
            "trf Method is the best method\n",
            "trf Method is the best method\n",
            "trf Method is the best method\n",
            "trf Method is the best method\n",
            "trf Method is the best method\n",
            "trf Method is the best method\n",
            "trf Method is the best method\n",
            "trf Method is the best method\n",
            "trf Method is the best method\n",
            "trf Method is the best method\n",
            "trf Method is the best method\n",
            "trf Method is the best method\n",
            "trf Method is the best method\n",
            "trf Method is the best method\n",
            "trf Method is the best method\n",
            "trf Method is the best method\n",
            "trf Method is the best method\n",
            "trf Method is the best method\n",
            "trf Method is the best method\n",
            "dogbox Method is the best method\n",
            "trf Method is the best method\n",
            "trf Method is the best method\n",
            "trf Method is the best method\n",
            "trf Method is the best method\n",
            "trf Method is the best method\n",
            "trf Method is the best method\n",
            "trf Method is the best method\n",
            "trf Method is the best method\n",
            "trf Method is the best method\n",
            "trf Method is the best method\n",
            "trf Method is the best method\n",
            "trf Method is the best method\n",
            "trf Method is the best method\n",
            "trf Method is the best method\n",
            "trf Method is the best method\n",
            "trf Method is the best method\n",
            "trf Method is the best method\n",
            "trf Method is the best method\n",
            "trf Method is the best method\n",
            "trf Method is the best method\n",
            "trf Method is the best method\n",
            "trf Method is the best method\n",
            "trf Method is the best method\n",
            "trf Method is the best method\n",
            "trf Method is the best method\n",
            "trf Method is the best method\n",
            "trf Method is the best method\n",
            "trf Method is the best method\n",
            "trf Method is the best method\n",
            "trf Method is the best method\n",
            "trf Method is the best method\n",
            "trf Method is the best method\n",
            "trf Method is the best method\n",
            "trf Method is the best method\n",
            "trf Method is the best method\n",
            "trf Method is the best method\n",
            "trf Method is the best method\n",
            "trf Method is the best method\n",
            "trf Method is the best method\n",
            "trf Method is the best method\n",
            "trf Method is the best method\n",
            "trf Method is the best method\n",
            "trf Method is the best method\n",
            "trf Method is the best method\n",
            "trf Method is the best method\n",
            "trf Method is the best method\n",
            "trf Method is the best method\n",
            "trf Method is the best method\n",
            "trf Method is the best method\n",
            "trf Method is the best method\n",
            "trf Method is the best method\n",
            "trf Method is the best method\n",
            "trf Method is the best method\n",
            "trf Method is the best method\n",
            "trf Method is the best method\n",
            "trf Method is the best method\n",
            "trf Method is the best method\n",
            "trf Method is the best method\n",
            "trf Method is the best method\n",
            "trf Method is the best method\n",
            "trf Method is the best method\n",
            "trf Method is the best method\n",
            "trf Method is the best method\n",
            "trf Method is the best method\n",
            "trf Method is the best method\n",
            "dogbox Method is the best method\n",
            "trf Method is the best method\n",
            "trf Method is the best method\n",
            "trf Method is the best method\n",
            "trf Method is the best method\n",
            "trf Method is the best method\n",
            "trf Method is the best method\n",
            "trf Method is the best method\n",
            "trf Method is the best method\n",
            "trf Method is the best method\n",
            "trf Method is the best method\n",
            "trf Method is the best method\n",
            "trf Method is the best method\n",
            "trf Method is the best method\n",
            "trf Method is the best method\n",
            "trf Method is the best method\n",
            "trf Method is the best method\n",
            "trf Method is the best method\n",
            "trf Method is the best method\n",
            "trf Method is the best method\n",
            "trf Method is the best method\n",
            "trf Method is the best method\n",
            "trf Method is the best method\n",
            "trf Method is the best method\n",
            "trf Method is the best method\n",
            "trf Method is the best method\n",
            "trf Method is the best method\n",
            "trf Method is the best method\n",
            "trf Method is the best method\n",
            "trf Method is the best method\n",
            "trf Method is the best method\n",
            "trf Method is the best method\n",
            "trf Method is the best method\n",
            "trf Method is the best method\n",
            "trf Method is the best method\n",
            "trf Method is the best method\n",
            "trf Method is the best method\n",
            "trf Method is the best method\n",
            "trf Method is the best method\n",
            "trf Method is the best method\n",
            "trf Method is the best method\n",
            "trf Method is the best method\n",
            "trf Method is the best method\n",
            "trf Method is the best method\n",
            "trf Method is the best method\n",
            "trf Method is the best method\n",
            "trf Method is the best method\n",
            "trf Method is the best method\n",
            "trf Method is the best method\n",
            "trf Method is the best method\n",
            "trf Method is the best method\n",
            "trf Method is the best method\n",
            "trf Method is the best method\n",
            "trf Method is the best method\n",
            "trf Method is the best method\n",
            "trf Method is the best method\n",
            "trf Method is the best method\n",
            "trf Method is the best method\n",
            "trf Method is the best method\n",
            "trf Method is the best method\n",
            "trf Method is the best method\n",
            "trf Method is the best method\n",
            "trf Method is the best method\n",
            "trf Method is the best method\n",
            "trf Method is the best method\n"
          ]
        }
      ]
    },
    {
      "cell_type": "code",
      "metadata": {
        "colab": {
          "base_uri": "https://localhost:8080/",
          "height": 419
        },
        "id": "6Kv9JJpOSh5S",
        "outputId": "d387b86a-8317-4667-facf-f8d1e10819d8"
      },
      "source": [
        "summary = pd.DataFrame()\n",
        "summary['random_state']=random_states\n",
        "summary['n_fold']=n_folds\n",
        "summary['train_shape'] = train_shapes\n",
        "summary['test_shape'] = test_shapes\n",
        "\n",
        "summary['MAPE'] = MAPEs\n",
        "summary['train_MAPE'] = train_MAPEs\n",
        "summary['test_MAPE'] = test_MAPEs\n",
        "\n",
        "summary['MAPE_new'] = MAPEs_new\n",
        "summary['train_MAPE_new'] = MAPEs_train_new\n",
        "summary['test_MAPE_new'] = MAPEs_test_new\n",
        "summary"
      ],
      "execution_count": null,
      "outputs": [
        {
          "output_type": "execute_result",
          "data": {
            "text/html": [
              "<div>\n",
              "<style scoped>\n",
              "    .dataframe tbody tr th:only-of-type {\n",
              "        vertical-align: middle;\n",
              "    }\n",
              "\n",
              "    .dataframe tbody tr th {\n",
              "        vertical-align: top;\n",
              "    }\n",
              "\n",
              "    .dataframe thead th {\n",
              "        text-align: right;\n",
              "    }\n",
              "</style>\n",
              "<table border=\"1\" class=\"dataframe\">\n",
              "  <thead>\n",
              "    <tr style=\"text-align: right;\">\n",
              "      <th></th>\n",
              "      <th>random_state</th>\n",
              "      <th>n_fold</th>\n",
              "      <th>train_shape</th>\n",
              "      <th>test_shape</th>\n",
              "      <th>MAPE</th>\n",
              "      <th>train_MAPE</th>\n",
              "      <th>test_MAPE</th>\n",
              "      <th>MAPE_new</th>\n",
              "      <th>train_MAPE_new</th>\n",
              "      <th>test_MAPE_new</th>\n",
              "    </tr>\n",
              "  </thead>\n",
              "  <tbody>\n",
              "    <tr>\n",
              "      <th>0</th>\n",
              "      <td>0</td>\n",
              "      <td>0</td>\n",
              "      <td>(34, 9)</td>\n",
              "      <td>(9, 9)</td>\n",
              "      <td>4.732114</td>\n",
              "      <td>4.563100</td>\n",
              "      <td>5.370610</td>\n",
              "      <td>2.526189</td>\n",
              "      <td>2.567001</td>\n",
              "      <td>2.372013</td>\n",
              "    </tr>\n",
              "    <tr>\n",
              "      <th>1</th>\n",
              "      <td>0</td>\n",
              "      <td>1</td>\n",
              "      <td>(34, 9)</td>\n",
              "      <td>(9, 9)</td>\n",
              "      <td>5.021760</td>\n",
              "      <td>4.527879</td>\n",
              "      <td>6.887532</td>\n",
              "      <td>2.526189</td>\n",
              "      <td>2.463843</td>\n",
              "      <td>2.761722</td>\n",
              "    </tr>\n",
              "    <tr>\n",
              "      <th>2</th>\n",
              "      <td>0</td>\n",
              "      <td>2</td>\n",
              "      <td>(34, 9)</td>\n",
              "      <td>(9, 9)</td>\n",
              "      <td>4.615092</td>\n",
              "      <td>4.749588</td>\n",
              "      <td>4.106998</td>\n",
              "      <td>2.526189</td>\n",
              "      <td>2.420487</td>\n",
              "      <td>2.925508</td>\n",
              "    </tr>\n",
              "    <tr>\n",
              "      <th>3</th>\n",
              "      <td>0</td>\n",
              "      <td>3</td>\n",
              "      <td>(35, 9)</td>\n",
              "      <td>(8, 9)</td>\n",
              "      <td>4.690002</td>\n",
              "      <td>5.049301</td>\n",
              "      <td>3.118069</td>\n",
              "      <td>2.526189</td>\n",
              "      <td>2.655386</td>\n",
              "      <td>1.960954</td>\n",
              "    </tr>\n",
              "    <tr>\n",
              "      <th>4</th>\n",
              "      <td>0</td>\n",
              "      <td>4</td>\n",
              "      <td>(35, 9)</td>\n",
              "      <td>(8, 9)</td>\n",
              "      <td>4.825558</td>\n",
              "      <td>4.602903</td>\n",
              "      <td>5.799675</td>\n",
              "      <td>2.526189</td>\n",
              "      <td>2.520595</td>\n",
              "      <td>2.550666</td>\n",
              "    </tr>\n",
              "    <tr>\n",
              "      <th>...</th>\n",
              "      <td>...</td>\n",
              "      <td>...</td>\n",
              "      <td>...</td>\n",
              "      <td>...</td>\n",
              "      <td>...</td>\n",
              "      <td>...</td>\n",
              "      <td>...</td>\n",
              "      <td>...</td>\n",
              "      <td>...</td>\n",
              "      <td>...</td>\n",
              "    </tr>\n",
              "    <tr>\n",
              "      <th>495</th>\n",
              "      <td>99</td>\n",
              "      <td>0</td>\n",
              "      <td>(34, 9)</td>\n",
              "      <td>(9, 9)</td>\n",
              "      <td>4.837036</td>\n",
              "      <td>5.096916</td>\n",
              "      <td>3.855267</td>\n",
              "      <td>2.526189</td>\n",
              "      <td>2.568399</td>\n",
              "      <td>2.366732</td>\n",
              "    </tr>\n",
              "    <tr>\n",
              "      <th>496</th>\n",
              "      <td>99</td>\n",
              "      <td>1</td>\n",
              "      <td>(34, 9)</td>\n",
              "      <td>(9, 9)</td>\n",
              "      <td>14.163561</td>\n",
              "      <td>12.706513</td>\n",
              "      <td>19.667963</td>\n",
              "      <td>2.526189</td>\n",
              "      <td>2.562990</td>\n",
              "      <td>2.387165</td>\n",
              "    </tr>\n",
              "    <tr>\n",
              "      <th>497</th>\n",
              "      <td>99</td>\n",
              "      <td>2</td>\n",
              "      <td>(34, 9)</td>\n",
              "      <td>(9, 9)</td>\n",
              "      <td>4.892725</td>\n",
              "      <td>5.082013</td>\n",
              "      <td>4.177637</td>\n",
              "      <td>2.526189</td>\n",
              "      <td>2.537657</td>\n",
              "      <td>2.482867</td>\n",
              "    </tr>\n",
              "    <tr>\n",
              "      <th>498</th>\n",
              "      <td>99</td>\n",
              "      <td>3</td>\n",
              "      <td>(35, 9)</td>\n",
              "      <td>(8, 9)</td>\n",
              "      <td>4.748008</td>\n",
              "      <td>4.205608</td>\n",
              "      <td>7.121011</td>\n",
              "      <td>2.526189</td>\n",
              "      <td>2.612017</td>\n",
              "      <td>2.150694</td>\n",
              "    </tr>\n",
              "    <tr>\n",
              "      <th>499</th>\n",
              "      <td>99</td>\n",
              "      <td>4</td>\n",
              "      <td>(35, 9)</td>\n",
              "      <td>(8, 9)</td>\n",
              "      <td>4.645211</td>\n",
              "      <td>3.668814</td>\n",
              "      <td>8.916946</td>\n",
              "      <td>2.526189</td>\n",
              "      <td>2.352470</td>\n",
              "      <td>3.286214</td>\n",
              "    </tr>\n",
              "  </tbody>\n",
              "</table>\n",
              "<p>500 rows × 10 columns</p>\n",
              "</div>"
            ],
            "text/plain": [
              "     random_state  n_fold train_shape  ...  MAPE_new  train_MAPE_new  test_MAPE_new\n",
              "0               0       0     (34, 9)  ...  2.526189        2.567001       2.372013\n",
              "1               0       1     (34, 9)  ...  2.526189        2.463843       2.761722\n",
              "2               0       2     (34, 9)  ...  2.526189        2.420487       2.925508\n",
              "3               0       3     (35, 9)  ...  2.526189        2.655386       1.960954\n",
              "4               0       4     (35, 9)  ...  2.526189        2.520595       2.550666\n",
              "..            ...     ...         ...  ...       ...             ...            ...\n",
              "495            99       0     (34, 9)  ...  2.526189        2.568399       2.366732\n",
              "496            99       1     (34, 9)  ...  2.526189        2.562990       2.387165\n",
              "497            99       2     (34, 9)  ...  2.526189        2.537657       2.482867\n",
              "498            99       3     (35, 9)  ...  2.526189        2.612017       2.150694\n",
              "499            99       4     (35, 9)  ...  2.526189        2.352470       3.286214\n",
              "\n",
              "[500 rows x 10 columns]"
            ]
          },
          "metadata": {},
          "execution_count": 39
        }
      ]
    },
    {
      "cell_type": "code",
      "metadata": {
        "id": "nQvpG33sXYyC"
      },
      "source": [
        "summary.to_csv('for_100_random_summary_SEBS.csv')"
      ],
      "execution_count": null,
      "outputs": []
    },
    {
      "cell_type": "code",
      "metadata": {
        "colab": {
          "base_uri": "https://localhost:8080/",
          "height": 129
        },
        "id": "vW3V6TfME5T2",
        "outputId": "95e60043-baab-4b34-b67a-32c6fe4adef2"
      },
      "source": [
        "=1"
      ],
      "execution_count": null,
      "outputs": [
        {
          "output_type": "error",
          "ename": "SyntaxError",
          "evalue": "ignored",
          "traceback": [
            "\u001b[0;36m  File \u001b[0;32m\"<ipython-input-41-fc4e1f6d94ea>\"\u001b[0;36m, line \u001b[0;32m1\u001b[0m\n\u001b[0;31m    =1\u001b[0m\n\u001b[0m    ^\u001b[0m\n\u001b[0;31mSyntaxError\u001b[0m\u001b[0;31m:\u001b[0m invalid syntax\n"
          ]
        }
      ]
    },
    {
      "cell_type": "code",
      "metadata": {
        "id": "YhghZLpYfVdH"
      },
      "source": [
        "# ideal surface area\n",
        "data_val['idealSurface'] = 2*x*y/z"
      ],
      "execution_count": null,
      "outputs": []
    },
    {
      "cell_type": "code",
      "metadata": {
        "id": "p-DVO4rKfWsF"
      },
      "source": [
        "data_val['fusionSurface']=c*y**m*x**n/z**p"
      ],
      "execution_count": null,
      "outputs": []
    },
    {
      "cell_type": "code",
      "metadata": {
        "id": "22mvcrShfaz_"
      },
      "source": [
        "data_val['fusion_ratio']=c*y**m*x**n/z**p/(2*x*y/z)*100"
      ],
      "execution_count": null,
      "outputs": []
    },
    {
      "cell_type": "code",
      "metadata": {
        "id": "vdXYt7FjfcmZ"
      },
      "source": [
        "data_val.head()"
      ],
      "execution_count": null,
      "outputs": []
    },
    {
      "cell_type": "markdown",
      "metadata": {
        "id": "YuCu3M8G1ZV6"
      },
      "source": [
        ""
      ]
    },
    {
      "cell_type": "code",
      "metadata": {
        "id": "_u5SSwSS0mQ_"
      },
      "source": [
        "data_val.head()"
      ],
      "execution_count": null,
      "outputs": []
    },
    {
      "cell_type": "code",
      "metadata": {
        "id": "m2YlxyD66juy"
      },
      "source": [
        "data_val['relPermitivity'] = data_val['thickness(m)']/data_val['Interface(m)']"
      ],
      "execution_count": null,
      "outputs": []
    },
    {
      "cell_type": "code",
      "metadata": {
        "id": "24dVaDgZ62e6"
      },
      "source": [
        "data_val.head()"
      ],
      "execution_count": null,
      "outputs": []
    },
    {
      "cell_type": "code",
      "metadata": {
        "id": "-m3oWa9w65Y5"
      },
      "source": [
        "data_val['relPermitivity'].describe()"
      ],
      "execution_count": null,
      "outputs": []
    },
    {
      "cell_type": "code",
      "metadata": {
        "id": "8ux4wxZU7EAc"
      },
      "source": [
        "data_val.to_csv('relPermitivity_SEBS.csv')"
      ],
      "execution_count": null,
      "outputs": []
    },
    {
      "cell_type": "code",
      "metadata": {
        "id": "rG12bAQ2y8w8"
      },
      "source": [
        "data_val.describe()"
      ],
      "execution_count": null,
      "outputs": []
    },
    {
      "cell_type": "code",
      "metadata": {
        "id": "dfxxOfHBzsBv"
      },
      "source": [
        "data_val.to_csv('SEBS_Fusion_Ratio.csv')"
      ],
      "execution_count": null,
      "outputs": []
    },
    {
      "cell_type": "markdown",
      "metadata": {
        "id": "hD2A8C4mhrAC"
      },
      "source": [
        "## R-Sqaure"
      ]
    },
    {
      "cell_type": "code",
      "metadata": {
        "id": "EY_CFMDj36La"
      },
      "source": [
        "accuracy_lf = metrics.r2_score(data_val['ChargeDensity(uC/m2)'], data_val['Predicted(uC/m2)'])\n",
        "print('Mutiple Linear Regression Accuracy: ', accuracy_lf)"
      ],
      "execution_count": null,
      "outputs": []
    },
    {
      "cell_type": "markdown",
      "metadata": {
        "id": "wepayem3hj_h"
      },
      "source": [
        "## Adjust R-Sqaure"
      ]
    },
    {
      "cell_type": "code",
      "metadata": {
        "id": "_z4IxyHec69Y"
      },
      "source": [
        "n=data_val.shape[0]\n",
        "n"
      ],
      "execution_count": null,
      "outputs": []
    },
    {
      "cell_type": "code",
      "metadata": {
        "id": "g0LfwcKddAyM"
      },
      "source": [
        "p = 4"
      ],
      "execution_count": null,
      "outputs": []
    },
    {
      "cell_type": "code",
      "metadata": {
        "id": "9VAngnUtboQP"
      },
      "source": [
        "Adj_R2 = 1-(1-accuracy_lf)*(n-1)/(n-p-1)\n",
        "Adj_R2"
      ],
      "execution_count": null,
      "outputs": []
    },
    {
      "cell_type": "markdown",
      "metadata": {
        "id": "eFnVePm2hhD5"
      },
      "source": [
        "## F-test"
      ]
    },
    {
      "cell_type": "code",
      "metadata": {
        "id": "ZmPZhbIGiG9R"
      },
      "source": [
        "independent_X = data_val[['thickness(m)', 'solidity', 'diameter(m)', 'Interface(m)']]\n",
        "independent_X.head()"
      ],
      "execution_count": null,
      "outputs": []
    },
    {
      "cell_type": "code",
      "metadata": {
        "id": "geC3HCdmickJ"
      },
      "source": [
        "independent_X.shape"
      ],
      "execution_count": null,
      "outputs": []
    },
    {
      "cell_type": "code",
      "metadata": {
        "id": "rNQ0Ap97i82v"
      },
      "source": [
        "independent_X[:5]"
      ],
      "execution_count": null,
      "outputs": []
    },
    {
      "cell_type": "code",
      "metadata": {
        "id": "iK7yQV69i_pf"
      },
      "source": [
        "depedent_y = data_val['ChargeDensity(C/m2)']"
      ],
      "execution_count": null,
      "outputs": []
    },
    {
      "cell_type": "code",
      "metadata": {
        "id": "Sho7q18-hwE3"
      },
      "source": [
        "f_regression(independent_X, depedent_y)\n"
      ],
      "execution_count": null,
      "outputs": []
    },
    {
      "cell_type": "code",
      "metadata": {
        "id": "tDFwp3FOkyC9"
      },
      "source": [
        "independent_X = sm.add_constant(independent_X)\n",
        "mreg = sm.OLS(depedent_y, independent_X).fit()\n",
        "display(mreg.summary())"
      ],
      "execution_count": null,
      "outputs": []
    },
    {
      "cell_type": "code",
      "metadata": {
        "id": "CMEjUDu5hwCu"
      },
      "source": [
        ""
      ],
      "execution_count": null,
      "outputs": []
    },
    {
      "cell_type": "code",
      "metadata": {
        "id": "wCM2SdOV1coC"
      },
      "source": [
        "sns.set_style(\"whitegrid\")\n",
        "fig, ax = plt.subplots()\n",
        "sns.scatterplot(data = data_val, x='ChargeDensity(uC/m2)', y='Predicted(uC/m2)', hue='Technique', s=80, palette=\"husl\")\n",
        "\n",
        "l=data_val['Predicted(uC/m2)']\n",
        "\n",
        "ax.plot([l.min()-1, l.max()+1], [l.min()-1.5, l.max()+1.5], 'k--', lw=3, color='b')\n",
        "# ax.plot([17.5, 17.5], [37, 37],'k--', lw=3, color='b')\n",
        "ax.set_xlabel('Measured', fontsize=14)\n",
        "ax.set_ylabel('Predicted', fontsize=14)\n",
        "plt.legend(frameon=False, fontsize=14)\n",
        "plt.savefig('model with Contact.tiff', dpi=600)\n",
        "plt.show()"
      ],
      "execution_count": null,
      "outputs": []
    },
    {
      "cell_type": "markdown",
      "metadata": {
        "id": "duDR0D9FjYKA"
      },
      "source": [
        ""
      ]
    },
    {
      "cell_type": "code",
      "metadata": {
        "id": "uFWQjFsM50nT"
      },
      "source": [
        "train_or_test=['train']*35+['test']*8"
      ],
      "execution_count": null,
      "outputs": []
    },
    {
      "cell_type": "code",
      "metadata": {
        "id": "m79xShZ01l6J"
      },
      "source": [
        "pred_plot = data_val[['Technique', 'ChargeDensity(uC/m2)', 'Predicted(uC/m2)', 'ratio(%)', 'Tem (°C)', 'Humidity (%)', 'Force (N)']]\n",
        "pred_plot['train_or_test'] = train_or_test\n",
        "pred_plot"
      ],
      "execution_count": null,
      "outputs": []
    },
    {
      "cell_type": "code",
      "metadata": {
        "id": "fURFrnthshbi"
      },
      "source": [
        "pred_plot.to_csv('pred_plot.csv')"
      ],
      "execution_count": null,
      "outputs": []
    },
    {
      "cell_type": "code",
      "metadata": {
        "id": "fjRdQYks4EsI"
      },
      "source": [
        "test"
      ],
      "execution_count": null,
      "outputs": []
    },
    {
      "cell_type": "code",
      "metadata": {
        "id": "UQWafRAD4KbW"
      },
      "source": [
        "pred_plot.to_csv('pred_plot.csv')"
      ],
      "execution_count": null,
      "outputs": []
    },
    {
      "cell_type": "code",
      "metadata": {
        "id": "7oBCcgzPy02A"
      },
      "source": [
        "df = pd.read_excel('3 NewData_Train - updateDiameter-Validiate.xlsx', sheet_name='mean', index_col=0)\n",
        "df.head()"
      ],
      "execution_count": null,
      "outputs": []
    },
    {
      "cell_type": "code",
      "metadata": {
        "id": "HzuYJYX4zUKb"
      },
      "source": [
        "data = pd.DataFrame()\n",
        "data['ChargeDensity(C/m2)']=df['ChargeDensity(µC/m2) j']*pow(10,-6)\n",
        "data['thickness(m)']=df['Thickness (um) x']*pow(10,-6)\n",
        "data['solidity'] = df['solidity y']\n",
        "data['diameter(m)'] = df['diameter (um) z']*pow(10,-6)\n",
        "data['Interface(m)']=df['Interface  (mm) u']*pow(10, -3)\n",
        "data['Technique'] = df['Technique']\n",
        "whole=data\n",
        "whole.head()"
      ],
      "execution_count": null,
      "outputs": []
    },
    {
      "cell_type": "code",
      "metadata": {
        "id": "cUnT4856xqTl"
      },
      "source": [
        "avg_thickness = data['thickness(m)'].mean()\n",
        "avg_solidity = data['solidity'].mean()\n",
        "avg_diameter = data['diameter(m)'].mean()\n",
        "avg_u = data['Interface(m)'].mean()\n",
        "\n",
        "\n",
        "print('avg_thickness = {:.2f}\\navg_solidity = {:.3f}\\navg_diameter = {:.2f} '.format(avg_thickness, avg_solidity, avg_diameter))\n",
        "print('avg_u = {:.3f}'.format(avg_u))\n",
        "print('thickness | {:.2f}-{:.2f} um'.format(data['thickness(m)'].min()*1E6, data['thickness(m)'].max()*1E6))\n",
        "print('solidity | {:.2f}-{:.2f}'.format(data['solidity'].min(), data['solidity'].max()))\n",
        "print('diameter | {:.2f}-{:.2f} um'.format(data['diameter(m)'].min()*1E6, data['diameter(m)'].max()*1E6))"
      ],
      "execution_count": null,
      "outputs": []
    },
    {
      "cell_type": "code",
      "metadata": {
        "id": "1rVy4_Q-xsv_"
      },
      "source": [
        "whole.loc['K-1']"
      ],
      "execution_count": null,
      "outputs": []
    },
    {
      "cell_type": "code",
      "metadata": {
        "id": "Er6FAQICx1Y8"
      },
      "source": [
        "set_thickness = data.loc['K-1']['thickness(m)']\n",
        "set_solidity = data.loc['K-1']['solidity']\n",
        "set_diameter = data.loc['K-1']['diameter(m)']\n",
        "set_u = data.loc['K-1']['Interface(m)']\n",
        "print('set_thickness = {:.3E}\\nset_solidity = {:.3f}\\nset_diameter = {:.2E} \\nset_u= {:.3f}'.format(set_thickness, set_solidity, set_diameter, set_u))\n",
        "\n",
        "set_j = data.loc['K-1']['ChargeDensity(C/m2)']\n",
        "print('measured j= {:.2E}'.format(set_j))"
      ],
      "execution_count": null,
      "outputs": []
    },
    {
      "cell_type": "code",
      "metadata": {
        "id": "1rWxauxD546-"
      },
      "source": [
        "simulation_df = pd.DataFrame()"
      ],
      "execution_count": null,
      "outputs": []
    },
    {
      "cell_type": "code",
      "metadata": {
        "id": "4njDcS0y6BXb"
      },
      "source": [
        "#-----------------------------------------------------------------------------------------------\n",
        "# Thickness ~ charge\n",
        "x = np.linspace(100, 1200)*pow(10,-6)\n",
        "y = set_solidity\n",
        "z = set_diameter\n",
        "u = set_u\n",
        "\n",
        "J = a*(2*x*y/z-c*y**m*x**n/z**p)*0.01/(0.01+u)\n",
        "\n",
        "ax[0].plot(x*pow(10,6), J*pow(10,6), linestyle=\"--\", linewidth = 6)\n",
        "ax[0].scatter(set_thickness*pow(10,6), set_j*pow(10,6), c='b', marker = '^', s=1000)\n",
        "\n",
        "simulation_df['thickness (um)']=np.linspace(100, 1200)\n",
        "simulation_df['charge (uC)_1']=J*pow(10,6)\n",
        "\n",
        "#-----------------------------------------------------------------------------------------------\n",
        "# solidity ~ charge\n",
        "\n",
        "x = set_thickness\n",
        "y = np.linspace(0.05, 0.7)\n",
        "z = set_diameter\n",
        "u = set_u\n",
        "\n",
        "J = a*(2*x*y/z-c*y**m*x**n/z**p)*0.01/(0.01+u)\n",
        "\n",
        "\n",
        "ax[1].plot(y,J*pow(10,6), linestyle=\"--\", linewidth = 6)\n",
        "ax[1].scatter(set_solidity, set_j*pow(10,6), c='b', marker = '^', s=1000)\n",
        "\n",
        "simulation_df['solidity']=y\n",
        "simulation_df['charge (uC)_2']=J*pow(10,6)\n",
        "\n",
        "    \n",
        "#-----------------------------------------------------------------------------------------------\n",
        "# Diameter ~ Charge\n",
        "\n",
        "x = set_thickness\n",
        "y = set_solidity\n",
        "z = np.linspace(3, 20)*pow(10,-6)\n",
        "u = set_u\n",
        "\n",
        "J = a*(2*x*y/z-c*y**m*x**n/z**p)*0.01/(0.01+u)\n",
        "\n",
        "ax[2].plot(z*pow(10,6),J*pow(10,6), linestyle=\"--\", linewidth = 6)\n",
        "ax[2].scatter(set_diameter*pow(10,6), set_j*pow(10,6), c='b', marker = '^', s=1000)\n",
        "\n",
        "simulation_df['diameter (um)']=z*pow(10,6)\n",
        "simulation_df['charge (uC)_3']=J*pow(10,6)\n",
        "\n",
        "\n"
      ],
      "execution_count": null,
      "outputs": []
    },
    {
      "cell_type": "code",
      "metadata": {
        "id": "-7lDOl3i6poN"
      },
      "source": [
        "simulation_df.head()"
      ],
      "execution_count": null,
      "outputs": []
    },
    {
      "cell_type": "code",
      "metadata": {
        "id": "oej7T4Jp7WXO"
      },
      "source": [
        "simulation_df.to_csv('simulation.csv')"
      ],
      "execution_count": null,
      "outputs": []
    },
    {
      "cell_type": "code",
      "metadata": {
        "id": "ATAC3j-EzoK_"
      },
      "source": [
        "plt.style.use('ggplot')\n",
        "plt.style.use('seaborn-whitegrid')\n",
        "plt.rcParams['axes.facecolor'] = 'none'\n",
        "\n",
        "\n",
        "fig, ax = plt.subplots(1,3, figsize=(8,3.5), sharey=True)\n",
        "\n",
        "\n",
        "#-----------------------------------------------------------------------------------------------\n",
        "# Thickness ~ charge\n",
        "x = np.linspace(100, 1200)*pow(10,-6)\n",
        "y = set_solidity\n",
        "z = set_diameter\n",
        "u = set_u\n",
        "\n",
        "J = a*(2*x*y/z-c*y**m*x**n/z**p)*0.01/(0.01+u)\n",
        "\n",
        "ax[0].plot(x*pow(10,6), J*pow(10,6), linestyle=\"--\", linewidth = 6)\n",
        "ax[0].scatter(set_thickness*pow(10,6), set_j*pow(10,6), c='b', marker = '^', s=1000)\n",
        "\n",
        "ax[0].set_xlabel(\"Thickness \\n(um)\", fontsize=16)\n",
        "ax[0].set_ylabel(\"(uC/m2)\", fontsize=16)\n",
        "ax[0].tick_params(axis = 'x', labelsize=14)\n",
        "ax[0].tick_params(axis = 'y', labelsize=14)\n",
        "ax[0].set_ylim(0,40)\n",
        "\n",
        "\n",
        "\n",
        "#-----------------------------------------------------------------------------------------------\n",
        "# solidity ~ charge\n",
        "\n",
        "x = set_thickness\n",
        "y = np.linspace(0.05, 0.7)\n",
        "z = set_diameter\n",
        "u = set_u\n",
        "\n",
        "J = a*(2*x*y/z-c*y**m*x**n/z**p)*0.01/(0.01+u)\n",
        "\n",
        "\n",
        "ax[1].plot(y,J*pow(10,6), linestyle=\"--\", linewidth = 6)\n",
        "ax[1].scatter(set_solidity, set_j*pow(10,6), c='b', marker = '^', s=1000)\n",
        "\n",
        "ax[1].set_xlabel(\"solidity\", fontsize=16)\n",
        "\n",
        "ax[1].tick_params(axis = 'x', labelsize=14)\n",
        "ax[1].tick_params(axis = 'y', labelsize=14)\n",
        "\n",
        "    \n",
        "#-----------------------------------------------------------------------------------------------\n",
        "# Diameter ~ Charge\n",
        "\n",
        "x = set_thickness\n",
        "y = set_solidity\n",
        "z = np.linspace(3, 20)*pow(10,-6)\n",
        "u = set_u\n",
        "\n",
        "J = a*(2*x*y/z-c*y**m*x**n/z**p)*0.01/(0.01+u)\n",
        "\n",
        "ax[2].plot(z*pow(10,6),J*pow(10,6), linestyle=\"--\", linewidth = 6)\n",
        "ax[2].scatter(set_diameter*pow(10,6), set_j*pow(10,6), c='b', marker = '^', s=1000)\n",
        "\n",
        "ax[2].set_xlabel(\"diameter\\n (um)\", fontsize=16)\n",
        "\n",
        "\n",
        "\n",
        "\n",
        "ax[2].tick_params(axis = 'x', labelsize=14)\n",
        "ax[2].tick_params(axis = 'y', labelsize=14)\n",
        "\n",
        "plt.savefig('Simulation.TIFF', dpi=600, transparent=True)"
      ],
      "execution_count": null,
      "outputs": []
    },
    {
      "cell_type": "code",
      "metadata": {
        "id": "ZPeSYt_fzse1"
      },
      "source": [
        ""
      ],
      "execution_count": null,
      "outputs": []
    },
    {
      "cell_type": "code",
      "metadata": {
        "id": "uUWjXDE_5Z0H"
      },
      "source": [
        ""
      ],
      "execution_count": null,
      "outputs": []
    }
  ]
}