{
  "nbformat": 4,
  "nbformat_minor": 0,
  "metadata": {
    "colab": {
      "name": "Absolute Humidity _ PP.ipynb",
      "provenance": [],
      "collapsed_sections": [],
      "authorship_tag": "ABX9TyOnvsQ/uJq6zD+X4OBzI/IO",
      "include_colab_link": true
    },
    "kernelspec": {
      "name": "python3",
      "display_name": "Python 3"
    },
    "language_info": {
      "name": "python"
    }
  },
  "cells": [
    {
      "cell_type": "markdown",
      "metadata": {
        "id": "view-in-github",
        "colab_type": "text"
      },
      "source": [
        "<a href=\"https://colab.research.google.com/github/ywang1110/Modeling_Triboelectric_Performance/blob/main/Absolute_Humidity___PP.ipynb\" target=\"_parent\"><img src=\"https://colab.research.google.com/assets/colab-badge.svg\" alt=\"Open In Colab\"/></a>"
      ]
    },
    {
      "cell_type": "code",
      "metadata": {
        "id": "GGLYLaTXXjC8"
      },
      "source": [
        "import numpy as np\n",
        "import pandas as pd\n",
        "import seaborn as sns\n",
        "from scipy.optimize import curve_fit\n",
        "import matplotlib.pyplot as plt\n",
        "import matplotlib.ticker as mtick\n",
        "from sklearn.metrics import mean_squared_error\n",
        "from sklearn.metrics import mean_absolute_error\n",
        "from sklearn import metrics\n",
        "from sklearn.model_selection import train_test_split\n",
        "from sklearn.model_selection import KFold\n",
        "\n",
        "import statsmodels.api as sm\n",
        "import statsmodels.formula.api as smf\n",
        "import scipy.stats as stats\n",
        "import matplotlib.cm as cm\n",
        "from IPython.display import display\n",
        "from sklearn.feature_selection import f_regression"
      ],
      "execution_count": 3,
      "outputs": []
    },
    {
      "cell_type": "markdown",
      "metadata": {
        "id": "kWmeyqHCYHUq"
      },
      "source": [
        "# Prepare dataset"
      ]
    },
    {
      "cell_type": "markdown",
      "metadata": {
        "id": "UhaAP45xYrrg"
      },
      "source": [
        "## Load data"
      ]
    },
    {
      "cell_type": "code",
      "metadata": {
        "colab": {
          "base_uri": "https://localhost:8080/"
        },
        "id": "nPeO9kjDqUse",
        "outputId": "df1312a5-2818-4e25-c861-5564d914ca0e"
      },
      "source": [
        "from google.colab import drive\n",
        "drive.mount('/content/drive')"
      ],
      "execution_count": 4,
      "outputs": [
        {
          "output_type": "stream",
          "name": "stdout",
          "text": [
            "Drive already mounted at /content/drive; to attempt to forcibly remount, call drive.mount(\"/content/drive\", force_remount=True).\n"
          ]
        }
      ]
    },
    {
      "cell_type": "code",
      "metadata": {
        "id": "xQRm-DwJY_QL",
        "colab": {
          "base_uri": "https://localhost:8080/",
          "height": 204
        },
        "outputId": "66a6c2a2-cda6-4ce9-fa70-7e30d69dfeb5"
      },
      "source": [
        "df = pd.read_csv('drive/My Drive/0 Sarah PP/0 Data/Humidity/Sarah_PP.xlsx')\n",
        "df.head()"
      ],
      "execution_count": 5,
      "outputs": [
        {
          "output_type": "execute_result",
          "data": {
            "text/html": [
              "<div>\n",
              "<style scoped>\n",
              "    .dataframe tbody tr th:only-of-type {\n",
              "        vertical-align: middle;\n",
              "    }\n",
              "\n",
              "    .dataframe tbody tr th {\n",
              "        vertical-align: top;\n",
              "    }\n",
              "\n",
              "    .dataframe thead th {\n",
              "        text-align: right;\n",
              "    }\n",
              "</style>\n",
              "<table border=\"1\" class=\"dataframe\">\n",
              "  <thead>\n",
              "    <tr style=\"text-align: right;\">\n",
              "      <th></th>\n",
              "      <th>Unnamed: 0</th>\n",
              "      <th>Label</th>\n",
              "      <th>ChargeDensity(µC/m2) j</th>\n",
              "      <th>Thickness(um)</th>\n",
              "      <th>solidity</th>\n",
              "      <th>diameter(um)</th>\n",
              "      <th>Interface(mm)</th>\n",
              "      <th>Tem</th>\n",
              "      <th>Humidity (%)</th>\n",
              "      <th>Force (N)</th>\n",
              "    </tr>\n",
              "  </thead>\n",
              "  <tbody>\n",
              "    <tr>\n",
              "      <th>0</th>\n",
              "      <td>0</td>\n",
              "      <td>S-1</td>\n",
              "      <td>13.233000</td>\n",
              "      <td>524.766667</td>\n",
              "      <td>0.088333</td>\n",
              "      <td>6.184</td>\n",
              "      <td>1.123</td>\n",
              "      <td>25.133333</td>\n",
              "      <td>47.633333</td>\n",
              "      <td>36.133333</td>\n",
              "    </tr>\n",
              "    <tr>\n",
              "      <th>1</th>\n",
              "      <td>1</td>\n",
              "      <td>S-11</td>\n",
              "      <td>19.201667</td>\n",
              "      <td>360.533333</td>\n",
              "      <td>0.127333</td>\n",
              "      <td>3.296</td>\n",
              "      <td>0.765</td>\n",
              "      <td>24.766667</td>\n",
              "      <td>50.033333</td>\n",
              "      <td>36.433333</td>\n",
              "    </tr>\n",
              "    <tr>\n",
              "      <th>2</th>\n",
              "      <td>2</td>\n",
              "      <td>S-13</td>\n",
              "      <td>10.868000</td>\n",
              "      <td>537.533333</td>\n",
              "      <td>0.087667</td>\n",
              "      <td>6.238</td>\n",
              "      <td>1.429</td>\n",
              "      <td>25.733333</td>\n",
              "      <td>45.600000</td>\n",
              "      <td>36.766667</td>\n",
              "    </tr>\n",
              "    <tr>\n",
              "      <th>3</th>\n",
              "      <td>3</td>\n",
              "      <td>S-14</td>\n",
              "      <td>19.316333</td>\n",
              "      <td>404.166667</td>\n",
              "      <td>0.118667</td>\n",
              "      <td>3.580</td>\n",
              "      <td>0.752</td>\n",
              "      <td>24.600000</td>\n",
              "      <td>49.466667</td>\n",
              "      <td>35.800000</td>\n",
              "    </tr>\n",
              "    <tr>\n",
              "      <th>4</th>\n",
              "      <td>4</td>\n",
              "      <td>S-15</td>\n",
              "      <td>26.553667</td>\n",
              "      <td>316.933333</td>\n",
              "      <td>0.148667</td>\n",
              "      <td>2.554</td>\n",
              "      <td>0.857</td>\n",
              "      <td>25.600000</td>\n",
              "      <td>45.033333</td>\n",
              "      <td>36.100000</td>\n",
              "    </tr>\n",
              "  </tbody>\n",
              "</table>\n",
              "</div>"
            ],
            "text/plain": [
              "   Unnamed: 0 Label  ChargeDensity(µC/m2) j  ...        Tem  Humidity (%)  Force (N)\n",
              "0           0   S-1               13.233000  ...  25.133333     47.633333  36.133333\n",
              "1           1  S-11               19.201667  ...  24.766667     50.033333  36.433333\n",
              "2           2  S-13               10.868000  ...  25.733333     45.600000  36.766667\n",
              "3           3  S-14               19.316333  ...  24.600000     49.466667  35.800000\n",
              "4           4  S-15               26.553667  ...  25.600000     45.033333  36.100000\n",
              "\n",
              "[5 rows x 10 columns]"
            ]
          },
          "metadata": {},
          "execution_count": 5
        }
      ]
    },
    {
      "cell_type": "code",
      "metadata": {
        "id": "X0mzE02vhipC",
        "colab": {
          "base_uri": "https://localhost:8080/",
          "height": 204
        },
        "outputId": "df7bbf00-f961-4fea-c56a-a5806f807722"
      },
      "source": [
        "df['Absolute humidity (g/m3)'] = (6.112*2.71828**((17.67*df['Tem'])/(df['Tem']+243.5))*df['Humidity (%)']*2.1674)/(273.15+df['Tem'])\n",
        "df.head()"
      ],
      "execution_count": 6,
      "outputs": [
        {
          "output_type": "execute_result",
          "data": {
            "text/html": [
              "<div>\n",
              "<style scoped>\n",
              "    .dataframe tbody tr th:only-of-type {\n",
              "        vertical-align: middle;\n",
              "    }\n",
              "\n",
              "    .dataframe tbody tr th {\n",
              "        vertical-align: top;\n",
              "    }\n",
              "\n",
              "    .dataframe thead th {\n",
              "        text-align: right;\n",
              "    }\n",
              "</style>\n",
              "<table border=\"1\" class=\"dataframe\">\n",
              "  <thead>\n",
              "    <tr style=\"text-align: right;\">\n",
              "      <th></th>\n",
              "      <th>Unnamed: 0</th>\n",
              "      <th>Label</th>\n",
              "      <th>ChargeDensity(µC/m2) j</th>\n",
              "      <th>Thickness(um)</th>\n",
              "      <th>solidity</th>\n",
              "      <th>diameter(um)</th>\n",
              "      <th>Interface(mm)</th>\n",
              "      <th>Tem</th>\n",
              "      <th>Humidity (%)</th>\n",
              "      <th>Force (N)</th>\n",
              "      <th>Absolute humidity (g/m3)</th>\n",
              "    </tr>\n",
              "  </thead>\n",
              "  <tbody>\n",
              "    <tr>\n",
              "      <th>0</th>\n",
              "      <td>0</td>\n",
              "      <td>S-1</td>\n",
              "      <td>13.233000</td>\n",
              "      <td>524.766667</td>\n",
              "      <td>0.088333</td>\n",
              "      <td>6.184</td>\n",
              "      <td>1.123</td>\n",
              "      <td>25.133333</td>\n",
              "      <td>47.633333</td>\n",
              "      <td>36.133333</td>\n",
              "      <td>11.050496</td>\n",
              "    </tr>\n",
              "    <tr>\n",
              "      <th>1</th>\n",
              "      <td>1</td>\n",
              "      <td>S-11</td>\n",
              "      <td>19.201667</td>\n",
              "      <td>360.533333</td>\n",
              "      <td>0.127333</td>\n",
              "      <td>3.296</td>\n",
              "      <td>0.765</td>\n",
              "      <td>24.766667</td>\n",
              "      <td>50.033333</td>\n",
              "      <td>36.433333</td>\n",
              "      <td>11.369909</td>\n",
              "    </tr>\n",
              "    <tr>\n",
              "      <th>2</th>\n",
              "      <td>2</td>\n",
              "      <td>S-13</td>\n",
              "      <td>10.868000</td>\n",
              "      <td>537.533333</td>\n",
              "      <td>0.087667</td>\n",
              "      <td>6.238</td>\n",
              "      <td>1.429</td>\n",
              "      <td>25.733333</td>\n",
              "      <td>45.600000</td>\n",
              "      <td>36.766667</td>\n",
              "      <td>10.941194</td>\n",
              "    </tr>\n",
              "    <tr>\n",
              "      <th>3</th>\n",
              "      <td>3</td>\n",
              "      <td>S-14</td>\n",
              "      <td>19.316333</td>\n",
              "      <td>404.166667</td>\n",
              "      <td>0.118667</td>\n",
              "      <td>3.580</td>\n",
              "      <td>0.752</td>\n",
              "      <td>24.600000</td>\n",
              "      <td>49.466667</td>\n",
              "      <td>35.800000</td>\n",
              "      <td>11.135841</td>\n",
              "    </tr>\n",
              "    <tr>\n",
              "      <th>4</th>\n",
              "      <td>4</td>\n",
              "      <td>S-15</td>\n",
              "      <td>26.553667</td>\n",
              "      <td>316.933333</td>\n",
              "      <td>0.148667</td>\n",
              "      <td>2.554</td>\n",
              "      <td>0.857</td>\n",
              "      <td>25.600000</td>\n",
              "      <td>45.033333</td>\n",
              "      <td>36.100000</td>\n",
              "      <td>10.724792</td>\n",
              "    </tr>\n",
              "  </tbody>\n",
              "</table>\n",
              "</div>"
            ],
            "text/plain": [
              "   Unnamed: 0 Label  ...  Force (N)  Absolute humidity (g/m3)\n",
              "0           0   S-1  ...  36.133333                 11.050496\n",
              "1           1  S-11  ...  36.433333                 11.369909\n",
              "2           2  S-13  ...  36.766667                 10.941194\n",
              "3           3  S-14  ...  35.800000                 11.135841\n",
              "4           4  S-15  ...  36.100000                 10.724792\n",
              "\n",
              "[5 rows x 11 columns]"
            ]
          },
          "metadata": {},
          "execution_count": 6
        }
      ]
    },
    {
      "cell_type": "code",
      "metadata": {
        "id": "1TgKCU06ZP_C",
        "colab": {
          "base_uri": "https://localhost:8080/"
        },
        "outputId": "0af83594-f198-45aa-aaa0-4041816a6871"
      },
      "source": [
        "df.shape"
      ],
      "execution_count": 7,
      "outputs": [
        {
          "output_type": "execute_result",
          "data": {
            "text/plain": [
              "(17, 11)"
            ]
          },
          "metadata": {},
          "execution_count": 7
        }
      ]
    },
    {
      "cell_type": "markdown",
      "metadata": {
        "id": "NC2Q2uIGZhKy"
      },
      "source": [
        "## Unit conversion"
      ]
    },
    {
      "cell_type": "code",
      "metadata": {
        "id": "nFdhMdhwZd51",
        "colab": {
          "base_uri": "https://localhost:8080/",
          "height": 204
        },
        "outputId": "f4ccd1be-2b20-48cb-bdd9-c3586351b051"
      },
      "source": [
        "data = pd.DataFrame()\n",
        "data['ChargeDensity(C/m2)']=df['ChargeDensity(µC/m2) j']*pow(10,-6)\n",
        "data['thickness(m)']=df['Thickness(um)']*pow(10,-6)\n",
        "data['solidity'] = df['solidity']\n",
        "data['diameter(m)'] = df['diameter(um)']*pow(10,-6)\n",
        "data['Interface(m)']=df['Interface(mm)']*pow(10, -3)\n",
        "data[['Tem (°C)', 'Absolute humidity (g/m3)', 'Force (N)']]=df[['Tem', 'Absolute humidity (g/m3)', 'Force (N)']]\n",
        "\n",
        "data.head()"
      ],
      "execution_count": 8,
      "outputs": [
        {
          "output_type": "execute_result",
          "data": {
            "text/html": [
              "<div>\n",
              "<style scoped>\n",
              "    .dataframe tbody tr th:only-of-type {\n",
              "        vertical-align: middle;\n",
              "    }\n",
              "\n",
              "    .dataframe tbody tr th {\n",
              "        vertical-align: top;\n",
              "    }\n",
              "\n",
              "    .dataframe thead th {\n",
              "        text-align: right;\n",
              "    }\n",
              "</style>\n",
              "<table border=\"1\" class=\"dataframe\">\n",
              "  <thead>\n",
              "    <tr style=\"text-align: right;\">\n",
              "      <th></th>\n",
              "      <th>ChargeDensity(C/m2)</th>\n",
              "      <th>thickness(m)</th>\n",
              "      <th>solidity</th>\n",
              "      <th>diameter(m)</th>\n",
              "      <th>Interface(m)</th>\n",
              "      <th>Tem (°C)</th>\n",
              "      <th>Absolute humidity (g/m3)</th>\n",
              "      <th>Force (N)</th>\n",
              "    </tr>\n",
              "  </thead>\n",
              "  <tbody>\n",
              "    <tr>\n",
              "      <th>0</th>\n",
              "      <td>0.000013</td>\n",
              "      <td>0.000525</td>\n",
              "      <td>0.088333</td>\n",
              "      <td>0.000006</td>\n",
              "      <td>0.001123</td>\n",
              "      <td>25.133333</td>\n",
              "      <td>11.050496</td>\n",
              "      <td>36.133333</td>\n",
              "    </tr>\n",
              "    <tr>\n",
              "      <th>1</th>\n",
              "      <td>0.000019</td>\n",
              "      <td>0.000361</td>\n",
              "      <td>0.127333</td>\n",
              "      <td>0.000003</td>\n",
              "      <td>0.000765</td>\n",
              "      <td>24.766667</td>\n",
              "      <td>11.369909</td>\n",
              "      <td>36.433333</td>\n",
              "    </tr>\n",
              "    <tr>\n",
              "      <th>2</th>\n",
              "      <td>0.000011</td>\n",
              "      <td>0.000538</td>\n",
              "      <td>0.087667</td>\n",
              "      <td>0.000006</td>\n",
              "      <td>0.001429</td>\n",
              "      <td>25.733333</td>\n",
              "      <td>10.941194</td>\n",
              "      <td>36.766667</td>\n",
              "    </tr>\n",
              "    <tr>\n",
              "      <th>3</th>\n",
              "      <td>0.000019</td>\n",
              "      <td>0.000404</td>\n",
              "      <td>0.118667</td>\n",
              "      <td>0.000004</td>\n",
              "      <td>0.000752</td>\n",
              "      <td>24.600000</td>\n",
              "      <td>11.135841</td>\n",
              "      <td>35.800000</td>\n",
              "    </tr>\n",
              "    <tr>\n",
              "      <th>4</th>\n",
              "      <td>0.000027</td>\n",
              "      <td>0.000317</td>\n",
              "      <td>0.148667</td>\n",
              "      <td>0.000003</td>\n",
              "      <td>0.000857</td>\n",
              "      <td>25.600000</td>\n",
              "      <td>10.724792</td>\n",
              "      <td>36.100000</td>\n",
              "    </tr>\n",
              "  </tbody>\n",
              "</table>\n",
              "</div>"
            ],
            "text/plain": [
              "   ChargeDensity(C/m2)  thickness(m)  ...  Absolute humidity (g/m3)  Force (N)\n",
              "0             0.000013      0.000525  ...                 11.050496  36.133333\n",
              "1             0.000019      0.000361  ...                 11.369909  36.433333\n",
              "2             0.000011      0.000538  ...                 10.941194  36.766667\n",
              "3             0.000019      0.000404  ...                 11.135841  35.800000\n",
              "4             0.000027      0.000317  ...                 10.724792  36.100000\n",
              "\n",
              "[5 rows x 8 columns]"
            ]
          },
          "metadata": {},
          "execution_count": 8
        }
      ]
    },
    {
      "cell_type": "code",
      "metadata": {
        "id": "czu_c1JbdqwO",
        "colab": {
          "base_uri": "https://localhost:8080/"
        },
        "outputId": "bf5d53ea-2e87-4e65-9225-8b4febc4528c"
      },
      "source": [
        "data.shape"
      ],
      "execution_count": 9,
      "outputs": [
        {
          "output_type": "execute_result",
          "data": {
            "text/plain": [
              "(17, 8)"
            ]
          },
          "metadata": {},
          "execution_count": 9
        }
      ]
    },
    {
      "cell_type": "markdown",
      "metadata": {
        "id": "X4EbYCItxpRl"
      },
      "source": [
        "# Train test split"
      ]
    },
    {
      "cell_type": "code",
      "metadata": {
        "id": "yJ6M2aiKxn1A",
        "colab": {
          "base_uri": "https://localhost:8080/",
          "height": 204
        },
        "outputId": "22bdfef3-1bc0-47fd-eb6a-8af3c2e723de"
      },
      "source": [
        "random_state=15\n",
        "\n",
        "kf = KFold(n_splits=5, shuffle = True, random_state=random_state)\n",
        "train_indexs = []\n",
        "test_indexs = []\n",
        "for train_index, test_index in kf.split(data):\n",
        "    train_indexs.append(train_index)\n",
        "    test_indexs.append(test_index)\n",
        "index=pd.DataFrame(zip(train_indexs, test_indexs), columns=['train_index','test_index'])\n",
        "index"
      ],
      "execution_count": 10,
      "outputs": [
        {
          "output_type": "execute_result",
          "data": {
            "text/html": [
              "<div>\n",
              "<style scoped>\n",
              "    .dataframe tbody tr th:only-of-type {\n",
              "        vertical-align: middle;\n",
              "    }\n",
              "\n",
              "    .dataframe tbody tr th {\n",
              "        vertical-align: top;\n",
              "    }\n",
              "\n",
              "    .dataframe thead th {\n",
              "        text-align: right;\n",
              "    }\n",
              "</style>\n",
              "<table border=\"1\" class=\"dataframe\">\n",
              "  <thead>\n",
              "    <tr style=\"text-align: right;\">\n",
              "      <th></th>\n",
              "      <th>train_index</th>\n",
              "      <th>test_index</th>\n",
              "    </tr>\n",
              "  </thead>\n",
              "  <tbody>\n",
              "    <tr>\n",
              "      <th>0</th>\n",
              "      <td>[0, 1, 5, 6, 7, 8, 9, 10, 11, 12, 13, 14, 15]</td>\n",
              "      <td>[2, 3, 4, 16]</td>\n",
              "    </tr>\n",
              "    <tr>\n",
              "      <th>1</th>\n",
              "      <td>[0, 2, 3, 4, 5, 6, 7, 8, 12, 13, 14, 15, 16]</td>\n",
              "      <td>[1, 9, 10, 11]</td>\n",
              "    </tr>\n",
              "    <tr>\n",
              "      <th>2</th>\n",
              "      <td>[0, 1, 2, 3, 4, 5, 7, 8, 9, 10, 11, 12, 15, 16]</td>\n",
              "      <td>[6, 13, 14]</td>\n",
              "    </tr>\n",
              "    <tr>\n",
              "      <th>3</th>\n",
              "      <td>[1, 2, 3, 4, 5, 6, 8, 9, 10, 11, 12, 13, 14, 16]</td>\n",
              "      <td>[0, 7, 15]</td>\n",
              "    </tr>\n",
              "    <tr>\n",
              "      <th>4</th>\n",
              "      <td>[0, 1, 2, 3, 4, 6, 7, 9, 10, 11, 13, 14, 15, 16]</td>\n",
              "      <td>[5, 8, 12]</td>\n",
              "    </tr>\n",
              "  </tbody>\n",
              "</table>\n",
              "</div>"
            ],
            "text/plain": [
              "                                        train_index      test_index\n",
              "0     [0, 1, 5, 6, 7, 8, 9, 10, 11, 12, 13, 14, 15]   [2, 3, 4, 16]\n",
              "1      [0, 2, 3, 4, 5, 6, 7, 8, 12, 13, 14, 15, 16]  [1, 9, 10, 11]\n",
              "2   [0, 1, 2, 3, 4, 5, 7, 8, 9, 10, 11, 12, 15, 16]     [6, 13, 14]\n",
              "3  [1, 2, 3, 4, 5, 6, 8, 9, 10, 11, 12, 13, 14, 16]      [0, 7, 15]\n",
              "4  [0, 1, 2, 3, 4, 6, 7, 9, 10, 11, 13, 14, 15, 16]      [5, 8, 12]"
            ]
          },
          "metadata": {},
          "execution_count": 10
        }
      ]
    },
    {
      "cell_type": "code",
      "metadata": {
        "id": "Gqzw2EpGyImP"
      },
      "source": [
        "n_fold=4"
      ],
      "execution_count": 11,
      "outputs": []
    },
    {
      "cell_type": "code",
      "metadata": {
        "id": "PNIaK8hux4ao",
        "colab": {
          "base_uri": "https://localhost:8080/"
        },
        "outputId": "d401d2f4-c544-4703-fbc2-ec4ea9212e78"
      },
      "source": [
        "train_index = index.iloc[n_fold,0]\n",
        "test_index = index.iloc[n_fold,1]\n",
        "train, test = data.iloc[train_index], data.iloc[test_index]\n",
        "train.shape"
      ],
      "execution_count": 12,
      "outputs": [
        {
          "output_type": "execute_result",
          "data": {
            "text/plain": [
              "(14, 8)"
            ]
          },
          "metadata": {},
          "execution_count": 12
        }
      ]
    },
    {
      "cell_type": "code",
      "metadata": {
        "id": "Tc1aESa7yVHZ",
        "colab": {
          "base_uri": "https://localhost:8080/"
        },
        "outputId": "5510e316-2a27-4d77-b722-70050d13b8d2"
      },
      "source": [
        "train.shape"
      ],
      "execution_count": 13,
      "outputs": [
        {
          "output_type": "execute_result",
          "data": {
            "text/plain": [
              "(14, 8)"
            ]
          },
          "metadata": {},
          "execution_count": 13
        }
      ]
    },
    {
      "cell_type": "code",
      "metadata": {
        "id": "JsZABkKUyXRs",
        "colab": {
          "base_uri": "https://localhost:8080/"
        },
        "outputId": "b22df201-4f4b-4557-b8a7-f1e169cfd65a"
      },
      "source": [
        "test.shape"
      ],
      "execution_count": 14,
      "outputs": [
        {
          "output_type": "execute_result",
          "data": {
            "text/plain": [
              "(3, 8)"
            ]
          },
          "metadata": {},
          "execution_count": 14
        }
      ]
    },
    {
      "cell_type": "code",
      "metadata": {
        "id": "Cyoeb676zcA3",
        "colab": {
          "base_uri": "https://localhost:8080/",
          "height": 35
        },
        "outputId": "0d2ddb85-0a78-402d-8cbe-26a06d5e1c0d"
      },
      "source": [
        "\"\"\"\n",
        "train.to_csv('train.csv')\n",
        "test.to_csv('test.csv')\n",
        "\"\"\"\n"
      ],
      "execution_count": 15,
      "outputs": [
        {
          "output_type": "execute_result",
          "data": {
            "application/vnd.google.colaboratory.intrinsic+json": {
              "type": "string"
            },
            "text/plain": [
              "\"\\ntrain.to_csv('train.csv')\\ntest.to_csv('test.csv')\\n\""
            ]
          },
          "metadata": {},
          "execution_count": 15
        }
      ]
    },
    {
      "cell_type": "code",
      "metadata": {
        "id": "xBK21SJBztVB",
        "colab": {
          "base_uri": "https://localhost:8080/",
          "height": 35
        },
        "outputId": "729173d2-18b4-41ca-b3cf-5ceffefe995c"
      },
      "source": [
        "\"\"\"\n",
        "train = pd.read_csv('train.csv')\n",
        "test=pd.read_csv('test.csv')\n",
        "\"\"\""
      ],
      "execution_count": 16,
      "outputs": [
        {
          "output_type": "execute_result",
          "data": {
            "application/vnd.google.colaboratory.intrinsic+json": {
              "type": "string"
            },
            "text/plain": [
              "\"\\ntrain = pd.read_csv('train.csv')\\ntest=pd.read_csv('test.csv')\\n\""
            ]
          },
          "metadata": {},
          "execution_count": 16
        }
      ]
    },
    {
      "cell_type": "code",
      "metadata": {
        "colab": {
          "base_uri": "https://localhost:8080/",
          "height": 204
        },
        "id": "ypQzzBajkzsy",
        "outputId": "dc5f3fd2-6f5c-4f2c-d671-904b406b5da6"
      },
      "source": [
        "train.head()"
      ],
      "execution_count": 17,
      "outputs": [
        {
          "output_type": "execute_result",
          "data": {
            "text/html": [
              "<div>\n",
              "<style scoped>\n",
              "    .dataframe tbody tr th:only-of-type {\n",
              "        vertical-align: middle;\n",
              "    }\n",
              "\n",
              "    .dataframe tbody tr th {\n",
              "        vertical-align: top;\n",
              "    }\n",
              "\n",
              "    .dataframe thead th {\n",
              "        text-align: right;\n",
              "    }\n",
              "</style>\n",
              "<table border=\"1\" class=\"dataframe\">\n",
              "  <thead>\n",
              "    <tr style=\"text-align: right;\">\n",
              "      <th></th>\n",
              "      <th>ChargeDensity(C/m2)</th>\n",
              "      <th>thickness(m)</th>\n",
              "      <th>solidity</th>\n",
              "      <th>diameter(m)</th>\n",
              "      <th>Interface(m)</th>\n",
              "      <th>Tem (°C)</th>\n",
              "      <th>Absolute humidity (g/m3)</th>\n",
              "      <th>Force (N)</th>\n",
              "    </tr>\n",
              "  </thead>\n",
              "  <tbody>\n",
              "    <tr>\n",
              "      <th>0</th>\n",
              "      <td>0.000013</td>\n",
              "      <td>0.000525</td>\n",
              "      <td>0.088333</td>\n",
              "      <td>0.000006</td>\n",
              "      <td>0.001123</td>\n",
              "      <td>25.133333</td>\n",
              "      <td>11.050496</td>\n",
              "      <td>36.133333</td>\n",
              "    </tr>\n",
              "    <tr>\n",
              "      <th>1</th>\n",
              "      <td>0.000019</td>\n",
              "      <td>0.000361</td>\n",
              "      <td>0.127333</td>\n",
              "      <td>0.000003</td>\n",
              "      <td>0.000765</td>\n",
              "      <td>24.766667</td>\n",
              "      <td>11.369909</td>\n",
              "      <td>36.433333</td>\n",
              "    </tr>\n",
              "    <tr>\n",
              "      <th>2</th>\n",
              "      <td>0.000011</td>\n",
              "      <td>0.000538</td>\n",
              "      <td>0.087667</td>\n",
              "      <td>0.000006</td>\n",
              "      <td>0.001429</td>\n",
              "      <td>25.733333</td>\n",
              "      <td>10.941194</td>\n",
              "      <td>36.766667</td>\n",
              "    </tr>\n",
              "    <tr>\n",
              "      <th>3</th>\n",
              "      <td>0.000019</td>\n",
              "      <td>0.000404</td>\n",
              "      <td>0.118667</td>\n",
              "      <td>0.000004</td>\n",
              "      <td>0.000752</td>\n",
              "      <td>24.600000</td>\n",
              "      <td>11.135841</td>\n",
              "      <td>35.800000</td>\n",
              "    </tr>\n",
              "    <tr>\n",
              "      <th>4</th>\n",
              "      <td>0.000027</td>\n",
              "      <td>0.000317</td>\n",
              "      <td>0.148667</td>\n",
              "      <td>0.000003</td>\n",
              "      <td>0.000857</td>\n",
              "      <td>25.600000</td>\n",
              "      <td>10.724792</td>\n",
              "      <td>36.100000</td>\n",
              "    </tr>\n",
              "  </tbody>\n",
              "</table>\n",
              "</div>"
            ],
            "text/plain": [
              "   ChargeDensity(C/m2)  thickness(m)  ...  Absolute humidity (g/m3)  Force (N)\n",
              "0             0.000013      0.000525  ...                 11.050496  36.133333\n",
              "1             0.000019      0.000361  ...                 11.369909  36.433333\n",
              "2             0.000011      0.000538  ...                 10.941194  36.766667\n",
              "3             0.000019      0.000404  ...                 11.135841  35.800000\n",
              "4             0.000027      0.000317  ...                 10.724792  36.100000\n",
              "\n",
              "[5 rows x 8 columns]"
            ]
          },
          "metadata": {},
          "execution_count": 17
        }
      ]
    },
    {
      "cell_type": "code",
      "metadata": {
        "id": "6tM5qs-ryTb9",
        "colab": {
          "base_uri": "https://localhost:8080/",
          "height": 35
        },
        "outputId": "d7b43ea3-4e3b-45c3-9074-c43b1f739c53"
      },
      "source": [
        "# Train the model\n",
        "x=train['thickness(m)'].to_numpy()\n",
        "y=train['solidity'].to_numpy()\n",
        "z=train['diameter(m)'].to_numpy()\n",
        "u=train['Interface(m)'].to_numpy()\n",
        "h=train['Absolute humidity (g/m3)'].to_numpy()\n",
        "j=train['ChargeDensity(C/m2)'].to_numpy()\n",
        "def func(X,a, w, c, m, n, p):\n",
        "  x,y,z,u,h = X\n",
        "  return (a-w*h)*(2*x*y/z-c*y**m*x**n/z**p)*0.01/(0.01+u)\n",
        "\n",
        "# lm\n",
        "popt_lm,pcov = curve_fit(func,(x,y,z,u,h),j, method='lm', maxfev = 50000)\n",
        "y_model_lm = func((x,y,z,u, h),popt_lm[0],popt_lm[1],popt_lm[2],popt_lm[3],popt_lm[4],popt_lm[5]) \n",
        "MSE_lm = mean_squared_error(j, y_model_lm)\n",
        "MAE_lm = mean_absolute_error(j, y_model_lm)\n",
        "lm_result=\"lm Method | MSE = {:.2E}| MAE = {:.2E}| a = {:.2E}, w = {:.2E}, c = {:.2E},m = {:.2E}, n = {:.2E}, p = {:.2E}\".format(MSE_lm,MAE_lm,popt_lm[0],popt_lm[1],popt_lm[2],popt_lm[3],popt_lm[4],popt_lm[5])\n",
        "lm_result  "
      ],
      "execution_count": 18,
      "outputs": [
        {
          "output_type": "execute_result",
          "data": {
            "application/vnd.google.colaboratory.intrinsic+json": {
              "type": "string"
            },
            "text/plain": [
              "'lm Method | MSE = 1.16E-12| MAE = 9.47E-07| a = -9.12E-02, w = -1.26E-03, c = 2.00E+00,m = 1.00E+00, n = 1.00E+00, p = 1.00E+00'"
            ]
          },
          "metadata": {},
          "execution_count": 18
        }
      ]
    },
    {
      "cell_type": "code",
      "metadata": {
        "id": "_fQTpAW7sJ38"
      },
      "source": [
        "# initial guesses for a,b,c,m,n,p:\n",
        "p0 = 1E-6 , 0 ,1. , 1. , 1., 1."
      ],
      "execution_count": 19,
      "outputs": []
    },
    {
      "cell_type": "code",
      "metadata": {
        "id": "N5n8wUljyG31",
        "colab": {
          "base_uri": "https://localhost:8080/"
        },
        "outputId": "8e2c940a-f0f5-457d-a2d0-f425105e10c9"
      },
      "source": [
        "  # trf & dogbox\n",
        "       #    a          w           c        m          n       p\n",
        "  bound=((  0,         0,          0,       0,         0 ,     0 ), \n",
        "       (np.inf,    np.inf,    np.inf,     np.inf,    np.inf, np.inf))\n",
        "  \n",
        "  ## trf\n",
        "  popt_trf,pcov = curve_fit(func,(x,y,z,u,h),j, p0, bounds = bound, method='trf', maxfev=50000)\n",
        "\n",
        "  y_model_trf = func((x,y,z,u,h),popt_trf[0],popt_trf[1],popt_trf[2], popt_trf[3],popt_trf[4],popt_trf[5]) \n",
        "  MSE_trf = np.sum((j - y_model_trf)**2)/train.shape[0]\n",
        "  MAE_trf = np.sum(abs(j - y_model_trf))/train.shape[0]\n",
        "\n",
        "  ## dogbox\n",
        "  popt_dog, pcov = curve_fit(func,(x,y,z,u,h),j, p0, bounds = bound, method='dogbox', maxfev=50000)\n",
        "  y_model_dog = func((x,y,z,u,h),popt_dog[0],popt_dog[1],popt_dog[2],popt_dog[3],popt_dog[4],popt_dog[5]) \n",
        "  MSE_dog = np.sum((j - y_model_dog)**2)/train.shape[0]\n",
        "  MAE_dog = np.sum(abs(j - y_model_dog))/train.shape[0]\n",
        "\n",
        "  if MSE_trf < MSE_dog:\n",
        "    a,w,c,m,n,p = popt_trf[0],popt_trf[1],popt_trf[2],popt_trf[3],popt_trf[4], popt_trf[5]\n",
        "    print('trf Method is the best method')\n",
        "  else:\n",
        "    a,w,c,m,n,p = popt_dog[0], popt_dog[1], popt_dog[2], popt_dog[3], popt_dog[4], popt_dog[5]\n",
        "    print(\"dogbox Method is the best method\")\n",
        "  trf_result=\"trf Method | MSE = {:.2E}| MAE = {:.2E}| a = {}, w = {}, c = {},m = {}, n = {}, p = {}\".format(MSE_trf,MAE_trf,popt_trf[0],popt_trf[1],popt_trf[2],popt_trf[3],popt_trf[4], popt_trf[5])\n",
        "  dog_result=\"dog Method | MSE = {:.2E}| MAE = {:.2E}| a = {}, w = {}, c = {},m = {}, n = {}, p = {}\".format(MSE_dog,MAE_dog,popt_dog[0], popt_dog[1], popt_dog[2], popt_dog[3], popt_dog[4], popt_dog[5])\n",
        "  print(trf_result)\n",
        "  print(dog_result)"
      ],
      "execution_count": 20,
      "outputs": [
        {
          "output_type": "stream",
          "name": "stdout",
          "text": [
            "trf Method is the best method\n",
            "trf Method | MSE = 1.16E-12| MAE = 9.49E-07| a = 5.092279015736309e-05, w = 6.036928794741998e-07, c = 2.1084049535056963,m = 1.010734705502889, n = 1.0205646878394428, p = 1.0090335394575178\n",
            "dog Method | MSE = 1.14E-11| MAE = 3.06E-06| a = 1.3069779234290008e-05, w = 8.831700701545341e-07, c = 1.611328125,m = 1.0000404067091224, n = 1.000073847765369, p = 1.0000307651081701\n"
          ]
        }
      ]
    },
    {
      "cell_type": "code",
      "metadata": {
        "colab": {
          "base_uri": "https://localhost:8080/"
        },
        "id": "No68sdnPnAJ_",
        "outputId": "3464400e-3607-4416-92e6-ab30280d9679"
      },
      "source": [
        "  # Validate (when trf is best)\n",
        "\n",
        "  data_val = pd.concat([train, test])\n",
        "  data_val.head()\n",
        "  x=data_val['thickness(m)'].to_numpy()\n",
        "  y=data_val['solidity'].to_numpy()\n",
        "  z=data_val['diameter(m)'].to_numpy()\n",
        "  u=data_val['Interface(m)'].to_numpy()\n",
        "  h=data_val['Absolute humidity (g/m3)'].to_numpy()\n",
        "  j=data_val['ChargeDensity(C/m2)'].to_numpy()\n",
        "\n",
        "  \n",
        "\n",
        "\n",
        "  data_val['Predicted(C/m2)'] = (a-w*h)*(2*x*y/z-c*y**m*x**n/z**p)*0.01/(0.01+u)\n",
        "\n",
        "  data_val['ratio(%)'] = (data_val['Predicted(C/m2)'] -data_val['ChargeDensity(C/m2)'])/data_val['ChargeDensity(C/m2)']*100\n",
        "  data_val['ChargeDensity(uC/m2)'] = data_val['ChargeDensity(C/m2)']*pow(10,6)\n",
        "  data_val['Predicted(uC/m2)'] = (a-w*h)*(2*x*y/z-c*y**m*x**n/z**p)*0.01/(0.01+u)*pow(10,6)\n",
        "  data_val['ratio_2(%)'] = (data_val['Predicted(uC/m2)']-data_val['ChargeDensity(uC/m2)'])/data_val['ChargeDensity(uC/m2)']*100\n",
        "  def mean_absolute_percentage_error(y_true, y_pred):\n",
        "    y_true, y_pred = np.array(y_true), np.array(y_pred)\n",
        "    return np.mean(np.abs((y_true - y_pred) / y_true)) * 100\n",
        "  \n",
        "  mape = mean_absolute_percentage_error(data_val['ChargeDensity(C/m2)'], data_val['Predicted(C/m2)'])\n",
        "  mape_train = mean_absolute_percentage_error(data_val['ChargeDensity(C/m2)'][0:train.shape[0]], data_val['Predicted(C/m2)'][0:train.shape[0]])\n",
        "  mape_test = mean_absolute_percentage_error(data_val['ChargeDensity(C/m2)'][train.shape[0]:data_val.shape[0]], data_val['Predicted(C/m2)'][train.shape[0]:data_val.shape[0]])\n",
        "  \n",
        "  print('MAPE= {:.2f}'.format(mape))\n",
        "  print('Train_MAPE = {:.2f}'.format(mape_train))\n",
        "  print('test_MAPE = {:.2f}'.format(mape_test))"
      ],
      "execution_count": 21,
      "outputs": [
        {
          "output_type": "stream",
          "name": "stdout",
          "text": [
            "MAPE= 7.35\n",
            "Train_MAPE = 6.81\n",
            "test_MAPE = 9.88\n"
          ]
        }
      ]
    },
    {
      "cell_type": "code",
      "metadata": {
        "colab": {
          "base_uri": "https://localhost:8080/",
          "height": 221
        },
        "id": "pJJqEAKEIPiw",
        "outputId": "49b0f2b0-756c-4ed5-b1fe-1cddcb7d2b30"
      },
      "source": [
        "data_val.head()"
      ],
      "execution_count": 22,
      "outputs": [
        {
          "output_type": "execute_result",
          "data": {
            "text/html": [
              "<div>\n",
              "<style scoped>\n",
              "    .dataframe tbody tr th:only-of-type {\n",
              "        vertical-align: middle;\n",
              "    }\n",
              "\n",
              "    .dataframe tbody tr th {\n",
              "        vertical-align: top;\n",
              "    }\n",
              "\n",
              "    .dataframe thead th {\n",
              "        text-align: right;\n",
              "    }\n",
              "</style>\n",
              "<table border=\"1\" class=\"dataframe\">\n",
              "  <thead>\n",
              "    <tr style=\"text-align: right;\">\n",
              "      <th></th>\n",
              "      <th>ChargeDensity(C/m2)</th>\n",
              "      <th>thickness(m)</th>\n",
              "      <th>solidity</th>\n",
              "      <th>diameter(m)</th>\n",
              "      <th>Interface(m)</th>\n",
              "      <th>Tem (°C)</th>\n",
              "      <th>Absolute humidity (g/m3)</th>\n",
              "      <th>Force (N)</th>\n",
              "      <th>Predicted(C/m2)</th>\n",
              "      <th>ratio(%)</th>\n",
              "      <th>ChargeDensity(uC/m2)</th>\n",
              "      <th>Predicted(uC/m2)</th>\n",
              "      <th>ratio_2(%)</th>\n",
              "    </tr>\n",
              "  </thead>\n",
              "  <tbody>\n",
              "    <tr>\n",
              "      <th>0</th>\n",
              "      <td>0.000013</td>\n",
              "      <td>0.000525</td>\n",
              "      <td>0.088333</td>\n",
              "      <td>0.000006</td>\n",
              "      <td>0.001123</td>\n",
              "      <td>25.133333</td>\n",
              "      <td>11.050496</td>\n",
              "      <td>36.133333</td>\n",
              "      <td>0.000012</td>\n",
              "      <td>-9.707893</td>\n",
              "      <td>13.233000</td>\n",
              "      <td>11.948355</td>\n",
              "      <td>-9.707893</td>\n",
              "    </tr>\n",
              "    <tr>\n",
              "      <th>1</th>\n",
              "      <td>0.000019</td>\n",
              "      <td>0.000361</td>\n",
              "      <td>0.127333</td>\n",
              "      <td>0.000003</td>\n",
              "      <td>0.000765</td>\n",
              "      <td>24.766667</td>\n",
              "      <td>11.369909</td>\n",
              "      <td>36.433333</td>\n",
              "      <td>0.000021</td>\n",
              "      <td>7.937280</td>\n",
              "      <td>19.201667</td>\n",
              "      <td>20.725757</td>\n",
              "      <td>7.937280</td>\n",
              "    </tr>\n",
              "    <tr>\n",
              "      <th>2</th>\n",
              "      <td>0.000011</td>\n",
              "      <td>0.000538</td>\n",
              "      <td>0.087667</td>\n",
              "      <td>0.000006</td>\n",
              "      <td>0.001429</td>\n",
              "      <td>25.733333</td>\n",
              "      <td>10.941194</td>\n",
              "      <td>36.766667</td>\n",
              "      <td>0.000012</td>\n",
              "      <td>6.225117</td>\n",
              "      <td>10.868000</td>\n",
              "      <td>11.544546</td>\n",
              "      <td>6.225117</td>\n",
              "    </tr>\n",
              "    <tr>\n",
              "      <th>3</th>\n",
              "      <td>0.000019</td>\n",
              "      <td>0.000404</td>\n",
              "      <td>0.118667</td>\n",
              "      <td>0.000004</td>\n",
              "      <td>0.000752</td>\n",
              "      <td>24.600000</td>\n",
              "      <td>11.135841</td>\n",
              "      <td>35.800000</td>\n",
              "      <td>0.000019</td>\n",
              "      <td>-1.079590</td>\n",
              "      <td>19.316333</td>\n",
              "      <td>19.107796</td>\n",
              "      <td>-1.079590</td>\n",
              "    </tr>\n",
              "    <tr>\n",
              "      <th>4</th>\n",
              "      <td>0.000027</td>\n",
              "      <td>0.000317</td>\n",
              "      <td>0.148667</td>\n",
              "      <td>0.000003</td>\n",
              "      <td>0.000857</td>\n",
              "      <td>25.600000</td>\n",
              "      <td>10.724792</td>\n",
              "      <td>36.100000</td>\n",
              "      <td>0.000026</td>\n",
              "      <td>-3.943474</td>\n",
              "      <td>26.553667</td>\n",
              "      <td>25.506530</td>\n",
              "      <td>-3.943474</td>\n",
              "    </tr>\n",
              "  </tbody>\n",
              "</table>\n",
              "</div>"
            ],
            "text/plain": [
              "   ChargeDensity(C/m2)  thickness(m)  ...  Predicted(uC/m2)  ratio_2(%)\n",
              "0             0.000013      0.000525  ...         11.948355   -9.707893\n",
              "1             0.000019      0.000361  ...         20.725757    7.937280\n",
              "2             0.000011      0.000538  ...         11.544546    6.225117\n",
              "3             0.000019      0.000404  ...         19.107796   -1.079590\n",
              "4             0.000027      0.000317  ...         25.506530   -3.943474\n",
              "\n",
              "[5 rows x 13 columns]"
            ]
          },
          "metadata": {},
          "execution_count": 22
        }
      ]
    },
    {
      "cell_type": "code",
      "metadata": {
        "id": "oMfT25_cKLeB"
      },
      "source": [
        "data_val.to_csv('data_val_PP.csv')"
      ],
      "execution_count": 23,
      "outputs": []
    },
    {
      "cell_type": "markdown",
      "metadata": {
        "id": "kfHFVUhWIMlL"
      },
      "source": [
        "# Simulation"
      ]
    },
    {
      "cell_type": "code",
      "metadata": {
        "colab": {
          "base_uri": "https://localhost:8080/"
        },
        "id": "zxNhreZqIOIX",
        "outputId": "482d94ae-2e37-4db9-a7cf-524c311f9610"
      },
      "source": [
        "label = 1\n",
        "set_thickness = data.loc[label]['thickness(m)']\n",
        "set_solidity = data.loc[label]['solidity']\n",
        "set_diameter = data.loc[label]['diameter(m)']\n",
        "set_u = data.loc[label]['Interface(m)']\n",
        "set_h = data.loc[label]['Absolute humidity (g/m3)']\n",
        "print('set_thickness = {:.3E}\\nset_solidity = {:.3f}\\nset_diameter = {:.2E} \\nset_u= {:.3f} \\nset_h= {:.1f}'.format(set_thickness, set_solidity, set_diameter, set_u, set_h))\n",
        "\n",
        "set_j = data.loc[label]['ChargeDensity(C/m2)']\n",
        "print('measured j= {:.2E}'.format(set_j))"
      ],
      "execution_count": 24,
      "outputs": [
        {
          "output_type": "stream",
          "name": "stdout",
          "text": [
            "set_thickness = 3.605E-04\n",
            "set_solidity = 0.127\n",
            "set_diameter = 3.30E-06 \n",
            "set_u= 0.001 \n",
            "set_h= 11.4\n",
            "measured j= 1.92E-05\n"
          ]
        }
      ]
    },
    {
      "cell_type": "code",
      "metadata": {
        "id": "OW0MiyRuL3sL"
      },
      "source": [
        ""
      ],
      "execution_count": 24,
      "outputs": []
    },
    {
      "cell_type": "code",
      "metadata": {
        "colab": {
          "base_uri": "https://localhost:8080/",
          "height": 281
        },
        "id": "l-ujpxmQI2TE",
        "outputId": "78797476-9fdb-4fdb-fb4a-13d54c17c980"
      },
      "source": [
        "plt.style.use('ggplot')\n",
        "plt.style.use('seaborn-whitegrid')\n",
        "plt.rcParams['axes.facecolor'] = 'none'\n",
        "\n",
        "\n",
        "fig, ax = plt.subplots(1,3, figsize=(8,3.5), sharey=True)\n",
        "\n",
        "\n",
        "#-----------------------------------------------------------------------------------------------\n",
        "# Thickness ~ charge\n",
        "x = np.linspace(100, 900)*pow(10,-6)\n",
        "y = set_solidity\n",
        "z = set_diameter\n",
        "u = set_u\n",
        "h = set_h\n",
        "\n",
        "J =  (a-w*h)*(2*x*y/z-c*y**m*x**n/z**p)*0.01/(0.01+u)\n",
        "\n",
        "ax[0].plot(x*pow(10,6), J*pow(10,6), linestyle=\"--\", linewidth = 6)\n",
        "ax[0].scatter(set_thickness*pow(10,6), set_j*pow(10,6), c='b', marker = '^', s=1000)\n",
        "\n",
        "ax[0].set_xlabel(\"Thickness \\n(um)\", fontsize=16)\n",
        "ax[0].set_ylabel(\"(uC/m2)\", fontsize=16)\n",
        "ax[0].tick_params(axis = 'x', labelsize=14)\n",
        "ax[0].tick_params(axis = 'y', labelsize=14)\n",
        "ax[0].set_ylim(0,50)\n",
        "\n",
        "\n",
        "\n",
        "#-----------------------------------------------------------------------------------------------\n",
        "# solidity ~ charge\n",
        "\n",
        "x = set_thickness\n",
        "y = np.linspace(0.05, 0.7)\n",
        "z = set_diameter\n",
        "u = set_u\n",
        "h = set_h\n",
        "\n",
        "J = (a-w*h)*(2*x*y/z-c*y**m*x**n/z**p)*0.01/(0.01+u)\n",
        "\n",
        "\n",
        "ax[1].plot(y,J*pow(10,6), linestyle=\"--\", linewidth = 6)\n",
        "ax[1].scatter(set_solidity, set_j*pow(10,6), c='b', marker = '^', s=1000)\n",
        "\n",
        "ax[1].set_xlabel(\"solidity\", fontsize=16)\n",
        "\n",
        "ax[1].tick_params(axis = 'x', labelsize=14)\n",
        "ax[1].tick_params(axis = 'y', labelsize=14)\n",
        "\n",
        "    \n",
        "#-----------------------------------------------------------------------------------------------\n",
        "# Diameter ~ Charge\n",
        "\n",
        "x = set_thickness\n",
        "y = set_solidity\n",
        "z = np.linspace(0.6, 20)*pow(10,-6)\n",
        "u = set_u\n",
        "h = set_h\n",
        "\n",
        "J =  (a-w*h)*(2*x*y/z-c*y**m*x**n/z**p)*0.01/(0.01+u)\n",
        "\n",
        "ax[2].plot(z*pow(10,6),J*pow(10,6), linestyle=\"--\", linewidth = 6)\n",
        "ax[2].scatter(set_diameter*pow(10,6), set_j*pow(10,6), c='b', marker = '^', s=1000)\n",
        "\n",
        "ax[2].set_xlabel(\"diameter\\n (um)\", fontsize=16)\n",
        "\n",
        "\n",
        "\n",
        "\n",
        "ax[2].tick_params(axis = 'x', labelsize=14)\n",
        "ax[2].tick_params(axis = 'y', labelsize=14)"
      ],
      "execution_count": 34,
      "outputs": [
        {
          "output_type": "display_data",
          "data": {
            "image/png": "[encoded data removed]",
            "text/plain": [
              "<Figure size 576x252 with 3 Axes>"
            ]
          },
          "metadata": {}
        }
      ]
    },
    {
      "cell_type": "code",
      "metadata": {
        "id": "zVWieghIKYTd"
      },
      "source": [
        "simulation_df = pd.DataFrame()\n",
        "\n",
        "#-----------------------------------------------------------------------------------------------\n",
        "# Thickness ~ charge\n",
        "x = np.linspace(100, 900)*pow(10,-6)\n",
        "y = set_solidity\n",
        "z = set_diameter\n",
        "u = set_u\n",
        "h = set_h\n",
        "\n",
        "J = (a-w*h)*(2*x*y/z-c*y**m*x**n/z**p)*0.01/(0.01+u)\n",
        "\n",
        "\n",
        "simulation_df['thickness (um)']=x*pow(10,6)\n",
        "simulation_df['charge (uC)_1']=J*pow(10,6)\n",
        "\n",
        "#-----------------------------------------------------------------------------------------------\n",
        "# solidity ~ charge\n",
        "\n",
        "x = set_thickness\n",
        "y = np.linspace(0.05, 0.7)\n",
        "z = set_diameter\n",
        "u = set_u\n",
        "h = set_h\n",
        "\n",
        "J = (a-w*h)*(2*x*y/z-c*y**m*x**n/z**p)*0.01/(0.01+u)\n",
        "\n",
        "\n",
        "\n",
        "\n",
        "simulation_df['solidity']=y\n",
        "simulation_df['charge (uC)_2']=J*pow(10,6)\n",
        "\n",
        "    \n",
        "#-----------------------------------------------------------------------------------------------\n",
        "# Diameter ~ Charge\n",
        "\n",
        "x = set_thickness\n",
        "y = set_solidity\n",
        "z = np.linspace(0.6, 20)*pow(10,-6)\n",
        "u = set_u\n",
        "h = set_h\n",
        "\n",
        "J = (a-w*h)*(2*x*y/z-c*y**m*x**n/z**p)*0.01/(0.01+u)\n",
        "\n",
        "\n",
        "\n",
        "simulation_df['diameter (um)']=z*pow(10,6)\n",
        "simulation_df['charge (uC)_3']=J*pow(10,6)"
      ],
      "execution_count": 41,
      "outputs": []
    },
    {
      "cell_type": "code",
      "metadata": {
        "id": "NJAQWWAgKbuc"
      },
      "source": [
        "simulation_df.to_excel('simulation_df_PP.xlsx')"
      ],
      "execution_count": 43,
      "outputs": []
    },
    {
      "cell_type": "markdown",
      "metadata": {
        "id": "_JwCrmDKivfc"
      },
      "source": [
        "# Validation at different random seeds"
      ]
    },
    {
      "cell_type": "code",
      "metadata": {
        "id": "cNCx_w2OintX"
      },
      "source": [
        "def get_index(random_state, data):\n",
        "  kf = KFold(n_splits=5, shuffle = True, random_state=random_state)\n",
        "  train_indexs = []\n",
        "  test_indexs = []\n",
        "  for train_index, test_index in kf.split(data):\n",
        "      train_indexs.append(train_index)\n",
        "      test_indexs.append(test_index)\n",
        "  index=pd.DataFrame(zip(train_indexs, test_indexs), columns=['train_index','test_index'])\n",
        "  return index"
      ],
      "execution_count": null,
      "outputs": []
    },
    {
      "cell_type": "code",
      "metadata": {
        "id": "n3u1xnV6iySV"
      },
      "source": [
        "def get_scores(n_fold, index, data):\n",
        "  train_index = index.iloc[n_fold,0]\n",
        "  test_index = index.iloc[n_fold,1]\n",
        "  train, test = data.iloc[train_index], data.iloc[test_index]\n",
        "  train_shape=train.shape\n",
        "  test_shape=test.shape\n",
        "\n",
        "  def func(X,a, w, c, m, n, p):\n",
        "    x,y,z,u,h = X\n",
        "    return (a-w*h)*(2*x*y/z-c*y**m*x**n/z**p)*0.01/(0.01+u)\n",
        "\n",
        "  x=train['thickness(m)'].to_numpy()\n",
        "  y=train['solidity'].to_numpy()\n",
        "  z=train['diameter(m)'].to_numpy()\n",
        "  u=train['Interface(m)'].to_numpy()\n",
        "  h=train['Absolute humidity (g/m3)'].to_numpy()\n",
        "  j=train['ChargeDensity(C/m2)'].to_numpy()\n",
        "\n",
        "\n",
        "  # initial guesses for a,b,c,m,n,p:\n",
        "  p0 = 1E-6 , 0 ,1. , 1. , 1., 1.\n",
        "\n",
        "   # trf & dogbox\n",
        "       #    a          w           c        m          n       p\n",
        "  bound=((  0,         0,          0,       0,         0 ,     0 ), \n",
        "       (np.inf,    np.inf,    np.inf,     np.inf,    np.inf, np.inf))\n",
        "  \n",
        "  ## trf\n",
        "  popt_trf,pcov = curve_fit(func,(x,y,z,u,h),j, p0, bounds = bound, method='trf', maxfev=500000)\n",
        "\n",
        "  y_model_trf = func((x,y,z,u,h),popt_trf[0],popt_trf[1],popt_trf[2], popt_trf[3],popt_trf[4],popt_trf[5]) \n",
        "  MSE_trf = np.sum((j - y_model_trf)**2)/train.shape[0]\n",
        "  MAE_trf = np.sum(abs(j - y_model_trf))/train.shape[0]\n",
        "\n",
        "  ## dogbox\n",
        "  popt_dog, pcov = curve_fit(func,(x,y,z,u,h),j, p0, bounds = bound, method='dogbox', maxfev=500000)\n",
        "  y_model_dog = func((x,y,z,u,h),popt_dog[0],popt_dog[1],popt_dog[2],popt_dog[3],popt_dog[4],popt_dog[5]) \n",
        "  MSE_dog = np.sum((j - y_model_dog)**2)/train.shape[0]\n",
        "  MAE_dog = np.sum(abs(j - y_model_dog))/train.shape[0]\n",
        "\n",
        "  if MSE_trf < MSE_dog:\n",
        "    a,w,c,m,n,p = popt_trf[0],popt_trf[1],popt_trf[2],popt_trf[3],popt_trf[4], popt_trf[5]\n",
        "    print('trf Method is the best method')\n",
        "  else:\n",
        "    a,w,c,m,n,p = popt_dog[0], popt_dog[1], popt_dog[2], popt_dog[3], popt_dog[4], popt_dog[5]\n",
        "    print(\"dogbox Method is the best method\")\n",
        "  trf_result=\"trf Method | MSE = {:.2E}| MAE = {:.2E}| a = {}, w = {}, c = {},m = {}, n = {}, p = {}\".format(MSE_trf,MAE_trf,popt_trf[0],popt_trf[1],popt_trf[2],popt_trf[3],popt_trf[4], popt_trf[5])\n",
        "  dog_result=\"dog Method | MSE = {:.2E}| MAE = {:.2E}| a = {}, w = {}, c = {},m = {}, n = {}, p = {}\".format(MSE_dog,MAE_dog,popt_dog[0], popt_dog[1], popt_dog[2], popt_dog[3], popt_dog[4], popt_dog[5])\n",
        "  # print(trf_result)\n",
        "  # print(dog_result)\n",
        "  \n",
        "  # Validate \n",
        "  \n",
        "  data_val = pd.concat([train, test])\n",
        "  x=data_val['thickness(m)'].to_numpy()\n",
        "  y=data_val['solidity'].to_numpy()\n",
        "  z=data_val['diameter(m)'].to_numpy()\n",
        "  u=data_val['Interface(m)'].to_numpy()\n",
        "  h=data_val['Absolute humidity (g/m3)'].to_numpy()\n",
        "  j=data_val['ChargeDensity(C/m2)'].to_numpy()\n",
        "\n",
        "\n",
        "  data_val['Predicted(C/m2)'] = (a-w*h)*(2*x*y/z-c*y**m*x**n/z**p)*0.01/(0.01+u)\n",
        "\n",
        "  \n",
        "  def mean_absolute_percentage_error(y_true, y_pred):\n",
        "    y_true, y_pred = np.array(y_true), np.array(y_pred)\n",
        "    return np.mean(np.abs((y_true - y_pred) / y_true)) * 100\n",
        "  \n",
        "  mape_trf = mean_absolute_percentage_error(data_val['ChargeDensity(C/m2)'], data_val['Predicted(C/m2)'])\n",
        "  mape_trf_train = mean_absolute_percentage_error(data_val['ChargeDensity(C/m2)'][0:train.shape[0]], data_val['Predicted(C/m2)'][0:train.shape[0]])\n",
        "  mape_trf_test = mean_absolute_percentage_error(data_val['ChargeDensity(C/m2)'][train.shape[0]:data_val.shape[0]], data_val['Predicted(C/m2)'][train.shape[0]:data_val.shape[0]])\n",
        "\n",
        "  return n_fold, train_shape, test_shape, mape_trf, mape_trf_train, mape_trf_test,a,w,c,m,n,p"
      ],
      "execution_count": null,
      "outputs": []
    },
    {
      "cell_type": "code",
      "metadata": {
        "id": "ZewxKhPSjqw4"
      },
      "source": [
        "max_random_sate = 200"
      ],
      "execution_count": null,
      "outputs": []
    },
    {
      "cell_type": "code",
      "metadata": {
        "id": "N8NpdvFCjsXO",
        "colab": {
          "base_uri": "https://localhost:8080/"
        },
        "outputId": "ab00e2e5-4b36-4756-8af4-7a875605e06f"
      },
      "source": [
        "random_states = []\n",
        "n_folds = []\n",
        "train_shapes = []\n",
        "test_shapes = []\n",
        "\n",
        "MAPEs = []\n",
        "train_MAPEs = []\n",
        "test_MAPEs = []\n",
        "\n",
        "a_list = []\n",
        "w_list = []\n",
        "c_list = []\n",
        "m_list = []\n",
        "n_list = []\n",
        "p_list = []\n",
        "\n",
        "\n",
        "\n",
        "for random_state in range(max_random_sate):\n",
        "  index = get_index(random_state, data)\n",
        "  for n_fold in range(1):\n",
        "    random_states.append(random_state)\n",
        "    n_fold, train_shape, test_shape, MAPE, train_MAPE, test_MAPE,a,w,c,m,n,p = get_scores(n_fold, index, data)\n",
        "    n_folds.append(n_fold)\n",
        "    train_shapes.append(train_shape)\n",
        "    test_shapes.append(test_shape)\n",
        "    \n",
        "    MAPEs.append(MAPE)\n",
        "    train_MAPEs.append(train_MAPE)\n",
        "    test_MAPEs.append(test_MAPE)\n",
        "    a_list.append(a)\n",
        "    w_list.append(w)\n",
        "    c_list.append(c)\n",
        "    m_list.append(m)\n",
        "    n_list.append(n)\n",
        "    p_list.append(p)\n"
      ],
      "execution_count": null,
      "outputs": [
        {
          "output_type": "stream",
          "name": "stdout",
          "text": [
            "dogbox Method is the best method\n",
            "trf Method is the best method\n",
            "trf Method is the best method\n",
            "trf Method is the best method\n",
            "trf Method is the best method\n",
            "trf Method is the best method\n",
            "trf Method is the best method\n",
            "trf Method is the best method\n",
            "trf Method is the best method\n",
            "trf Method is the best method\n",
            "trf Method is the best method\n",
            "trf Method is the best method\n",
            "trf Method is the best method\n",
            "trf Method is the best method\n",
            "trf Method is the best method\n",
            "trf Method is the best method\n",
            "trf Method is the best method\n",
            "trf Method is the best method\n",
            "trf Method is the best method\n",
            "trf Method is the best method\n",
            "trf Method is the best method\n",
            "trf Method is the best method\n",
            "trf Method is the best method\n",
            "trf Method is the best method\n",
            "trf Method is the best method\n",
            "trf Method is the best method\n",
            "trf Method is the best method\n",
            "trf Method is the best method\n",
            "trf Method is the best method\n",
            "trf Method is the best method\n",
            "trf Method is the best method\n",
            "trf Method is the best method\n",
            "trf Method is the best method\n",
            "trf Method is the best method\n",
            "trf Method is the best method\n",
            "trf Method is the best method\n",
            "trf Method is the best method\n",
            "trf Method is the best method\n",
            "trf Method is the best method\n",
            "trf Method is the best method\n",
            "trf Method is the best method\n",
            "trf Method is the best method\n",
            "trf Method is the best method\n",
            "trf Method is the best method\n",
            "trf Method is the best method\n",
            "trf Method is the best method\n",
            "trf Method is the best method\n",
            "trf Method is the best method\n",
            "trf Method is the best method\n",
            "trf Method is the best method\n",
            "trf Method is the best method\n",
            "trf Method is the best method\n",
            "trf Method is the best method\n",
            "trf Method is the best method\n",
            "trf Method is the best method\n",
            "trf Method is the best method\n",
            "trf Method is the best method\n",
            "trf Method is the best method\n",
            "trf Method is the best method\n",
            "trf Method is the best method\n",
            "trf Method is the best method\n",
            "trf Method is the best method\n",
            "trf Method is the best method\n",
            "trf Method is the best method\n",
            "trf Method is the best method\n",
            "trf Method is the best method\n",
            "dogbox Method is the best method\n",
            "trf Method is the best method\n",
            "trf Method is the best method\n",
            "trf Method is the best method\n",
            "trf Method is the best method\n",
            "trf Method is the best method\n",
            "trf Method is the best method\n",
            "trf Method is the best method\n",
            "trf Method is the best method\n",
            "trf Method is the best method\n",
            "trf Method is the best method\n",
            "trf Method is the best method\n",
            "trf Method is the best method\n",
            "trf Method is the best method\n",
            "trf Method is the best method\n",
            "trf Method is the best method\n",
            "trf Method is the best method\n",
            "trf Method is the best method\n",
            "trf Method is the best method\n",
            "trf Method is the best method\n",
            "trf Method is the best method\n",
            "trf Method is the best method\n",
            "trf Method is the best method\n",
            "trf Method is the best method\n",
            "trf Method is the best method\n",
            "trf Method is the best method\n",
            "trf Method is the best method\n",
            "trf Method is the best method\n",
            "trf Method is the best method\n",
            "trf Method is the best method\n",
            "trf Method is the best method\n",
            "trf Method is the best method\n",
            "trf Method is the best method\n",
            "trf Method is the best method\n",
            "trf Method is the best method\n",
            "trf Method is the best method\n",
            "trf Method is the best method\n",
            "trf Method is the best method\n",
            "trf Method is the best method\n",
            "trf Method is the best method\n",
            "trf Method is the best method\n",
            "trf Method is the best method\n",
            "trf Method is the best method\n",
            "trf Method is the best method\n",
            "trf Method is the best method\n",
            "trf Method is the best method\n",
            "trf Method is the best method\n",
            "trf Method is the best method\n",
            "trf Method is the best method\n",
            "trf Method is the best method\n",
            "trf Method is the best method\n",
            "trf Method is the best method\n",
            "trf Method is the best method\n",
            "trf Method is the best method\n",
            "trf Method is the best method\n",
            "trf Method is the best method\n",
            "trf Method is the best method\n",
            "trf Method is the best method\n",
            "trf Method is the best method\n",
            "trf Method is the best method\n",
            "trf Method is the best method\n",
            "trf Method is the best method\n",
            "trf Method is the best method\n",
            "trf Method is the best method\n",
            "trf Method is the best method\n",
            "trf Method is the best method\n",
            "trf Method is the best method\n",
            "trf Method is the best method\n",
            "trf Method is the best method\n",
            "trf Method is the best method\n",
            "trf Method is the best method\n",
            "trf Method is the best method\n",
            "trf Method is the best method\n",
            "trf Method is the best method\n",
            "trf Method is the best method\n",
            "trf Method is the best method\n",
            "trf Method is the best method\n",
            "trf Method is the best method\n",
            "trf Method is the best method\n",
            "trf Method is the best method\n",
            "trf Method is the best method\n",
            "trf Method is the best method\n",
            "trf Method is the best method\n",
            "trf Method is the best method\n",
            "trf Method is the best method\n",
            "trf Method is the best method\n",
            "trf Method is the best method\n",
            "trf Method is the best method\n",
            "trf Method is the best method\n",
            "trf Method is the best method\n",
            "trf Method is the best method\n",
            "trf Method is the best method\n",
            "trf Method is the best method\n",
            "trf Method is the best method\n",
            "trf Method is the best method\n",
            "trf Method is the best method\n",
            "trf Method is the best method\n",
            "trf Method is the best method\n",
            "trf Method is the best method\n",
            "trf Method is the best method\n",
            "trf Method is the best method\n",
            "trf Method is the best method\n",
            "trf Method is the best method\n",
            "trf Method is the best method\n",
            "trf Method is the best method\n",
            "trf Method is the best method\n",
            "trf Method is the best method\n",
            "trf Method is the best method\n",
            "trf Method is the best method\n",
            "trf Method is the best method\n",
            "trf Method is the best method\n",
            "trf Method is the best method\n",
            "trf Method is the best method\n",
            "trf Method is the best method\n",
            "trf Method is the best method\n",
            "trf Method is the best method\n",
            "trf Method is the best method\n",
            "trf Method is the best method\n",
            "trf Method is the best method\n",
            "trf Method is the best method\n",
            "trf Method is the best method\n",
            "trf Method is the best method\n",
            "trf Method is the best method\n",
            "trf Method is the best method\n",
            "trf Method is the best method\n",
            "trf Method is the best method\n",
            "trf Method is the best method\n",
            "trf Method is the best method\n",
            "trf Method is the best method\n",
            "trf Method is the best method\n",
            "trf Method is the best method\n",
            "trf Method is the best method\n",
            "trf Method is the best method\n",
            "trf Method is the best method\n"
          ]
        }
      ]
    },
    {
      "cell_type": "code",
      "metadata": {
        "id": "FYVXB-IOjyrK",
        "colab": {
          "base_uri": "https://localhost:8080/"
        },
        "outputId": "4dd60908-64d6-4380-e9d8-e45d0b693b73"
      },
      "source": [
        "summary = pd.DataFrame()\n",
        "summary['random_state']=random_states\n",
        "summary['n_fold']=n_folds\n",
        "summary['train_shape'] = train_shapes\n",
        "summary['test_shape'] = test_shapes\n",
        "\n",
        "summary['MAPE'] = MAPEs\n",
        "summary['train_MAPE'] = train_MAPEs\n",
        "summary['test_MAPE'] = test_MAPEs\n",
        "\n",
        "summary['a'] = a_list\n",
        "summary['w'] = w_list\n",
        "summary['c'] = c_list\n",
        "summary['m'] = m_list\n",
        "summary['n'] = n_list\n",
        "summary['p'] = p_list\n",
        "\n",
        "summary"
      ],
      "execution_count": null,
      "outputs": [
        {
          "output_type": "execute_result",
          "data": {
            "text/html": [
              "<div>\n",
              "<style scoped>\n",
              "    .dataframe tbody tr th:only-of-type {\n",
              "        vertical-align: middle;\n",
              "    }\n",
              "\n",
              "    .dataframe tbody tr th {\n",
              "        vertical-align: top;\n",
              "    }\n",
              "\n",
              "    .dataframe thead th {\n",
              "        text-align: right;\n",
              "    }\n",
              "</style>\n",
              "<table border=\"1\" class=\"dataframe\">\n",
              "  <thead>\n",
              "    <tr style=\"text-align: right;\">\n",
              "      <th></th>\n",
              "      <th>random_state</th>\n",
              "      <th>n_fold</th>\n",
              "      <th>train_shape</th>\n",
              "      <th>test_shape</th>\n",
              "      <th>MAPE</th>\n",
              "      <th>train_MAPE</th>\n",
              "      <th>test_MAPE</th>\n",
              "      <th>a</th>\n",
              "      <th>w</th>\n",
              "      <th>c</th>\n",
              "      <th>m</th>\n",
              "      <th>n</th>\n",
              "      <th>p</th>\n",
              "    </tr>\n",
              "  </thead>\n",
              "  <tbody>\n",
              "    <tr>\n",
              "      <th>0</th>\n",
              "      <td>0</td>\n",
              "      <td>0</td>\n",
              "      <td>(13, 8)</td>\n",
              "      <td>(4, 8)</td>\n",
              "      <td>6.900375</td>\n",
              "      <td>7.562643</td>\n",
              "      <td>4.748001</td>\n",
              "      <td>0.054181</td>\n",
              "      <td>1.044228e-04</td>\n",
              "      <td>2.000030</td>\n",
              "      <td>1.000005</td>\n",
              "      <td>1.000014</td>\n",
              "      <td>1.000007</td>\n",
              "    </tr>\n",
              "    <tr>\n",
              "      <th>1</th>\n",
              "      <td>1</td>\n",
              "      <td>0</td>\n",
              "      <td>(13, 8)</td>\n",
              "      <td>(4, 8)</td>\n",
              "      <td>8.638143</td>\n",
              "      <td>8.356167</td>\n",
              "      <td>9.554563</td>\n",
              "      <td>0.000008</td>\n",
              "      <td>3.460137e-07</td>\n",
              "      <td>1.059867</td>\n",
              "      <td>1.015167</td>\n",
              "      <td>1.147234</td>\n",
              "      <td>1.128599</td>\n",
              "    </tr>\n",
              "    <tr>\n",
              "      <th>2</th>\n",
              "      <td>2</td>\n",
              "      <td>0</td>\n",
              "      <td>(13, 8)</td>\n",
              "      <td>(4, 8)</td>\n",
              "      <td>9.470695</td>\n",
              "      <td>8.945709</td>\n",
              "      <td>11.176899</td>\n",
              "      <td>0.000009</td>\n",
              "      <td>4.159008e-07</td>\n",
              "      <td>1.019819</td>\n",
              "      <td>1.029585</td>\n",
              "      <td>1.092655</td>\n",
              "      <td>1.103716</td>\n",
              "    </tr>\n",
              "    <tr>\n",
              "      <th>3</th>\n",
              "      <td>3</td>\n",
              "      <td>0</td>\n",
              "      <td>(13, 8)</td>\n",
              "      <td>(4, 8)</td>\n",
              "      <td>8.991758</td>\n",
              "      <td>7.370201</td>\n",
              "      <td>14.261821</td>\n",
              "      <td>0.000004</td>\n",
              "      <td>8.566491e-09</td>\n",
              "      <td>1.121740</td>\n",
              "      <td>1.111948</td>\n",
              "      <td>1.187098</td>\n",
              "      <td>1.162889</td>\n",
              "    </tr>\n",
              "    <tr>\n",
              "      <th>4</th>\n",
              "      <td>4</td>\n",
              "      <td>0</td>\n",
              "      <td>(13, 8)</td>\n",
              "      <td>(4, 8)</td>\n",
              "      <td>9.187003</td>\n",
              "      <td>6.651124</td>\n",
              "      <td>17.428612</td>\n",
              "      <td>0.000007</td>\n",
              "      <td>2.413224e-07</td>\n",
              "      <td>1.033204</td>\n",
              "      <td>1.044572</td>\n",
              "      <td>1.079202</td>\n",
              "      <td>1.096278</td>\n",
              "    </tr>\n",
              "    <tr>\n",
              "      <th>...</th>\n",
              "      <td>...</td>\n",
              "      <td>...</td>\n",
              "      <td>...</td>\n",
              "      <td>...</td>\n",
              "      <td>...</td>\n",
              "      <td>...</td>\n",
              "      <td>...</td>\n",
              "      <td>...</td>\n",
              "      <td>...</td>\n",
              "      <td>...</td>\n",
              "      <td>...</td>\n",
              "      <td>...</td>\n",
              "      <td>...</td>\n",
              "    </tr>\n",
              "    <tr>\n",
              "      <th>195</th>\n",
              "      <td>195</td>\n",
              "      <td>0</td>\n",
              "      <td>(13, 8)</td>\n",
              "      <td>(4, 8)</td>\n",
              "      <td>6.916837</td>\n",
              "      <td>5.218206</td>\n",
              "      <td>12.437386</td>\n",
              "      <td>0.000030</td>\n",
              "      <td>2.934443e-25</td>\n",
              "      <td>2.108194</td>\n",
              "      <td>1.010927</td>\n",
              "      <td>1.028317</td>\n",
              "      <td>1.013288</td>\n",
              "    </tr>\n",
              "    <tr>\n",
              "      <th>196</th>\n",
              "      <td>196</td>\n",
              "      <td>0</td>\n",
              "      <td>(13, 8)</td>\n",
              "      <td>(4, 8)</td>\n",
              "      <td>9.234436</td>\n",
              "      <td>7.601013</td>\n",
              "      <td>14.543059</td>\n",
              "      <td>0.000008</td>\n",
              "      <td>3.103502e-07</td>\n",
              "      <td>1.037847</td>\n",
              "      <td>1.041342</td>\n",
              "      <td>1.077699</td>\n",
              "      <td>1.094982</td>\n",
              "    </tr>\n",
              "    <tr>\n",
              "      <th>197</th>\n",
              "      <td>197</td>\n",
              "      <td>0</td>\n",
              "      <td>(13, 8)</td>\n",
              "      <td>(4, 8)</td>\n",
              "      <td>7.510194</td>\n",
              "      <td>6.953292</td>\n",
              "      <td>9.320124</td>\n",
              "      <td>0.000057</td>\n",
              "      <td>9.957489e-23</td>\n",
              "      <td>2.092268</td>\n",
              "      <td>1.008705</td>\n",
              "      <td>1.016173</td>\n",
              "      <td>1.006864</td>\n",
              "    </tr>\n",
              "    <tr>\n",
              "      <th>198</th>\n",
              "      <td>198</td>\n",
              "      <td>0</td>\n",
              "      <td>(13, 8)</td>\n",
              "      <td>(4, 8)</td>\n",
              "      <td>8.855032</td>\n",
              "      <td>7.556109</td>\n",
              "      <td>13.076532</td>\n",
              "      <td>0.000006</td>\n",
              "      <td>2.270134e-07</td>\n",
              "      <td>1.036019</td>\n",
              "      <td>1.067212</td>\n",
              "      <td>1.112316</td>\n",
              "      <td>1.117609</td>\n",
              "    </tr>\n",
              "    <tr>\n",
              "      <th>199</th>\n",
              "      <td>199</td>\n",
              "      <td>0</td>\n",
              "      <td>(13, 8)</td>\n",
              "      <td>(4, 8)</td>\n",
              "      <td>8.464399</td>\n",
              "      <td>8.177623</td>\n",
              "      <td>9.396422</td>\n",
              "      <td>0.000005</td>\n",
              "      <td>2.214127e-07</td>\n",
              "      <td>1.058477</td>\n",
              "      <td>1.034687</td>\n",
              "      <td>1.220954</td>\n",
              "      <td>1.171232</td>\n",
              "    </tr>\n",
              "  </tbody>\n",
              "</table>\n",
              "<p>200 rows × 13 columns</p>\n",
              "</div>"
            ],
            "text/plain": [
              "     random_state  n_fold train_shape  ...         m         n         p\n",
              "0               0       0     (13, 8)  ...  1.000005  1.000014  1.000007\n",
              "1               1       0     (13, 8)  ...  1.015167  1.147234  1.128599\n",
              "2               2       0     (13, 8)  ...  1.029585  1.092655  1.103716\n",
              "3               3       0     (13, 8)  ...  1.111948  1.187098  1.162889\n",
              "4               4       0     (13, 8)  ...  1.044572  1.079202  1.096278\n",
              "..            ...     ...         ...  ...       ...       ...       ...\n",
              "195           195       0     (13, 8)  ...  1.010927  1.028317  1.013288\n",
              "196           196       0     (13, 8)  ...  1.041342  1.077699  1.094982\n",
              "197           197       0     (13, 8)  ...  1.008705  1.016173  1.006864\n",
              "198           198       0     (13, 8)  ...  1.067212  1.112316  1.117609\n",
              "199           199       0     (13, 8)  ...  1.034687  1.220954  1.171232\n",
              "\n",
              "[200 rows x 13 columns]"
            ]
          },
          "metadata": {},
          "execution_count": 30
        }
      ]
    },
    {
      "cell_type": "code",
      "metadata": {
        "id": "Ysvk-Ohpyqdf",
        "colab": {
          "base_uri": "https://localhost:8080/",
          "height": 297
        },
        "outputId": "a0c37ebc-59f2-4f0b-afd7-c6a4c0ef3393"
      },
      "source": [
        "summary.describe()"
      ],
      "execution_count": null,
      "outputs": [
        {
          "output_type": "execute_result",
          "data": {
            "text/html": [
              "<div>\n",
              "<style scoped>\n",
              "    .dataframe tbody tr th:only-of-type {\n",
              "        vertical-align: middle;\n",
              "    }\n",
              "\n",
              "    .dataframe tbody tr th {\n",
              "        vertical-align: top;\n",
              "    }\n",
              "\n",
              "    .dataframe thead th {\n",
              "        text-align: right;\n",
              "    }\n",
              "</style>\n",
              "<table border=\"1\" class=\"dataframe\">\n",
              "  <thead>\n",
              "    <tr style=\"text-align: right;\">\n",
              "      <th></th>\n",
              "      <th>random_state</th>\n",
              "      <th>n_fold</th>\n",
              "      <th>MAPE</th>\n",
              "      <th>train_MAPE</th>\n",
              "      <th>test_MAPE</th>\n",
              "      <th>a</th>\n",
              "      <th>w</th>\n",
              "      <th>c</th>\n",
              "      <th>m</th>\n",
              "      <th>n</th>\n",
              "      <th>p</th>\n",
              "    </tr>\n",
              "  </thead>\n",
              "  <tbody>\n",
              "    <tr>\n",
              "      <th>count</th>\n",
              "      <td>200.000000</td>\n",
              "      <td>200.0</td>\n",
              "      <td>200.000000</td>\n",
              "      <td>200.000000</td>\n",
              "      <td>200.000000</td>\n",
              "      <td>200.000000</td>\n",
              "      <td>2.000000e+02</td>\n",
              "      <td>200.000000</td>\n",
              "      <td>200.000000</td>\n",
              "      <td>200.000000</td>\n",
              "      <td>200.000000</td>\n",
              "    </tr>\n",
              "    <tr>\n",
              "      <th>mean</th>\n",
              "      <td>99.500000</td>\n",
              "      <td>0.0</td>\n",
              "      <td>8.149360</td>\n",
              "      <td>7.472203</td>\n",
              "      <td>10.350122</td>\n",
              "      <td>0.000287</td>\n",
              "      <td>7.552315e-07</td>\n",
              "      <td>1.821265</td>\n",
              "      <td>1.036037</td>\n",
              "      <td>1.126426</td>\n",
              "      <td>1.099898</td>\n",
              "    </tr>\n",
              "    <tr>\n",
              "      <th>std</th>\n",
              "      <td>57.879185</td>\n",
              "      <td>0.0</td>\n",
              "      <td>1.023668</td>\n",
              "      <td>1.210411</td>\n",
              "      <td>3.424707</td>\n",
              "      <td>0.003830</td>\n",
              "      <td>7.377002e-06</td>\n",
              "      <td>4.993288</td>\n",
              "      <td>0.076781</td>\n",
              "      <td>0.124001</td>\n",
              "      <td>0.075642</td>\n",
              "    </tr>\n",
              "    <tr>\n",
              "      <th>min</th>\n",
              "      <td>0.000000</td>\n",
              "      <td>0.0</td>\n",
              "      <td>6.278459</td>\n",
              "      <td>3.452675</td>\n",
              "      <td>3.311678</td>\n",
              "      <td>0.000001</td>\n",
              "      <td>0.000000e+00</td>\n",
              "      <td>0.996542</td>\n",
              "      <td>0.975322</td>\n",
              "      <td>1.000014</td>\n",
              "      <td>1.000007</td>\n",
              "    </tr>\n",
              "    <tr>\n",
              "      <th>25%</th>\n",
              "      <td>49.750000</td>\n",
              "      <td>0.0</td>\n",
              "      <td>7.289114</td>\n",
              "      <td>6.787492</td>\n",
              "      <td>8.257088</td>\n",
              "      <td>0.000005</td>\n",
              "      <td>8.085912e-11</td>\n",
              "      <td>1.041665</td>\n",
              "      <td>1.008504</td>\n",
              "      <td>1.033004</td>\n",
              "      <td>1.017021</td>\n",
              "    </tr>\n",
              "    <tr>\n",
              "      <th>50%</th>\n",
              "      <td>99.500000</td>\n",
              "      <td>0.0</td>\n",
              "      <td>8.312105</td>\n",
              "      <td>7.581828</td>\n",
              "      <td>10.279670</td>\n",
              "      <td>0.000008</td>\n",
              "      <td>1.416242e-07</td>\n",
              "      <td>1.093901</td>\n",
              "      <td>1.015563</td>\n",
              "      <td>1.118550</td>\n",
              "      <td>1.109484</td>\n",
              "    </tr>\n",
              "    <tr>\n",
              "      <th>75%</th>\n",
              "      <td>149.250000</td>\n",
              "      <td>0.0</td>\n",
              "      <td>8.814704</td>\n",
              "      <td>8.323525</td>\n",
              "      <td>12.506152</td>\n",
              "      <td>0.000022</td>\n",
              "      <td>3.491284e-07</td>\n",
              "      <td>2.094362</td>\n",
              "      <td>1.053495</td>\n",
              "      <td>1.163280</td>\n",
              "      <td>1.134864</td>\n",
              "    </tr>\n",
              "    <tr>\n",
              "      <th>max</th>\n",
              "      <td>199.000000</td>\n",
              "      <td>0.0</td>\n",
              "      <td>11.081226</td>\n",
              "      <td>10.396343</td>\n",
              "      <td>23.963428</td>\n",
              "      <td>0.054181</td>\n",
              "      <td>1.044228e-04</td>\n",
              "      <td>71.676716</td>\n",
              "      <td>1.969068</td>\n",
              "      <td>2.396523</td>\n",
              "      <td>1.680794</td>\n",
              "    </tr>\n",
              "  </tbody>\n",
              "</table>\n",
              "</div>"
            ],
            "text/plain": [
              "       random_state  n_fold        MAPE  ...           m           n           p\n",
              "count    200.000000   200.0  200.000000  ...  200.000000  200.000000  200.000000\n",
              "mean      99.500000     0.0    8.149360  ...    1.036037    1.126426    1.099898\n",
              "std       57.879185     0.0    1.023668  ...    0.076781    0.124001    0.075642\n",
              "min        0.000000     0.0    6.278459  ...    0.975322    1.000014    1.000007\n",
              "25%       49.750000     0.0    7.289114  ...    1.008504    1.033004    1.017021\n",
              "50%       99.500000     0.0    8.312105  ...    1.015563    1.118550    1.109484\n",
              "75%      149.250000     0.0    8.814704  ...    1.053495    1.163280    1.134864\n",
              "max      199.000000     0.0   11.081226  ...    1.969068    2.396523    1.680794\n",
              "\n",
              "[8 rows x 11 columns]"
            ]
          },
          "metadata": {},
          "execution_count": 31
        }
      ]
    },
    {
      "cell_type": "code",
      "metadata": {
        "id": "pibXjbDdrwUa"
      },
      "source": [
        "summary.to_csv('100RandomState_PP.csv')"
      ],
      "execution_count": null,
      "outputs": []
    },
    {
      "cell_type": "code",
      "metadata": {
        "id": "rG80mXovt60v",
        "colab": {
          "base_uri": "https://localhost:8080/",
          "height": 632
        },
        "outputId": "6c18530e-2205-4219-f53b-839aaf72150d"
      },
      "source": [
        "sns.set_style('white')\n",
        "fig, ax = plt.subplots(6,1, figsize=(16,10), sharex=True)\n",
        "\n",
        "sns.scatterplot(ax=ax[0], data=summary, x=\"random_state\", y=\"a\", marker = 's', color = 'tab:blue')\n",
        "ax[0].set_yscale('log')\n",
        "ax[0].set_yticks(np.logspace(-6, -3, 10))\n",
        "ax[0].tick_params(axis = 'y', labelsize=14)\n",
        "ax[0].set_ylabel(\"a\", fontsize=16)\n",
        "\n",
        "sns.scatterplot(ax=ax[1], data=summary, x=\"random_state\", y=\"w\", marker = 's', color = 'tab:blue')\n",
        "ax[1].ticklabel_format(axis='y', style=\"sci\")\n",
        "ax[1].tick_params(axis = 'y', labelsize=14)\n",
        "ax[1].set_ylabel(\"w\", fontsize=16)\n",
        "\n",
        "sns.scatterplot(ax=ax[2], data=summary, x=\"random_state\", y=\"c\", marker = 's', color = 'tab:blue')\n",
        "ax[2].tick_params(axis = 'x', labelsize=16)\n",
        "ax[2].tick_params(axis = 'y', labelsize=14)\n",
        "ax[2].set_ylabel(\"c\", fontsize=16)\n",
        "\n",
        "sns.scatterplot(ax=ax[3], data=summary, x=\"random_state\", y=\"m\", marker = 's', color = 'tab:blue')\n",
        "ax[3].tick_params(axis = 'x', labelsize=16)\n",
        "ax[3].tick_params(axis = 'y', labelsize=14)\n",
        "ax[3].set_ylabel(\"m\", fontsize=16)\n",
        "\n",
        "\n",
        "sns.scatterplot(ax=ax[4], data=summary, x=\"random_state\", y=\"n\", marker = 's', color = 'tab:blue')\n",
        "ax[4].tick_params(axis = 'x', labelsize=16)\n",
        "ax[4].tick_params(axis = 'y', labelsize=14)\n",
        "ax[4].set_xlabel(\"random state\", fontsize=16)\n",
        "ax[4].set_ylabel(\"n\", fontsize=16)\n",
        "\n",
        "\n",
        "sns.scatterplot(ax=ax[5], data=summary, x=\"random_state\", y=\"p\", marker = 's', color = 'tab:blue')\n",
        "ax[5].tick_params(axis = 'x', labelsize=16)\n",
        "ax[5].tick_params(axis = 'y', labelsize=14)\n",
        "ax[5].set_xlabel(\"random state\", fontsize=18)\n",
        "ax[5].set_ylabel(\"p\", fontsize=16)"
      ],
      "execution_count": null,
      "outputs": [
        {
          "output_type": "execute_result",
          "data": {
            "text/plain": [
              "Text(0, 0.5, 'p')"
            ]
          },
          "metadata": {},
          "execution_count": 33
        },
        {
          "output_type": "display_data",
          "data": {
            "image/png": "[encoded data removed]",
            "text/plain": [
              "<Figure size 1152x720 with 6 Axes>"
            ]
          },
          "metadata": {}
        }
      ]
    },
    {
      "cell_type": "code",
      "metadata": {
        "id": "Gw8wN3nB4AoG",
        "colab": {
          "base_uri": "https://localhost:8080/"
        },
        "outputId": "956e9251-9db3-4b5e-86ef-fa5d4d696b2f"
      },
      "source": [
        "ax[0].set_yticks(np.logspace(-6, -3, 10))"
      ],
      "execution_count": null,
      "outputs": [
        {
          "output_type": "execute_result",
          "data": {
            "text/plain": [
              "[<matplotlib.axis.YTick at 0x7f2c96906910>,\n",
              " <matplotlib.axis.YTick at 0x7f2c96906150>,\n",
              " <matplotlib.axis.YTick at 0x7f2c9682fed0>,\n",
              " <matplotlib.axis.YTick at 0x7f2c967cd310>,\n",
              " <matplotlib.axis.YTick at 0x7f2c967db2d0>,\n",
              " <matplotlib.axis.YTick at 0x7f2c96903590>,\n",
              " <matplotlib.axis.YTick at 0x7f2c967db8d0>,\n",
              " <matplotlib.axis.YTick at 0x7f2c967e9410>,\n",
              " <matplotlib.axis.YTick at 0x7f2c967e9950>,\n",
              " <matplotlib.axis.YTick at 0x7f2c967e9e90>]"
            ]
          },
          "metadata": {},
          "execution_count": 34
        }
      ]
    }
  ]
}